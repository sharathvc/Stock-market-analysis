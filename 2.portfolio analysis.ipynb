{
 "cells": [
  {
   "cell_type": "markdown",
   "metadata": {},
   "source": [
    "**References:**  \n",
    "https://github.com/datacamp/datacamp-community-tutorials/blob/master/Python%20Finance%20Tutorial%20For%20Beginners/Python%20For%20Finance%20Beginners%20Tutorial.ipynb\n",
    "\n",
    "https://pypi.python.org/pypi/fix-yahoo-finance\n",
    "\n",
    "http://www.learndatasci.com/python-finance-part-yahoo-finance-api-pandas-matplotlib/"
   ]
  },
  {
   "cell_type": "code",
   "execution_count": 280,
   "metadata": {
    "collapsed": true
   },
   "outputs": [],
   "source": [
    "# Import initial libraries\n",
    "\n",
    "import pandas as pd\n",
    "import numpy as np\n",
    "import datetime\n",
    "import matplotlib.pyplot as plt\n",
    "%matplotlib inline"
   ]
  },
  {
   "cell_type": "code",
   "execution_count": 281,
   "metadata": {},
   "outputs": [
    {
     "name": "stdout",
     "output_type": "stream",
     "text": [
      "5.1.0\n"
     ]
    },
    {
     "data": {
      "text/html": [
       "        <script type=\"text/javascript\">\n",
       "        window.PlotlyConfig = {MathJaxConfig: 'local'};\n",
       "        if (window.MathJax) {MathJax.Hub.Config({SVG: {font: \"STIX-Web\"}});}\n",
       "        if (typeof require !== 'undefined') {\n",
       "        require.undef(\"plotly\");\n",
       "        requirejs.config({\n",
       "            paths: {\n",
       "                'plotly': ['https://cdn.plot.ly/plotly-2.2.0.min']\n",
       "            }\n",
       "        });\n",
       "        require(['plotly'], function(Plotly) {\n",
       "            window._Plotly = Plotly;\n",
       "        });\n",
       "        }\n",
       "        </script>\n",
       "        "
      ]
     },
     "metadata": {},
     "output_type": "display_data"
    }
   ],
   "source": [
    "# Imports in order to be able to use Plotly offline.\n",
    "from plotly import __version__\n",
    "from plotly.offline import download_plotlyjs, init_notebook_mode, plot, iplot\n",
    "\n",
    "import plotly.graph_objs as go\n",
    "\n",
    "print(__version__) # requires version >= 1.9.0\n",
    "\n",
    "init_notebook_mode(connected=True)"
   ]
  },
  {
   "cell_type": "code",
   "execution_count": 282,
   "metadata": {},
   "outputs": [
    {
     "data": {
      "text/html": [
       "<div>\n",
       "<style scoped>\n",
       "    .dataframe tbody tr th:only-of-type {\n",
       "        vertical-align: middle;\n",
       "    }\n",
       "\n",
       "    .dataframe tbody tr th {\n",
       "        vertical-align: top;\n",
       "    }\n",
       "\n",
       "    .dataframe thead th {\n",
       "        text-align: right;\n",
       "    }\n",
       "</style>\n",
       "<table border=\"1\" class=\"dataframe\">\n",
       "  <thead>\n",
       "    <tr style=\"text-align: right;\">\n",
       "      <th></th>\n",
       "      <th>Acquisition Date</th>\n",
       "      <th>Ticker</th>\n",
       "      <th>Quantity</th>\n",
       "      <th>Unit Cost</th>\n",
       "      <th>Cost Basis</th>\n",
       "      <th>Start of Year</th>\n",
       "    </tr>\n",
       "  </thead>\n",
       "  <tbody>\n",
       "    <tr>\n",
       "      <th>0</th>\n",
       "      <td>2014-02-27</td>\n",
       "      <td>GS</td>\n",
       "      <td>50</td>\n",
       "      <td>162.66</td>\n",
       "      <td>8133.0</td>\n",
       "      <td>2020-12-29</td>\n",
       "    </tr>\n",
       "    <tr>\n",
       "      <th>1</th>\n",
       "      <td>2013-06-04</td>\n",
       "      <td>UNH</td>\n",
       "      <td>130</td>\n",
       "      <td>63.70</td>\n",
       "      <td>8281.0</td>\n",
       "      <td>2020-12-29</td>\n",
       "    </tr>\n",
       "    <tr>\n",
       "      <th>2</th>\n",
       "      <td>2015-12-14</td>\n",
       "      <td>MSFT</td>\n",
       "      <td>150</td>\n",
       "      <td>54.33</td>\n",
       "      <td>8149.5</td>\n",
       "      <td>2020-12-29</td>\n",
       "    </tr>\n",
       "    <tr>\n",
       "      <th>3</th>\n",
       "      <td>2013-06-04</td>\n",
       "      <td>AAPL</td>\n",
       "      <td>515</td>\n",
       "      <td>15.44</td>\n",
       "      <td>7951.6</td>\n",
       "      <td>2020-12-29</td>\n",
       "    </tr>\n",
       "    <tr>\n",
       "      <th>4</th>\n",
       "      <td>2013-12-13</td>\n",
       "      <td>LUV</td>\n",
       "      <td>470</td>\n",
       "      <td>18.88</td>\n",
       "      <td>8873.6</td>\n",
       "      <td>2020-12-29</td>\n",
       "    </tr>\n",
       "  </tbody>\n",
       "</table>\n",
       "</div>"
      ],
      "text/plain": [
       "  Acquisition Date Ticker  Quantity  Unit Cost  Cost Basis Start of Year\n",
       "0       2014-02-27     GS        50     162.66      8133.0    2020-12-29\n",
       "1       2013-06-04    UNH       130      63.70      8281.0    2020-12-29\n",
       "2       2015-12-14   MSFT       150      54.33      8149.5    2020-12-29\n",
       "3       2013-06-04   AAPL       515      15.44      7951.6    2020-12-29\n",
       "4       2013-12-13    LUV       470      18.88      8873.6    2020-12-29"
      ]
     },
     "execution_count": 282,
     "metadata": {},
     "output_type": "execute_result"
    }
   ],
   "source": [
    "# Import the Sample worksheet with acquisition dates and initial cost basis:\n",
    "\n",
    "portfolio_df = pd.read_excel(r'C:\\Users\\JARVIS\\Downloads\\Dataset\\PATRICK IYENGAR.xlsx')\n",
    "portfolio_df1 = pd.read_excel(r'C:\\Users\\JARVIS\\Downloads\\Dataset\\PETER IYENGAR.xlsx')\n",
    "\n",
    "\n",
    "portfolio_df.head(10)"
   ]
  },
  {
   "cell_type": "code",
   "execution_count": 283,
   "metadata": {},
   "outputs": [
    {
     "data": {
      "text/html": [
       "<div>\n",
       "<style scoped>\n",
       "    .dataframe tbody tr th:only-of-type {\n",
       "        vertical-align: middle;\n",
       "    }\n",
       "\n",
       "    .dataframe tbody tr th {\n",
       "        vertical-align: top;\n",
       "    }\n",
       "\n",
       "    .dataframe thead th {\n",
       "        text-align: right;\n",
       "    }\n",
       "</style>\n",
       "<table border=\"1\" class=\"dataframe\">\n",
       "  <thead>\n",
       "    <tr style=\"text-align: right;\">\n",
       "      <th></th>\n",
       "      <th>Acquisition Date</th>\n",
       "      <th>Ticker</th>\n",
       "      <th>Quantity</th>\n",
       "      <th>Unit Cost</th>\n",
       "      <th>Cost Basis</th>\n",
       "      <th>Start of Year</th>\n",
       "    </tr>\n",
       "  </thead>\n",
       "  <tbody>\n",
       "    <tr>\n",
       "      <th>0</th>\n",
       "      <td>2014-02-27</td>\n",
       "      <td>AMZN</td>\n",
       "      <td>25</td>\n",
       "      <td>357.22</td>\n",
       "      <td>8930.5</td>\n",
       "      <td>2020-12-22</td>\n",
       "    </tr>\n",
       "    <tr>\n",
       "      <th>1</th>\n",
       "      <td>2013-06-04</td>\n",
       "      <td>UNH</td>\n",
       "      <td>130</td>\n",
       "      <td>63.70</td>\n",
       "      <td>8281.0</td>\n",
       "      <td>2020-12-22</td>\n",
       "    </tr>\n",
       "    <tr>\n",
       "      <th>2</th>\n",
       "      <td>2015-12-14</td>\n",
       "      <td>MSFT</td>\n",
       "      <td>150</td>\n",
       "      <td>54.33</td>\n",
       "      <td>8149.5</td>\n",
       "      <td>2020-12-22</td>\n",
       "    </tr>\n",
       "    <tr>\n",
       "      <th>3</th>\n",
       "      <td>2013-06-04</td>\n",
       "      <td>AAPL</td>\n",
       "      <td>515</td>\n",
       "      <td>15.44</td>\n",
       "      <td>7951.6</td>\n",
       "      <td>2020-12-22</td>\n",
       "    </tr>\n",
       "    <tr>\n",
       "      <th>4</th>\n",
       "      <td>2013-12-13</td>\n",
       "      <td>GOOG</td>\n",
       "      <td>15</td>\n",
       "      <td>535.50</td>\n",
       "      <td>8032.5</td>\n",
       "      <td>2020-12-22</td>\n",
       "    </tr>\n",
       "  </tbody>\n",
       "</table>\n",
       "</div>"
      ],
      "text/plain": [
       "  Acquisition Date Ticker  Quantity  Unit Cost  Cost Basis Start of Year\n",
       "0       2014-02-27   AMZN        25     357.22      8930.5    2020-12-22\n",
       "1       2013-06-04    UNH       130      63.70      8281.0    2020-12-22\n",
       "2       2015-12-14   MSFT       150      54.33      8149.5    2020-12-22\n",
       "3       2013-06-04   AAPL       515      15.44      7951.6    2020-12-22\n",
       "4       2013-12-13   GOOG        15     535.50      8032.5    2020-12-22"
      ]
     },
     "execution_count": 283,
     "metadata": {},
     "output_type": "execute_result"
    }
   ],
   "source": [
    "portfolio_df1.head()"
   ]
  },
  {
   "cell_type": "code",
   "execution_count": 284,
   "metadata": {},
   "outputs": [
    {
     "name": "stdout",
     "output_type": "stream",
     "text": [
      "<class 'pandas.core.frame.DataFrame'>\n",
      "RangeIndex: 5 entries, 0 to 4\n",
      "Data columns (total 6 columns):\n",
      " #   Column            Non-Null Count  Dtype         \n",
      "---  ------            --------------  -----         \n",
      " 0   Acquisition Date  5 non-null      datetime64[ns]\n",
      " 1   Ticker            5 non-null      object        \n",
      " 2   Quantity          5 non-null      int64         \n",
      " 3   Unit Cost         5 non-null      float64       \n",
      " 4   Cost Basis        5 non-null      float64       \n",
      " 5   Start of Year     5 non-null      datetime64[ns]\n",
      "dtypes: datetime64[ns](2), float64(2), int64(1), object(1)\n",
      "memory usage: 368.0+ bytes\n"
     ]
    }
   ],
   "source": [
    "# Confirm that you have 8 values for each column.\n",
    "\n",
    "portfolio_df.info()"
   ]
  },
  {
   "cell_type": "code",
   "execution_count": 285,
   "metadata": {
    "collapsed": true
   },
   "outputs": [],
   "source": [
    "# Date Ranges for SP 500 and for all tickers\n",
    "# Modify these date ranges each week.\n",
    "\n",
    "# The below will pull back stock prices from 2010 until end date specified.\n",
    "start_sp = datetime.datetime(2013, 1, 1)\n",
    "end_sp = datetime.datetime(2020, 12, 29)\n",
    "\n",
    "# This variable is used for YTD performance.\n",
    "end_of_last_year = datetime.datetime(2020, 12, 29)\n",
    "\n",
    "# These are separate if for some reason want different date range than SP.\n",
    "stocks_start = datetime.datetime(2013, 1, 1)\n",
    "stocks_end = datetime.datetime(2020, 12, 29)"
   ]
  },
  {
   "cell_type": "code",
   "execution_count": 343,
   "metadata": {},
   "outputs": [],
   "source": [
    "# Date Ranges for SP 500 and for all tickers\n",
    "# Modify these date ranges each week.\n",
    "\n",
    "# The below will pull back stock prices from 2010 until end date specified.\n",
    "start_sp1 = datetime.datetime(2013, 1, 1)\n",
    "end_sp1 = datetime.datetime(2020, 12, 22)"
   ]
  },
  {
   "cell_type": "code",
   "execution_count": 286,
   "metadata": {},
   "outputs": [],
   "source": [
    "# Leveraged from the helpful Datacamp Python Finance trading blog post.\n",
    "import pandas_datareader as pdr\n",
    "import yfinance as yf\n"
   ]
  },
  {
   "cell_type": "code",
   "execution_count": 287,
   "metadata": {},
   "outputs": [
    {
     "data": {
      "text/html": [
       "<div>\n",
       "<style scoped>\n",
       "    .dataframe tbody tr th:only-of-type {\n",
       "        vertical-align: middle;\n",
       "    }\n",
       "\n",
       "    .dataframe tbody tr th {\n",
       "        vertical-align: top;\n",
       "    }\n",
       "\n",
       "    .dataframe thead th {\n",
       "        text-align: right;\n",
       "    }\n",
       "</style>\n",
       "<table border=\"1\" class=\"dataframe\">\n",
       "  <thead>\n",
       "    <tr style=\"text-align: right;\">\n",
       "      <th></th>\n",
       "      <th>High</th>\n",
       "      <th>Low</th>\n",
       "      <th>Open</th>\n",
       "      <th>Close</th>\n",
       "      <th>Volume</th>\n",
       "      <th>Adj Close</th>\n",
       "    </tr>\n",
       "    <tr>\n",
       "      <th>Date</th>\n",
       "      <th></th>\n",
       "      <th></th>\n",
       "      <th></th>\n",
       "      <th></th>\n",
       "      <th></th>\n",
       "      <th></th>\n",
       "    </tr>\n",
       "  </thead>\n",
       "  <tbody>\n",
       "    <tr>\n",
       "      <th>2012-12-31</th>\n",
       "      <td>1426.739990</td>\n",
       "      <td>1398.109985</td>\n",
       "      <td>1402.430054</td>\n",
       "      <td>1426.189941</td>\n",
       "      <td>3204330000</td>\n",
       "      <td>1426.189941</td>\n",
       "    </tr>\n",
       "    <tr>\n",
       "      <th>2013-01-02</th>\n",
       "      <td>1462.430054</td>\n",
       "      <td>1426.189941</td>\n",
       "      <td>1426.189941</td>\n",
       "      <td>1462.420044</td>\n",
       "      <td>4202600000</td>\n",
       "      <td>1462.420044</td>\n",
       "    </tr>\n",
       "    <tr>\n",
       "      <th>2013-01-03</th>\n",
       "      <td>1465.469971</td>\n",
       "      <td>1455.530029</td>\n",
       "      <td>1462.420044</td>\n",
       "      <td>1459.369995</td>\n",
       "      <td>3829730000</td>\n",
       "      <td>1459.369995</td>\n",
       "    </tr>\n",
       "    <tr>\n",
       "      <th>2013-01-04</th>\n",
       "      <td>1467.939941</td>\n",
       "      <td>1458.989990</td>\n",
       "      <td>1459.369995</td>\n",
       "      <td>1466.469971</td>\n",
       "      <td>3424290000</td>\n",
       "      <td>1466.469971</td>\n",
       "    </tr>\n",
       "    <tr>\n",
       "      <th>2013-01-07</th>\n",
       "      <td>1466.469971</td>\n",
       "      <td>1456.619995</td>\n",
       "      <td>1466.469971</td>\n",
       "      <td>1461.890015</td>\n",
       "      <td>3304970000</td>\n",
       "      <td>1461.890015</td>\n",
       "    </tr>\n",
       "  </tbody>\n",
       "</table>\n",
       "</div>"
      ],
      "text/plain": [
       "                   High          Low         Open        Close      Volume  \\\n",
       "Date                                                                         \n",
       "2012-12-31  1426.739990  1398.109985  1402.430054  1426.189941  3204330000   \n",
       "2013-01-02  1462.430054  1426.189941  1426.189941  1462.420044  4202600000   \n",
       "2013-01-03  1465.469971  1455.530029  1462.420044  1459.369995  3829730000   \n",
       "2013-01-04  1467.939941  1458.989990  1459.369995  1466.469971  3424290000   \n",
       "2013-01-07  1466.469971  1456.619995  1466.469971  1461.890015  3304970000   \n",
       "\n",
       "              Adj Close  \n",
       "Date                     \n",
       "2012-12-31  1426.189941  \n",
       "2013-01-02  1462.420044  \n",
       "2013-01-03  1459.369995  \n",
       "2013-01-04  1466.469971  \n",
       "2013-01-07  1461.890015  "
      ]
     },
     "execution_count": 287,
     "metadata": {},
     "output_type": "execute_result"
    }
   ],
   "source": [
    "yf.pdr_override() # <== that's all it takes :-)\n",
    "\n",
    "sp500 = pdr.get_data_yahoo('^GSPC', \n",
    "                           start_sp,\n",
    "                             end_sp)\n",
    "                          \n",
    "sp500.head()"
   ]
  },
  {
   "cell_type": "code",
   "execution_count": 344,
   "metadata": {},
   "outputs": [
    {
     "data": {
      "text/html": [
       "<div>\n",
       "<style scoped>\n",
       "    .dataframe tbody tr th:only-of-type {\n",
       "        vertical-align: middle;\n",
       "    }\n",
       "\n",
       "    .dataframe tbody tr th {\n",
       "        vertical-align: top;\n",
       "    }\n",
       "\n",
       "    .dataframe thead th {\n",
       "        text-align: right;\n",
       "    }\n",
       "</style>\n",
       "<table border=\"1\" class=\"dataframe\">\n",
       "  <thead>\n",
       "    <tr style=\"text-align: right;\">\n",
       "      <th></th>\n",
       "      <th>High</th>\n",
       "      <th>Low</th>\n",
       "      <th>Open</th>\n",
       "      <th>Close</th>\n",
       "      <th>Volume</th>\n",
       "      <th>Adj Close</th>\n",
       "    </tr>\n",
       "    <tr>\n",
       "      <th>Date</th>\n",
       "      <th></th>\n",
       "      <th></th>\n",
       "      <th></th>\n",
       "      <th></th>\n",
       "      <th></th>\n",
       "      <th></th>\n",
       "    </tr>\n",
       "  </thead>\n",
       "  <tbody>\n",
       "    <tr>\n",
       "      <th>2012-12-31</th>\n",
       "      <td>1426.739990</td>\n",
       "      <td>1398.109985</td>\n",
       "      <td>1402.430054</td>\n",
       "      <td>1426.189941</td>\n",
       "      <td>3204330000</td>\n",
       "      <td>1426.189941</td>\n",
       "    </tr>\n",
       "    <tr>\n",
       "      <th>2013-01-02</th>\n",
       "      <td>1462.430054</td>\n",
       "      <td>1426.189941</td>\n",
       "      <td>1426.189941</td>\n",
       "      <td>1462.420044</td>\n",
       "      <td>4202600000</td>\n",
       "      <td>1462.420044</td>\n",
       "    </tr>\n",
       "    <tr>\n",
       "      <th>2013-01-03</th>\n",
       "      <td>1465.469971</td>\n",
       "      <td>1455.530029</td>\n",
       "      <td>1462.420044</td>\n",
       "      <td>1459.369995</td>\n",
       "      <td>3829730000</td>\n",
       "      <td>1459.369995</td>\n",
       "    </tr>\n",
       "    <tr>\n",
       "      <th>2013-01-04</th>\n",
       "      <td>1467.939941</td>\n",
       "      <td>1458.989990</td>\n",
       "      <td>1459.369995</td>\n",
       "      <td>1466.469971</td>\n",
       "      <td>3424290000</td>\n",
       "      <td>1466.469971</td>\n",
       "    </tr>\n",
       "    <tr>\n",
       "      <th>2013-01-07</th>\n",
       "      <td>1466.469971</td>\n",
       "      <td>1456.619995</td>\n",
       "      <td>1466.469971</td>\n",
       "      <td>1461.890015</td>\n",
       "      <td>3304970000</td>\n",
       "      <td>1461.890015</td>\n",
       "    </tr>\n",
       "  </tbody>\n",
       "</table>\n",
       "</div>"
      ],
      "text/plain": [
       "                   High          Low         Open        Close      Volume  \\\n",
       "Date                                                                         \n",
       "2012-12-31  1426.739990  1398.109985  1402.430054  1426.189941  3204330000   \n",
       "2013-01-02  1462.430054  1426.189941  1426.189941  1462.420044  4202600000   \n",
       "2013-01-03  1465.469971  1455.530029  1462.420044  1459.369995  3829730000   \n",
       "2013-01-04  1467.939941  1458.989990  1459.369995  1466.469971  3424290000   \n",
       "2013-01-07  1466.469971  1456.619995  1466.469971  1461.890015  3304970000   \n",
       "\n",
       "              Adj Close  \n",
       "Date                     \n",
       "2012-12-31  1426.189941  \n",
       "2013-01-02  1462.420044  \n",
       "2013-01-03  1459.369995  \n",
       "2013-01-04  1466.469971  \n",
       "2013-01-07  1461.890015  "
      ]
     },
     "execution_count": 344,
     "metadata": {},
     "output_type": "execute_result"
    }
   ],
   "source": [
    "yf.pdr_override() # <== that's all it takes :-)\n",
    "\n",
    "sp5001 = pdr.get_data_yahoo('^GSPC', \n",
    "                           start_sp1,\n",
    "                             end_sp1)\n",
    "                          \n",
    "sp5001.head()"
   ]
  },
  {
   "cell_type": "code",
   "execution_count": 288,
   "metadata": {},
   "outputs": [
    {
     "data": {
      "text/html": [
       "<div>\n",
       "<style scoped>\n",
       "    .dataframe tbody tr th:only-of-type {\n",
       "        vertical-align: middle;\n",
       "    }\n",
       "\n",
       "    .dataframe tbody tr th {\n",
       "        vertical-align: top;\n",
       "    }\n",
       "\n",
       "    .dataframe thead th {\n",
       "        text-align: right;\n",
       "    }\n",
       "</style>\n",
       "<table border=\"1\" class=\"dataframe\">\n",
       "  <thead>\n",
       "    <tr style=\"text-align: right;\">\n",
       "      <th></th>\n",
       "      <th>High</th>\n",
       "      <th>Low</th>\n",
       "      <th>Open</th>\n",
       "      <th>Close</th>\n",
       "      <th>Volume</th>\n",
       "      <th>Adj Close</th>\n",
       "    </tr>\n",
       "    <tr>\n",
       "      <th>Date</th>\n",
       "      <th></th>\n",
       "      <th></th>\n",
       "      <th></th>\n",
       "      <th></th>\n",
       "      <th></th>\n",
       "      <th></th>\n",
       "    </tr>\n",
       "  </thead>\n",
       "  <tbody>\n",
       "    <tr>\n",
       "      <th>2020-12-22</th>\n",
       "      <td>3698.260010</td>\n",
       "      <td>3676.159912</td>\n",
       "      <td>3698.080078</td>\n",
       "      <td>3687.260010</td>\n",
       "      <td>4023940000</td>\n",
       "      <td>3687.260010</td>\n",
       "    </tr>\n",
       "    <tr>\n",
       "      <th>2020-12-23</th>\n",
       "      <td>3711.239990</td>\n",
       "      <td>3689.280029</td>\n",
       "      <td>3693.419922</td>\n",
       "      <td>3690.010010</td>\n",
       "      <td>3772630000</td>\n",
       "      <td>3690.010010</td>\n",
       "    </tr>\n",
       "    <tr>\n",
       "      <th>2020-12-24</th>\n",
       "      <td>3703.820068</td>\n",
       "      <td>3689.320068</td>\n",
       "      <td>3694.030029</td>\n",
       "      <td>3703.060059</td>\n",
       "      <td>1885090000</td>\n",
       "      <td>3703.060059</td>\n",
       "    </tr>\n",
       "    <tr>\n",
       "      <th>2020-12-28</th>\n",
       "      <td>3740.510010</td>\n",
       "      <td>3723.030029</td>\n",
       "      <td>3723.030029</td>\n",
       "      <td>3735.360107</td>\n",
       "      <td>3527460000</td>\n",
       "      <td>3735.360107</td>\n",
       "    </tr>\n",
       "    <tr>\n",
       "      <th>2020-12-29</th>\n",
       "      <td>3756.120117</td>\n",
       "      <td>3723.310059</td>\n",
       "      <td>3750.010010</td>\n",
       "      <td>3727.040039</td>\n",
       "      <td>3387030000</td>\n",
       "      <td>3727.040039</td>\n",
       "    </tr>\n",
       "  </tbody>\n",
       "</table>\n",
       "</div>"
      ],
      "text/plain": [
       "                   High          Low         Open        Close      Volume  \\\n",
       "Date                                                                         \n",
       "2020-12-22  3698.260010  3676.159912  3698.080078  3687.260010  4023940000   \n",
       "2020-12-23  3711.239990  3689.280029  3693.419922  3690.010010  3772630000   \n",
       "2020-12-24  3703.820068  3689.320068  3694.030029  3703.060059  1885090000   \n",
       "2020-12-28  3740.510010  3723.030029  3723.030029  3735.360107  3527460000   \n",
       "2020-12-29  3756.120117  3723.310059  3750.010010  3727.040039  3387030000   \n",
       "\n",
       "              Adj Close  \n",
       "Date                     \n",
       "2020-12-22  3687.260010  \n",
       "2020-12-23  3690.010010  \n",
       "2020-12-24  3703.060059  \n",
       "2020-12-28  3735.360107  \n",
       "2020-12-29  3727.040039  "
      ]
     },
     "execution_count": 288,
     "metadata": {},
     "output_type": "execute_result"
    }
   ],
   "source": [
    "sp500.tail()"
   ]
  },
  {
   "cell_type": "code",
   "execution_count": 289,
   "metadata": {
    "collapsed": true
   },
   "outputs": [],
   "source": [
    "# Create a dataframe with only the Adj Close column as that's all we need for this analysis.\n",
    "\n",
    "sp_500_adj_close = sp500[['Adj Close']].reset_index()"
   ]
  },
  {
   "cell_type": "code",
   "execution_count": 345,
   "metadata": {},
   "outputs": [],
   "source": [
    "sp_500_adj_close1 = sp5001[['Adj Close']].reset_index()"
   ]
  },
  {
   "cell_type": "code",
   "execution_count": 290,
   "metadata": {},
   "outputs": [
    {
     "data": {
      "text/html": [
       "<div>\n",
       "<style scoped>\n",
       "    .dataframe tbody tr th:only-of-type {\n",
       "        vertical-align: middle;\n",
       "    }\n",
       "\n",
       "    .dataframe tbody tr th {\n",
       "        vertical-align: top;\n",
       "    }\n",
       "\n",
       "    .dataframe thead th {\n",
       "        text-align: right;\n",
       "    }\n",
       "</style>\n",
       "<table border=\"1\" class=\"dataframe\">\n",
       "  <thead>\n",
       "    <tr style=\"text-align: right;\">\n",
       "      <th></th>\n",
       "      <th>Date</th>\n",
       "      <th>Adj Close</th>\n",
       "    </tr>\n",
       "  </thead>\n",
       "  <tbody>\n",
       "    <tr>\n",
       "      <th>2009</th>\n",
       "      <td>2020-12-22</td>\n",
       "      <td>3687.260010</td>\n",
       "    </tr>\n",
       "    <tr>\n",
       "      <th>2010</th>\n",
       "      <td>2020-12-23</td>\n",
       "      <td>3690.010010</td>\n",
       "    </tr>\n",
       "    <tr>\n",
       "      <th>2011</th>\n",
       "      <td>2020-12-24</td>\n",
       "      <td>3703.060059</td>\n",
       "    </tr>\n",
       "    <tr>\n",
       "      <th>2012</th>\n",
       "      <td>2020-12-28</td>\n",
       "      <td>3735.360107</td>\n",
       "    </tr>\n",
       "    <tr>\n",
       "      <th>2013</th>\n",
       "      <td>2020-12-29</td>\n",
       "      <td>3727.040039</td>\n",
       "    </tr>\n",
       "  </tbody>\n",
       "</table>\n",
       "</div>"
      ],
      "text/plain": [
       "           Date    Adj Close\n",
       "2009 2020-12-22  3687.260010\n",
       "2010 2020-12-23  3690.010010\n",
       "2011 2020-12-24  3703.060059\n",
       "2012 2020-12-28  3735.360107\n",
       "2013 2020-12-29  3727.040039"
      ]
     },
     "execution_count": 290,
     "metadata": {},
     "output_type": "execute_result"
    }
   ],
   "source": [
    "sp_500_adj_close.tail()"
   ]
  },
  {
   "cell_type": "code",
   "execution_count": 346,
   "metadata": {},
   "outputs": [
    {
     "data": {
      "text/html": [
       "<div>\n",
       "<style scoped>\n",
       "    .dataframe tbody tr th:only-of-type {\n",
       "        vertical-align: middle;\n",
       "    }\n",
       "\n",
       "    .dataframe tbody tr th {\n",
       "        vertical-align: top;\n",
       "    }\n",
       "\n",
       "    .dataframe thead th {\n",
       "        text-align: right;\n",
       "    }\n",
       "</style>\n",
       "<table border=\"1\" class=\"dataframe\">\n",
       "  <thead>\n",
       "    <tr style=\"text-align: right;\">\n",
       "      <th></th>\n",
       "      <th>Date</th>\n",
       "      <th>Adj Close</th>\n",
       "    </tr>\n",
       "  </thead>\n",
       "  <tbody>\n",
       "    <tr>\n",
       "      <th>2005</th>\n",
       "      <td>2020-12-16</td>\n",
       "      <td>3701.169922</td>\n",
       "    </tr>\n",
       "    <tr>\n",
       "      <th>2006</th>\n",
       "      <td>2020-12-17</td>\n",
       "      <td>3722.479980</td>\n",
       "    </tr>\n",
       "    <tr>\n",
       "      <th>2007</th>\n",
       "      <td>2020-12-18</td>\n",
       "      <td>3709.409912</td>\n",
       "    </tr>\n",
       "    <tr>\n",
       "      <th>2008</th>\n",
       "      <td>2020-12-21</td>\n",
       "      <td>3694.919922</td>\n",
       "    </tr>\n",
       "    <tr>\n",
       "      <th>2009</th>\n",
       "      <td>2020-12-22</td>\n",
       "      <td>3687.260010</td>\n",
       "    </tr>\n",
       "  </tbody>\n",
       "</table>\n",
       "</div>"
      ],
      "text/plain": [
       "           Date    Adj Close\n",
       "2005 2020-12-16  3701.169922\n",
       "2006 2020-12-17  3722.479980\n",
       "2007 2020-12-18  3709.409912\n",
       "2008 2020-12-21  3694.919922\n",
       "2009 2020-12-22  3687.260010"
      ]
     },
     "execution_count": 346,
     "metadata": {},
     "output_type": "execute_result"
    }
   ],
   "source": [
    "sp_500_adj_close1.tail()"
   ]
  },
  {
   "cell_type": "code",
   "execution_count": 349,
   "metadata": {},
   "outputs": [
    {
     "data": {
      "text/html": [
       "<div>\n",
       "<style scoped>\n",
       "    .dataframe tbody tr th:only-of-type {\n",
       "        vertical-align: middle;\n",
       "    }\n",
       "\n",
       "    .dataframe tbody tr th {\n",
       "        vertical-align: top;\n",
       "    }\n",
       "\n",
       "    .dataframe thead th {\n",
       "        text-align: right;\n",
       "    }\n",
       "</style>\n",
       "<table border=\"1\" class=\"dataframe\">\n",
       "  <thead>\n",
       "    <tr style=\"text-align: right;\">\n",
       "      <th></th>\n",
       "      <th>Date</th>\n",
       "      <th>Adj Close</th>\n",
       "    </tr>\n",
       "  </thead>\n",
       "  <tbody>\n",
       "    <tr>\n",
       "      <th>2013</th>\n",
       "      <td>2020-12-29</td>\n",
       "      <td>3727.040039</td>\n",
       "    </tr>\n",
       "  </tbody>\n",
       "</table>\n",
       "</div>"
      ],
      "text/plain": [
       "           Date    Adj Close\n",
       "2013 2020-12-29  3727.040039"
      ]
     },
     "execution_count": 349,
     "metadata": {},
     "output_type": "execute_result"
    }
   ],
   "source": [
    "# Adj Close for the EOY in 2017 in order to run comparisons versus stocks YTD performances.\n",
    "# This variable is used for YTD performance.\n",
    "\n",
    "sp_500_adj_close_start = sp_500_adj_close[sp_500_adj_close['Date']==end_of_last_year]\n",
    "sp_500_adj_close_start"
   ]
  },
  {
   "cell_type": "code",
   "execution_count": 350,
   "metadata": {},
   "outputs": [
    {
     "data": {
      "text/html": [
       "<div>\n",
       "<style scoped>\n",
       "    .dataframe tbody tr th:only-of-type {\n",
       "        vertical-align: middle;\n",
       "    }\n",
       "\n",
       "    .dataframe tbody tr th {\n",
       "        vertical-align: top;\n",
       "    }\n",
       "\n",
       "    .dataframe thead th {\n",
       "        text-align: right;\n",
       "    }\n",
       "</style>\n",
       "<table border=\"1\" class=\"dataframe\">\n",
       "  <thead>\n",
       "    <tr style=\"text-align: right;\">\n",
       "      <th></th>\n",
       "      <th>Date</th>\n",
       "      <th>Adj Close</th>\n",
       "    </tr>\n",
       "  </thead>\n",
       "  <tbody>\n",
       "    <tr>\n",
       "      <th>2009</th>\n",
       "      <td>2020-12-22</td>\n",
       "      <td>3687.26001</td>\n",
       "    </tr>\n",
       "  </tbody>\n",
       "</table>\n",
       "</div>"
      ],
      "text/plain": [
       "           Date   Adj Close\n",
       "2009 2020-12-22  3687.26001"
      ]
     },
     "execution_count": 350,
     "metadata": {},
     "output_type": "execute_result"
    }
   ],
   "source": [
    "# Adj Close for the EOY in 2017 in order to run comparisons versus stocks YTD performances.\n",
    "end_of_last_year1 = datetime.datetime(2020, 12, 22)\n",
    "sp_500_adj_close_start1 = sp_500_adj_close1[sp_500_adj_close1['Date']==end_of_last_year1]\n",
    "sp_500_adj_close_start1"
   ]
  },
  {
   "cell_type": "code",
   "execution_count": 292,
   "metadata": {},
   "outputs": [
    {
     "data": {
      "text/plain": [
       "array(['GS', 'UNH', 'MSFT', 'AAPL', 'LUV'], dtype=object)"
      ]
     },
     "execution_count": 292,
     "metadata": {},
     "output_type": "execute_result"
    }
   ],
   "source": [
    "# Generate a dynamic list of tickers to pull from Yahoo Finance API based on the imported file with tickers.\n",
    "tickers = portfolio_df['Ticker'].unique()\n",
    "tickers"
   ]
  },
  {
   "cell_type": "code",
   "execution_count": 293,
   "metadata": {},
   "outputs": [
    {
     "data": {
      "text/plain": [
       "array(['AMZN', 'UNH', 'MSFT', 'AAPL', 'GOOG'], dtype=object)"
      ]
     },
     "execution_count": 293,
     "metadata": {},
     "output_type": "execute_result"
    }
   ],
   "source": [
    "tickers1 = portfolio_df1['Ticker'].unique()\n",
    "tickers1"
   ]
  },
  {
   "cell_type": "code",
   "execution_count": 294,
   "metadata": {},
   "outputs": [],
   "source": [
    "# Stock comparison code\n",
    "\n",
    "def get(tickers, startdate, enddate):\n",
    "    def data(ticker):\n",
    "        return (pdr.get_data_yahoo(ticker, start=startdate, end=enddate))\n",
    "    datas = map(data, tickers)\n",
    "    return(pd.concat(datas, keys=tickers, names=['Ticker', 'Date']))\n",
    "               \n",
    "all_data = get(tickers, stocks_start, stocks_end)"
   ]
  },
  {
   "cell_type": "code",
   "execution_count": 295,
   "metadata": {},
   "outputs": [],
   "source": [
    "# Stock comparison code\n",
    "\n",
    "def get(tickers1, startdate, enddate):\n",
    "    def data(ticker):\n",
    "        return (pdr.get_data_yahoo(ticker, start=startdate, end=enddate))\n",
    "    datas = map(data, tickers1)\n",
    "    return(pd.concat(datas, keys=tickers1, names=['Ticker', 'Date']))\n",
    "               \n",
    "all_data1 = get(tickers1, stocks_start, stocks_end)"
   ]
  },
  {
   "cell_type": "code",
   "execution_count": 296,
   "metadata": {},
   "outputs": [
    {
     "data": {
      "text/html": [
       "<div>\n",
       "<style scoped>\n",
       "    .dataframe tbody tr th:only-of-type {\n",
       "        vertical-align: middle;\n",
       "    }\n",
       "\n",
       "    .dataframe tbody tr th {\n",
       "        vertical-align: top;\n",
       "    }\n",
       "\n",
       "    .dataframe thead th {\n",
       "        text-align: right;\n",
       "    }\n",
       "</style>\n",
       "<table border=\"1\" class=\"dataframe\">\n",
       "  <thead>\n",
       "    <tr style=\"text-align: right;\">\n",
       "      <th></th>\n",
       "      <th></th>\n",
       "      <th>High</th>\n",
       "      <th>Low</th>\n",
       "      <th>Open</th>\n",
       "      <th>Close</th>\n",
       "      <th>Volume</th>\n",
       "      <th>Adj Close</th>\n",
       "    </tr>\n",
       "    <tr>\n",
       "      <th>Ticker</th>\n",
       "      <th>Date</th>\n",
       "      <th></th>\n",
       "      <th></th>\n",
       "      <th></th>\n",
       "      <th></th>\n",
       "      <th></th>\n",
       "      <th></th>\n",
       "    </tr>\n",
       "  </thead>\n",
       "  <tbody>\n",
       "    <tr>\n",
       "      <th rowspan=\"5\" valign=\"top\">AMZN</th>\n",
       "      <th>2012-12-31</th>\n",
       "      <td>252.410004</td>\n",
       "      <td>242.750000</td>\n",
       "      <td>243.750000</td>\n",
       "      <td>250.869995</td>\n",
       "      <td>3419000.0</td>\n",
       "      <td>250.869995</td>\n",
       "    </tr>\n",
       "    <tr>\n",
       "      <th>2013-01-02</th>\n",
       "      <td>258.100006</td>\n",
       "      <td>253.259995</td>\n",
       "      <td>256.079987</td>\n",
       "      <td>257.309998</td>\n",
       "      <td>3271000.0</td>\n",
       "      <td>257.309998</td>\n",
       "    </tr>\n",
       "    <tr>\n",
       "      <th>2013-01-03</th>\n",
       "      <td>260.880005</td>\n",
       "      <td>256.369995</td>\n",
       "      <td>257.269989</td>\n",
       "      <td>258.480011</td>\n",
       "      <td>2750900.0</td>\n",
       "      <td>258.480011</td>\n",
       "    </tr>\n",
       "    <tr>\n",
       "      <th>2013-01-04</th>\n",
       "      <td>259.799988</td>\n",
       "      <td>256.649994</td>\n",
       "      <td>257.579987</td>\n",
       "      <td>259.149994</td>\n",
       "      <td>1874200.0</td>\n",
       "      <td>259.149994</td>\n",
       "    </tr>\n",
       "    <tr>\n",
       "      <th>2013-01-07</th>\n",
       "      <td>269.730011</td>\n",
       "      <td>262.670013</td>\n",
       "      <td>262.970001</td>\n",
       "      <td>268.459991</td>\n",
       "      <td>4910000.0</td>\n",
       "      <td>268.459991</td>\n",
       "    </tr>\n",
       "  </tbody>\n",
       "</table>\n",
       "</div>"
      ],
      "text/plain": [
       "                         High         Low        Open       Close     Volume  \\\n",
       "Ticker Date                                                                    \n",
       "AMZN   2012-12-31  252.410004  242.750000  243.750000  250.869995  3419000.0   \n",
       "       2013-01-02  258.100006  253.259995  256.079987  257.309998  3271000.0   \n",
       "       2013-01-03  260.880005  256.369995  257.269989  258.480011  2750900.0   \n",
       "       2013-01-04  259.799988  256.649994  257.579987  259.149994  1874200.0   \n",
       "       2013-01-07  269.730011  262.670013  262.970001  268.459991  4910000.0   \n",
       "\n",
       "                    Adj Close  \n",
       "Ticker Date                    \n",
       "AMZN   2012-12-31  250.869995  \n",
       "       2013-01-02  257.309998  \n",
       "       2013-01-03  258.480011  \n",
       "       2013-01-04  259.149994  \n",
       "       2013-01-07  268.459991  "
      ]
     },
     "execution_count": 296,
     "metadata": {},
     "output_type": "execute_result"
    }
   ],
   "source": [
    "all_data1.head()"
   ]
  },
  {
   "cell_type": "code",
   "execution_count": 297,
   "metadata": {},
   "outputs": [
    {
     "data": {
      "text/html": [
       "<div>\n",
       "<style scoped>\n",
       "    .dataframe tbody tr th:only-of-type {\n",
       "        vertical-align: middle;\n",
       "    }\n",
       "\n",
       "    .dataframe tbody tr th {\n",
       "        vertical-align: top;\n",
       "    }\n",
       "\n",
       "    .dataframe thead th {\n",
       "        text-align: right;\n",
       "    }\n",
       "</style>\n",
       "<table border=\"1\" class=\"dataframe\">\n",
       "  <thead>\n",
       "    <tr style=\"text-align: right;\">\n",
       "      <th></th>\n",
       "      <th></th>\n",
       "      <th>High</th>\n",
       "      <th>Low</th>\n",
       "      <th>Open</th>\n",
       "      <th>Close</th>\n",
       "      <th>Volume</th>\n",
       "      <th>Adj Close</th>\n",
       "    </tr>\n",
       "    <tr>\n",
       "      <th>Ticker</th>\n",
       "      <th>Date</th>\n",
       "      <th></th>\n",
       "      <th></th>\n",
       "      <th></th>\n",
       "      <th></th>\n",
       "      <th></th>\n",
       "      <th></th>\n",
       "    </tr>\n",
       "  </thead>\n",
       "  <tbody>\n",
       "    <tr>\n",
       "      <th rowspan=\"5\" valign=\"top\">GS</th>\n",
       "      <th>2012-12-31</th>\n",
       "      <td>127.680000</td>\n",
       "      <td>124.790001</td>\n",
       "      <td>125.419998</td>\n",
       "      <td>127.559998</td>\n",
       "      <td>3623000.0</td>\n",
       "      <td>111.202988</td>\n",
       "    </tr>\n",
       "    <tr>\n",
       "      <th>2013-01-02</th>\n",
       "      <td>131.660004</td>\n",
       "      <td>129.619995</td>\n",
       "      <td>131.300003</td>\n",
       "      <td>131.660004</td>\n",
       "      <td>4449000.0</td>\n",
       "      <td>114.777237</td>\n",
       "    </tr>\n",
       "    <tr>\n",
       "      <th>2013-01-03</th>\n",
       "      <td>131.779999</td>\n",
       "      <td>130.070007</td>\n",
       "      <td>131.699997</td>\n",
       "      <td>130.940002</td>\n",
       "      <td>4584600.0</td>\n",
       "      <td>114.149582</td>\n",
       "    </tr>\n",
       "    <tr>\n",
       "      <th>2013-01-04</th>\n",
       "      <td>134.639999</td>\n",
       "      <td>130.320007</td>\n",
       "      <td>130.929993</td>\n",
       "      <td>134.509995</td>\n",
       "      <td>5234600.0</td>\n",
       "      <td>117.261780</td>\n",
       "    </tr>\n",
       "    <tr>\n",
       "      <th>2013-01-07</th>\n",
       "      <td>134.509995</td>\n",
       "      <td>132.880005</td>\n",
       "      <td>134.119995</td>\n",
       "      <td>134.259995</td>\n",
       "      <td>3556900.0</td>\n",
       "      <td>117.043854</td>\n",
       "    </tr>\n",
       "  </tbody>\n",
       "</table>\n",
       "</div>"
      ],
      "text/plain": [
       "                         High         Low        Open       Close     Volume  \\\n",
       "Ticker Date                                                                    \n",
       "GS     2012-12-31  127.680000  124.790001  125.419998  127.559998  3623000.0   \n",
       "       2013-01-02  131.660004  129.619995  131.300003  131.660004  4449000.0   \n",
       "       2013-01-03  131.779999  130.070007  131.699997  130.940002  4584600.0   \n",
       "       2013-01-04  134.639999  130.320007  130.929993  134.509995  5234600.0   \n",
       "       2013-01-07  134.509995  132.880005  134.119995  134.259995  3556900.0   \n",
       "\n",
       "                    Adj Close  \n",
       "Ticker Date                    \n",
       "GS     2012-12-31  111.202988  \n",
       "       2013-01-02  114.777237  \n",
       "       2013-01-03  114.149582  \n",
       "       2013-01-04  117.261780  \n",
       "       2013-01-07  117.043854  "
      ]
     },
     "execution_count": 297,
     "metadata": {},
     "output_type": "execute_result"
    }
   ],
   "source": [
    "all_data.head()"
   ]
  },
  {
   "cell_type": "code",
   "execution_count": 298,
   "metadata": {},
   "outputs": [
    {
     "data": {
      "text/html": [
       "<div>\n",
       "<style scoped>\n",
       "    .dataframe tbody tr th:only-of-type {\n",
       "        vertical-align: middle;\n",
       "    }\n",
       "\n",
       "    .dataframe tbody tr th {\n",
       "        vertical-align: top;\n",
       "    }\n",
       "\n",
       "    .dataframe thead th {\n",
       "        text-align: right;\n",
       "    }\n",
       "</style>\n",
       "<table border=\"1\" class=\"dataframe\">\n",
       "  <thead>\n",
       "    <tr style=\"text-align: right;\">\n",
       "      <th></th>\n",
       "      <th>Ticker</th>\n",
       "      <th>Date</th>\n",
       "      <th>Adj Close</th>\n",
       "    </tr>\n",
       "  </thead>\n",
       "  <tbody>\n",
       "    <tr>\n",
       "      <th>0</th>\n",
       "      <td>GS</td>\n",
       "      <td>2012-12-31</td>\n",
       "      <td>111.202988</td>\n",
       "    </tr>\n",
       "    <tr>\n",
       "      <th>1</th>\n",
       "      <td>GS</td>\n",
       "      <td>2013-01-02</td>\n",
       "      <td>114.777237</td>\n",
       "    </tr>\n",
       "    <tr>\n",
       "      <th>2</th>\n",
       "      <td>GS</td>\n",
       "      <td>2013-01-03</td>\n",
       "      <td>114.149582</td>\n",
       "    </tr>\n",
       "    <tr>\n",
       "      <th>3</th>\n",
       "      <td>GS</td>\n",
       "      <td>2013-01-04</td>\n",
       "      <td>117.261780</td>\n",
       "    </tr>\n",
       "    <tr>\n",
       "      <th>4</th>\n",
       "      <td>GS</td>\n",
       "      <td>2013-01-07</td>\n",
       "      <td>117.043854</td>\n",
       "    </tr>\n",
       "  </tbody>\n",
       "</table>\n",
       "</div>"
      ],
      "text/plain": [
       "  Ticker       Date   Adj Close\n",
       "0     GS 2012-12-31  111.202988\n",
       "1     GS 2013-01-02  114.777237\n",
       "2     GS 2013-01-03  114.149582\n",
       "3     GS 2013-01-04  117.261780\n",
       "4     GS 2013-01-07  117.043854"
      ]
     },
     "execution_count": 298,
     "metadata": {},
     "output_type": "execute_result"
    }
   ],
   "source": [
    "# Also only pulling the ticker, date and adj. close columns for our tickers.\n",
    "\n",
    "adj_close = all_data[['Adj Close']].reset_index()\n",
    "adj_close.head()"
   ]
  },
  {
   "cell_type": "code",
   "execution_count": 299,
   "metadata": {},
   "outputs": [
    {
     "data": {
      "text/html": [
       "<div>\n",
       "<style scoped>\n",
       "    .dataframe tbody tr th:only-of-type {\n",
       "        vertical-align: middle;\n",
       "    }\n",
       "\n",
       "    .dataframe tbody tr th {\n",
       "        vertical-align: top;\n",
       "    }\n",
       "\n",
       "    .dataframe thead th {\n",
       "        text-align: right;\n",
       "    }\n",
       "</style>\n",
       "<table border=\"1\" class=\"dataframe\">\n",
       "  <thead>\n",
       "    <tr style=\"text-align: right;\">\n",
       "      <th></th>\n",
       "      <th>Ticker</th>\n",
       "      <th>Date</th>\n",
       "      <th>Adj Close</th>\n",
       "    </tr>\n",
       "  </thead>\n",
       "  <tbody>\n",
       "    <tr>\n",
       "      <th>0</th>\n",
       "      <td>AMZN</td>\n",
       "      <td>2012-12-31</td>\n",
       "      <td>250.869995</td>\n",
       "    </tr>\n",
       "    <tr>\n",
       "      <th>1</th>\n",
       "      <td>AMZN</td>\n",
       "      <td>2013-01-02</td>\n",
       "      <td>257.309998</td>\n",
       "    </tr>\n",
       "    <tr>\n",
       "      <th>2</th>\n",
       "      <td>AMZN</td>\n",
       "      <td>2013-01-03</td>\n",
       "      <td>258.480011</td>\n",
       "    </tr>\n",
       "    <tr>\n",
       "      <th>3</th>\n",
       "      <td>AMZN</td>\n",
       "      <td>2013-01-04</td>\n",
       "      <td>259.149994</td>\n",
       "    </tr>\n",
       "    <tr>\n",
       "      <th>4</th>\n",
       "      <td>AMZN</td>\n",
       "      <td>2013-01-07</td>\n",
       "      <td>268.459991</td>\n",
       "    </tr>\n",
       "  </tbody>\n",
       "</table>\n",
       "</div>"
      ],
      "text/plain": [
       "  Ticker       Date   Adj Close\n",
       "0   AMZN 2012-12-31  250.869995\n",
       "1   AMZN 2013-01-02  257.309998\n",
       "2   AMZN 2013-01-03  258.480011\n",
       "3   AMZN 2013-01-04  259.149994\n",
       "4   AMZN 2013-01-07  268.459991"
      ]
     },
     "execution_count": 299,
     "metadata": {},
     "output_type": "execute_result"
    }
   ],
   "source": [
    "# Also only pulling the ticker, date and adj. close columns for our tickers.\n",
    "\n",
    "adj_close1 = all_data1[['Adj Close']].reset_index()\n",
    "adj_close1.head()"
   ]
  },
  {
   "cell_type": "code",
   "execution_count": 300,
   "metadata": {},
   "outputs": [
    {
     "data": {
      "text/html": [
       "<div>\n",
       "<style scoped>\n",
       "    .dataframe tbody tr th:only-of-type {\n",
       "        vertical-align: middle;\n",
       "    }\n",
       "\n",
       "    .dataframe tbody tr th {\n",
       "        vertical-align: top;\n",
       "    }\n",
       "\n",
       "    .dataframe thead th {\n",
       "        text-align: right;\n",
       "    }\n",
       "</style>\n",
       "<table border=\"1\" class=\"dataframe\">\n",
       "  <thead>\n",
       "    <tr style=\"text-align: right;\">\n",
       "      <th></th>\n",
       "      <th>Ticker</th>\n",
       "      <th>Date</th>\n",
       "      <th>Adj Close</th>\n",
       "    </tr>\n",
       "  </thead>\n",
       "  <tbody>\n",
       "    <tr>\n",
       "      <th>2013</th>\n",
       "      <td>GS</td>\n",
       "      <td>2020-12-29</td>\n",
       "      <td>254.896896</td>\n",
       "    </tr>\n",
       "    <tr>\n",
       "      <th>4027</th>\n",
       "      <td>UNH</td>\n",
       "      <td>2020-12-29</td>\n",
       "      <td>343.651062</td>\n",
       "    </tr>\n",
       "    <tr>\n",
       "      <th>6041</th>\n",
       "      <td>MSFT</td>\n",
       "      <td>2020-12-29</td>\n",
       "      <td>222.693405</td>\n",
       "    </tr>\n",
       "    <tr>\n",
       "      <th>8055</th>\n",
       "      <td>AAPL</td>\n",
       "      <td>2020-12-29</td>\n",
       "      <td>134.239273</td>\n",
       "    </tr>\n",
       "    <tr>\n",
       "      <th>10069</th>\n",
       "      <td>LUV</td>\n",
       "      <td>2020-12-29</td>\n",
       "      <td>46.150002</td>\n",
       "    </tr>\n",
       "  </tbody>\n",
       "</table>\n",
       "</div>"
      ],
      "text/plain": [
       "      Ticker       Date   Adj Close\n",
       "2013      GS 2020-12-29  254.896896\n",
       "4027     UNH 2020-12-29  343.651062\n",
       "6041    MSFT 2020-12-29  222.693405\n",
       "8055    AAPL 2020-12-29  134.239273\n",
       "10069    LUV 2020-12-29   46.150002"
      ]
     },
     "execution_count": 300,
     "metadata": {},
     "output_type": "execute_result"
    }
   ],
   "source": [
    "# Grabbing the ticker close from the end of last year patrick\n",
    "adj_close_start = adj_close[adj_close['Date']==end_of_last_year]\n",
    "adj_close_start.head()"
   ]
  },
  {
   "cell_type": "code",
   "execution_count": 301,
   "metadata": {},
   "outputs": [
    {
     "data": {
      "text/html": [
       "<div>\n",
       "<style scoped>\n",
       "    .dataframe tbody tr th:only-of-type {\n",
       "        vertical-align: middle;\n",
       "    }\n",
       "\n",
       "    .dataframe tbody tr th {\n",
       "        vertical-align: top;\n",
       "    }\n",
       "\n",
       "    .dataframe thead th {\n",
       "        text-align: right;\n",
       "    }\n",
       "</style>\n",
       "<table border=\"1\" class=\"dataframe\">\n",
       "  <thead>\n",
       "    <tr style=\"text-align: right;\">\n",
       "      <th></th>\n",
       "      <th>Ticker</th>\n",
       "      <th>Date</th>\n",
       "      <th>Adj Close</th>\n",
       "    </tr>\n",
       "  </thead>\n",
       "  <tbody>\n",
       "    <tr>\n",
       "      <th>2013</th>\n",
       "      <td>AMZN</td>\n",
       "      <td>2020-12-29</td>\n",
       "      <td>3322.000000</td>\n",
       "    </tr>\n",
       "    <tr>\n",
       "      <th>4027</th>\n",
       "      <td>UNH</td>\n",
       "      <td>2020-12-29</td>\n",
       "      <td>343.651062</td>\n",
       "    </tr>\n",
       "    <tr>\n",
       "      <th>6041</th>\n",
       "      <td>MSFT</td>\n",
       "      <td>2020-12-29</td>\n",
       "      <td>222.693390</td>\n",
       "    </tr>\n",
       "    <tr>\n",
       "      <th>8055</th>\n",
       "      <td>AAPL</td>\n",
       "      <td>2020-12-29</td>\n",
       "      <td>134.239273</td>\n",
       "    </tr>\n",
       "    <tr>\n",
       "      <th>10069</th>\n",
       "      <td>GOOG</td>\n",
       "      <td>2020-12-29</td>\n",
       "      <td>1758.719971</td>\n",
       "    </tr>\n",
       "  </tbody>\n",
       "</table>\n",
       "</div>"
      ],
      "text/plain": [
       "      Ticker       Date    Adj Close\n",
       "2013    AMZN 2020-12-29  3322.000000\n",
       "4027     UNH 2020-12-29   343.651062\n",
       "6041    MSFT 2020-12-29   222.693390\n",
       "8055    AAPL 2020-12-29   134.239273\n",
       "10069   GOOG 2020-12-29  1758.719971"
      ]
     },
     "execution_count": 301,
     "metadata": {},
     "output_type": "execute_result"
    }
   ],
   "source": [
    "# Grabbing the ticker close from the end of last year peter\n",
    "adj_close_start1 = adj_close1[adj_close1['Date']==end_of_last_year]\n",
    "adj_close_start1.head()"
   ]
  },
  {
   "cell_type": "code",
   "execution_count": 302,
   "metadata": {},
   "outputs": [
    {
     "data": {
      "text/html": [
       "<div>\n",
       "<style scoped>\n",
       "    .dataframe tbody tr th:only-of-type {\n",
       "        vertical-align: middle;\n",
       "    }\n",
       "\n",
       "    .dataframe tbody tr th {\n",
       "        vertical-align: top;\n",
       "    }\n",
       "\n",
       "    .dataframe thead th {\n",
       "        text-align: right;\n",
       "    }\n",
       "</style>\n",
       "<table border=\"1\" class=\"dataframe\">\n",
       "  <thead>\n",
       "    <tr style=\"text-align: right;\">\n",
       "      <th></th>\n",
       "      <th>Ticker</th>\n",
       "      <th>Date</th>\n",
       "      <th>Adj Close</th>\n",
       "    </tr>\n",
       "  </thead>\n",
       "  <tbody>\n",
       "    <tr>\n",
       "      <th>2013</th>\n",
       "      <td>GS</td>\n",
       "      <td>2020-12-29</td>\n",
       "      <td>254.896896</td>\n",
       "    </tr>\n",
       "    <tr>\n",
       "      <th>4027</th>\n",
       "      <td>UNH</td>\n",
       "      <td>2020-12-29</td>\n",
       "      <td>343.651062</td>\n",
       "    </tr>\n",
       "    <tr>\n",
       "      <th>6041</th>\n",
       "      <td>MSFT</td>\n",
       "      <td>2020-12-29</td>\n",
       "      <td>222.693405</td>\n",
       "    </tr>\n",
       "    <tr>\n",
       "      <th>8055</th>\n",
       "      <td>AAPL</td>\n",
       "      <td>2020-12-29</td>\n",
       "      <td>134.239273</td>\n",
       "    </tr>\n",
       "    <tr>\n",
       "      <th>10069</th>\n",
       "      <td>LUV</td>\n",
       "      <td>2020-12-29</td>\n",
       "      <td>46.150002</td>\n",
       "    </tr>\n",
       "  </tbody>\n",
       "</table>\n",
       "</div>"
      ],
      "text/plain": [
       "      Ticker       Date   Adj Close\n",
       "2013      GS 2020-12-29  254.896896\n",
       "4027     UNH 2020-12-29  343.651062\n",
       "6041    MSFT 2020-12-29  222.693405\n",
       "8055    AAPL 2020-12-29  134.239273\n",
       "10069    LUV 2020-12-29   46.150002"
      ]
     },
     "execution_count": 302,
     "metadata": {},
     "output_type": "execute_result"
    }
   ],
   "source": [
    "# Grab the latest stock close price patrick\n",
    "\n",
    "adj_close_latest = adj_close[adj_close['Date']==stocks_end]\n",
    "adj_close_latest"
   ]
  },
  {
   "cell_type": "code",
   "execution_count": 303,
   "metadata": {},
   "outputs": [
    {
     "data": {
      "text/html": [
       "<div>\n",
       "<style scoped>\n",
       "    .dataframe tbody tr th:only-of-type {\n",
       "        vertical-align: middle;\n",
       "    }\n",
       "\n",
       "    .dataframe tbody tr th {\n",
       "        vertical-align: top;\n",
       "    }\n",
       "\n",
       "    .dataframe thead th {\n",
       "        text-align: right;\n",
       "    }\n",
       "</style>\n",
       "<table border=\"1\" class=\"dataframe\">\n",
       "  <thead>\n",
       "    <tr style=\"text-align: right;\">\n",
       "      <th></th>\n",
       "      <th>Ticker</th>\n",
       "      <th>Date</th>\n",
       "      <th>Adj Close</th>\n",
       "    </tr>\n",
       "  </thead>\n",
       "  <tbody>\n",
       "    <tr>\n",
       "      <th>2013</th>\n",
       "      <td>AMZN</td>\n",
       "      <td>2020-12-29</td>\n",
       "      <td>3322.000000</td>\n",
       "    </tr>\n",
       "    <tr>\n",
       "      <th>4027</th>\n",
       "      <td>UNH</td>\n",
       "      <td>2020-12-29</td>\n",
       "      <td>343.651062</td>\n",
       "    </tr>\n",
       "    <tr>\n",
       "      <th>6041</th>\n",
       "      <td>MSFT</td>\n",
       "      <td>2020-12-29</td>\n",
       "      <td>222.693390</td>\n",
       "    </tr>\n",
       "    <tr>\n",
       "      <th>8055</th>\n",
       "      <td>AAPL</td>\n",
       "      <td>2020-12-29</td>\n",
       "      <td>134.239273</td>\n",
       "    </tr>\n",
       "    <tr>\n",
       "      <th>10069</th>\n",
       "      <td>GOOG</td>\n",
       "      <td>2020-12-29</td>\n",
       "      <td>1758.719971</td>\n",
       "    </tr>\n",
       "  </tbody>\n",
       "</table>\n",
       "</div>"
      ],
      "text/plain": [
       "      Ticker       Date    Adj Close\n",
       "2013    AMZN 2020-12-29  3322.000000\n",
       "4027     UNH 2020-12-29   343.651062\n",
       "6041    MSFT 2020-12-29   222.693390\n",
       "8055    AAPL 2020-12-29   134.239273\n",
       "10069   GOOG 2020-12-29  1758.719971"
      ]
     },
     "execution_count": 303,
     "metadata": {},
     "output_type": "execute_result"
    }
   ],
   "source": [
    "# peter\n",
    "adj_close_latest1 = adj_close1[adj_close1['Date']==stocks_end]\n",
    "adj_close_latest1"
   ]
  },
  {
   "cell_type": "code",
   "execution_count": 304,
   "metadata": {},
   "outputs": [
    {
     "data": {
      "text/html": [
       "<div>\n",
       "<style scoped>\n",
       "    .dataframe tbody tr th:only-of-type {\n",
       "        vertical-align: middle;\n",
       "    }\n",
       "\n",
       "    .dataframe tbody tr th {\n",
       "        vertical-align: top;\n",
       "    }\n",
       "\n",
       "    .dataframe thead th {\n",
       "        text-align: right;\n",
       "    }\n",
       "</style>\n",
       "<table border=\"1\" class=\"dataframe\">\n",
       "  <thead>\n",
       "    <tr style=\"text-align: right;\">\n",
       "      <th></th>\n",
       "      <th>Date</th>\n",
       "      <th>Adj Close</th>\n",
       "    </tr>\n",
       "    <tr>\n",
       "      <th>Ticker</th>\n",
       "      <th></th>\n",
       "      <th></th>\n",
       "    </tr>\n",
       "  </thead>\n",
       "  <tbody>\n",
       "    <tr>\n",
       "      <th>GS</th>\n",
       "      <td>2020-12-29</td>\n",
       "      <td>254.896896</td>\n",
       "    </tr>\n",
       "    <tr>\n",
       "      <th>UNH</th>\n",
       "      <td>2020-12-29</td>\n",
       "      <td>343.651062</td>\n",
       "    </tr>\n",
       "    <tr>\n",
       "      <th>MSFT</th>\n",
       "      <td>2020-12-29</td>\n",
       "      <td>222.693405</td>\n",
       "    </tr>\n",
       "    <tr>\n",
       "      <th>AAPL</th>\n",
       "      <td>2020-12-29</td>\n",
       "      <td>134.239273</td>\n",
       "    </tr>\n",
       "    <tr>\n",
       "      <th>LUV</th>\n",
       "      <td>2020-12-29</td>\n",
       "      <td>46.150002</td>\n",
       "    </tr>\n",
       "  </tbody>\n",
       "</table>\n",
       "</div>"
      ],
      "text/plain": [
       "             Date   Adj Close\n",
       "Ticker                       \n",
       "GS     2020-12-29  254.896896\n",
       "UNH    2020-12-29  343.651062\n",
       "MSFT   2020-12-29  222.693405\n",
       "AAPL   2020-12-29  134.239273\n",
       "LUV    2020-12-29   46.150002"
      ]
     },
     "execution_count": 304,
     "metadata": {},
     "output_type": "execute_result"
    }
   ],
   "source": [
    "adj_close_latest.set_index('Ticker', inplace=True)\n",
    "adj_close_latest.head()"
   ]
  },
  {
   "cell_type": "code",
   "execution_count": 305,
   "metadata": {},
   "outputs": [
    {
     "data": {
      "text/html": [
       "<div>\n",
       "<style scoped>\n",
       "    .dataframe tbody tr th:only-of-type {\n",
       "        vertical-align: middle;\n",
       "    }\n",
       "\n",
       "    .dataframe tbody tr th {\n",
       "        vertical-align: top;\n",
       "    }\n",
       "\n",
       "    .dataframe thead th {\n",
       "        text-align: right;\n",
       "    }\n",
       "</style>\n",
       "<table border=\"1\" class=\"dataframe\">\n",
       "  <thead>\n",
       "    <tr style=\"text-align: right;\">\n",
       "      <th></th>\n",
       "      <th>Date</th>\n",
       "      <th>Adj Close</th>\n",
       "    </tr>\n",
       "    <tr>\n",
       "      <th>Ticker</th>\n",
       "      <th></th>\n",
       "      <th></th>\n",
       "    </tr>\n",
       "  </thead>\n",
       "  <tbody>\n",
       "    <tr>\n",
       "      <th>AMZN</th>\n",
       "      <td>2020-12-29</td>\n",
       "      <td>3322.000000</td>\n",
       "    </tr>\n",
       "    <tr>\n",
       "      <th>UNH</th>\n",
       "      <td>2020-12-29</td>\n",
       "      <td>343.651062</td>\n",
       "    </tr>\n",
       "    <tr>\n",
       "      <th>MSFT</th>\n",
       "      <td>2020-12-29</td>\n",
       "      <td>222.693390</td>\n",
       "    </tr>\n",
       "    <tr>\n",
       "      <th>AAPL</th>\n",
       "      <td>2020-12-29</td>\n",
       "      <td>134.239273</td>\n",
       "    </tr>\n",
       "    <tr>\n",
       "      <th>GOOG</th>\n",
       "      <td>2020-12-29</td>\n",
       "      <td>1758.719971</td>\n",
       "    </tr>\n",
       "  </tbody>\n",
       "</table>\n",
       "</div>"
      ],
      "text/plain": [
       "             Date    Adj Close\n",
       "Ticker                        \n",
       "AMZN   2020-12-29  3322.000000\n",
       "UNH    2020-12-29   343.651062\n",
       "MSFT   2020-12-29   222.693390\n",
       "AAPL   2020-12-29   134.239273\n",
       "GOOG   2020-12-29  1758.719971"
      ]
     },
     "execution_count": 305,
     "metadata": {},
     "output_type": "execute_result"
    }
   ],
   "source": [
    "adj_close_latest1.set_index('Ticker', inplace=True)\n",
    "adj_close_latest1.head()"
   ]
  },
  {
   "cell_type": "code",
   "execution_count": 306,
   "metadata": {},
   "outputs": [
    {
     "data": {
      "text/html": [
       "<div>\n",
       "<style scoped>\n",
       "    .dataframe tbody tr th:only-of-type {\n",
       "        vertical-align: middle;\n",
       "    }\n",
       "\n",
       "    .dataframe tbody tr th {\n",
       "        vertical-align: top;\n",
       "    }\n",
       "\n",
       "    .dataframe thead th {\n",
       "        text-align: right;\n",
       "    }\n",
       "</style>\n",
       "<table border=\"1\" class=\"dataframe\">\n",
       "  <thead>\n",
       "    <tr style=\"text-align: right;\">\n",
       "      <th></th>\n",
       "      <th>Acquisition Date</th>\n",
       "      <th>Quantity</th>\n",
       "      <th>Unit Cost</th>\n",
       "      <th>Cost Basis</th>\n",
       "      <th>Start of Year</th>\n",
       "    </tr>\n",
       "    <tr>\n",
       "      <th>Ticker</th>\n",
       "      <th></th>\n",
       "      <th></th>\n",
       "      <th></th>\n",
       "      <th></th>\n",
       "      <th></th>\n",
       "    </tr>\n",
       "  </thead>\n",
       "  <tbody>\n",
       "    <tr>\n",
       "      <th>GS</th>\n",
       "      <td>2014-02-27</td>\n",
       "      <td>50</td>\n",
       "      <td>162.66</td>\n",
       "      <td>8133.0</td>\n",
       "      <td>2020-12-29</td>\n",
       "    </tr>\n",
       "    <tr>\n",
       "      <th>UNH</th>\n",
       "      <td>2013-06-04</td>\n",
       "      <td>130</td>\n",
       "      <td>63.70</td>\n",
       "      <td>8281.0</td>\n",
       "      <td>2020-12-29</td>\n",
       "    </tr>\n",
       "    <tr>\n",
       "      <th>MSFT</th>\n",
       "      <td>2015-12-14</td>\n",
       "      <td>150</td>\n",
       "      <td>54.33</td>\n",
       "      <td>8149.5</td>\n",
       "      <td>2020-12-29</td>\n",
       "    </tr>\n",
       "    <tr>\n",
       "      <th>AAPL</th>\n",
       "      <td>2013-06-04</td>\n",
       "      <td>515</td>\n",
       "      <td>15.44</td>\n",
       "      <td>7951.6</td>\n",
       "      <td>2020-12-29</td>\n",
       "    </tr>\n",
       "    <tr>\n",
       "      <th>LUV</th>\n",
       "      <td>2013-12-13</td>\n",
       "      <td>470</td>\n",
       "      <td>18.88</td>\n",
       "      <td>8873.6</td>\n",
       "      <td>2020-12-29</td>\n",
       "    </tr>\n",
       "  </tbody>\n",
       "</table>\n",
       "</div>"
      ],
      "text/plain": [
       "       Acquisition Date  Quantity  Unit Cost  Cost Basis Start of Year\n",
       "Ticker                                                                \n",
       "GS           2014-02-27        50     162.66      8133.0    2020-12-29\n",
       "UNH          2013-06-04       130      63.70      8281.0    2020-12-29\n",
       "MSFT         2015-12-14       150      54.33      8149.5    2020-12-29\n",
       "AAPL         2013-06-04       515      15.44      7951.6    2020-12-29\n",
       "LUV          2013-12-13       470      18.88      8873.6    2020-12-29"
      ]
     },
     "execution_count": 306,
     "metadata": {},
     "output_type": "execute_result"
    }
   ],
   "source": [
    "portfolio_df.set_index(['Ticker'], inplace=True)\n",
    "\n",
    "portfolio_df.head()"
   ]
  },
  {
   "cell_type": "code",
   "execution_count": 307,
   "metadata": {},
   "outputs": [
    {
     "data": {
      "text/html": [
       "<div>\n",
       "<style scoped>\n",
       "    .dataframe tbody tr th:only-of-type {\n",
       "        vertical-align: middle;\n",
       "    }\n",
       "\n",
       "    .dataframe tbody tr th {\n",
       "        vertical-align: top;\n",
       "    }\n",
       "\n",
       "    .dataframe thead th {\n",
       "        text-align: right;\n",
       "    }\n",
       "</style>\n",
       "<table border=\"1\" class=\"dataframe\">\n",
       "  <thead>\n",
       "    <tr style=\"text-align: right;\">\n",
       "      <th></th>\n",
       "      <th>Acquisition Date</th>\n",
       "      <th>Quantity</th>\n",
       "      <th>Unit Cost</th>\n",
       "      <th>Cost Basis</th>\n",
       "      <th>Start of Year</th>\n",
       "    </tr>\n",
       "    <tr>\n",
       "      <th>Ticker</th>\n",
       "      <th></th>\n",
       "      <th></th>\n",
       "      <th></th>\n",
       "      <th></th>\n",
       "      <th></th>\n",
       "    </tr>\n",
       "  </thead>\n",
       "  <tbody>\n",
       "    <tr>\n",
       "      <th>AMZN</th>\n",
       "      <td>2014-02-27</td>\n",
       "      <td>25</td>\n",
       "      <td>357.22</td>\n",
       "      <td>8930.5</td>\n",
       "      <td>2020-12-22</td>\n",
       "    </tr>\n",
       "    <tr>\n",
       "      <th>UNH</th>\n",
       "      <td>2013-06-04</td>\n",
       "      <td>130</td>\n",
       "      <td>63.70</td>\n",
       "      <td>8281.0</td>\n",
       "      <td>2020-12-22</td>\n",
       "    </tr>\n",
       "    <tr>\n",
       "      <th>MSFT</th>\n",
       "      <td>2015-12-14</td>\n",
       "      <td>150</td>\n",
       "      <td>54.33</td>\n",
       "      <td>8149.5</td>\n",
       "      <td>2020-12-22</td>\n",
       "    </tr>\n",
       "    <tr>\n",
       "      <th>AAPL</th>\n",
       "      <td>2013-06-04</td>\n",
       "      <td>515</td>\n",
       "      <td>15.44</td>\n",
       "      <td>7951.6</td>\n",
       "      <td>2020-12-22</td>\n",
       "    </tr>\n",
       "    <tr>\n",
       "      <th>GOOG</th>\n",
       "      <td>2013-12-13</td>\n",
       "      <td>15</td>\n",
       "      <td>535.50</td>\n",
       "      <td>8032.5</td>\n",
       "      <td>2020-12-22</td>\n",
       "    </tr>\n",
       "  </tbody>\n",
       "</table>\n",
       "</div>"
      ],
      "text/plain": [
       "       Acquisition Date  Quantity  Unit Cost  Cost Basis Start of Year\n",
       "Ticker                                                                \n",
       "AMZN         2014-02-27        25     357.22      8930.5    2020-12-22\n",
       "UNH          2013-06-04       130      63.70      8281.0    2020-12-22\n",
       "MSFT         2015-12-14       150      54.33      8149.5    2020-12-22\n",
       "AAPL         2013-06-04       515      15.44      7951.6    2020-12-22\n",
       "GOOG         2013-12-13        15     535.50      8032.5    2020-12-22"
      ]
     },
     "execution_count": 307,
     "metadata": {},
     "output_type": "execute_result"
    }
   ],
   "source": [
    "portfolio_df1.set_index(['Ticker'], inplace=True)\n",
    "\n",
    "portfolio_df1.head()\n"
   ]
  },
  {
   "cell_type": "code",
   "execution_count": 308,
   "metadata": {},
   "outputs": [
    {
     "data": {
      "text/html": [
       "<div>\n",
       "<style scoped>\n",
       "    .dataframe tbody tr th:only-of-type {\n",
       "        vertical-align: middle;\n",
       "    }\n",
       "\n",
       "    .dataframe tbody tr th {\n",
       "        vertical-align: top;\n",
       "    }\n",
       "\n",
       "    .dataframe thead th {\n",
       "        text-align: right;\n",
       "    }\n",
       "</style>\n",
       "<table border=\"1\" class=\"dataframe\">\n",
       "  <thead>\n",
       "    <tr style=\"text-align: right;\">\n",
       "      <th></th>\n",
       "      <th>Acquisition Date</th>\n",
       "      <th>Quantity</th>\n",
       "      <th>Unit Cost</th>\n",
       "      <th>Cost Basis</th>\n",
       "      <th>Start of Year</th>\n",
       "      <th>Date</th>\n",
       "      <th>Adj Close</th>\n",
       "    </tr>\n",
       "    <tr>\n",
       "      <th>Ticker</th>\n",
       "      <th></th>\n",
       "      <th></th>\n",
       "      <th></th>\n",
       "      <th></th>\n",
       "      <th></th>\n",
       "      <th></th>\n",
       "      <th></th>\n",
       "    </tr>\n",
       "  </thead>\n",
       "  <tbody>\n",
       "    <tr>\n",
       "      <th>GS</th>\n",
       "      <td>2014-02-27</td>\n",
       "      <td>50</td>\n",
       "      <td>162.66</td>\n",
       "      <td>8133.0</td>\n",
       "      <td>2020-12-29</td>\n",
       "      <td>2020-12-29</td>\n",
       "      <td>254.896896</td>\n",
       "    </tr>\n",
       "    <tr>\n",
       "      <th>UNH</th>\n",
       "      <td>2013-06-04</td>\n",
       "      <td>130</td>\n",
       "      <td>63.70</td>\n",
       "      <td>8281.0</td>\n",
       "      <td>2020-12-29</td>\n",
       "      <td>2020-12-29</td>\n",
       "      <td>343.651062</td>\n",
       "    </tr>\n",
       "    <tr>\n",
       "      <th>MSFT</th>\n",
       "      <td>2015-12-14</td>\n",
       "      <td>150</td>\n",
       "      <td>54.33</td>\n",
       "      <td>8149.5</td>\n",
       "      <td>2020-12-29</td>\n",
       "      <td>2020-12-29</td>\n",
       "      <td>222.693405</td>\n",
       "    </tr>\n",
       "    <tr>\n",
       "      <th>AAPL</th>\n",
       "      <td>2013-06-04</td>\n",
       "      <td>515</td>\n",
       "      <td>15.44</td>\n",
       "      <td>7951.6</td>\n",
       "      <td>2020-12-29</td>\n",
       "      <td>2020-12-29</td>\n",
       "      <td>134.239273</td>\n",
       "    </tr>\n",
       "    <tr>\n",
       "      <th>LUV</th>\n",
       "      <td>2013-12-13</td>\n",
       "      <td>470</td>\n",
       "      <td>18.88</td>\n",
       "      <td>8873.6</td>\n",
       "      <td>2020-12-29</td>\n",
       "      <td>2020-12-29</td>\n",
       "      <td>46.150002</td>\n",
       "    </tr>\n",
       "  </tbody>\n",
       "</table>\n",
       "</div>"
      ],
      "text/plain": [
       "       Acquisition Date  Quantity  Unit Cost  Cost Basis Start of Year  \\\n",
       "Ticker                                                                   \n",
       "GS           2014-02-27        50     162.66      8133.0    2020-12-29   \n",
       "UNH          2013-06-04       130      63.70      8281.0    2020-12-29   \n",
       "MSFT         2015-12-14       150      54.33      8149.5    2020-12-29   \n",
       "AAPL         2013-06-04       515      15.44      7951.6    2020-12-29   \n",
       "LUV          2013-12-13       470      18.88      8873.6    2020-12-29   \n",
       "\n",
       "             Date   Adj Close  \n",
       "Ticker                         \n",
       "GS     2020-12-29  254.896896  \n",
       "UNH    2020-12-29  343.651062  \n",
       "MSFT   2020-12-29  222.693405  \n",
       "AAPL   2020-12-29  134.239273  \n",
       "LUV    2020-12-29   46.150002  "
      ]
     },
     "execution_count": 308,
     "metadata": {},
     "output_type": "execute_result"
    }
   ],
   "source": [
    "# Merge the portfolio dataframe with the adj close dataframe; they are being joined by their indexes.\n",
    "\n",
    "merged_portfolio = pd.merge(portfolio_df, adj_close_latest, left_index=True, right_index=True)\n",
    "merged_portfolio.head()"
   ]
  },
  {
   "cell_type": "code",
   "execution_count": 309,
   "metadata": {},
   "outputs": [
    {
     "data": {
      "text/html": [
       "<div>\n",
       "<style scoped>\n",
       "    .dataframe tbody tr th:only-of-type {\n",
       "        vertical-align: middle;\n",
       "    }\n",
       "\n",
       "    .dataframe tbody tr th {\n",
       "        vertical-align: top;\n",
       "    }\n",
       "\n",
       "    .dataframe thead th {\n",
       "        text-align: right;\n",
       "    }\n",
       "</style>\n",
       "<table border=\"1\" class=\"dataframe\">\n",
       "  <thead>\n",
       "    <tr style=\"text-align: right;\">\n",
       "      <th></th>\n",
       "      <th>Acquisition Date</th>\n",
       "      <th>Quantity</th>\n",
       "      <th>Unit Cost</th>\n",
       "      <th>Cost Basis</th>\n",
       "      <th>Start of Year</th>\n",
       "      <th>Date</th>\n",
       "      <th>Adj Close</th>\n",
       "    </tr>\n",
       "    <tr>\n",
       "      <th>Ticker</th>\n",
       "      <th></th>\n",
       "      <th></th>\n",
       "      <th></th>\n",
       "      <th></th>\n",
       "      <th></th>\n",
       "      <th></th>\n",
       "      <th></th>\n",
       "    </tr>\n",
       "  </thead>\n",
       "  <tbody>\n",
       "    <tr>\n",
       "      <th>AMZN</th>\n",
       "      <td>2014-02-27</td>\n",
       "      <td>25</td>\n",
       "      <td>357.22</td>\n",
       "      <td>8930.5</td>\n",
       "      <td>2020-12-22</td>\n",
       "      <td>2020-12-29</td>\n",
       "      <td>3322.000000</td>\n",
       "    </tr>\n",
       "    <tr>\n",
       "      <th>UNH</th>\n",
       "      <td>2013-06-04</td>\n",
       "      <td>130</td>\n",
       "      <td>63.70</td>\n",
       "      <td>8281.0</td>\n",
       "      <td>2020-12-22</td>\n",
       "      <td>2020-12-29</td>\n",
       "      <td>343.651062</td>\n",
       "    </tr>\n",
       "    <tr>\n",
       "      <th>MSFT</th>\n",
       "      <td>2015-12-14</td>\n",
       "      <td>150</td>\n",
       "      <td>54.33</td>\n",
       "      <td>8149.5</td>\n",
       "      <td>2020-12-22</td>\n",
       "      <td>2020-12-29</td>\n",
       "      <td>222.693390</td>\n",
       "    </tr>\n",
       "    <tr>\n",
       "      <th>AAPL</th>\n",
       "      <td>2013-06-04</td>\n",
       "      <td>515</td>\n",
       "      <td>15.44</td>\n",
       "      <td>7951.6</td>\n",
       "      <td>2020-12-22</td>\n",
       "      <td>2020-12-29</td>\n",
       "      <td>134.239273</td>\n",
       "    </tr>\n",
       "    <tr>\n",
       "      <th>GOOG</th>\n",
       "      <td>2013-12-13</td>\n",
       "      <td>15</td>\n",
       "      <td>535.50</td>\n",
       "      <td>8032.5</td>\n",
       "      <td>2020-12-22</td>\n",
       "      <td>2020-12-29</td>\n",
       "      <td>1758.719971</td>\n",
       "    </tr>\n",
       "  </tbody>\n",
       "</table>\n",
       "</div>"
      ],
      "text/plain": [
       "       Acquisition Date  Quantity  Unit Cost  Cost Basis Start of Year  \\\n",
       "Ticker                                                                   \n",
       "AMZN         2014-02-27        25     357.22      8930.5    2020-12-22   \n",
       "UNH          2013-06-04       130      63.70      8281.0    2020-12-22   \n",
       "MSFT         2015-12-14       150      54.33      8149.5    2020-12-22   \n",
       "AAPL         2013-06-04       515      15.44      7951.6    2020-12-22   \n",
       "GOOG         2013-12-13        15     535.50      8032.5    2020-12-22   \n",
       "\n",
       "             Date    Adj Close  \n",
       "Ticker                          \n",
       "AMZN   2020-12-29  3322.000000  \n",
       "UNH    2020-12-29   343.651062  \n",
       "MSFT   2020-12-29   222.693390  \n",
       "AAPL   2020-12-29   134.239273  \n",
       "GOOG   2020-12-29  1758.719971  "
      ]
     },
     "execution_count": 309,
     "metadata": {},
     "output_type": "execute_result"
    }
   ],
   "source": [
    "# Merge the portfolio dataframe with the adj close dataframe; they are being joined by their indexes.\n",
    "\n",
    "merged_portfolio1 = pd.merge(portfolio_df1, adj_close_latest1, left_index=True, right_index=True)\n",
    "merged_portfolio1.tail(5)"
   ]
  },
  {
   "cell_type": "code",
   "execution_count": 310,
   "metadata": {},
   "outputs": [
    {
     "data": {
      "text/html": [
       "<div>\n",
       "<style scoped>\n",
       "    .dataframe tbody tr th:only-of-type {\n",
       "        vertical-align: middle;\n",
       "    }\n",
       "\n",
       "    .dataframe tbody tr th {\n",
       "        vertical-align: top;\n",
       "    }\n",
       "\n",
       "    .dataframe thead th {\n",
       "        text-align: right;\n",
       "    }\n",
       "</style>\n",
       "<table border=\"1\" class=\"dataframe\">\n",
       "  <thead>\n",
       "    <tr style=\"text-align: right;\">\n",
       "      <th></th>\n",
       "      <th>Acquisition Date</th>\n",
       "      <th>Quantity</th>\n",
       "      <th>Unit Cost</th>\n",
       "      <th>Cost Basis</th>\n",
       "      <th>Start of Year</th>\n",
       "      <th>Date</th>\n",
       "      <th>Adj Close</th>\n",
       "      <th>ticker return</th>\n",
       "    </tr>\n",
       "    <tr>\n",
       "      <th>Ticker</th>\n",
       "      <th></th>\n",
       "      <th></th>\n",
       "      <th></th>\n",
       "      <th></th>\n",
       "      <th></th>\n",
       "      <th></th>\n",
       "      <th></th>\n",
       "      <th></th>\n",
       "    </tr>\n",
       "  </thead>\n",
       "  <tbody>\n",
       "    <tr>\n",
       "      <th>GS</th>\n",
       "      <td>2014-02-27</td>\n",
       "      <td>50</td>\n",
       "      <td>162.66</td>\n",
       "      <td>8133.0</td>\n",
       "      <td>2020-12-29</td>\n",
       "      <td>2020-12-29</td>\n",
       "      <td>254.896896</td>\n",
       "      <td>0.567053</td>\n",
       "    </tr>\n",
       "    <tr>\n",
       "      <th>UNH</th>\n",
       "      <td>2013-06-04</td>\n",
       "      <td>130</td>\n",
       "      <td>63.70</td>\n",
       "      <td>8281.0</td>\n",
       "      <td>2020-12-29</td>\n",
       "      <td>2020-12-29</td>\n",
       "      <td>343.651062</td>\n",
       "      <td>4.394836</td>\n",
       "    </tr>\n",
       "    <tr>\n",
       "      <th>MSFT</th>\n",
       "      <td>2015-12-14</td>\n",
       "      <td>150</td>\n",
       "      <td>54.33</td>\n",
       "      <td>8149.5</td>\n",
       "      <td>2020-12-29</td>\n",
       "      <td>2020-12-29</td>\n",
       "      <td>222.693405</td>\n",
       "      <td>3.098903</td>\n",
       "    </tr>\n",
       "    <tr>\n",
       "      <th>AAPL</th>\n",
       "      <td>2013-06-04</td>\n",
       "      <td>515</td>\n",
       "      <td>15.44</td>\n",
       "      <td>7951.6</td>\n",
       "      <td>2020-12-29</td>\n",
       "      <td>2020-12-29</td>\n",
       "      <td>134.239273</td>\n",
       "      <td>7.694253</td>\n",
       "    </tr>\n",
       "    <tr>\n",
       "      <th>LUV</th>\n",
       "      <td>2013-12-13</td>\n",
       "      <td>470</td>\n",
       "      <td>18.88</td>\n",
       "      <td>8873.6</td>\n",
       "      <td>2020-12-29</td>\n",
       "      <td>2020-12-29</td>\n",
       "      <td>46.150002</td>\n",
       "      <td>1.444386</td>\n",
       "    </tr>\n",
       "  </tbody>\n",
       "</table>\n",
       "</div>"
      ],
      "text/plain": [
       "       Acquisition Date  Quantity  Unit Cost  Cost Basis Start of Year  \\\n",
       "Ticker                                                                   \n",
       "GS           2014-02-27        50     162.66      8133.0    2020-12-29   \n",
       "UNH          2013-06-04       130      63.70      8281.0    2020-12-29   \n",
       "MSFT         2015-12-14       150      54.33      8149.5    2020-12-29   \n",
       "AAPL         2013-06-04       515      15.44      7951.6    2020-12-29   \n",
       "LUV          2013-12-13       470      18.88      8873.6    2020-12-29   \n",
       "\n",
       "             Date   Adj Close  ticker return  \n",
       "Ticker                                        \n",
       "GS     2020-12-29  254.896896       0.567053  \n",
       "UNH    2020-12-29  343.651062       4.394836  \n",
       "MSFT   2020-12-29  222.693405       3.098903  \n",
       "AAPL   2020-12-29  134.239273       7.694253  \n",
       "LUV    2020-12-29   46.150002       1.444386  "
      ]
     },
     "execution_count": 310,
     "metadata": {},
     "output_type": "execute_result"
    }
   ],
   "source": [
    "# The below creates a new column which is the ticker return; takes the latest adjusted close for each position\n",
    "# and divides that by the initial share cost.\n",
    "\n",
    "merged_portfolio['ticker return'] = merged_portfolio['Adj Close'] / merged_portfolio['Unit Cost'] - 1\n",
    "\n",
    "merged_portfolio"
   ]
  },
  {
   "cell_type": "code",
   "execution_count": 311,
   "metadata": {},
   "outputs": [
    {
     "data": {
      "text/html": [
       "<div>\n",
       "<style scoped>\n",
       "    .dataframe tbody tr th:only-of-type {\n",
       "        vertical-align: middle;\n",
       "    }\n",
       "\n",
       "    .dataframe tbody tr th {\n",
       "        vertical-align: top;\n",
       "    }\n",
       "\n",
       "    .dataframe thead th {\n",
       "        text-align: right;\n",
       "    }\n",
       "</style>\n",
       "<table border=\"1\" class=\"dataframe\">\n",
       "  <thead>\n",
       "    <tr style=\"text-align: right;\">\n",
       "      <th></th>\n",
       "      <th>Acquisition Date</th>\n",
       "      <th>Quantity</th>\n",
       "      <th>Unit Cost</th>\n",
       "      <th>Cost Basis</th>\n",
       "      <th>Start of Year</th>\n",
       "      <th>Date</th>\n",
       "      <th>Adj Close</th>\n",
       "      <th>ticker return</th>\n",
       "    </tr>\n",
       "    <tr>\n",
       "      <th>Ticker</th>\n",
       "      <th></th>\n",
       "      <th></th>\n",
       "      <th></th>\n",
       "      <th></th>\n",
       "      <th></th>\n",
       "      <th></th>\n",
       "      <th></th>\n",
       "      <th></th>\n",
       "    </tr>\n",
       "  </thead>\n",
       "  <tbody>\n",
       "    <tr>\n",
       "      <th>AMZN</th>\n",
       "      <td>2014-02-27</td>\n",
       "      <td>25</td>\n",
       "      <td>357.22</td>\n",
       "      <td>8930.5</td>\n",
       "      <td>2020-12-22</td>\n",
       "      <td>2020-12-29</td>\n",
       "      <td>3322.000000</td>\n",
       "      <td>8.299591</td>\n",
       "    </tr>\n",
       "    <tr>\n",
       "      <th>UNH</th>\n",
       "      <td>2013-06-04</td>\n",
       "      <td>130</td>\n",
       "      <td>63.70</td>\n",
       "      <td>8281.0</td>\n",
       "      <td>2020-12-22</td>\n",
       "      <td>2020-12-29</td>\n",
       "      <td>343.651062</td>\n",
       "      <td>4.394836</td>\n",
       "    </tr>\n",
       "    <tr>\n",
       "      <th>MSFT</th>\n",
       "      <td>2015-12-14</td>\n",
       "      <td>150</td>\n",
       "      <td>54.33</td>\n",
       "      <td>8149.5</td>\n",
       "      <td>2020-12-22</td>\n",
       "      <td>2020-12-29</td>\n",
       "      <td>222.693390</td>\n",
       "      <td>3.098903</td>\n",
       "    </tr>\n",
       "    <tr>\n",
       "      <th>AAPL</th>\n",
       "      <td>2013-06-04</td>\n",
       "      <td>515</td>\n",
       "      <td>15.44</td>\n",
       "      <td>7951.6</td>\n",
       "      <td>2020-12-22</td>\n",
       "      <td>2020-12-29</td>\n",
       "      <td>134.239273</td>\n",
       "      <td>7.694253</td>\n",
       "    </tr>\n",
       "    <tr>\n",
       "      <th>GOOG</th>\n",
       "      <td>2013-12-13</td>\n",
       "      <td>15</td>\n",
       "      <td>535.50</td>\n",
       "      <td>8032.5</td>\n",
       "      <td>2020-12-22</td>\n",
       "      <td>2020-12-29</td>\n",
       "      <td>1758.719971</td>\n",
       "      <td>2.284258</td>\n",
       "    </tr>\n",
       "  </tbody>\n",
       "</table>\n",
       "</div>"
      ],
      "text/plain": [
       "       Acquisition Date  Quantity  Unit Cost  Cost Basis Start of Year  \\\n",
       "Ticker                                                                   \n",
       "AMZN         2014-02-27        25     357.22      8930.5    2020-12-22   \n",
       "UNH          2013-06-04       130      63.70      8281.0    2020-12-22   \n",
       "MSFT         2015-12-14       150      54.33      8149.5    2020-12-22   \n",
       "AAPL         2013-06-04       515      15.44      7951.6    2020-12-22   \n",
       "GOOG         2013-12-13        15     535.50      8032.5    2020-12-22   \n",
       "\n",
       "             Date    Adj Close  ticker return  \n",
       "Ticker                                         \n",
       "AMZN   2020-12-29  3322.000000       8.299591  \n",
       "UNH    2020-12-29   343.651062       4.394836  \n",
       "MSFT   2020-12-29   222.693390       3.098903  \n",
       "AAPL   2020-12-29   134.239273       7.694253  \n",
       "GOOG   2020-12-29  1758.719971       2.284258  "
      ]
     },
     "execution_count": 311,
     "metadata": {},
     "output_type": "execute_result"
    }
   ],
   "source": [
    "# The below creates a new column which is the ticker return; takes the latest adjusted close for each position\n",
    "# and divides that by the initial share cost.\n",
    "\n",
    "merged_portfolio1['ticker return'] = merged_portfolio1['Adj Close'] / merged_portfolio1['Unit Cost'] - 1\n",
    "\n",
    "merged_portfolio1"
   ]
  },
  {
   "cell_type": "code",
   "execution_count": 312,
   "metadata": {
    "collapsed": true
   },
   "outputs": [],
   "source": [
    "merged_portfolio.reset_index(inplace=True)"
   ]
  },
  {
   "cell_type": "code",
   "execution_count": 313,
   "metadata": {},
   "outputs": [],
   "source": [
    "merged_portfolio1.reset_index(inplace=True)"
   ]
  },
  {
   "cell_type": "code",
   "execution_count": 314,
   "metadata": {},
   "outputs": [
    {
     "data": {
      "text/html": [
       "<div>\n",
       "<style scoped>\n",
       "    .dataframe tbody tr th:only-of-type {\n",
       "        vertical-align: middle;\n",
       "    }\n",
       "\n",
       "    .dataframe tbody tr th {\n",
       "        vertical-align: top;\n",
       "    }\n",
       "\n",
       "    .dataframe thead th {\n",
       "        text-align: right;\n",
       "    }\n",
       "</style>\n",
       "<table border=\"1\" class=\"dataframe\">\n",
       "  <thead>\n",
       "    <tr style=\"text-align: right;\">\n",
       "      <th></th>\n",
       "      <th>Ticker</th>\n",
       "      <th>Acquisition Date</th>\n",
       "      <th>Quantity</th>\n",
       "      <th>Unit Cost</th>\n",
       "      <th>Cost Basis</th>\n",
       "      <th>Start of Year</th>\n",
       "      <th>Date_x</th>\n",
       "      <th>Adj Close_x</th>\n",
       "      <th>ticker return</th>\n",
       "      <th>Date_y</th>\n",
       "      <th>Adj Close_y</th>\n",
       "    </tr>\n",
       "  </thead>\n",
       "  <tbody>\n",
       "    <tr>\n",
       "      <th>0</th>\n",
       "      <td>GS</td>\n",
       "      <td>2014-02-27</td>\n",
       "      <td>50</td>\n",
       "      <td>162.66</td>\n",
       "      <td>8133.0</td>\n",
       "      <td>2020-12-29</td>\n",
       "      <td>2020-12-29</td>\n",
       "      <td>254.896896</td>\n",
       "      <td>0.567053</td>\n",
       "      <td>2014-02-27</td>\n",
       "      <td>1854.290039</td>\n",
       "    </tr>\n",
       "    <tr>\n",
       "      <th>1</th>\n",
       "      <td>UNH</td>\n",
       "      <td>2013-06-04</td>\n",
       "      <td>130</td>\n",
       "      <td>63.70</td>\n",
       "      <td>8281.0</td>\n",
       "      <td>2020-12-29</td>\n",
       "      <td>2020-12-29</td>\n",
       "      <td>343.651062</td>\n",
       "      <td>4.394836</td>\n",
       "      <td>2013-06-04</td>\n",
       "      <td>1631.380005</td>\n",
       "    </tr>\n",
       "    <tr>\n",
       "      <th>2</th>\n",
       "      <td>AAPL</td>\n",
       "      <td>2013-06-04</td>\n",
       "      <td>515</td>\n",
       "      <td>15.44</td>\n",
       "      <td>7951.6</td>\n",
       "      <td>2020-12-29</td>\n",
       "      <td>2020-12-29</td>\n",
       "      <td>134.239273</td>\n",
       "      <td>7.694253</td>\n",
       "      <td>2013-06-04</td>\n",
       "      <td>1631.380005</td>\n",
       "    </tr>\n",
       "    <tr>\n",
       "      <th>3</th>\n",
       "      <td>MSFT</td>\n",
       "      <td>2015-12-14</td>\n",
       "      <td>150</td>\n",
       "      <td>54.33</td>\n",
       "      <td>8149.5</td>\n",
       "      <td>2020-12-29</td>\n",
       "      <td>2020-12-29</td>\n",
       "      <td>222.693405</td>\n",
       "      <td>3.098903</td>\n",
       "      <td>2015-12-14</td>\n",
       "      <td>2021.939941</td>\n",
       "    </tr>\n",
       "    <tr>\n",
       "      <th>4</th>\n",
       "      <td>LUV</td>\n",
       "      <td>2013-12-13</td>\n",
       "      <td>470</td>\n",
       "      <td>18.88</td>\n",
       "      <td>8873.6</td>\n",
       "      <td>2020-12-29</td>\n",
       "      <td>2020-12-29</td>\n",
       "      <td>46.150002</td>\n",
       "      <td>1.444386</td>\n",
       "      <td>2013-12-13</td>\n",
       "      <td>1775.319946</td>\n",
       "    </tr>\n",
       "  </tbody>\n",
       "</table>\n",
       "</div>"
      ],
      "text/plain": [
       "  Ticker Acquisition Date  Quantity  Unit Cost  Cost Basis Start of Year  \\\n",
       "0     GS       2014-02-27        50     162.66      8133.0    2020-12-29   \n",
       "1    UNH       2013-06-04       130      63.70      8281.0    2020-12-29   \n",
       "2   AAPL       2013-06-04       515      15.44      7951.6    2020-12-29   \n",
       "3   MSFT       2015-12-14       150      54.33      8149.5    2020-12-29   \n",
       "4    LUV       2013-12-13       470      18.88      8873.6    2020-12-29   \n",
       "\n",
       "      Date_x  Adj Close_x  ticker return     Date_y  Adj Close_y  \n",
       "0 2020-12-29   254.896896       0.567053 2014-02-27  1854.290039  \n",
       "1 2020-12-29   343.651062       4.394836 2013-06-04  1631.380005  \n",
       "2 2020-12-29   134.239273       7.694253 2013-06-04  1631.380005  \n",
       "3 2020-12-29   222.693405       3.098903 2015-12-14  2021.939941  \n",
       "4 2020-12-29    46.150002       1.444386 2013-12-13  1775.319946  "
      ]
     },
     "execution_count": 314,
     "metadata": {},
     "output_type": "execute_result"
    }
   ],
   "source": [
    "# Here we are merging the new dataframe with the sp500 adjusted closes since the sp start price based on \n",
    "# each ticker's acquisition date and sp500 close date.\n",
    "\n",
    "merged_portfolio_sp = pd.merge(merged_portfolio, sp_500_adj_close, left_on='Acquisition Date', right_on='Date')\n",
    "# .set_index('Ticker')\n",
    "\n",
    "merged_portfolio_sp.head()"
   ]
  },
  {
   "cell_type": "code",
   "execution_count": 315,
   "metadata": {},
   "outputs": [
    {
     "data": {
      "text/html": [
       "<div>\n",
       "<style scoped>\n",
       "    .dataframe tbody tr th:only-of-type {\n",
       "        vertical-align: middle;\n",
       "    }\n",
       "\n",
       "    .dataframe tbody tr th {\n",
       "        vertical-align: top;\n",
       "    }\n",
       "\n",
       "    .dataframe thead th {\n",
       "        text-align: right;\n",
       "    }\n",
       "</style>\n",
       "<table border=\"1\" class=\"dataframe\">\n",
       "  <thead>\n",
       "    <tr style=\"text-align: right;\">\n",
       "      <th></th>\n",
       "      <th>Ticker</th>\n",
       "      <th>Acquisition Date</th>\n",
       "      <th>Quantity</th>\n",
       "      <th>Unit Cost</th>\n",
       "      <th>Cost Basis</th>\n",
       "      <th>Start of Year</th>\n",
       "      <th>Date_x</th>\n",
       "      <th>Adj Close_x</th>\n",
       "      <th>ticker return</th>\n",
       "      <th>Date_y</th>\n",
       "      <th>Adj Close_y</th>\n",
       "    </tr>\n",
       "  </thead>\n",
       "  <tbody>\n",
       "    <tr>\n",
       "      <th>0</th>\n",
       "      <td>AMZN</td>\n",
       "      <td>2014-02-27</td>\n",
       "      <td>25</td>\n",
       "      <td>357.22</td>\n",
       "      <td>8930.5</td>\n",
       "      <td>2020-12-22</td>\n",
       "      <td>2020-12-29</td>\n",
       "      <td>3322.000000</td>\n",
       "      <td>8.299591</td>\n",
       "      <td>2014-02-27</td>\n",
       "      <td>1854.290039</td>\n",
       "    </tr>\n",
       "    <tr>\n",
       "      <th>1</th>\n",
       "      <td>UNH</td>\n",
       "      <td>2013-06-04</td>\n",
       "      <td>130</td>\n",
       "      <td>63.70</td>\n",
       "      <td>8281.0</td>\n",
       "      <td>2020-12-22</td>\n",
       "      <td>2020-12-29</td>\n",
       "      <td>343.651062</td>\n",
       "      <td>4.394836</td>\n",
       "      <td>2013-06-04</td>\n",
       "      <td>1631.380005</td>\n",
       "    </tr>\n",
       "    <tr>\n",
       "      <th>2</th>\n",
       "      <td>AAPL</td>\n",
       "      <td>2013-06-04</td>\n",
       "      <td>515</td>\n",
       "      <td>15.44</td>\n",
       "      <td>7951.6</td>\n",
       "      <td>2020-12-22</td>\n",
       "      <td>2020-12-29</td>\n",
       "      <td>134.239273</td>\n",
       "      <td>7.694253</td>\n",
       "      <td>2013-06-04</td>\n",
       "      <td>1631.380005</td>\n",
       "    </tr>\n",
       "    <tr>\n",
       "      <th>3</th>\n",
       "      <td>MSFT</td>\n",
       "      <td>2015-12-14</td>\n",
       "      <td>150</td>\n",
       "      <td>54.33</td>\n",
       "      <td>8149.5</td>\n",
       "      <td>2020-12-22</td>\n",
       "      <td>2020-12-29</td>\n",
       "      <td>222.693390</td>\n",
       "      <td>3.098903</td>\n",
       "      <td>2015-12-14</td>\n",
       "      <td>2021.939941</td>\n",
       "    </tr>\n",
       "    <tr>\n",
       "      <th>4</th>\n",
       "      <td>GOOG</td>\n",
       "      <td>2013-12-13</td>\n",
       "      <td>15</td>\n",
       "      <td>535.50</td>\n",
       "      <td>8032.5</td>\n",
       "      <td>2020-12-22</td>\n",
       "      <td>2020-12-29</td>\n",
       "      <td>1758.719971</td>\n",
       "      <td>2.284258</td>\n",
       "      <td>2013-12-13</td>\n",
       "      <td>1775.319946</td>\n",
       "    </tr>\n",
       "  </tbody>\n",
       "</table>\n",
       "</div>"
      ],
      "text/plain": [
       "  Ticker Acquisition Date  Quantity  Unit Cost  Cost Basis Start of Year  \\\n",
       "0   AMZN       2014-02-27        25     357.22      8930.5    2020-12-22   \n",
       "1    UNH       2013-06-04       130      63.70      8281.0    2020-12-22   \n",
       "2   AAPL       2013-06-04       515      15.44      7951.6    2020-12-22   \n",
       "3   MSFT       2015-12-14       150      54.33      8149.5    2020-12-22   \n",
       "4   GOOG       2013-12-13        15     535.50      8032.5    2020-12-22   \n",
       "\n",
       "      Date_x  Adj Close_x  ticker return     Date_y  Adj Close_y  \n",
       "0 2020-12-29  3322.000000       8.299591 2014-02-27  1854.290039  \n",
       "1 2020-12-29   343.651062       4.394836 2013-06-04  1631.380005  \n",
       "2 2020-12-29   134.239273       7.694253 2013-06-04  1631.380005  \n",
       "3 2020-12-29   222.693390       3.098903 2015-12-14  2021.939941  \n",
       "4 2020-12-29  1758.719971       2.284258 2013-12-13  1775.319946  "
      ]
     },
     "execution_count": 315,
     "metadata": {},
     "output_type": "execute_result"
    }
   ],
   "source": [
    "# Here we are merging the new dataframe with the sp500 adjusted closes since the sp start price based on \n",
    "# each ticker's acquisition date and sp500 close date.\n",
    "\n",
    "merged_portfolio1_sp = pd.merge(merged_portfolio1, sp_500_adj_close, left_on='Acquisition Date', right_on='Date')\n",
    "# .set_index('Ticker')\n",
    "\n",
    "merged_portfolio1_sp.head()"
   ]
  },
  {
   "cell_type": "code",
   "execution_count": 316,
   "metadata": {},
   "outputs": [
    {
     "data": {
      "text/html": [
       "<div>\n",
       "<style scoped>\n",
       "    .dataframe tbody tr th:only-of-type {\n",
       "        vertical-align: middle;\n",
       "    }\n",
       "\n",
       "    .dataframe tbody tr th {\n",
       "        vertical-align: top;\n",
       "    }\n",
       "\n",
       "    .dataframe thead th {\n",
       "        text-align: right;\n",
       "    }\n",
       "</style>\n",
       "<table border=\"1\" class=\"dataframe\">\n",
       "  <thead>\n",
       "    <tr style=\"text-align: right;\">\n",
       "      <th></th>\n",
       "      <th>Ticker</th>\n",
       "      <th>Acquisition Date</th>\n",
       "      <th>Quantity</th>\n",
       "      <th>Unit Cost</th>\n",
       "      <th>Cost Basis</th>\n",
       "      <th>Start of Year</th>\n",
       "      <th>Latest Date</th>\n",
       "      <th>Ticker Adj Close</th>\n",
       "      <th>ticker return</th>\n",
       "      <th>SP 500 Initial Close</th>\n",
       "    </tr>\n",
       "  </thead>\n",
       "  <tbody>\n",
       "    <tr>\n",
       "      <th>0</th>\n",
       "      <td>GS</td>\n",
       "      <td>2014-02-27</td>\n",
       "      <td>50</td>\n",
       "      <td>162.66</td>\n",
       "      <td>8133.0</td>\n",
       "      <td>2020-12-29</td>\n",
       "      <td>2020-12-29</td>\n",
       "      <td>254.896896</td>\n",
       "      <td>0.567053</td>\n",
       "      <td>1854.290039</td>\n",
       "    </tr>\n",
       "    <tr>\n",
       "      <th>1</th>\n",
       "      <td>UNH</td>\n",
       "      <td>2013-06-04</td>\n",
       "      <td>130</td>\n",
       "      <td>63.70</td>\n",
       "      <td>8281.0</td>\n",
       "      <td>2020-12-29</td>\n",
       "      <td>2020-12-29</td>\n",
       "      <td>343.651062</td>\n",
       "      <td>4.394836</td>\n",
       "      <td>1631.380005</td>\n",
       "    </tr>\n",
       "    <tr>\n",
       "      <th>2</th>\n",
       "      <td>AAPL</td>\n",
       "      <td>2013-06-04</td>\n",
       "      <td>515</td>\n",
       "      <td>15.44</td>\n",
       "      <td>7951.6</td>\n",
       "      <td>2020-12-29</td>\n",
       "      <td>2020-12-29</td>\n",
       "      <td>134.239273</td>\n",
       "      <td>7.694253</td>\n",
       "      <td>1631.380005</td>\n",
       "    </tr>\n",
       "    <tr>\n",
       "      <th>3</th>\n",
       "      <td>MSFT</td>\n",
       "      <td>2015-12-14</td>\n",
       "      <td>150</td>\n",
       "      <td>54.33</td>\n",
       "      <td>8149.5</td>\n",
       "      <td>2020-12-29</td>\n",
       "      <td>2020-12-29</td>\n",
       "      <td>222.693405</td>\n",
       "      <td>3.098903</td>\n",
       "      <td>2021.939941</td>\n",
       "    </tr>\n",
       "    <tr>\n",
       "      <th>4</th>\n",
       "      <td>LUV</td>\n",
       "      <td>2013-12-13</td>\n",
       "      <td>470</td>\n",
       "      <td>18.88</td>\n",
       "      <td>8873.6</td>\n",
       "      <td>2020-12-29</td>\n",
       "      <td>2020-12-29</td>\n",
       "      <td>46.150002</td>\n",
       "      <td>1.444386</td>\n",
       "      <td>1775.319946</td>\n",
       "    </tr>\n",
       "  </tbody>\n",
       "</table>\n",
       "</div>"
      ],
      "text/plain": [
       "  Ticker Acquisition Date  Quantity  Unit Cost  Cost Basis Start of Year  \\\n",
       "0     GS       2014-02-27        50     162.66      8133.0    2020-12-29   \n",
       "1    UNH       2013-06-04       130      63.70      8281.0    2020-12-29   \n",
       "2   AAPL       2013-06-04       515      15.44      7951.6    2020-12-29   \n",
       "3   MSFT       2015-12-14       150      54.33      8149.5    2020-12-29   \n",
       "4    LUV       2013-12-13       470      18.88      8873.6    2020-12-29   \n",
       "\n",
       "  Latest Date  Ticker Adj Close  ticker return  SP 500 Initial Close  \n",
       "0  2020-12-29        254.896896       0.567053           1854.290039  \n",
       "1  2020-12-29        343.651062       4.394836           1631.380005  \n",
       "2  2020-12-29        134.239273       7.694253           1631.380005  \n",
       "3  2020-12-29        222.693405       3.098903           2021.939941  \n",
       "4  2020-12-29         46.150002       1.444386           1775.319946  "
      ]
     },
     "execution_count": 316,
     "metadata": {},
     "output_type": "execute_result"
    }
   ],
   "source": [
    "# We will delete the additional date column which is created from this merge.\n",
    "# We then rename columns to Latest Date and then reflect Ticker Adj Close and SP 500 Initial Close.\n",
    "\n",
    "del merged_portfolio_sp['Date_y']\n",
    "\n",
    "merged_portfolio_sp.rename(columns={'Date_x': 'Latest Date', 'Adj Close_x': 'Ticker Adj Close'\n",
    "                                    , 'Adj Close_y': 'SP 500 Initial Close'}, inplace=True)\n",
    "\n",
    "merged_portfolio_sp.head()"
   ]
  },
  {
   "cell_type": "code",
   "execution_count": 317,
   "metadata": {},
   "outputs": [
    {
     "data": {
      "text/html": [
       "<div>\n",
       "<style scoped>\n",
       "    .dataframe tbody tr th:only-of-type {\n",
       "        vertical-align: middle;\n",
       "    }\n",
       "\n",
       "    .dataframe tbody tr th {\n",
       "        vertical-align: top;\n",
       "    }\n",
       "\n",
       "    .dataframe thead th {\n",
       "        text-align: right;\n",
       "    }\n",
       "</style>\n",
       "<table border=\"1\" class=\"dataframe\">\n",
       "  <thead>\n",
       "    <tr style=\"text-align: right;\">\n",
       "      <th></th>\n",
       "      <th>Ticker</th>\n",
       "      <th>Acquisition Date</th>\n",
       "      <th>Quantity</th>\n",
       "      <th>Unit Cost</th>\n",
       "      <th>Cost Basis</th>\n",
       "      <th>Start of Year</th>\n",
       "      <th>Latest Date</th>\n",
       "      <th>Ticker Adj Close</th>\n",
       "      <th>ticker return</th>\n",
       "      <th>SP 500 Initial Close</th>\n",
       "    </tr>\n",
       "  </thead>\n",
       "  <tbody>\n",
       "    <tr>\n",
       "      <th>0</th>\n",
       "      <td>AMZN</td>\n",
       "      <td>2014-02-27</td>\n",
       "      <td>25</td>\n",
       "      <td>357.22</td>\n",
       "      <td>8930.5</td>\n",
       "      <td>2020-12-22</td>\n",
       "      <td>2020-12-29</td>\n",
       "      <td>3322.000000</td>\n",
       "      <td>8.299591</td>\n",
       "      <td>1854.290039</td>\n",
       "    </tr>\n",
       "    <tr>\n",
       "      <th>1</th>\n",
       "      <td>UNH</td>\n",
       "      <td>2013-06-04</td>\n",
       "      <td>130</td>\n",
       "      <td>63.70</td>\n",
       "      <td>8281.0</td>\n",
       "      <td>2020-12-22</td>\n",
       "      <td>2020-12-29</td>\n",
       "      <td>343.651062</td>\n",
       "      <td>4.394836</td>\n",
       "      <td>1631.380005</td>\n",
       "    </tr>\n",
       "    <tr>\n",
       "      <th>2</th>\n",
       "      <td>AAPL</td>\n",
       "      <td>2013-06-04</td>\n",
       "      <td>515</td>\n",
       "      <td>15.44</td>\n",
       "      <td>7951.6</td>\n",
       "      <td>2020-12-22</td>\n",
       "      <td>2020-12-29</td>\n",
       "      <td>134.239273</td>\n",
       "      <td>7.694253</td>\n",
       "      <td>1631.380005</td>\n",
       "    </tr>\n",
       "    <tr>\n",
       "      <th>3</th>\n",
       "      <td>MSFT</td>\n",
       "      <td>2015-12-14</td>\n",
       "      <td>150</td>\n",
       "      <td>54.33</td>\n",
       "      <td>8149.5</td>\n",
       "      <td>2020-12-22</td>\n",
       "      <td>2020-12-29</td>\n",
       "      <td>222.693390</td>\n",
       "      <td>3.098903</td>\n",
       "      <td>2021.939941</td>\n",
       "    </tr>\n",
       "    <tr>\n",
       "      <th>4</th>\n",
       "      <td>GOOG</td>\n",
       "      <td>2013-12-13</td>\n",
       "      <td>15</td>\n",
       "      <td>535.50</td>\n",
       "      <td>8032.5</td>\n",
       "      <td>2020-12-22</td>\n",
       "      <td>2020-12-29</td>\n",
       "      <td>1758.719971</td>\n",
       "      <td>2.284258</td>\n",
       "      <td>1775.319946</td>\n",
       "    </tr>\n",
       "  </tbody>\n",
       "</table>\n",
       "</div>"
      ],
      "text/plain": [
       "  Ticker Acquisition Date  Quantity  Unit Cost  Cost Basis Start of Year  \\\n",
       "0   AMZN       2014-02-27        25     357.22      8930.5    2020-12-22   \n",
       "1    UNH       2013-06-04       130      63.70      8281.0    2020-12-22   \n",
       "2   AAPL       2013-06-04       515      15.44      7951.6    2020-12-22   \n",
       "3   MSFT       2015-12-14       150      54.33      8149.5    2020-12-22   \n",
       "4   GOOG       2013-12-13        15     535.50      8032.5    2020-12-22   \n",
       "\n",
       "  Latest Date  Ticker Adj Close  ticker return  SP 500 Initial Close  \n",
       "0  2020-12-29       3322.000000       8.299591           1854.290039  \n",
       "1  2020-12-29        343.651062       4.394836           1631.380005  \n",
       "2  2020-12-29        134.239273       7.694253           1631.380005  \n",
       "3  2020-12-29        222.693390       3.098903           2021.939941  \n",
       "4  2020-12-29       1758.719971       2.284258           1775.319946  "
      ]
     },
     "execution_count": 317,
     "metadata": {},
     "output_type": "execute_result"
    }
   ],
   "source": [
    "# We will delete the additional date column which is created from this merge.\n",
    "# We then rename columns to Latest Date and then reflect Ticker Adj Close and SP 500 Initial Close.\n",
    "\n",
    "del merged_portfolio1_sp['Date_y']\n",
    "\n",
    "merged_portfolio1_sp.rename(columns={'Date_x': 'Latest Date', 'Adj Close_x': 'Ticker Adj Close'\n",
    "                                    , 'Adj Close_y': 'SP 500 Initial Close'}, inplace=True)\n",
    "\n",
    "merged_portfolio1_sp.head()"
   ]
  },
  {
   "cell_type": "code",
   "execution_count": 318,
   "metadata": {},
   "outputs": [
    {
     "data": {
      "text/html": [
       "<div>\n",
       "<style scoped>\n",
       "    .dataframe tbody tr th:only-of-type {\n",
       "        vertical-align: middle;\n",
       "    }\n",
       "\n",
       "    .dataframe tbody tr th {\n",
       "        vertical-align: top;\n",
       "    }\n",
       "\n",
       "    .dataframe thead th {\n",
       "        text-align: right;\n",
       "    }\n",
       "</style>\n",
       "<table border=\"1\" class=\"dataframe\">\n",
       "  <thead>\n",
       "    <tr style=\"text-align: right;\">\n",
       "      <th></th>\n",
       "      <th>Ticker</th>\n",
       "      <th>Acquisition Date</th>\n",
       "      <th>Quantity</th>\n",
       "      <th>Unit Cost</th>\n",
       "      <th>Cost Basis</th>\n",
       "      <th>Start of Year</th>\n",
       "      <th>Latest Date</th>\n",
       "      <th>Ticker Adj Close</th>\n",
       "      <th>ticker return</th>\n",
       "      <th>SP 500 Initial Close</th>\n",
       "      <th>Equiv SP Shares</th>\n",
       "    </tr>\n",
       "  </thead>\n",
       "  <tbody>\n",
       "    <tr>\n",
       "      <th>0</th>\n",
       "      <td>GS</td>\n",
       "      <td>2014-02-27</td>\n",
       "      <td>50</td>\n",
       "      <td>162.66</td>\n",
       "      <td>8133.0</td>\n",
       "      <td>2020-12-29</td>\n",
       "      <td>2020-12-29</td>\n",
       "      <td>254.896896</td>\n",
       "      <td>0.567053</td>\n",
       "      <td>1854.290039</td>\n",
       "      <td>4.386045</td>\n",
       "    </tr>\n",
       "    <tr>\n",
       "      <th>1</th>\n",
       "      <td>UNH</td>\n",
       "      <td>2013-06-04</td>\n",
       "      <td>130</td>\n",
       "      <td>63.70</td>\n",
       "      <td>8281.0</td>\n",
       "      <td>2020-12-29</td>\n",
       "      <td>2020-12-29</td>\n",
       "      <td>343.651062</td>\n",
       "      <td>4.394836</td>\n",
       "      <td>1631.380005</td>\n",
       "      <td>5.076071</td>\n",
       "    </tr>\n",
       "    <tr>\n",
       "      <th>2</th>\n",
       "      <td>AAPL</td>\n",
       "      <td>2013-06-04</td>\n",
       "      <td>515</td>\n",
       "      <td>15.44</td>\n",
       "      <td>7951.6</td>\n",
       "      <td>2020-12-29</td>\n",
       "      <td>2020-12-29</td>\n",
       "      <td>134.239273</td>\n",
       "      <td>7.694253</td>\n",
       "      <td>1631.380005</td>\n",
       "      <td>4.874156</td>\n",
       "    </tr>\n",
       "    <tr>\n",
       "      <th>3</th>\n",
       "      <td>MSFT</td>\n",
       "      <td>2015-12-14</td>\n",
       "      <td>150</td>\n",
       "      <td>54.33</td>\n",
       "      <td>8149.5</td>\n",
       "      <td>2020-12-29</td>\n",
       "      <td>2020-12-29</td>\n",
       "      <td>222.693405</td>\n",
       "      <td>3.098903</td>\n",
       "      <td>2021.939941</td>\n",
       "      <td>4.030535</td>\n",
       "    </tr>\n",
       "    <tr>\n",
       "      <th>4</th>\n",
       "      <td>LUV</td>\n",
       "      <td>2013-12-13</td>\n",
       "      <td>470</td>\n",
       "      <td>18.88</td>\n",
       "      <td>8873.6</td>\n",
       "      <td>2020-12-29</td>\n",
       "      <td>2020-12-29</td>\n",
       "      <td>46.150002</td>\n",
       "      <td>1.444386</td>\n",
       "      <td>1775.319946</td>\n",
       "      <td>4.998310</td>\n",
       "    </tr>\n",
       "  </tbody>\n",
       "</table>\n",
       "</div>"
      ],
      "text/plain": [
       "  Ticker Acquisition Date  Quantity  Unit Cost  Cost Basis Start of Year  \\\n",
       "0     GS       2014-02-27        50     162.66      8133.0    2020-12-29   \n",
       "1    UNH       2013-06-04       130      63.70      8281.0    2020-12-29   \n",
       "2   AAPL       2013-06-04       515      15.44      7951.6    2020-12-29   \n",
       "3   MSFT       2015-12-14       150      54.33      8149.5    2020-12-29   \n",
       "4    LUV       2013-12-13       470      18.88      8873.6    2020-12-29   \n",
       "\n",
       "  Latest Date  Ticker Adj Close  ticker return  SP 500 Initial Close  \\\n",
       "0  2020-12-29        254.896896       0.567053           1854.290039   \n",
       "1  2020-12-29        343.651062       4.394836           1631.380005   \n",
       "2  2020-12-29        134.239273       7.694253           1631.380005   \n",
       "3  2020-12-29        222.693405       3.098903           2021.939941   \n",
       "4  2020-12-29         46.150002       1.444386           1775.319946   \n",
       "\n",
       "   Equiv SP Shares  \n",
       "0         4.386045  \n",
       "1         5.076071  \n",
       "2         4.874156  \n",
       "3         4.030535  \n",
       "4         4.998310  "
      ]
     },
     "execution_count": 318,
     "metadata": {},
     "output_type": "execute_result"
    }
   ],
   "source": [
    "# This new column determines what SP 500 equivalent purchase would have been at purchase date of stock.\n",
    "merged_portfolio_sp['Equiv SP Shares'] = merged_portfolio_sp['Cost Basis'] / merged_portfolio_sp['SP 500 Initial Close']\n",
    "merged_portfolio_sp.head()"
   ]
  },
  {
   "cell_type": "code",
   "execution_count": 319,
   "metadata": {},
   "outputs": [
    {
     "data": {
      "text/html": [
       "<div>\n",
       "<style scoped>\n",
       "    .dataframe tbody tr th:only-of-type {\n",
       "        vertical-align: middle;\n",
       "    }\n",
       "\n",
       "    .dataframe tbody tr th {\n",
       "        vertical-align: top;\n",
       "    }\n",
       "\n",
       "    .dataframe thead th {\n",
       "        text-align: right;\n",
       "    }\n",
       "</style>\n",
       "<table border=\"1\" class=\"dataframe\">\n",
       "  <thead>\n",
       "    <tr style=\"text-align: right;\">\n",
       "      <th></th>\n",
       "      <th>Ticker</th>\n",
       "      <th>Acquisition Date</th>\n",
       "      <th>Quantity</th>\n",
       "      <th>Unit Cost</th>\n",
       "      <th>Cost Basis</th>\n",
       "      <th>Start of Year</th>\n",
       "      <th>Latest Date</th>\n",
       "      <th>Ticker Adj Close</th>\n",
       "      <th>ticker return</th>\n",
       "      <th>SP 500 Initial Close</th>\n",
       "      <th>Equiv SP Shares</th>\n",
       "    </tr>\n",
       "  </thead>\n",
       "  <tbody>\n",
       "    <tr>\n",
       "      <th>0</th>\n",
       "      <td>AMZN</td>\n",
       "      <td>2014-02-27</td>\n",
       "      <td>25</td>\n",
       "      <td>357.22</td>\n",
       "      <td>8930.5</td>\n",
       "      <td>2020-12-22</td>\n",
       "      <td>2020-12-29</td>\n",
       "      <td>3322.000000</td>\n",
       "      <td>8.299591</td>\n",
       "      <td>1854.290039</td>\n",
       "      <td>4.816129</td>\n",
       "    </tr>\n",
       "    <tr>\n",
       "      <th>1</th>\n",
       "      <td>UNH</td>\n",
       "      <td>2013-06-04</td>\n",
       "      <td>130</td>\n",
       "      <td>63.70</td>\n",
       "      <td>8281.0</td>\n",
       "      <td>2020-12-22</td>\n",
       "      <td>2020-12-29</td>\n",
       "      <td>343.651062</td>\n",
       "      <td>4.394836</td>\n",
       "      <td>1631.380005</td>\n",
       "      <td>5.076071</td>\n",
       "    </tr>\n",
       "    <tr>\n",
       "      <th>2</th>\n",
       "      <td>AAPL</td>\n",
       "      <td>2013-06-04</td>\n",
       "      <td>515</td>\n",
       "      <td>15.44</td>\n",
       "      <td>7951.6</td>\n",
       "      <td>2020-12-22</td>\n",
       "      <td>2020-12-29</td>\n",
       "      <td>134.239273</td>\n",
       "      <td>7.694253</td>\n",
       "      <td>1631.380005</td>\n",
       "      <td>4.874156</td>\n",
       "    </tr>\n",
       "    <tr>\n",
       "      <th>3</th>\n",
       "      <td>MSFT</td>\n",
       "      <td>2015-12-14</td>\n",
       "      <td>150</td>\n",
       "      <td>54.33</td>\n",
       "      <td>8149.5</td>\n",
       "      <td>2020-12-22</td>\n",
       "      <td>2020-12-29</td>\n",
       "      <td>222.693390</td>\n",
       "      <td>3.098903</td>\n",
       "      <td>2021.939941</td>\n",
       "      <td>4.030535</td>\n",
       "    </tr>\n",
       "    <tr>\n",
       "      <th>4</th>\n",
       "      <td>GOOG</td>\n",
       "      <td>2013-12-13</td>\n",
       "      <td>15</td>\n",
       "      <td>535.50</td>\n",
       "      <td>8032.5</td>\n",
       "      <td>2020-12-22</td>\n",
       "      <td>2020-12-29</td>\n",
       "      <td>1758.719971</td>\n",
       "      <td>2.284258</td>\n",
       "      <td>1775.319946</td>\n",
       "      <td>4.524537</td>\n",
       "    </tr>\n",
       "  </tbody>\n",
       "</table>\n",
       "</div>"
      ],
      "text/plain": [
       "  Ticker Acquisition Date  Quantity  Unit Cost  Cost Basis Start of Year  \\\n",
       "0   AMZN       2014-02-27        25     357.22      8930.5    2020-12-22   \n",
       "1    UNH       2013-06-04       130      63.70      8281.0    2020-12-22   \n",
       "2   AAPL       2013-06-04       515      15.44      7951.6    2020-12-22   \n",
       "3   MSFT       2015-12-14       150      54.33      8149.5    2020-12-22   \n",
       "4   GOOG       2013-12-13        15     535.50      8032.5    2020-12-22   \n",
       "\n",
       "  Latest Date  Ticker Adj Close  ticker return  SP 500 Initial Close  \\\n",
       "0  2020-12-29       3322.000000       8.299591           1854.290039   \n",
       "1  2020-12-29        343.651062       4.394836           1631.380005   \n",
       "2  2020-12-29        134.239273       7.694253           1631.380005   \n",
       "3  2020-12-29        222.693390       3.098903           2021.939941   \n",
       "4  2020-12-29       1758.719971       2.284258           1775.319946   \n",
       "\n",
       "   Equiv SP Shares  \n",
       "0         4.816129  \n",
       "1         5.076071  \n",
       "2         4.874156  \n",
       "3         4.030535  \n",
       "4         4.524537  "
      ]
     },
     "execution_count": 319,
     "metadata": {},
     "output_type": "execute_result"
    }
   ],
   "source": [
    "# This new column determines what SP 500 equivalent purchase would have been at purchase date of stock.\n",
    "merged_portfolio1_sp['Equiv SP Shares'] = merged_portfolio1_sp['Cost Basis'] / merged_portfolio1_sp['SP 500 Initial Close']\n",
    "merged_portfolio1_sp.head()"
   ]
  },
  {
   "cell_type": "code",
   "execution_count": 320,
   "metadata": {},
   "outputs": [
    {
     "data": {
      "text/html": [
       "<div>\n",
       "<style scoped>\n",
       "    .dataframe tbody tr th:only-of-type {\n",
       "        vertical-align: middle;\n",
       "    }\n",
       "\n",
       "    .dataframe tbody tr th {\n",
       "        vertical-align: top;\n",
       "    }\n",
       "\n",
       "    .dataframe thead th {\n",
       "        text-align: right;\n",
       "    }\n",
       "</style>\n",
       "<table border=\"1\" class=\"dataframe\">\n",
       "  <thead>\n",
       "    <tr style=\"text-align: right;\">\n",
       "      <th></th>\n",
       "      <th>Ticker</th>\n",
       "      <th>Acquisition Date</th>\n",
       "      <th>Quantity</th>\n",
       "      <th>Unit Cost</th>\n",
       "      <th>Cost Basis</th>\n",
       "      <th>Start of Year</th>\n",
       "      <th>Latest Date</th>\n",
       "      <th>Ticker Adj Close</th>\n",
       "      <th>ticker return</th>\n",
       "      <th>SP 500 Initial Close</th>\n",
       "      <th>Equiv SP Shares</th>\n",
       "      <th>Date</th>\n",
       "      <th>Adj Close</th>\n",
       "    </tr>\n",
       "  </thead>\n",
       "  <tbody>\n",
       "    <tr>\n",
       "      <th>0</th>\n",
       "      <td>GS</td>\n",
       "      <td>2014-02-27</td>\n",
       "      <td>50</td>\n",
       "      <td>162.66</td>\n",
       "      <td>8133.0</td>\n",
       "      <td>2020-12-29</td>\n",
       "      <td>2020-12-29</td>\n",
       "      <td>254.896896</td>\n",
       "      <td>0.567053</td>\n",
       "      <td>1854.290039</td>\n",
       "      <td>4.386045</td>\n",
       "      <td>2020-12-29</td>\n",
       "      <td>3727.040039</td>\n",
       "    </tr>\n",
       "    <tr>\n",
       "      <th>1</th>\n",
       "      <td>UNH</td>\n",
       "      <td>2013-06-04</td>\n",
       "      <td>130</td>\n",
       "      <td>63.70</td>\n",
       "      <td>8281.0</td>\n",
       "      <td>2020-12-29</td>\n",
       "      <td>2020-12-29</td>\n",
       "      <td>343.651062</td>\n",
       "      <td>4.394836</td>\n",
       "      <td>1631.380005</td>\n",
       "      <td>5.076071</td>\n",
       "      <td>2020-12-29</td>\n",
       "      <td>3727.040039</td>\n",
       "    </tr>\n",
       "    <tr>\n",
       "      <th>2</th>\n",
       "      <td>AAPL</td>\n",
       "      <td>2013-06-04</td>\n",
       "      <td>515</td>\n",
       "      <td>15.44</td>\n",
       "      <td>7951.6</td>\n",
       "      <td>2020-12-29</td>\n",
       "      <td>2020-12-29</td>\n",
       "      <td>134.239273</td>\n",
       "      <td>7.694253</td>\n",
       "      <td>1631.380005</td>\n",
       "      <td>4.874156</td>\n",
       "      <td>2020-12-29</td>\n",
       "      <td>3727.040039</td>\n",
       "    </tr>\n",
       "    <tr>\n",
       "      <th>3</th>\n",
       "      <td>MSFT</td>\n",
       "      <td>2015-12-14</td>\n",
       "      <td>150</td>\n",
       "      <td>54.33</td>\n",
       "      <td>8149.5</td>\n",
       "      <td>2020-12-29</td>\n",
       "      <td>2020-12-29</td>\n",
       "      <td>222.693405</td>\n",
       "      <td>3.098903</td>\n",
       "      <td>2021.939941</td>\n",
       "      <td>4.030535</td>\n",
       "      <td>2020-12-29</td>\n",
       "      <td>3727.040039</td>\n",
       "    </tr>\n",
       "    <tr>\n",
       "      <th>4</th>\n",
       "      <td>LUV</td>\n",
       "      <td>2013-12-13</td>\n",
       "      <td>470</td>\n",
       "      <td>18.88</td>\n",
       "      <td>8873.6</td>\n",
       "      <td>2020-12-29</td>\n",
       "      <td>2020-12-29</td>\n",
       "      <td>46.150002</td>\n",
       "      <td>1.444386</td>\n",
       "      <td>1775.319946</td>\n",
       "      <td>4.998310</td>\n",
       "      <td>2020-12-29</td>\n",
       "      <td>3727.040039</td>\n",
       "    </tr>\n",
       "  </tbody>\n",
       "</table>\n",
       "</div>"
      ],
      "text/plain": [
       "  Ticker Acquisition Date  Quantity  Unit Cost  Cost Basis Start of Year  \\\n",
       "0     GS       2014-02-27        50     162.66      8133.0    2020-12-29   \n",
       "1    UNH       2013-06-04       130      63.70      8281.0    2020-12-29   \n",
       "2   AAPL       2013-06-04       515      15.44      7951.6    2020-12-29   \n",
       "3   MSFT       2015-12-14       150      54.33      8149.5    2020-12-29   \n",
       "4    LUV       2013-12-13       470      18.88      8873.6    2020-12-29   \n",
       "\n",
       "  Latest Date  Ticker Adj Close  ticker return  SP 500 Initial Close  \\\n",
       "0  2020-12-29        254.896896       0.567053           1854.290039   \n",
       "1  2020-12-29        343.651062       4.394836           1631.380005   \n",
       "2  2020-12-29        134.239273       7.694253           1631.380005   \n",
       "3  2020-12-29        222.693405       3.098903           2021.939941   \n",
       "4  2020-12-29         46.150002       1.444386           1775.319946   \n",
       "\n",
       "   Equiv SP Shares       Date    Adj Close  \n",
       "0         4.386045 2020-12-29  3727.040039  \n",
       "1         5.076071 2020-12-29  3727.040039  \n",
       "2         4.874156 2020-12-29  3727.040039  \n",
       "3         4.030535 2020-12-29  3727.040039  \n",
       "4         4.998310 2020-12-29  3727.040039  "
      ]
     },
     "execution_count": 320,
     "metadata": {},
     "output_type": "execute_result"
    }
   ],
   "source": [
    "# We are joining the developing dataframe with the sp500 closes again, this time with the latest close for SP.\n",
    "merged_portfolio_sp_latest = pd.merge(merged_portfolio_sp, sp_500_adj_close, left_on='Latest Date', right_on='Date')\n",
    "\n",
    "merged_portfolio_sp_latest.head()"
   ]
  },
  {
   "cell_type": "code",
   "execution_count": 321,
   "metadata": {},
   "outputs": [
    {
     "data": {
      "text/html": [
       "<div>\n",
       "<style scoped>\n",
       "    .dataframe tbody tr th:only-of-type {\n",
       "        vertical-align: middle;\n",
       "    }\n",
       "\n",
       "    .dataframe tbody tr th {\n",
       "        vertical-align: top;\n",
       "    }\n",
       "\n",
       "    .dataframe thead th {\n",
       "        text-align: right;\n",
       "    }\n",
       "</style>\n",
       "<table border=\"1\" class=\"dataframe\">\n",
       "  <thead>\n",
       "    <tr style=\"text-align: right;\">\n",
       "      <th></th>\n",
       "      <th>Ticker</th>\n",
       "      <th>Acquisition Date</th>\n",
       "      <th>Quantity</th>\n",
       "      <th>Unit Cost</th>\n",
       "      <th>Cost Basis</th>\n",
       "      <th>Start of Year</th>\n",
       "      <th>Latest Date</th>\n",
       "      <th>Ticker Adj Close</th>\n",
       "      <th>ticker return</th>\n",
       "      <th>SP 500 Initial Close</th>\n",
       "      <th>Equiv SP Shares</th>\n",
       "      <th>Date</th>\n",
       "      <th>Adj Close</th>\n",
       "    </tr>\n",
       "  </thead>\n",
       "  <tbody>\n",
       "    <tr>\n",
       "      <th>0</th>\n",
       "      <td>AMZN</td>\n",
       "      <td>2014-02-27</td>\n",
       "      <td>25</td>\n",
       "      <td>357.22</td>\n",
       "      <td>8930.5</td>\n",
       "      <td>2020-12-22</td>\n",
       "      <td>2020-12-29</td>\n",
       "      <td>3322.000000</td>\n",
       "      <td>8.299591</td>\n",
       "      <td>1854.290039</td>\n",
       "      <td>4.816129</td>\n",
       "      <td>2020-12-29</td>\n",
       "      <td>3727.040039</td>\n",
       "    </tr>\n",
       "    <tr>\n",
       "      <th>1</th>\n",
       "      <td>UNH</td>\n",
       "      <td>2013-06-04</td>\n",
       "      <td>130</td>\n",
       "      <td>63.70</td>\n",
       "      <td>8281.0</td>\n",
       "      <td>2020-12-22</td>\n",
       "      <td>2020-12-29</td>\n",
       "      <td>343.651062</td>\n",
       "      <td>4.394836</td>\n",
       "      <td>1631.380005</td>\n",
       "      <td>5.076071</td>\n",
       "      <td>2020-12-29</td>\n",
       "      <td>3727.040039</td>\n",
       "    </tr>\n",
       "    <tr>\n",
       "      <th>2</th>\n",
       "      <td>AAPL</td>\n",
       "      <td>2013-06-04</td>\n",
       "      <td>515</td>\n",
       "      <td>15.44</td>\n",
       "      <td>7951.6</td>\n",
       "      <td>2020-12-22</td>\n",
       "      <td>2020-12-29</td>\n",
       "      <td>134.239273</td>\n",
       "      <td>7.694253</td>\n",
       "      <td>1631.380005</td>\n",
       "      <td>4.874156</td>\n",
       "      <td>2020-12-29</td>\n",
       "      <td>3727.040039</td>\n",
       "    </tr>\n",
       "    <tr>\n",
       "      <th>3</th>\n",
       "      <td>MSFT</td>\n",
       "      <td>2015-12-14</td>\n",
       "      <td>150</td>\n",
       "      <td>54.33</td>\n",
       "      <td>8149.5</td>\n",
       "      <td>2020-12-22</td>\n",
       "      <td>2020-12-29</td>\n",
       "      <td>222.693390</td>\n",
       "      <td>3.098903</td>\n",
       "      <td>2021.939941</td>\n",
       "      <td>4.030535</td>\n",
       "      <td>2020-12-29</td>\n",
       "      <td>3727.040039</td>\n",
       "    </tr>\n",
       "    <tr>\n",
       "      <th>4</th>\n",
       "      <td>GOOG</td>\n",
       "      <td>2013-12-13</td>\n",
       "      <td>15</td>\n",
       "      <td>535.50</td>\n",
       "      <td>8032.5</td>\n",
       "      <td>2020-12-22</td>\n",
       "      <td>2020-12-29</td>\n",
       "      <td>1758.719971</td>\n",
       "      <td>2.284258</td>\n",
       "      <td>1775.319946</td>\n",
       "      <td>4.524537</td>\n",
       "      <td>2020-12-29</td>\n",
       "      <td>3727.040039</td>\n",
       "    </tr>\n",
       "  </tbody>\n",
       "</table>\n",
       "</div>"
      ],
      "text/plain": [
       "  Ticker Acquisition Date  Quantity  Unit Cost  Cost Basis Start of Year  \\\n",
       "0   AMZN       2014-02-27        25     357.22      8930.5    2020-12-22   \n",
       "1    UNH       2013-06-04       130      63.70      8281.0    2020-12-22   \n",
       "2   AAPL       2013-06-04       515      15.44      7951.6    2020-12-22   \n",
       "3   MSFT       2015-12-14       150      54.33      8149.5    2020-12-22   \n",
       "4   GOOG       2013-12-13        15     535.50      8032.5    2020-12-22   \n",
       "\n",
       "  Latest Date  Ticker Adj Close  ticker return  SP 500 Initial Close  \\\n",
       "0  2020-12-29       3322.000000       8.299591           1854.290039   \n",
       "1  2020-12-29        343.651062       4.394836           1631.380005   \n",
       "2  2020-12-29        134.239273       7.694253           1631.380005   \n",
       "3  2020-12-29        222.693390       3.098903           2021.939941   \n",
       "4  2020-12-29       1758.719971       2.284258           1775.319946   \n",
       "\n",
       "   Equiv SP Shares       Date    Adj Close  \n",
       "0         4.816129 2020-12-29  3727.040039  \n",
       "1         5.076071 2020-12-29  3727.040039  \n",
       "2         4.874156 2020-12-29  3727.040039  \n",
       "3         4.030535 2020-12-29  3727.040039  \n",
       "4         4.524537 2020-12-29  3727.040039  "
      ]
     },
     "execution_count": 321,
     "metadata": {},
     "output_type": "execute_result"
    }
   ],
   "source": [
    "# We are joining the developing dataframe with the sp500 closes again, this time with the latest close for SP.\n",
    "merged_portfolio_sp_latest1 = pd.merge(merged_portfolio1_sp, sp_500_adj_close, left_on='Latest Date', right_on='Date')\n",
    "\n",
    "merged_portfolio_sp_latest1.head()"
   ]
  },
  {
   "cell_type": "code",
   "execution_count": 322,
   "metadata": {},
   "outputs": [
    {
     "data": {
      "text/html": [
       "<div>\n",
       "<style scoped>\n",
       "    .dataframe tbody tr th:only-of-type {\n",
       "        vertical-align: middle;\n",
       "    }\n",
       "\n",
       "    .dataframe tbody tr th {\n",
       "        vertical-align: top;\n",
       "    }\n",
       "\n",
       "    .dataframe thead th {\n",
       "        text-align: right;\n",
       "    }\n",
       "</style>\n",
       "<table border=\"1\" class=\"dataframe\">\n",
       "  <thead>\n",
       "    <tr style=\"text-align: right;\">\n",
       "      <th></th>\n",
       "      <th>Ticker</th>\n",
       "      <th>Acquisition Date</th>\n",
       "      <th>Quantity</th>\n",
       "      <th>Unit Cost</th>\n",
       "      <th>Cost Basis</th>\n",
       "      <th>Start of Year</th>\n",
       "      <th>Latest Date</th>\n",
       "      <th>Ticker Adj Close</th>\n",
       "      <th>ticker return</th>\n",
       "      <th>SP 500 Initial Close</th>\n",
       "      <th>Equiv SP Shares</th>\n",
       "      <th>SP 500 Latest Close</th>\n",
       "    </tr>\n",
       "  </thead>\n",
       "  <tbody>\n",
       "    <tr>\n",
       "      <th>0</th>\n",
       "      <td>GS</td>\n",
       "      <td>2014-02-27</td>\n",
       "      <td>50</td>\n",
       "      <td>162.66</td>\n",
       "      <td>8133.0</td>\n",
       "      <td>2020-12-29</td>\n",
       "      <td>2020-12-29</td>\n",
       "      <td>254.896896</td>\n",
       "      <td>0.567053</td>\n",
       "      <td>1854.290039</td>\n",
       "      <td>4.386045</td>\n",
       "      <td>3727.040039</td>\n",
       "    </tr>\n",
       "    <tr>\n",
       "      <th>1</th>\n",
       "      <td>UNH</td>\n",
       "      <td>2013-06-04</td>\n",
       "      <td>130</td>\n",
       "      <td>63.70</td>\n",
       "      <td>8281.0</td>\n",
       "      <td>2020-12-29</td>\n",
       "      <td>2020-12-29</td>\n",
       "      <td>343.651062</td>\n",
       "      <td>4.394836</td>\n",
       "      <td>1631.380005</td>\n",
       "      <td>5.076071</td>\n",
       "      <td>3727.040039</td>\n",
       "    </tr>\n",
       "    <tr>\n",
       "      <th>2</th>\n",
       "      <td>AAPL</td>\n",
       "      <td>2013-06-04</td>\n",
       "      <td>515</td>\n",
       "      <td>15.44</td>\n",
       "      <td>7951.6</td>\n",
       "      <td>2020-12-29</td>\n",
       "      <td>2020-12-29</td>\n",
       "      <td>134.239273</td>\n",
       "      <td>7.694253</td>\n",
       "      <td>1631.380005</td>\n",
       "      <td>4.874156</td>\n",
       "      <td>3727.040039</td>\n",
       "    </tr>\n",
       "    <tr>\n",
       "      <th>3</th>\n",
       "      <td>MSFT</td>\n",
       "      <td>2015-12-14</td>\n",
       "      <td>150</td>\n",
       "      <td>54.33</td>\n",
       "      <td>8149.5</td>\n",
       "      <td>2020-12-29</td>\n",
       "      <td>2020-12-29</td>\n",
       "      <td>222.693405</td>\n",
       "      <td>3.098903</td>\n",
       "      <td>2021.939941</td>\n",
       "      <td>4.030535</td>\n",
       "      <td>3727.040039</td>\n",
       "    </tr>\n",
       "    <tr>\n",
       "      <th>4</th>\n",
       "      <td>LUV</td>\n",
       "      <td>2013-12-13</td>\n",
       "      <td>470</td>\n",
       "      <td>18.88</td>\n",
       "      <td>8873.6</td>\n",
       "      <td>2020-12-29</td>\n",
       "      <td>2020-12-29</td>\n",
       "      <td>46.150002</td>\n",
       "      <td>1.444386</td>\n",
       "      <td>1775.319946</td>\n",
       "      <td>4.998310</td>\n",
       "      <td>3727.040039</td>\n",
       "    </tr>\n",
       "  </tbody>\n",
       "</table>\n",
       "</div>"
      ],
      "text/plain": [
       "  Ticker Acquisition Date  Quantity  Unit Cost  Cost Basis Start of Year  \\\n",
       "0     GS       2014-02-27        50     162.66      8133.0    2020-12-29   \n",
       "1    UNH       2013-06-04       130      63.70      8281.0    2020-12-29   \n",
       "2   AAPL       2013-06-04       515      15.44      7951.6    2020-12-29   \n",
       "3   MSFT       2015-12-14       150      54.33      8149.5    2020-12-29   \n",
       "4    LUV       2013-12-13       470      18.88      8873.6    2020-12-29   \n",
       "\n",
       "  Latest Date  Ticker Adj Close  ticker return  SP 500 Initial Close  \\\n",
       "0  2020-12-29        254.896896       0.567053           1854.290039   \n",
       "1  2020-12-29        343.651062       4.394836           1631.380005   \n",
       "2  2020-12-29        134.239273       7.694253           1631.380005   \n",
       "3  2020-12-29        222.693405       3.098903           2021.939941   \n",
       "4  2020-12-29         46.150002       1.444386           1775.319946   \n",
       "\n",
       "   Equiv SP Shares  SP 500 Latest Close  \n",
       "0         4.386045          3727.040039  \n",
       "1         5.076071          3727.040039  \n",
       "2         4.874156          3727.040039  \n",
       "3         4.030535          3727.040039  \n",
       "4         4.998310          3727.040039  "
      ]
     },
     "execution_count": 322,
     "metadata": {},
     "output_type": "execute_result"
    }
   ],
   "source": [
    "# Once again need to delete the new Date column added as it's redundant to Latest Date.  \n",
    "# Modify Adj Close from the sp dataframe to distinguish it by calling it the SP 500 Latest Close.\n",
    "\n",
    "del merged_portfolio_sp_latest['Date']\n",
    "\n",
    "merged_portfolio_sp_latest.rename(columns={'Adj Close': 'SP 500 Latest Close'}, inplace=True)\n",
    "\n",
    "merged_portfolio_sp_latest.head()"
   ]
  },
  {
   "cell_type": "code",
   "execution_count": 323,
   "metadata": {},
   "outputs": [
    {
     "data": {
      "text/html": [
       "<div>\n",
       "<style scoped>\n",
       "    .dataframe tbody tr th:only-of-type {\n",
       "        vertical-align: middle;\n",
       "    }\n",
       "\n",
       "    .dataframe tbody tr th {\n",
       "        vertical-align: top;\n",
       "    }\n",
       "\n",
       "    .dataframe thead th {\n",
       "        text-align: right;\n",
       "    }\n",
       "</style>\n",
       "<table border=\"1\" class=\"dataframe\">\n",
       "  <thead>\n",
       "    <tr style=\"text-align: right;\">\n",
       "      <th></th>\n",
       "      <th>Ticker</th>\n",
       "      <th>Acquisition Date</th>\n",
       "      <th>Quantity</th>\n",
       "      <th>Unit Cost</th>\n",
       "      <th>Cost Basis</th>\n",
       "      <th>Start of Year</th>\n",
       "      <th>Latest Date</th>\n",
       "      <th>Ticker Adj Close</th>\n",
       "      <th>ticker return</th>\n",
       "      <th>SP 500 Initial Close</th>\n",
       "      <th>Equiv SP Shares</th>\n",
       "      <th>SP 500 Latest Close</th>\n",
       "    </tr>\n",
       "  </thead>\n",
       "  <tbody>\n",
       "    <tr>\n",
       "      <th>0</th>\n",
       "      <td>AMZN</td>\n",
       "      <td>2014-02-27</td>\n",
       "      <td>25</td>\n",
       "      <td>357.22</td>\n",
       "      <td>8930.5</td>\n",
       "      <td>2020-12-22</td>\n",
       "      <td>2020-12-29</td>\n",
       "      <td>3322.000000</td>\n",
       "      <td>8.299591</td>\n",
       "      <td>1854.290039</td>\n",
       "      <td>4.816129</td>\n",
       "      <td>3727.040039</td>\n",
       "    </tr>\n",
       "    <tr>\n",
       "      <th>1</th>\n",
       "      <td>UNH</td>\n",
       "      <td>2013-06-04</td>\n",
       "      <td>130</td>\n",
       "      <td>63.70</td>\n",
       "      <td>8281.0</td>\n",
       "      <td>2020-12-22</td>\n",
       "      <td>2020-12-29</td>\n",
       "      <td>343.651062</td>\n",
       "      <td>4.394836</td>\n",
       "      <td>1631.380005</td>\n",
       "      <td>5.076071</td>\n",
       "      <td>3727.040039</td>\n",
       "    </tr>\n",
       "    <tr>\n",
       "      <th>2</th>\n",
       "      <td>AAPL</td>\n",
       "      <td>2013-06-04</td>\n",
       "      <td>515</td>\n",
       "      <td>15.44</td>\n",
       "      <td>7951.6</td>\n",
       "      <td>2020-12-22</td>\n",
       "      <td>2020-12-29</td>\n",
       "      <td>134.239273</td>\n",
       "      <td>7.694253</td>\n",
       "      <td>1631.380005</td>\n",
       "      <td>4.874156</td>\n",
       "      <td>3727.040039</td>\n",
       "    </tr>\n",
       "    <tr>\n",
       "      <th>3</th>\n",
       "      <td>MSFT</td>\n",
       "      <td>2015-12-14</td>\n",
       "      <td>150</td>\n",
       "      <td>54.33</td>\n",
       "      <td>8149.5</td>\n",
       "      <td>2020-12-22</td>\n",
       "      <td>2020-12-29</td>\n",
       "      <td>222.693390</td>\n",
       "      <td>3.098903</td>\n",
       "      <td>2021.939941</td>\n",
       "      <td>4.030535</td>\n",
       "      <td>3727.040039</td>\n",
       "    </tr>\n",
       "    <tr>\n",
       "      <th>4</th>\n",
       "      <td>GOOG</td>\n",
       "      <td>2013-12-13</td>\n",
       "      <td>15</td>\n",
       "      <td>535.50</td>\n",
       "      <td>8032.5</td>\n",
       "      <td>2020-12-22</td>\n",
       "      <td>2020-12-29</td>\n",
       "      <td>1758.719971</td>\n",
       "      <td>2.284258</td>\n",
       "      <td>1775.319946</td>\n",
       "      <td>4.524537</td>\n",
       "      <td>3727.040039</td>\n",
       "    </tr>\n",
       "  </tbody>\n",
       "</table>\n",
       "</div>"
      ],
      "text/plain": [
       "  Ticker Acquisition Date  Quantity  Unit Cost  Cost Basis Start of Year  \\\n",
       "0   AMZN       2014-02-27        25     357.22      8930.5    2020-12-22   \n",
       "1    UNH       2013-06-04       130      63.70      8281.0    2020-12-22   \n",
       "2   AAPL       2013-06-04       515      15.44      7951.6    2020-12-22   \n",
       "3   MSFT       2015-12-14       150      54.33      8149.5    2020-12-22   \n",
       "4   GOOG       2013-12-13        15     535.50      8032.5    2020-12-22   \n",
       "\n",
       "  Latest Date  Ticker Adj Close  ticker return  SP 500 Initial Close  \\\n",
       "0  2020-12-29       3322.000000       8.299591           1854.290039   \n",
       "1  2020-12-29        343.651062       4.394836           1631.380005   \n",
       "2  2020-12-29        134.239273       7.694253           1631.380005   \n",
       "3  2020-12-29        222.693390       3.098903           2021.939941   \n",
       "4  2020-12-29       1758.719971       2.284258           1775.319946   \n",
       "\n",
       "   Equiv SP Shares  SP 500 Latest Close  \n",
       "0         4.816129          3727.040039  \n",
       "1         5.076071          3727.040039  \n",
       "2         4.874156          3727.040039  \n",
       "3         4.030535          3727.040039  \n",
       "4         4.524537          3727.040039  "
      ]
     },
     "execution_count": 323,
     "metadata": {},
     "output_type": "execute_result"
    }
   ],
   "source": [
    "# Once again need to delete the new Date column added as it's redundant to Latest Date.  \n",
    "# Modify Adj Close from the sp dataframe to distinguish it by calling it the SP 500 Latest Close.\n",
    "\n",
    "del merged_portfolio_sp_latest1['Date']\n",
    "\n",
    "merged_portfolio_sp_latest1.rename(columns={'Adj Close': 'SP 500 Latest Close'}, inplace=True)\n",
    "\n",
    "merged_portfolio_sp_latest1.head()"
   ]
  },
  {
   "cell_type": "code",
   "execution_count": 324,
   "metadata": {},
   "outputs": [
    {
     "data": {
      "text/html": [
       "<div>\n",
       "<style scoped>\n",
       "    .dataframe tbody tr th:only-of-type {\n",
       "        vertical-align: middle;\n",
       "    }\n",
       "\n",
       "    .dataframe tbody tr th {\n",
       "        vertical-align: top;\n",
       "    }\n",
       "\n",
       "    .dataframe thead th {\n",
       "        text-align: right;\n",
       "    }\n",
       "</style>\n",
       "<table border=\"1\" class=\"dataframe\">\n",
       "  <thead>\n",
       "    <tr style=\"text-align: right;\">\n",
       "      <th></th>\n",
       "      <th>Ticker</th>\n",
       "      <th>Acquisition Date</th>\n",
       "      <th>Quantity</th>\n",
       "      <th>Unit Cost</th>\n",
       "      <th>Cost Basis</th>\n",
       "      <th>Start of Year</th>\n",
       "      <th>Latest Date</th>\n",
       "      <th>Ticker Adj Close</th>\n",
       "      <th>ticker return</th>\n",
       "      <th>SP 500 Initial Close</th>\n",
       "      <th>Equiv SP Shares</th>\n",
       "      <th>SP 500 Latest Close</th>\n",
       "      <th>SP Return</th>\n",
       "      <th>Abs. Return Compare</th>\n",
       "      <th>Ticker Share Value</th>\n",
       "      <th>SP 500 Value</th>\n",
       "      <th>Abs Value Compare</th>\n",
       "      <th>Stock Gain / (Loss)</th>\n",
       "      <th>SP 500 Gain / (Loss)</th>\n",
       "    </tr>\n",
       "  </thead>\n",
       "  <tbody>\n",
       "    <tr>\n",
       "      <th>0</th>\n",
       "      <td>GS</td>\n",
       "      <td>2014-02-27</td>\n",
       "      <td>50</td>\n",
       "      <td>162.66</td>\n",
       "      <td>8133.0</td>\n",
       "      <td>2020-12-29</td>\n",
       "      <td>2020-12-29</td>\n",
       "      <td>254.896896</td>\n",
       "      <td>0.567053</td>\n",
       "      <td>1854.290039</td>\n",
       "      <td>4.386045</td>\n",
       "      <td>3727.040039</td>\n",
       "      <td>1.009955</td>\n",
       "      <td>-0.442902</td>\n",
       "      <td>12744.844818</td>\n",
       "      <td>16346.966224</td>\n",
       "      <td>-3602.121406</td>\n",
       "      <td>4611.844818</td>\n",
       "      <td>8213.966224</td>\n",
       "    </tr>\n",
       "    <tr>\n",
       "      <th>1</th>\n",
       "      <td>UNH</td>\n",
       "      <td>2013-06-04</td>\n",
       "      <td>130</td>\n",
       "      <td>63.70</td>\n",
       "      <td>8281.0</td>\n",
       "      <td>2020-12-29</td>\n",
       "      <td>2020-12-29</td>\n",
       "      <td>343.651062</td>\n",
       "      <td>4.394836</td>\n",
       "      <td>1631.380005</td>\n",
       "      <td>5.076071</td>\n",
       "      <td>3727.040039</td>\n",
       "      <td>1.284593</td>\n",
       "      <td>3.110243</td>\n",
       "      <td>44674.638062</td>\n",
       "      <td>18918.718184</td>\n",
       "      <td>25755.919877</td>\n",
       "      <td>36393.638062</td>\n",
       "      <td>10637.718184</td>\n",
       "    </tr>\n",
       "    <tr>\n",
       "      <th>2</th>\n",
       "      <td>AAPL</td>\n",
       "      <td>2013-06-04</td>\n",
       "      <td>515</td>\n",
       "      <td>15.44</td>\n",
       "      <td>7951.6</td>\n",
       "      <td>2020-12-29</td>\n",
       "      <td>2020-12-29</td>\n",
       "      <td>134.239273</td>\n",
       "      <td>7.694253</td>\n",
       "      <td>1631.380005</td>\n",
       "      <td>4.874156</td>\n",
       "      <td>3727.040039</td>\n",
       "      <td>1.284593</td>\n",
       "      <td>6.409660</td>\n",
       "      <td>69133.225632</td>\n",
       "      <td>18166.173109</td>\n",
       "      <td>50967.052523</td>\n",
       "      <td>61181.625632</td>\n",
       "      <td>10214.573109</td>\n",
       "    </tr>\n",
       "    <tr>\n",
       "      <th>3</th>\n",
       "      <td>MSFT</td>\n",
       "      <td>2015-12-14</td>\n",
       "      <td>150</td>\n",
       "      <td>54.33</td>\n",
       "      <td>8149.5</td>\n",
       "      <td>2020-12-29</td>\n",
       "      <td>2020-12-29</td>\n",
       "      <td>222.693405</td>\n",
       "      <td>3.098903</td>\n",
       "      <td>2021.939941</td>\n",
       "      <td>4.030535</td>\n",
       "      <td>3727.040039</td>\n",
       "      <td>0.843299</td>\n",
       "      <td>2.255604</td>\n",
       "      <td>33404.010773</td>\n",
       "      <td>15021.965874</td>\n",
       "      <td>18382.044899</td>\n",
       "      <td>25254.510773</td>\n",
       "      <td>6872.465874</td>\n",
       "    </tr>\n",
       "    <tr>\n",
       "      <th>4</th>\n",
       "      <td>LUV</td>\n",
       "      <td>2013-12-13</td>\n",
       "      <td>470</td>\n",
       "      <td>18.88</td>\n",
       "      <td>8873.6</td>\n",
       "      <td>2020-12-29</td>\n",
       "      <td>2020-12-29</td>\n",
       "      <td>46.150002</td>\n",
       "      <td>1.444386</td>\n",
       "      <td>1775.319946</td>\n",
       "      <td>4.998310</td>\n",
       "      <td>3727.040039</td>\n",
       "      <td>1.099362</td>\n",
       "      <td>0.345023</td>\n",
       "      <td>21690.500717</td>\n",
       "      <td>18628.902672</td>\n",
       "      <td>3061.598045</td>\n",
       "      <td>12816.900717</td>\n",
       "      <td>9755.302672</td>\n",
       "    </tr>\n",
       "  </tbody>\n",
       "</table>\n",
       "</div>"
      ],
      "text/plain": [
       "  Ticker Acquisition Date  Quantity  Unit Cost  Cost Basis Start of Year  \\\n",
       "0     GS       2014-02-27        50     162.66      8133.0    2020-12-29   \n",
       "1    UNH       2013-06-04       130      63.70      8281.0    2020-12-29   \n",
       "2   AAPL       2013-06-04       515      15.44      7951.6    2020-12-29   \n",
       "3   MSFT       2015-12-14       150      54.33      8149.5    2020-12-29   \n",
       "4    LUV       2013-12-13       470      18.88      8873.6    2020-12-29   \n",
       "\n",
       "  Latest Date  Ticker Adj Close  ticker return  SP 500 Initial Close  \\\n",
       "0  2020-12-29        254.896896       0.567053           1854.290039   \n",
       "1  2020-12-29        343.651062       4.394836           1631.380005   \n",
       "2  2020-12-29        134.239273       7.694253           1631.380005   \n",
       "3  2020-12-29        222.693405       3.098903           2021.939941   \n",
       "4  2020-12-29         46.150002       1.444386           1775.319946   \n",
       "\n",
       "   Equiv SP Shares  SP 500 Latest Close  SP Return  Abs. Return Compare  \\\n",
       "0         4.386045          3727.040039   1.009955            -0.442902   \n",
       "1         5.076071          3727.040039   1.284593             3.110243   \n",
       "2         4.874156          3727.040039   1.284593             6.409660   \n",
       "3         4.030535          3727.040039   0.843299             2.255604   \n",
       "4         4.998310          3727.040039   1.099362             0.345023   \n",
       "\n",
       "   Ticker Share Value  SP 500 Value  Abs Value Compare  Stock Gain / (Loss)  \\\n",
       "0        12744.844818  16346.966224       -3602.121406          4611.844818   \n",
       "1        44674.638062  18918.718184       25755.919877         36393.638062   \n",
       "2        69133.225632  18166.173109       50967.052523         61181.625632   \n",
       "3        33404.010773  15021.965874       18382.044899         25254.510773   \n",
       "4        21690.500717  18628.902672        3061.598045         12816.900717   \n",
       "\n",
       "   SP 500 Gain / (Loss)  \n",
       "0           8213.966224  \n",
       "1          10637.718184  \n",
       "2          10214.573109  \n",
       "3           6872.465874  \n",
       "4           9755.302672  "
      ]
     },
     "execution_count": 324,
     "metadata": {},
     "output_type": "execute_result"
    }
   ],
   "source": [
    "# Percent return of SP from acquisition date of position through latest trading day.\n",
    "merged_portfolio_sp_latest['SP Return'] = merged_portfolio_sp_latest['SP 500 Latest Close'] / merged_portfolio_sp_latest['SP 500 Initial Close'] - 1\n",
    "\n",
    "# This is a new column which takes the tickers return and subtracts the sp 500 equivalent range return.\n",
    "merged_portfolio_sp_latest['Abs. Return Compare'] = merged_portfolio_sp_latest['ticker return'] - merged_portfolio_sp_latest['SP Return']\n",
    "\n",
    "# This is a new column where we calculate the ticker's share value by multiplying the original quantity by the latest close.\n",
    "merged_portfolio_sp_latest['Ticker Share Value'] = merged_portfolio_sp_latest['Quantity'] * merged_portfolio_sp_latest['Ticker Adj Close']\n",
    "\n",
    "# We calculate the equivalent SP 500 Value if we take the original SP shares * the latest SP 500 share price.\n",
    "merged_portfolio_sp_latest['SP 500 Value'] = merged_portfolio_sp_latest['Equiv SP Shares'] * merged_portfolio_sp_latest['SP 500 Latest Close']\n",
    "\n",
    "# This is a new column where we take the current market value for the shares and subtract the SP 500 value.\n",
    "merged_portfolio_sp_latest['Abs Value Compare'] = merged_portfolio_sp_latest['Ticker Share Value'] - merged_portfolio_sp_latest['SP 500 Value']\n",
    "\n",
    "# This column calculates profit / loss for stock position.\n",
    "merged_portfolio_sp_latest['Stock Gain / (Loss)'] = merged_portfolio_sp_latest['Ticker Share Value'] - merged_portfolio_sp_latest['Cost Basis']\n",
    "\n",
    "# This column calculates profit / loss for SP 500.\n",
    "merged_portfolio_sp_latest['SP 500 Gain / (Loss)'] = merged_portfolio_sp_latest['SP 500 Value'] - merged_portfolio_sp_latest['Cost Basis']\n",
    "\n",
    "merged_portfolio_sp_latest.head()"
   ]
  },
  {
   "cell_type": "code",
   "execution_count": 325,
   "metadata": {},
   "outputs": [
    {
     "data": {
      "text/html": [
       "<div>\n",
       "<style scoped>\n",
       "    .dataframe tbody tr th:only-of-type {\n",
       "        vertical-align: middle;\n",
       "    }\n",
       "\n",
       "    .dataframe tbody tr th {\n",
       "        vertical-align: top;\n",
       "    }\n",
       "\n",
       "    .dataframe thead th {\n",
       "        text-align: right;\n",
       "    }\n",
       "</style>\n",
       "<table border=\"1\" class=\"dataframe\">\n",
       "  <thead>\n",
       "    <tr style=\"text-align: right;\">\n",
       "      <th></th>\n",
       "      <th>Ticker</th>\n",
       "      <th>Acquisition Date</th>\n",
       "      <th>Quantity</th>\n",
       "      <th>Unit Cost</th>\n",
       "      <th>Cost Basis</th>\n",
       "      <th>Start of Year</th>\n",
       "      <th>Latest Date</th>\n",
       "      <th>Ticker Adj Close</th>\n",
       "      <th>ticker return</th>\n",
       "      <th>SP 500 Initial Close</th>\n",
       "      <th>Equiv SP Shares</th>\n",
       "      <th>SP 500 Latest Close</th>\n",
       "      <th>SP Return</th>\n",
       "      <th>Abs. Return Compare</th>\n",
       "      <th>Ticker Share Value</th>\n",
       "      <th>SP 500 Value</th>\n",
       "      <th>Abs Value Compare</th>\n",
       "      <th>Stock Gain / (Loss)</th>\n",
       "      <th>SP 500 Gain / (Loss)</th>\n",
       "    </tr>\n",
       "  </thead>\n",
       "  <tbody>\n",
       "    <tr>\n",
       "      <th>0</th>\n",
       "      <td>AMZN</td>\n",
       "      <td>2014-02-27</td>\n",
       "      <td>25</td>\n",
       "      <td>357.22</td>\n",
       "      <td>8930.5</td>\n",
       "      <td>2020-12-22</td>\n",
       "      <td>2020-12-29</td>\n",
       "      <td>3322.000000</td>\n",
       "      <td>8.299591</td>\n",
       "      <td>1854.290039</td>\n",
       "      <td>4.816129</td>\n",
       "      <td>3727.040039</td>\n",
       "      <td>1.009955</td>\n",
       "      <td>7.289636</td>\n",
       "      <td>83050.000000</td>\n",
       "      <td>17949.905553</td>\n",
       "      <td>65100.094447</td>\n",
       "      <td>74119.500000</td>\n",
       "      <td>9019.405553</td>\n",
       "    </tr>\n",
       "    <tr>\n",
       "      <th>1</th>\n",
       "      <td>UNH</td>\n",
       "      <td>2013-06-04</td>\n",
       "      <td>130</td>\n",
       "      <td>63.70</td>\n",
       "      <td>8281.0</td>\n",
       "      <td>2020-12-22</td>\n",
       "      <td>2020-12-29</td>\n",
       "      <td>343.651062</td>\n",
       "      <td>4.394836</td>\n",
       "      <td>1631.380005</td>\n",
       "      <td>5.076071</td>\n",
       "      <td>3727.040039</td>\n",
       "      <td>1.284593</td>\n",
       "      <td>3.110243</td>\n",
       "      <td>44674.638062</td>\n",
       "      <td>18918.718184</td>\n",
       "      <td>25755.919877</td>\n",
       "      <td>36393.638062</td>\n",
       "      <td>10637.718184</td>\n",
       "    </tr>\n",
       "    <tr>\n",
       "      <th>2</th>\n",
       "      <td>AAPL</td>\n",
       "      <td>2013-06-04</td>\n",
       "      <td>515</td>\n",
       "      <td>15.44</td>\n",
       "      <td>7951.6</td>\n",
       "      <td>2020-12-22</td>\n",
       "      <td>2020-12-29</td>\n",
       "      <td>134.239273</td>\n",
       "      <td>7.694253</td>\n",
       "      <td>1631.380005</td>\n",
       "      <td>4.874156</td>\n",
       "      <td>3727.040039</td>\n",
       "      <td>1.284593</td>\n",
       "      <td>6.409660</td>\n",
       "      <td>69133.225632</td>\n",
       "      <td>18166.173109</td>\n",
       "      <td>50967.052523</td>\n",
       "      <td>61181.625632</td>\n",
       "      <td>10214.573109</td>\n",
       "    </tr>\n",
       "    <tr>\n",
       "      <th>3</th>\n",
       "      <td>MSFT</td>\n",
       "      <td>2015-12-14</td>\n",
       "      <td>150</td>\n",
       "      <td>54.33</td>\n",
       "      <td>8149.5</td>\n",
       "      <td>2020-12-22</td>\n",
       "      <td>2020-12-29</td>\n",
       "      <td>222.693390</td>\n",
       "      <td>3.098903</td>\n",
       "      <td>2021.939941</td>\n",
       "      <td>4.030535</td>\n",
       "      <td>3727.040039</td>\n",
       "      <td>0.843299</td>\n",
       "      <td>2.255604</td>\n",
       "      <td>33404.008484</td>\n",
       "      <td>15021.965874</td>\n",
       "      <td>18382.042610</td>\n",
       "      <td>25254.508484</td>\n",
       "      <td>6872.465874</td>\n",
       "    </tr>\n",
       "    <tr>\n",
       "      <th>4</th>\n",
       "      <td>GOOG</td>\n",
       "      <td>2013-12-13</td>\n",
       "      <td>15</td>\n",
       "      <td>535.50</td>\n",
       "      <td>8032.5</td>\n",
       "      <td>2020-12-22</td>\n",
       "      <td>2020-12-29</td>\n",
       "      <td>1758.719971</td>\n",
       "      <td>2.284258</td>\n",
       "      <td>1775.319946</td>\n",
       "      <td>4.524537</td>\n",
       "      <td>3727.040039</td>\n",
       "      <td>1.099362</td>\n",
       "      <td>1.184895</td>\n",
       "      <td>26380.799561</td>\n",
       "      <td>16863.128912</td>\n",
       "      <td>9517.670649</td>\n",
       "      <td>18348.299561</td>\n",
       "      <td>8830.628912</td>\n",
       "    </tr>\n",
       "  </tbody>\n",
       "</table>\n",
       "</div>"
      ],
      "text/plain": [
       "  Ticker Acquisition Date  Quantity  Unit Cost  Cost Basis Start of Year  \\\n",
       "0   AMZN       2014-02-27        25     357.22      8930.5    2020-12-22   \n",
       "1    UNH       2013-06-04       130      63.70      8281.0    2020-12-22   \n",
       "2   AAPL       2013-06-04       515      15.44      7951.6    2020-12-22   \n",
       "3   MSFT       2015-12-14       150      54.33      8149.5    2020-12-22   \n",
       "4   GOOG       2013-12-13        15     535.50      8032.5    2020-12-22   \n",
       "\n",
       "  Latest Date  Ticker Adj Close  ticker return  SP 500 Initial Close  \\\n",
       "0  2020-12-29       3322.000000       8.299591           1854.290039   \n",
       "1  2020-12-29        343.651062       4.394836           1631.380005   \n",
       "2  2020-12-29        134.239273       7.694253           1631.380005   \n",
       "3  2020-12-29        222.693390       3.098903           2021.939941   \n",
       "4  2020-12-29       1758.719971       2.284258           1775.319946   \n",
       "\n",
       "   Equiv SP Shares  SP 500 Latest Close  SP Return  Abs. Return Compare  \\\n",
       "0         4.816129          3727.040039   1.009955             7.289636   \n",
       "1         5.076071          3727.040039   1.284593             3.110243   \n",
       "2         4.874156          3727.040039   1.284593             6.409660   \n",
       "3         4.030535          3727.040039   0.843299             2.255604   \n",
       "4         4.524537          3727.040039   1.099362             1.184895   \n",
       "\n",
       "   Ticker Share Value  SP 500 Value  Abs Value Compare  Stock Gain / (Loss)  \\\n",
       "0        83050.000000  17949.905553       65100.094447         74119.500000   \n",
       "1        44674.638062  18918.718184       25755.919877         36393.638062   \n",
       "2        69133.225632  18166.173109       50967.052523         61181.625632   \n",
       "3        33404.008484  15021.965874       18382.042610         25254.508484   \n",
       "4        26380.799561  16863.128912        9517.670649         18348.299561   \n",
       "\n",
       "   SP 500 Gain / (Loss)  \n",
       "0           9019.405553  \n",
       "1          10637.718184  \n",
       "2          10214.573109  \n",
       "3           6872.465874  \n",
       "4           8830.628912  "
      ]
     },
     "execution_count": 325,
     "metadata": {},
     "output_type": "execute_result"
    }
   ],
   "source": [
    "# Percent return of SP from acquisition date of position through latest trading day.\n",
    "merged_portfolio_sp_latest1['SP Return'] = merged_portfolio_sp_latest1['SP 500 Latest Close'] / merged_portfolio_sp_latest1['SP 500 Initial Close'] - 1\n",
    "\n",
    "# This is a new column which takes the tickers return and subtracts the sp 500 equivalent range return.\n",
    "merged_portfolio_sp_latest1['Abs. Return Compare'] = merged_portfolio_sp_latest1['ticker return'] - merged_portfolio_sp_latest1['SP Return']\n",
    "\n",
    "# This is a new column where we calculate the ticker's share value by multiplying the original quantity by the latest close.\n",
    "merged_portfolio_sp_latest1['Ticker Share Value'] = merged_portfolio_sp_latest1['Quantity'] * merged_portfolio_sp_latest1['Ticker Adj Close']\n",
    "\n",
    "# We calculate the equivalent SP 500 Value if we take the original SP shares * the latest SP 500 share price.\n",
    "merged_portfolio_sp_latest1['SP 500 Value'] = merged_portfolio_sp_latest1['Equiv SP Shares'] * merged_portfolio_sp_latest1['SP 500 Latest Close']\n",
    "\n",
    "# This is a new column where we take the current market value for the shares and subtract the SP 500 value.\n",
    "merged_portfolio_sp_latest1['Abs Value Compare'] = merged_portfolio_sp_latest1['Ticker Share Value'] - merged_portfolio_sp_latest1['SP 500 Value']\n",
    "\n",
    "# This column calculates profit / loss for stock position.\n",
    "merged_portfolio_sp_latest1['Stock Gain / (Loss)'] = merged_portfolio_sp_latest1['Ticker Share Value'] - merged_portfolio_sp_latest1['Cost Basis']\n",
    "\n",
    "# This column calculates profit / loss for SP 500.\n",
    "merged_portfolio_sp_latest1['SP 500 Gain / (Loss)'] = merged_portfolio_sp_latest1['SP 500 Value'] - merged_portfolio_sp_latest1['Cost Basis']\n",
    "\n",
    "merged_portfolio_sp_latest1.head()"
   ]
  },
  {
   "cell_type": "code",
   "execution_count": 339,
   "metadata": {},
   "outputs": [
    {
     "data": {
      "text/html": [
       "<div>\n",
       "<style scoped>\n",
       "    .dataframe tbody tr th:only-of-type {\n",
       "        vertical-align: middle;\n",
       "    }\n",
       "\n",
       "    .dataframe tbody tr th {\n",
       "        vertical-align: top;\n",
       "    }\n",
       "\n",
       "    .dataframe thead th {\n",
       "        text-align: right;\n",
       "    }\n",
       "</style>\n",
       "<table border=\"1\" class=\"dataframe\">\n",
       "  <thead>\n",
       "    <tr style=\"text-align: right;\">\n",
       "      <th></th>\n",
       "      <th>Ticker</th>\n",
       "      <th>Acquisition Date</th>\n",
       "      <th>Quantity</th>\n",
       "      <th>Unit Cost</th>\n",
       "      <th>Cost Basis</th>\n",
       "      <th>Start of Year</th>\n",
       "      <th>Latest Date</th>\n",
       "      <th>Ticker Adj Close</th>\n",
       "      <th>ticker return</th>\n",
       "      <th>SP 500 Initial Close</th>\n",
       "      <th>...</th>\n",
       "      <th>SP 500 Latest Close</th>\n",
       "      <th>SP Return</th>\n",
       "      <th>Abs. Return Compare</th>\n",
       "      <th>Ticker Share Value</th>\n",
       "      <th>SP 500 Value</th>\n",
       "      <th>Abs Value Compare</th>\n",
       "      <th>Stock Gain / (Loss)</th>\n",
       "      <th>SP 500 Gain / (Loss)</th>\n",
       "      <th>Date</th>\n",
       "      <th>Adj Close</th>\n",
       "    </tr>\n",
       "  </thead>\n",
       "  <tbody>\n",
       "    <tr>\n",
       "      <th>0</th>\n",
       "      <td>GS</td>\n",
       "      <td>2014-02-27</td>\n",
       "      <td>50</td>\n",
       "      <td>162.66</td>\n",
       "      <td>8133.0</td>\n",
       "      <td>2020-12-29</td>\n",
       "      <td>2020-12-29</td>\n",
       "      <td>254.896896</td>\n",
       "      <td>0.567053</td>\n",
       "      <td>1854.290039</td>\n",
       "      <td>...</td>\n",
       "      <td>3727.040039</td>\n",
       "      <td>1.009955</td>\n",
       "      <td>-0.442902</td>\n",
       "      <td>12744.844818</td>\n",
       "      <td>16346.966224</td>\n",
       "      <td>-3602.121406</td>\n",
       "      <td>4611.844818</td>\n",
       "      <td>8213.966224</td>\n",
       "      <td>2020-12-29</td>\n",
       "      <td>254.896896</td>\n",
       "    </tr>\n",
       "    <tr>\n",
       "      <th>1</th>\n",
       "      <td>UNH</td>\n",
       "      <td>2013-06-04</td>\n",
       "      <td>130</td>\n",
       "      <td>63.70</td>\n",
       "      <td>8281.0</td>\n",
       "      <td>2020-12-29</td>\n",
       "      <td>2020-12-29</td>\n",
       "      <td>343.651062</td>\n",
       "      <td>4.394836</td>\n",
       "      <td>1631.380005</td>\n",
       "      <td>...</td>\n",
       "      <td>3727.040039</td>\n",
       "      <td>1.284593</td>\n",
       "      <td>3.110243</td>\n",
       "      <td>44674.638062</td>\n",
       "      <td>18918.718184</td>\n",
       "      <td>25755.919877</td>\n",
       "      <td>36393.638062</td>\n",
       "      <td>10637.718184</td>\n",
       "      <td>2020-12-29</td>\n",
       "      <td>343.651062</td>\n",
       "    </tr>\n",
       "    <tr>\n",
       "      <th>2</th>\n",
       "      <td>AAPL</td>\n",
       "      <td>2013-06-04</td>\n",
       "      <td>515</td>\n",
       "      <td>15.44</td>\n",
       "      <td>7951.6</td>\n",
       "      <td>2020-12-29</td>\n",
       "      <td>2020-12-29</td>\n",
       "      <td>134.239273</td>\n",
       "      <td>7.694253</td>\n",
       "      <td>1631.380005</td>\n",
       "      <td>...</td>\n",
       "      <td>3727.040039</td>\n",
       "      <td>1.284593</td>\n",
       "      <td>6.409660</td>\n",
       "      <td>69133.225632</td>\n",
       "      <td>18166.173109</td>\n",
       "      <td>50967.052523</td>\n",
       "      <td>61181.625632</td>\n",
       "      <td>10214.573109</td>\n",
       "      <td>2020-12-29</td>\n",
       "      <td>134.239273</td>\n",
       "    </tr>\n",
       "    <tr>\n",
       "      <th>3</th>\n",
       "      <td>MSFT</td>\n",
       "      <td>2015-12-14</td>\n",
       "      <td>150</td>\n",
       "      <td>54.33</td>\n",
       "      <td>8149.5</td>\n",
       "      <td>2020-12-29</td>\n",
       "      <td>2020-12-29</td>\n",
       "      <td>222.693405</td>\n",
       "      <td>3.098903</td>\n",
       "      <td>2021.939941</td>\n",
       "      <td>...</td>\n",
       "      <td>3727.040039</td>\n",
       "      <td>0.843299</td>\n",
       "      <td>2.255604</td>\n",
       "      <td>33404.010773</td>\n",
       "      <td>15021.965874</td>\n",
       "      <td>18382.044899</td>\n",
       "      <td>25254.510773</td>\n",
       "      <td>6872.465874</td>\n",
       "      <td>2020-12-29</td>\n",
       "      <td>222.693405</td>\n",
       "    </tr>\n",
       "    <tr>\n",
       "      <th>4</th>\n",
       "      <td>LUV</td>\n",
       "      <td>2013-12-13</td>\n",
       "      <td>470</td>\n",
       "      <td>18.88</td>\n",
       "      <td>8873.6</td>\n",
       "      <td>2020-12-29</td>\n",
       "      <td>2020-12-29</td>\n",
       "      <td>46.150002</td>\n",
       "      <td>1.444386</td>\n",
       "      <td>1775.319946</td>\n",
       "      <td>...</td>\n",
       "      <td>3727.040039</td>\n",
       "      <td>1.099362</td>\n",
       "      <td>0.345023</td>\n",
       "      <td>21690.500717</td>\n",
       "      <td>18628.902672</td>\n",
       "      <td>3061.598045</td>\n",
       "      <td>12816.900717</td>\n",
       "      <td>9755.302672</td>\n",
       "      <td>2020-12-29</td>\n",
       "      <td>46.150002</td>\n",
       "    </tr>\n",
       "  </tbody>\n",
       "</table>\n",
       "<p>5 rows × 21 columns</p>\n",
       "</div>"
      ],
      "text/plain": [
       "  Ticker Acquisition Date  Quantity  Unit Cost  Cost Basis Start of Year  \\\n",
       "0     GS       2014-02-27        50     162.66      8133.0    2020-12-29   \n",
       "1    UNH       2013-06-04       130      63.70      8281.0    2020-12-29   \n",
       "2   AAPL       2013-06-04       515      15.44      7951.6    2020-12-29   \n",
       "3   MSFT       2015-12-14       150      54.33      8149.5    2020-12-29   \n",
       "4    LUV       2013-12-13       470      18.88      8873.6    2020-12-29   \n",
       "\n",
       "  Latest Date  Ticker Adj Close  ticker return  SP 500 Initial Close  ...  \\\n",
       "0  2020-12-29        254.896896       0.567053           1854.290039  ...   \n",
       "1  2020-12-29        343.651062       4.394836           1631.380005  ...   \n",
       "2  2020-12-29        134.239273       7.694253           1631.380005  ...   \n",
       "3  2020-12-29        222.693405       3.098903           2021.939941  ...   \n",
       "4  2020-12-29         46.150002       1.444386           1775.319946  ...   \n",
       "\n",
       "   SP 500 Latest Close  SP Return  Abs. Return Compare  Ticker Share Value  \\\n",
       "0          3727.040039   1.009955            -0.442902        12744.844818   \n",
       "1          3727.040039   1.284593             3.110243        44674.638062   \n",
       "2          3727.040039   1.284593             6.409660        69133.225632   \n",
       "3          3727.040039   0.843299             2.255604        33404.010773   \n",
       "4          3727.040039   1.099362             0.345023        21690.500717   \n",
       "\n",
       "   SP 500 Value  Abs Value Compare  Stock Gain / (Loss)  SP 500 Gain / (Loss)  \\\n",
       "0  16346.966224       -3602.121406          4611.844818           8213.966224   \n",
       "1  18918.718184       25755.919877         36393.638062          10637.718184   \n",
       "2  18166.173109       50967.052523         61181.625632          10214.573109   \n",
       "3  15021.965874       18382.044899         25254.510773           6872.465874   \n",
       "4  18628.902672        3061.598045         12816.900717           9755.302672   \n",
       "\n",
       "        Date   Adj Close  \n",
       "0 2020-12-29  254.896896  \n",
       "1 2020-12-29  343.651062  \n",
       "2 2020-12-29  134.239273  \n",
       "3 2020-12-29  222.693405  \n",
       "4 2020-12-29   46.150002  \n",
       "\n",
       "[5 rows x 21 columns]"
      ]
     },
     "execution_count": 339,
     "metadata": {},
     "output_type": "execute_result"
    }
   ],
   "source": [
    "# Merge the overall dataframe with the adj close start of year dataframe for YTD tracking of tickers.\n",
    "# Should not need to do the outer join;\n",
    "\n",
    "merged_portfolio_sp_latest_YTD = pd.merge(merged_portfolio_sp_latest, adj_close_start, on='Ticker')\n",
    "# , how='outer'\n",
    "\n",
    "merged_portfolio_sp_latest_YTD.head()"
   ]
  },
  {
   "cell_type": "code",
   "execution_count": 335,
   "metadata": {},
   "outputs": [
    {
     "data": {
      "text/html": [
       "<div>\n",
       "<style scoped>\n",
       "    .dataframe tbody tr th:only-of-type {\n",
       "        vertical-align: middle;\n",
       "    }\n",
       "\n",
       "    .dataframe tbody tr th {\n",
       "        vertical-align: top;\n",
       "    }\n",
       "\n",
       "    .dataframe thead th {\n",
       "        text-align: right;\n",
       "    }\n",
       "</style>\n",
       "<table border=\"1\" class=\"dataframe\">\n",
       "  <thead>\n",
       "    <tr style=\"text-align: right;\">\n",
       "      <th></th>\n",
       "      <th>Ticker</th>\n",
       "      <th>Acquisition Date</th>\n",
       "      <th>Quantity</th>\n",
       "      <th>Unit Cost</th>\n",
       "      <th>Cost Basis</th>\n",
       "      <th>Start of Year</th>\n",
       "      <th>Latest Date</th>\n",
       "      <th>Ticker Adj Close</th>\n",
       "      <th>ticker return</th>\n",
       "      <th>SP 500 Initial Close</th>\n",
       "      <th>...</th>\n",
       "      <th>SP 500 Latest Close</th>\n",
       "      <th>SP Return</th>\n",
       "      <th>Abs. Return Compare</th>\n",
       "      <th>Ticker Share Value</th>\n",
       "      <th>SP 500 Value</th>\n",
       "      <th>Abs Value Compare</th>\n",
       "      <th>Stock Gain / (Loss)</th>\n",
       "      <th>SP 500 Gain / (Loss)</th>\n",
       "      <th>Date</th>\n",
       "      <th>Adj Close</th>\n",
       "    </tr>\n",
       "  </thead>\n",
       "  <tbody>\n",
       "    <tr>\n",
       "      <th>0</th>\n",
       "      <td>AMZN</td>\n",
       "      <td>2014-02-27</td>\n",
       "      <td>25</td>\n",
       "      <td>357.22</td>\n",
       "      <td>8930.5</td>\n",
       "      <td>2020-12-22</td>\n",
       "      <td>2020-12-29</td>\n",
       "      <td>3322.000000</td>\n",
       "      <td>8.299591</td>\n",
       "      <td>1854.290039</td>\n",
       "      <td>...</td>\n",
       "      <td>3727.040039</td>\n",
       "      <td>1.009955</td>\n",
       "      <td>7.289636</td>\n",
       "      <td>83050.000000</td>\n",
       "      <td>17949.905553</td>\n",
       "      <td>65100.094447</td>\n",
       "      <td>74119.500000</td>\n",
       "      <td>9019.405553</td>\n",
       "      <td>2020-12-29</td>\n",
       "      <td>3322.000000</td>\n",
       "    </tr>\n",
       "    <tr>\n",
       "      <th>1</th>\n",
       "      <td>UNH</td>\n",
       "      <td>2013-06-04</td>\n",
       "      <td>130</td>\n",
       "      <td>63.70</td>\n",
       "      <td>8281.0</td>\n",
       "      <td>2020-12-22</td>\n",
       "      <td>2020-12-29</td>\n",
       "      <td>343.651062</td>\n",
       "      <td>4.394836</td>\n",
       "      <td>1631.380005</td>\n",
       "      <td>...</td>\n",
       "      <td>3727.040039</td>\n",
       "      <td>1.284593</td>\n",
       "      <td>3.110243</td>\n",
       "      <td>44674.638062</td>\n",
       "      <td>18918.718184</td>\n",
       "      <td>25755.919877</td>\n",
       "      <td>36393.638062</td>\n",
       "      <td>10637.718184</td>\n",
       "      <td>2020-12-29</td>\n",
       "      <td>343.651062</td>\n",
       "    </tr>\n",
       "    <tr>\n",
       "      <th>2</th>\n",
       "      <td>AAPL</td>\n",
       "      <td>2013-06-04</td>\n",
       "      <td>515</td>\n",
       "      <td>15.44</td>\n",
       "      <td>7951.6</td>\n",
       "      <td>2020-12-22</td>\n",
       "      <td>2020-12-29</td>\n",
       "      <td>134.239273</td>\n",
       "      <td>7.694253</td>\n",
       "      <td>1631.380005</td>\n",
       "      <td>...</td>\n",
       "      <td>3727.040039</td>\n",
       "      <td>1.284593</td>\n",
       "      <td>6.409660</td>\n",
       "      <td>69133.225632</td>\n",
       "      <td>18166.173109</td>\n",
       "      <td>50967.052523</td>\n",
       "      <td>61181.625632</td>\n",
       "      <td>10214.573109</td>\n",
       "      <td>2020-12-29</td>\n",
       "      <td>134.239273</td>\n",
       "    </tr>\n",
       "    <tr>\n",
       "      <th>3</th>\n",
       "      <td>MSFT</td>\n",
       "      <td>2015-12-14</td>\n",
       "      <td>150</td>\n",
       "      <td>54.33</td>\n",
       "      <td>8149.5</td>\n",
       "      <td>2020-12-22</td>\n",
       "      <td>2020-12-29</td>\n",
       "      <td>222.693390</td>\n",
       "      <td>3.098903</td>\n",
       "      <td>2021.939941</td>\n",
       "      <td>...</td>\n",
       "      <td>3727.040039</td>\n",
       "      <td>0.843299</td>\n",
       "      <td>2.255604</td>\n",
       "      <td>33404.008484</td>\n",
       "      <td>15021.965874</td>\n",
       "      <td>18382.042610</td>\n",
       "      <td>25254.508484</td>\n",
       "      <td>6872.465874</td>\n",
       "      <td>2020-12-29</td>\n",
       "      <td>222.693390</td>\n",
       "    </tr>\n",
       "    <tr>\n",
       "      <th>4</th>\n",
       "      <td>GOOG</td>\n",
       "      <td>2013-12-13</td>\n",
       "      <td>15</td>\n",
       "      <td>535.50</td>\n",
       "      <td>8032.5</td>\n",
       "      <td>2020-12-22</td>\n",
       "      <td>2020-12-29</td>\n",
       "      <td>1758.719971</td>\n",
       "      <td>2.284258</td>\n",
       "      <td>1775.319946</td>\n",
       "      <td>...</td>\n",
       "      <td>3727.040039</td>\n",
       "      <td>1.099362</td>\n",
       "      <td>1.184895</td>\n",
       "      <td>26380.799561</td>\n",
       "      <td>16863.128912</td>\n",
       "      <td>9517.670649</td>\n",
       "      <td>18348.299561</td>\n",
       "      <td>8830.628912</td>\n",
       "      <td>2020-12-29</td>\n",
       "      <td>1758.719971</td>\n",
       "    </tr>\n",
       "  </tbody>\n",
       "</table>\n",
       "<p>5 rows × 21 columns</p>\n",
       "</div>"
      ],
      "text/plain": [
       "  Ticker Acquisition Date  Quantity  Unit Cost  Cost Basis Start of Year  \\\n",
       "0   AMZN       2014-02-27        25     357.22      8930.5    2020-12-22   \n",
       "1    UNH       2013-06-04       130      63.70      8281.0    2020-12-22   \n",
       "2   AAPL       2013-06-04       515      15.44      7951.6    2020-12-22   \n",
       "3   MSFT       2015-12-14       150      54.33      8149.5    2020-12-22   \n",
       "4   GOOG       2013-12-13        15     535.50      8032.5    2020-12-22   \n",
       "\n",
       "  Latest Date  Ticker Adj Close  ticker return  SP 500 Initial Close  ...  \\\n",
       "0  2020-12-29       3322.000000       8.299591           1854.290039  ...   \n",
       "1  2020-12-29        343.651062       4.394836           1631.380005  ...   \n",
       "2  2020-12-29        134.239273       7.694253           1631.380005  ...   \n",
       "3  2020-12-29        222.693390       3.098903           2021.939941  ...   \n",
       "4  2020-12-29       1758.719971       2.284258           1775.319946  ...   \n",
       "\n",
       "   SP 500 Latest Close  SP Return  Abs. Return Compare  Ticker Share Value  \\\n",
       "0          3727.040039   1.009955             7.289636        83050.000000   \n",
       "1          3727.040039   1.284593             3.110243        44674.638062   \n",
       "2          3727.040039   1.284593             6.409660        69133.225632   \n",
       "3          3727.040039   0.843299             2.255604        33404.008484   \n",
       "4          3727.040039   1.099362             1.184895        26380.799561   \n",
       "\n",
       "   SP 500 Value  Abs Value Compare  Stock Gain / (Loss)  SP 500 Gain / (Loss)  \\\n",
       "0  17949.905553       65100.094447         74119.500000           9019.405553   \n",
       "1  18918.718184       25755.919877         36393.638062          10637.718184   \n",
       "2  18166.173109       50967.052523         61181.625632          10214.573109   \n",
       "3  15021.965874       18382.042610         25254.508484           6872.465874   \n",
       "4  16863.128912        9517.670649         18348.299561           8830.628912   \n",
       "\n",
       "        Date    Adj Close  \n",
       "0 2020-12-29  3322.000000  \n",
       "1 2020-12-29   343.651062  \n",
       "2 2020-12-29   134.239273  \n",
       "3 2020-12-29   222.693390  \n",
       "4 2020-12-29  1758.719971  \n",
       "\n",
       "[5 rows x 21 columns]"
      ]
     },
     "execution_count": 335,
     "metadata": {},
     "output_type": "execute_result"
    }
   ],
   "source": [
    "# Merge the overall dataframe with the adj close start of year dataframe for YTD tracking of tickers.\n",
    "# Should not need to do the outer join;\n",
    "\n",
    "merged_portfolio1_sp_latest_YTD = pd.merge(merged_portfolio_sp_latest1, adj_close_start1, on='Ticker')\n",
    "# , how='outer'\n",
    "\n",
    "merged_portfolio1_sp_latest_YTD.head()"
   ]
  },
  {
   "cell_type": "code",
   "execution_count": 340,
   "metadata": {},
   "outputs": [
    {
     "name": "stdout",
     "output_type": "stream",
     "text": [
      "<class 'pandas.core.frame.DataFrame'>\n",
      "Int64Index: 5 entries, 0 to 4\n",
      "Data columns (total 20 columns):\n",
      " #   Column                   Non-Null Count  Dtype         \n",
      "---  ------                   --------------  -----         \n",
      " 0   Ticker                   5 non-null      object        \n",
      " 1   Acquisition Date         5 non-null      datetime64[ns]\n",
      " 2   Quantity                 5 non-null      int64         \n",
      " 3   Unit Cost                5 non-null      float64       \n",
      " 4   Cost Basis               5 non-null      float64       \n",
      " 5   Start of Year            5 non-null      datetime64[ns]\n",
      " 6   Latest Date              5 non-null      datetime64[ns]\n",
      " 7   Ticker Adj Close         5 non-null      float64       \n",
      " 8   ticker return            5 non-null      float64       \n",
      " 9   SP 500 Initial Close     5 non-null      float64       \n",
      " 10  Equiv SP Shares          5 non-null      float64       \n",
      " 11  SP 500 Latest Close      5 non-null      float64       \n",
      " 12  SP Return                5 non-null      float64       \n",
      " 13  Abs. Return Compare      5 non-null      float64       \n",
      " 14  Ticker Share Value       5 non-null      float64       \n",
      " 15  SP 500 Value             5 non-null      float64       \n",
      " 16  Abs Value Compare        5 non-null      float64       \n",
      " 17  Stock Gain / (Loss)      5 non-null      float64       \n",
      " 18  SP 500 Gain / (Loss)     5 non-null      float64       \n",
      " 19  Ticker Start Year Close  5 non-null      float64       \n",
      "dtypes: datetime64[ns](3), float64(15), int64(1), object(1)\n",
      "memory usage: 840.0+ bytes\n"
     ]
    }
   ],
   "source": [
    "# Deleting date again as it's an unnecessary column.  Explaining that new column is the Ticker Start of Year Close.\n",
    "\n",
    "del merged_portfolio_sp_latest_YTD['Date']\n",
    "\n",
    "merged_portfolio_sp_latest_YTD.rename(columns={'Adj Close': 'Ticker Start Year Close'}, inplace=True)\n",
    "\n",
    "merged_portfolio_sp_latest_YTD.head()\n",
    "merged_portfolio_sp_latest_YTD.info()"
   ]
  },
  {
   "cell_type": "code",
   "execution_count": 336,
   "metadata": {},
   "outputs": [
    {
     "name": "stdout",
     "output_type": "stream",
     "text": [
      "<class 'pandas.core.frame.DataFrame'>\n",
      "Int64Index: 5 entries, 0 to 4\n",
      "Data columns (total 20 columns):\n",
      " #   Column                   Non-Null Count  Dtype         \n",
      "---  ------                   --------------  -----         \n",
      " 0   Ticker                   5 non-null      object        \n",
      " 1   Acquisition Date         5 non-null      datetime64[ns]\n",
      " 2   Quantity                 5 non-null      int64         \n",
      " 3   Unit Cost                5 non-null      float64       \n",
      " 4   Cost Basis               5 non-null      float64       \n",
      " 5   Start of Year            5 non-null      datetime64[ns]\n",
      " 6   Latest Date              5 non-null      datetime64[ns]\n",
      " 7   Ticker Adj Close         5 non-null      float64       \n",
      " 8   ticker return            5 non-null      float64       \n",
      " 9   SP 500 Initial Close     5 non-null      float64       \n",
      " 10  Equiv SP Shares          5 non-null      float64       \n",
      " 11  SP 500 Latest Close      5 non-null      float64       \n",
      " 12  SP Return                5 non-null      float64       \n",
      " 13  Abs. Return Compare      5 non-null      float64       \n",
      " 14  Ticker Share Value       5 non-null      float64       \n",
      " 15  SP 500 Value             5 non-null      float64       \n",
      " 16  Abs Value Compare        5 non-null      float64       \n",
      " 17  Stock Gain / (Loss)      5 non-null      float64       \n",
      " 18  SP 500 Gain / (Loss)     5 non-null      float64       \n",
      " 19  Ticker Start Year Close  5 non-null      float64       \n",
      "dtypes: datetime64[ns](3), float64(15), int64(1), object(1)\n",
      "memory usage: 840.0+ bytes\n"
     ]
    }
   ],
   "source": [
    "# Deleting date again as it's an unnecessary column.  Explaining that new column is the Ticker Start of Year Close.\n",
    "\n",
    "del merged_portfolio1_sp_latest_YTD['Date']\n",
    "\n",
    "merged_portfolio1_sp_latest_YTD.rename(columns={'Adj Close': 'Ticker Start Year Close'}, inplace=True)\n",
    "\n",
    "merged_portfolio1_sp_latest_YTD.head()\n",
    "merged_portfolio1_sp_latest_YTD.info()"
   ]
  },
  {
   "cell_type": "code",
   "execution_count": 341,
   "metadata": {},
   "outputs": [
    {
     "data": {
      "text/html": [
       "<div>\n",
       "<style scoped>\n",
       "    .dataframe tbody tr th:only-of-type {\n",
       "        vertical-align: middle;\n",
       "    }\n",
       "\n",
       "    .dataframe tbody tr th {\n",
       "        vertical-align: top;\n",
       "    }\n",
       "\n",
       "    .dataframe thead th {\n",
       "        text-align: right;\n",
       "    }\n",
       "</style>\n",
       "<table border=\"1\" class=\"dataframe\">\n",
       "  <thead>\n",
       "    <tr style=\"text-align: right;\">\n",
       "      <th></th>\n",
       "      <th>Ticker</th>\n",
       "      <th>Acquisition Date</th>\n",
       "      <th>Quantity</th>\n",
       "      <th>Unit Cost</th>\n",
       "      <th>Cost Basis</th>\n",
       "      <th>Start of Year</th>\n",
       "      <th>Latest Date</th>\n",
       "      <th>Ticker Adj Close</th>\n",
       "      <th>ticker return</th>\n",
       "      <th>SP 500 Initial Close</th>\n",
       "      <th>...</th>\n",
       "      <th>SP Return</th>\n",
       "      <th>Abs. Return Compare</th>\n",
       "      <th>Ticker Share Value</th>\n",
       "      <th>SP 500 Value</th>\n",
       "      <th>Abs Value Compare</th>\n",
       "      <th>Stock Gain / (Loss)</th>\n",
       "      <th>SP 500 Gain / (Loss)</th>\n",
       "      <th>Ticker Start Year Close</th>\n",
       "      <th>Date</th>\n",
       "      <th>Adj Close</th>\n",
       "    </tr>\n",
       "  </thead>\n",
       "  <tbody>\n",
       "    <tr>\n",
       "      <th>0</th>\n",
       "      <td>GS</td>\n",
       "      <td>2014-02-27</td>\n",
       "      <td>50</td>\n",
       "      <td>162.66</td>\n",
       "      <td>8133.0</td>\n",
       "      <td>2020-12-29</td>\n",
       "      <td>2020-12-29</td>\n",
       "      <td>254.896896</td>\n",
       "      <td>0.567053</td>\n",
       "      <td>1854.290039</td>\n",
       "      <td>...</td>\n",
       "      <td>1.009955</td>\n",
       "      <td>-0.442902</td>\n",
       "      <td>12744.844818</td>\n",
       "      <td>16346.966224</td>\n",
       "      <td>-3602.121406</td>\n",
       "      <td>4611.844818</td>\n",
       "      <td>8213.966224</td>\n",
       "      <td>254.896896</td>\n",
       "      <td>2020-12-29</td>\n",
       "      <td>3727.040039</td>\n",
       "    </tr>\n",
       "    <tr>\n",
       "      <th>1</th>\n",
       "      <td>UNH</td>\n",
       "      <td>2013-06-04</td>\n",
       "      <td>130</td>\n",
       "      <td>63.70</td>\n",
       "      <td>8281.0</td>\n",
       "      <td>2020-12-29</td>\n",
       "      <td>2020-12-29</td>\n",
       "      <td>343.651062</td>\n",
       "      <td>4.394836</td>\n",
       "      <td>1631.380005</td>\n",
       "      <td>...</td>\n",
       "      <td>1.284593</td>\n",
       "      <td>3.110243</td>\n",
       "      <td>44674.638062</td>\n",
       "      <td>18918.718184</td>\n",
       "      <td>25755.919877</td>\n",
       "      <td>36393.638062</td>\n",
       "      <td>10637.718184</td>\n",
       "      <td>343.651062</td>\n",
       "      <td>2020-12-29</td>\n",
       "      <td>3727.040039</td>\n",
       "    </tr>\n",
       "    <tr>\n",
       "      <th>2</th>\n",
       "      <td>AAPL</td>\n",
       "      <td>2013-06-04</td>\n",
       "      <td>515</td>\n",
       "      <td>15.44</td>\n",
       "      <td>7951.6</td>\n",
       "      <td>2020-12-29</td>\n",
       "      <td>2020-12-29</td>\n",
       "      <td>134.239273</td>\n",
       "      <td>7.694253</td>\n",
       "      <td>1631.380005</td>\n",
       "      <td>...</td>\n",
       "      <td>1.284593</td>\n",
       "      <td>6.409660</td>\n",
       "      <td>69133.225632</td>\n",
       "      <td>18166.173109</td>\n",
       "      <td>50967.052523</td>\n",
       "      <td>61181.625632</td>\n",
       "      <td>10214.573109</td>\n",
       "      <td>134.239273</td>\n",
       "      <td>2020-12-29</td>\n",
       "      <td>3727.040039</td>\n",
       "    </tr>\n",
       "    <tr>\n",
       "      <th>3</th>\n",
       "      <td>MSFT</td>\n",
       "      <td>2015-12-14</td>\n",
       "      <td>150</td>\n",
       "      <td>54.33</td>\n",
       "      <td>8149.5</td>\n",
       "      <td>2020-12-29</td>\n",
       "      <td>2020-12-29</td>\n",
       "      <td>222.693405</td>\n",
       "      <td>3.098903</td>\n",
       "      <td>2021.939941</td>\n",
       "      <td>...</td>\n",
       "      <td>0.843299</td>\n",
       "      <td>2.255604</td>\n",
       "      <td>33404.010773</td>\n",
       "      <td>15021.965874</td>\n",
       "      <td>18382.044899</td>\n",
       "      <td>25254.510773</td>\n",
       "      <td>6872.465874</td>\n",
       "      <td>222.693405</td>\n",
       "      <td>2020-12-29</td>\n",
       "      <td>3727.040039</td>\n",
       "    </tr>\n",
       "    <tr>\n",
       "      <th>4</th>\n",
       "      <td>LUV</td>\n",
       "      <td>2013-12-13</td>\n",
       "      <td>470</td>\n",
       "      <td>18.88</td>\n",
       "      <td>8873.6</td>\n",
       "      <td>2020-12-29</td>\n",
       "      <td>2020-12-29</td>\n",
       "      <td>46.150002</td>\n",
       "      <td>1.444386</td>\n",
       "      <td>1775.319946</td>\n",
       "      <td>...</td>\n",
       "      <td>1.099362</td>\n",
       "      <td>0.345023</td>\n",
       "      <td>21690.500717</td>\n",
       "      <td>18628.902672</td>\n",
       "      <td>3061.598045</td>\n",
       "      <td>12816.900717</td>\n",
       "      <td>9755.302672</td>\n",
       "      <td>46.150002</td>\n",
       "      <td>2020-12-29</td>\n",
       "      <td>3727.040039</td>\n",
       "    </tr>\n",
       "  </tbody>\n",
       "</table>\n",
       "<p>5 rows × 22 columns</p>\n",
       "</div>"
      ],
      "text/plain": [
       "  Ticker Acquisition Date  Quantity  Unit Cost  Cost Basis Start of Year  \\\n",
       "0     GS       2014-02-27        50     162.66      8133.0    2020-12-29   \n",
       "1    UNH       2013-06-04       130      63.70      8281.0    2020-12-29   \n",
       "2   AAPL       2013-06-04       515      15.44      7951.6    2020-12-29   \n",
       "3   MSFT       2015-12-14       150      54.33      8149.5    2020-12-29   \n",
       "4    LUV       2013-12-13       470      18.88      8873.6    2020-12-29   \n",
       "\n",
       "  Latest Date  Ticker Adj Close  ticker return  SP 500 Initial Close  ...  \\\n",
       "0  2020-12-29        254.896896       0.567053           1854.290039  ...   \n",
       "1  2020-12-29        343.651062       4.394836           1631.380005  ...   \n",
       "2  2020-12-29        134.239273       7.694253           1631.380005  ...   \n",
       "3  2020-12-29        222.693405       3.098903           2021.939941  ...   \n",
       "4  2020-12-29         46.150002       1.444386           1775.319946  ...   \n",
       "\n",
       "   SP Return  Abs. Return Compare  Ticker Share Value  SP 500 Value  \\\n",
       "0   1.009955            -0.442902        12744.844818  16346.966224   \n",
       "1   1.284593             3.110243        44674.638062  18918.718184   \n",
       "2   1.284593             6.409660        69133.225632  18166.173109   \n",
       "3   0.843299             2.255604        33404.010773  15021.965874   \n",
       "4   1.099362             0.345023        21690.500717  18628.902672   \n",
       "\n",
       "   Abs Value Compare  Stock Gain / (Loss)  SP 500 Gain / (Loss)  \\\n",
       "0       -3602.121406          4611.844818           8213.966224   \n",
       "1       25755.919877         36393.638062          10637.718184   \n",
       "2       50967.052523         61181.625632          10214.573109   \n",
       "3       18382.044899         25254.510773           6872.465874   \n",
       "4        3061.598045         12816.900717           9755.302672   \n",
       "\n",
       "   Ticker Start Year Close       Date    Adj Close  \n",
       "0               254.896896 2020-12-29  3727.040039  \n",
       "1               343.651062 2020-12-29  3727.040039  \n",
       "2               134.239273 2020-12-29  3727.040039  \n",
       "3               222.693405 2020-12-29  3727.040039  \n",
       "4                46.150002 2020-12-29  3727.040039  \n",
       "\n",
       "[5 rows x 22 columns]"
      ]
     },
     "execution_count": 341,
     "metadata": {},
     "output_type": "execute_result"
    }
   ],
   "source": [
    "# Join the SP 500 start of year with current dataframe for SP 500 ytd comparisons to tickers.\n",
    "\n",
    "merged_portfolio_sp_latest_YTD_sp = pd.merge(merged_portfolio_sp_latest_YTD, sp_500_adj_close_start\n",
    "                                             , left_on='Start of Year', right_on='Date')\n",
    "\n",
    "merged_portfolio_sp_latest_YTD_sp.head()"
   ]
  },
  {
   "cell_type": "code",
   "execution_count": 358,
   "metadata": {},
   "outputs": [
    {
     "data": {
      "text/html": [
       "<div>\n",
       "<style scoped>\n",
       "    .dataframe tbody tr th:only-of-type {\n",
       "        vertical-align: middle;\n",
       "    }\n",
       "\n",
       "    .dataframe tbody tr th {\n",
       "        vertical-align: top;\n",
       "    }\n",
       "\n",
       "    .dataframe thead th {\n",
       "        text-align: right;\n",
       "    }\n",
       "</style>\n",
       "<table border=\"1\" class=\"dataframe\">\n",
       "  <thead>\n",
       "    <tr style=\"text-align: right;\">\n",
       "      <th></th>\n",
       "      <th>Ticker</th>\n",
       "      <th>Acquisition Date</th>\n",
       "      <th>Quantity</th>\n",
       "      <th>Unit Cost</th>\n",
       "      <th>Cost Basis</th>\n",
       "      <th>Start of Year</th>\n",
       "      <th>Latest Date</th>\n",
       "      <th>Ticker Adj Close</th>\n",
       "      <th>ticker return</th>\n",
       "      <th>SP 500 Initial Close</th>\n",
       "      <th>...</th>\n",
       "      <th>SP Return</th>\n",
       "      <th>Abs. Return Compare</th>\n",
       "      <th>Ticker Share Value</th>\n",
       "      <th>SP 500 Value</th>\n",
       "      <th>Abs Value Compare</th>\n",
       "      <th>Stock Gain / (Loss)</th>\n",
       "      <th>SP 500 Gain / (Loss)</th>\n",
       "      <th>Ticker Start Year Close</th>\n",
       "      <th>Date</th>\n",
       "      <th>Adj Close</th>\n",
       "    </tr>\n",
       "  </thead>\n",
       "  <tbody>\n",
       "    <tr>\n",
       "      <th>0</th>\n",
       "      <td>AMZN</td>\n",
       "      <td>2014-02-27</td>\n",
       "      <td>25</td>\n",
       "      <td>357.22</td>\n",
       "      <td>8930.5</td>\n",
       "      <td>2020-12-22</td>\n",
       "      <td>2020-12-29</td>\n",
       "      <td>3322.000000</td>\n",
       "      <td>8.299591</td>\n",
       "      <td>1854.290039</td>\n",
       "      <td>...</td>\n",
       "      <td>1.009955</td>\n",
       "      <td>7.289636</td>\n",
       "      <td>83050.000000</td>\n",
       "      <td>17949.905553</td>\n",
       "      <td>65100.094447</td>\n",
       "      <td>74119.500000</td>\n",
       "      <td>9019.405553</td>\n",
       "      <td>3322.000000</td>\n",
       "      <td>2020-12-22</td>\n",
       "      <td>3687.26001</td>\n",
       "    </tr>\n",
       "    <tr>\n",
       "      <th>1</th>\n",
       "      <td>UNH</td>\n",
       "      <td>2013-06-04</td>\n",
       "      <td>130</td>\n",
       "      <td>63.70</td>\n",
       "      <td>8281.0</td>\n",
       "      <td>2020-12-22</td>\n",
       "      <td>2020-12-29</td>\n",
       "      <td>343.651062</td>\n",
       "      <td>4.394836</td>\n",
       "      <td>1631.380005</td>\n",
       "      <td>...</td>\n",
       "      <td>1.284593</td>\n",
       "      <td>3.110243</td>\n",
       "      <td>44674.638062</td>\n",
       "      <td>18918.718184</td>\n",
       "      <td>25755.919877</td>\n",
       "      <td>36393.638062</td>\n",
       "      <td>10637.718184</td>\n",
       "      <td>343.651062</td>\n",
       "      <td>2020-12-22</td>\n",
       "      <td>3687.26001</td>\n",
       "    </tr>\n",
       "    <tr>\n",
       "      <th>2</th>\n",
       "      <td>AAPL</td>\n",
       "      <td>2013-06-04</td>\n",
       "      <td>515</td>\n",
       "      <td>15.44</td>\n",
       "      <td>7951.6</td>\n",
       "      <td>2020-12-22</td>\n",
       "      <td>2020-12-29</td>\n",
       "      <td>134.239273</td>\n",
       "      <td>7.694253</td>\n",
       "      <td>1631.380005</td>\n",
       "      <td>...</td>\n",
       "      <td>1.284593</td>\n",
       "      <td>6.409660</td>\n",
       "      <td>69133.225632</td>\n",
       "      <td>18166.173109</td>\n",
       "      <td>50967.052523</td>\n",
       "      <td>61181.625632</td>\n",
       "      <td>10214.573109</td>\n",
       "      <td>134.239273</td>\n",
       "      <td>2020-12-22</td>\n",
       "      <td>3687.26001</td>\n",
       "    </tr>\n",
       "    <tr>\n",
       "      <th>3</th>\n",
       "      <td>MSFT</td>\n",
       "      <td>2015-12-14</td>\n",
       "      <td>150</td>\n",
       "      <td>54.33</td>\n",
       "      <td>8149.5</td>\n",
       "      <td>2020-12-22</td>\n",
       "      <td>2020-12-29</td>\n",
       "      <td>222.693390</td>\n",
       "      <td>3.098903</td>\n",
       "      <td>2021.939941</td>\n",
       "      <td>...</td>\n",
       "      <td>0.843299</td>\n",
       "      <td>2.255604</td>\n",
       "      <td>33404.008484</td>\n",
       "      <td>15021.965874</td>\n",
       "      <td>18382.042610</td>\n",
       "      <td>25254.508484</td>\n",
       "      <td>6872.465874</td>\n",
       "      <td>222.693390</td>\n",
       "      <td>2020-12-22</td>\n",
       "      <td>3687.26001</td>\n",
       "    </tr>\n",
       "    <tr>\n",
       "      <th>4</th>\n",
       "      <td>GOOG</td>\n",
       "      <td>2013-12-13</td>\n",
       "      <td>15</td>\n",
       "      <td>535.50</td>\n",
       "      <td>8032.5</td>\n",
       "      <td>2020-12-22</td>\n",
       "      <td>2020-12-29</td>\n",
       "      <td>1758.719971</td>\n",
       "      <td>2.284258</td>\n",
       "      <td>1775.319946</td>\n",
       "      <td>...</td>\n",
       "      <td>1.099362</td>\n",
       "      <td>1.184895</td>\n",
       "      <td>26380.799561</td>\n",
       "      <td>16863.128912</td>\n",
       "      <td>9517.670649</td>\n",
       "      <td>18348.299561</td>\n",
       "      <td>8830.628912</td>\n",
       "      <td>1758.719971</td>\n",
       "      <td>2020-12-22</td>\n",
       "      <td>3687.26001</td>\n",
       "    </tr>\n",
       "  </tbody>\n",
       "</table>\n",
       "<p>5 rows × 22 columns</p>\n",
       "</div>"
      ],
      "text/plain": [
       "  Ticker Acquisition Date  Quantity  Unit Cost  Cost Basis Start of Year  \\\n",
       "0   AMZN       2014-02-27        25     357.22      8930.5    2020-12-22   \n",
       "1    UNH       2013-06-04       130      63.70      8281.0    2020-12-22   \n",
       "2   AAPL       2013-06-04       515      15.44      7951.6    2020-12-22   \n",
       "3   MSFT       2015-12-14       150      54.33      8149.5    2020-12-22   \n",
       "4   GOOG       2013-12-13        15     535.50      8032.5    2020-12-22   \n",
       "\n",
       "  Latest Date  Ticker Adj Close  ticker return  SP 500 Initial Close  ...  \\\n",
       "0  2020-12-29       3322.000000       8.299591           1854.290039  ...   \n",
       "1  2020-12-29        343.651062       4.394836           1631.380005  ...   \n",
       "2  2020-12-29        134.239273       7.694253           1631.380005  ...   \n",
       "3  2020-12-29        222.693390       3.098903           2021.939941  ...   \n",
       "4  2020-12-29       1758.719971       2.284258           1775.319946  ...   \n",
       "\n",
       "   SP Return  Abs. Return Compare  Ticker Share Value  SP 500 Value  \\\n",
       "0   1.009955             7.289636        83050.000000  17949.905553   \n",
       "1   1.284593             3.110243        44674.638062  18918.718184   \n",
       "2   1.284593             6.409660        69133.225632  18166.173109   \n",
       "3   0.843299             2.255604        33404.008484  15021.965874   \n",
       "4   1.099362             1.184895        26380.799561  16863.128912   \n",
       "\n",
       "   Abs Value Compare  Stock Gain / (Loss)  SP 500 Gain / (Loss)  \\\n",
       "0       65100.094447         74119.500000           9019.405553   \n",
       "1       25755.919877         36393.638062          10637.718184   \n",
       "2       50967.052523         61181.625632          10214.573109   \n",
       "3       18382.042610         25254.508484           6872.465874   \n",
       "4        9517.670649         18348.299561           8830.628912   \n",
       "\n",
       "   Ticker Start Year Close       Date   Adj Close  \n",
       "0              3322.000000 2020-12-22  3687.26001  \n",
       "1               343.651062 2020-12-22  3687.26001  \n",
       "2               134.239273 2020-12-22  3687.26001  \n",
       "3               222.693390 2020-12-22  3687.26001  \n",
       "4              1758.719971 2020-12-22  3687.26001  \n",
       "\n",
       "[5 rows x 22 columns]"
      ]
     },
     "execution_count": 358,
     "metadata": {},
     "output_type": "execute_result"
    }
   ],
   "source": [
    "# Join the SP 500 start of year with current dataframe for SP 500 ytd comparisons to tickers.\n",
    "\n",
    "merged_portfolio1_sp_latest_YTD_sp = pd.merge(merged_portfolio1_sp_latest_YTD, sp_500_adj_close_start1\n",
    "                                             , left_on='Start of Year', right_on='Date')\n",
    "\n",
    "merged_portfolio1_sp_latest_YTD_sp.head()"
   ]
  },
  {
   "cell_type": "code",
   "execution_count": 352,
   "metadata": {},
   "outputs": [
    {
     "data": {
      "text/html": [
       "<div>\n",
       "<style scoped>\n",
       "    .dataframe tbody tr th:only-of-type {\n",
       "        vertical-align: middle;\n",
       "    }\n",
       "\n",
       "    .dataframe tbody tr th {\n",
       "        vertical-align: top;\n",
       "    }\n",
       "\n",
       "    .dataframe thead th {\n",
       "        text-align: right;\n",
       "    }\n",
       "</style>\n",
       "<table border=\"1\" class=\"dataframe\">\n",
       "  <thead>\n",
       "    <tr style=\"text-align: right;\">\n",
       "      <th></th>\n",
       "      <th>Ticker</th>\n",
       "      <th>Acquisition Date</th>\n",
       "      <th>Quantity</th>\n",
       "      <th>Unit Cost</th>\n",
       "      <th>Cost Basis</th>\n",
       "      <th>Start of Year</th>\n",
       "      <th>Latest Date</th>\n",
       "      <th>Ticker Adj Close</th>\n",
       "      <th>ticker return</th>\n",
       "      <th>SP 500 Initial Close</th>\n",
       "      <th>...</th>\n",
       "      <th>Abs. Return Compare</th>\n",
       "      <th>Ticker Share Value</th>\n",
       "      <th>SP 500 Value</th>\n",
       "      <th>Abs Value Compare</th>\n",
       "      <th>Stock Gain / (Loss)</th>\n",
       "      <th>SP 500 Gain / (Loss)</th>\n",
       "      <th>Ticker Start Year Close</th>\n",
       "      <th>SP Start Year Close</th>\n",
       "      <th>Share YTD</th>\n",
       "      <th>SP 500 YTD</th>\n",
       "    </tr>\n",
       "  </thead>\n",
       "  <tbody>\n",
       "    <tr>\n",
       "      <th>0</th>\n",
       "      <td>GS</td>\n",
       "      <td>2014-02-27</td>\n",
       "      <td>50</td>\n",
       "      <td>162.66</td>\n",
       "      <td>8133.0</td>\n",
       "      <td>2020-12-29</td>\n",
       "      <td>2020-12-29</td>\n",
       "      <td>254.896896</td>\n",
       "      <td>0.567053</td>\n",
       "      <td>1854.290039</td>\n",
       "      <td>...</td>\n",
       "      <td>-0.442902</td>\n",
       "      <td>12744.844818</td>\n",
       "      <td>16346.966224</td>\n",
       "      <td>-3602.121406</td>\n",
       "      <td>4611.844818</td>\n",
       "      <td>8213.966224</td>\n",
       "      <td>254.896896</td>\n",
       "      <td>3727.040039</td>\n",
       "      <td>0.0</td>\n",
       "      <td>0.0</td>\n",
       "    </tr>\n",
       "    <tr>\n",
       "      <th>1</th>\n",
       "      <td>UNH</td>\n",
       "      <td>2013-06-04</td>\n",
       "      <td>130</td>\n",
       "      <td>63.70</td>\n",
       "      <td>8281.0</td>\n",
       "      <td>2020-12-29</td>\n",
       "      <td>2020-12-29</td>\n",
       "      <td>343.651062</td>\n",
       "      <td>4.394836</td>\n",
       "      <td>1631.380005</td>\n",
       "      <td>...</td>\n",
       "      <td>3.110243</td>\n",
       "      <td>44674.638062</td>\n",
       "      <td>18918.718184</td>\n",
       "      <td>25755.919877</td>\n",
       "      <td>36393.638062</td>\n",
       "      <td>10637.718184</td>\n",
       "      <td>343.651062</td>\n",
       "      <td>3727.040039</td>\n",
       "      <td>0.0</td>\n",
       "      <td>0.0</td>\n",
       "    </tr>\n",
       "    <tr>\n",
       "      <th>2</th>\n",
       "      <td>AAPL</td>\n",
       "      <td>2013-06-04</td>\n",
       "      <td>515</td>\n",
       "      <td>15.44</td>\n",
       "      <td>7951.6</td>\n",
       "      <td>2020-12-29</td>\n",
       "      <td>2020-12-29</td>\n",
       "      <td>134.239273</td>\n",
       "      <td>7.694253</td>\n",
       "      <td>1631.380005</td>\n",
       "      <td>...</td>\n",
       "      <td>6.409660</td>\n",
       "      <td>69133.225632</td>\n",
       "      <td>18166.173109</td>\n",
       "      <td>50967.052523</td>\n",
       "      <td>61181.625632</td>\n",
       "      <td>10214.573109</td>\n",
       "      <td>134.239273</td>\n",
       "      <td>3727.040039</td>\n",
       "      <td>0.0</td>\n",
       "      <td>0.0</td>\n",
       "    </tr>\n",
       "    <tr>\n",
       "      <th>3</th>\n",
       "      <td>MSFT</td>\n",
       "      <td>2015-12-14</td>\n",
       "      <td>150</td>\n",
       "      <td>54.33</td>\n",
       "      <td>8149.5</td>\n",
       "      <td>2020-12-29</td>\n",
       "      <td>2020-12-29</td>\n",
       "      <td>222.693405</td>\n",
       "      <td>3.098903</td>\n",
       "      <td>2021.939941</td>\n",
       "      <td>...</td>\n",
       "      <td>2.255604</td>\n",
       "      <td>33404.010773</td>\n",
       "      <td>15021.965874</td>\n",
       "      <td>18382.044899</td>\n",
       "      <td>25254.510773</td>\n",
       "      <td>6872.465874</td>\n",
       "      <td>222.693405</td>\n",
       "      <td>3727.040039</td>\n",
       "      <td>0.0</td>\n",
       "      <td>0.0</td>\n",
       "    </tr>\n",
       "    <tr>\n",
       "      <th>4</th>\n",
       "      <td>LUV</td>\n",
       "      <td>2013-12-13</td>\n",
       "      <td>470</td>\n",
       "      <td>18.88</td>\n",
       "      <td>8873.6</td>\n",
       "      <td>2020-12-29</td>\n",
       "      <td>2020-12-29</td>\n",
       "      <td>46.150002</td>\n",
       "      <td>1.444386</td>\n",
       "      <td>1775.319946</td>\n",
       "      <td>...</td>\n",
       "      <td>0.345023</td>\n",
       "      <td>21690.500717</td>\n",
       "      <td>18628.902672</td>\n",
       "      <td>3061.598045</td>\n",
       "      <td>12816.900717</td>\n",
       "      <td>9755.302672</td>\n",
       "      <td>46.150002</td>\n",
       "      <td>3727.040039</td>\n",
       "      <td>0.0</td>\n",
       "      <td>0.0</td>\n",
       "    </tr>\n",
       "  </tbody>\n",
       "</table>\n",
       "<p>5 rows × 23 columns</p>\n",
       "</div>"
      ],
      "text/plain": [
       "  Ticker Acquisition Date  Quantity  Unit Cost  Cost Basis Start of Year  \\\n",
       "0     GS       2014-02-27        50     162.66      8133.0    2020-12-29   \n",
       "1    UNH       2013-06-04       130      63.70      8281.0    2020-12-29   \n",
       "2   AAPL       2013-06-04       515      15.44      7951.6    2020-12-29   \n",
       "3   MSFT       2015-12-14       150      54.33      8149.5    2020-12-29   \n",
       "4    LUV       2013-12-13       470      18.88      8873.6    2020-12-29   \n",
       "\n",
       "  Latest Date  Ticker Adj Close  ticker return  SP 500 Initial Close  ...  \\\n",
       "0  2020-12-29        254.896896       0.567053           1854.290039  ...   \n",
       "1  2020-12-29        343.651062       4.394836           1631.380005  ...   \n",
       "2  2020-12-29        134.239273       7.694253           1631.380005  ...   \n",
       "3  2020-12-29        222.693405       3.098903           2021.939941  ...   \n",
       "4  2020-12-29         46.150002       1.444386           1775.319946  ...   \n",
       "\n",
       "   Abs. Return Compare  Ticker Share Value  SP 500 Value  Abs Value Compare  \\\n",
       "0            -0.442902        12744.844818  16346.966224       -3602.121406   \n",
       "1             3.110243        44674.638062  18918.718184       25755.919877   \n",
       "2             6.409660        69133.225632  18166.173109       50967.052523   \n",
       "3             2.255604        33404.010773  15021.965874       18382.044899   \n",
       "4             0.345023        21690.500717  18628.902672        3061.598045   \n",
       "\n",
       "   Stock Gain / (Loss)  SP 500 Gain / (Loss)  Ticker Start Year Close  \\\n",
       "0          4611.844818           8213.966224               254.896896   \n",
       "1         36393.638062          10637.718184               343.651062   \n",
       "2         61181.625632          10214.573109               134.239273   \n",
       "3         25254.510773           6872.465874               222.693405   \n",
       "4         12816.900717           9755.302672                46.150002   \n",
       "\n",
       "   SP Start Year Close  Share YTD  SP 500 YTD  \n",
       "0          3727.040039        0.0         0.0  \n",
       "1          3727.040039        0.0         0.0  \n",
       "2          3727.040039        0.0         0.0  \n",
       "3          3727.040039        0.0         0.0  \n",
       "4          3727.040039        0.0         0.0  \n",
       "\n",
       "[5 rows x 23 columns]"
      ]
     },
     "execution_count": 352,
     "metadata": {},
     "output_type": "execute_result"
    }
   ],
   "source": [
    "# Deleting another unneeded Date column.\n",
    "\n",
    "del merged_portfolio_sp_latest_YTD_sp['Date']\n",
    "\n",
    "# Renaming so that it's clear this column is SP 500 start of year close.\n",
    "merged_portfolio_sp_latest_YTD_sp.rename(columns={'Adj Close': 'SP Start Year Close'}, inplace=True)\n",
    "\n",
    "# YTD return for portfolio position.\n",
    "merged_portfolio_sp_latest_YTD_sp['Share YTD'] = merged_portfolio_sp_latest_YTD_sp['Ticker Adj Close'] / merged_portfolio_sp_latest_YTD_sp['Ticker Start Year Close'] - 1\n",
    "\n",
    "# YTD return for SP to run compares.\n",
    "merged_portfolio_sp_latest_YTD_sp['SP 500 YTD'] = merged_portfolio_sp_latest_YTD_sp['SP 500 Latest Close'] / merged_portfolio_sp_latest_YTD_sp['SP Start Year Close'] - 1\n",
    "\n",
    "merged_portfolio_sp_latest_YTD_sp.head()"
   ]
  },
  {
   "cell_type": "code",
   "execution_count": 359,
   "metadata": {},
   "outputs": [
    {
     "data": {
      "text/html": [
       "<div>\n",
       "<style scoped>\n",
       "    .dataframe tbody tr th:only-of-type {\n",
       "        vertical-align: middle;\n",
       "    }\n",
       "\n",
       "    .dataframe tbody tr th {\n",
       "        vertical-align: top;\n",
       "    }\n",
       "\n",
       "    .dataframe thead th {\n",
       "        text-align: right;\n",
       "    }\n",
       "</style>\n",
       "<table border=\"1\" class=\"dataframe\">\n",
       "  <thead>\n",
       "    <tr style=\"text-align: right;\">\n",
       "      <th></th>\n",
       "      <th>Ticker</th>\n",
       "      <th>Acquisition Date</th>\n",
       "      <th>Quantity</th>\n",
       "      <th>Unit Cost</th>\n",
       "      <th>Cost Basis</th>\n",
       "      <th>Start of Year</th>\n",
       "      <th>Latest Date</th>\n",
       "      <th>Ticker Adj Close</th>\n",
       "      <th>ticker return</th>\n",
       "      <th>SP 500 Initial Close</th>\n",
       "      <th>...</th>\n",
       "      <th>Abs. Return Compare</th>\n",
       "      <th>Ticker Share Value</th>\n",
       "      <th>SP 500 Value</th>\n",
       "      <th>Abs Value Compare</th>\n",
       "      <th>Stock Gain / (Loss)</th>\n",
       "      <th>SP 500 Gain / (Loss)</th>\n",
       "      <th>Ticker Start Year Close</th>\n",
       "      <th>SP Start Year Close</th>\n",
       "      <th>Share YTD</th>\n",
       "      <th>SP 500 YTD</th>\n",
       "    </tr>\n",
       "  </thead>\n",
       "  <tbody>\n",
       "    <tr>\n",
       "      <th>0</th>\n",
       "      <td>AMZN</td>\n",
       "      <td>2014-02-27</td>\n",
       "      <td>25</td>\n",
       "      <td>357.22</td>\n",
       "      <td>8930.5</td>\n",
       "      <td>2020-12-22</td>\n",
       "      <td>2020-12-29</td>\n",
       "      <td>3322.000000</td>\n",
       "      <td>8.299591</td>\n",
       "      <td>1854.290039</td>\n",
       "      <td>...</td>\n",
       "      <td>7.289636</td>\n",
       "      <td>83050.000000</td>\n",
       "      <td>17949.905553</td>\n",
       "      <td>65100.094447</td>\n",
       "      <td>74119.500000</td>\n",
       "      <td>9019.405553</td>\n",
       "      <td>3322.000000</td>\n",
       "      <td>3687.26001</td>\n",
       "      <td>0.0</td>\n",
       "      <td>0.010789</td>\n",
       "    </tr>\n",
       "    <tr>\n",
       "      <th>1</th>\n",
       "      <td>UNH</td>\n",
       "      <td>2013-06-04</td>\n",
       "      <td>130</td>\n",
       "      <td>63.70</td>\n",
       "      <td>8281.0</td>\n",
       "      <td>2020-12-22</td>\n",
       "      <td>2020-12-29</td>\n",
       "      <td>343.651062</td>\n",
       "      <td>4.394836</td>\n",
       "      <td>1631.380005</td>\n",
       "      <td>...</td>\n",
       "      <td>3.110243</td>\n",
       "      <td>44674.638062</td>\n",
       "      <td>18918.718184</td>\n",
       "      <td>25755.919877</td>\n",
       "      <td>36393.638062</td>\n",
       "      <td>10637.718184</td>\n",
       "      <td>343.651062</td>\n",
       "      <td>3687.26001</td>\n",
       "      <td>0.0</td>\n",
       "      <td>0.010789</td>\n",
       "    </tr>\n",
       "    <tr>\n",
       "      <th>2</th>\n",
       "      <td>AAPL</td>\n",
       "      <td>2013-06-04</td>\n",
       "      <td>515</td>\n",
       "      <td>15.44</td>\n",
       "      <td>7951.6</td>\n",
       "      <td>2020-12-22</td>\n",
       "      <td>2020-12-29</td>\n",
       "      <td>134.239273</td>\n",
       "      <td>7.694253</td>\n",
       "      <td>1631.380005</td>\n",
       "      <td>...</td>\n",
       "      <td>6.409660</td>\n",
       "      <td>69133.225632</td>\n",
       "      <td>18166.173109</td>\n",
       "      <td>50967.052523</td>\n",
       "      <td>61181.625632</td>\n",
       "      <td>10214.573109</td>\n",
       "      <td>134.239273</td>\n",
       "      <td>3687.26001</td>\n",
       "      <td>0.0</td>\n",
       "      <td>0.010789</td>\n",
       "    </tr>\n",
       "    <tr>\n",
       "      <th>3</th>\n",
       "      <td>MSFT</td>\n",
       "      <td>2015-12-14</td>\n",
       "      <td>150</td>\n",
       "      <td>54.33</td>\n",
       "      <td>8149.5</td>\n",
       "      <td>2020-12-22</td>\n",
       "      <td>2020-12-29</td>\n",
       "      <td>222.693390</td>\n",
       "      <td>3.098903</td>\n",
       "      <td>2021.939941</td>\n",
       "      <td>...</td>\n",
       "      <td>2.255604</td>\n",
       "      <td>33404.008484</td>\n",
       "      <td>15021.965874</td>\n",
       "      <td>18382.042610</td>\n",
       "      <td>25254.508484</td>\n",
       "      <td>6872.465874</td>\n",
       "      <td>222.693390</td>\n",
       "      <td>3687.26001</td>\n",
       "      <td>0.0</td>\n",
       "      <td>0.010789</td>\n",
       "    </tr>\n",
       "    <tr>\n",
       "      <th>4</th>\n",
       "      <td>GOOG</td>\n",
       "      <td>2013-12-13</td>\n",
       "      <td>15</td>\n",
       "      <td>535.50</td>\n",
       "      <td>8032.5</td>\n",
       "      <td>2020-12-22</td>\n",
       "      <td>2020-12-29</td>\n",
       "      <td>1758.719971</td>\n",
       "      <td>2.284258</td>\n",
       "      <td>1775.319946</td>\n",
       "      <td>...</td>\n",
       "      <td>1.184895</td>\n",
       "      <td>26380.799561</td>\n",
       "      <td>16863.128912</td>\n",
       "      <td>9517.670649</td>\n",
       "      <td>18348.299561</td>\n",
       "      <td>8830.628912</td>\n",
       "      <td>1758.719971</td>\n",
       "      <td>3687.26001</td>\n",
       "      <td>0.0</td>\n",
       "      <td>0.010789</td>\n",
       "    </tr>\n",
       "  </tbody>\n",
       "</table>\n",
       "<p>5 rows × 23 columns</p>\n",
       "</div>"
      ],
      "text/plain": [
       "  Ticker Acquisition Date  Quantity  Unit Cost  Cost Basis Start of Year  \\\n",
       "0   AMZN       2014-02-27        25     357.22      8930.5    2020-12-22   \n",
       "1    UNH       2013-06-04       130      63.70      8281.0    2020-12-22   \n",
       "2   AAPL       2013-06-04       515      15.44      7951.6    2020-12-22   \n",
       "3   MSFT       2015-12-14       150      54.33      8149.5    2020-12-22   \n",
       "4   GOOG       2013-12-13        15     535.50      8032.5    2020-12-22   \n",
       "\n",
       "  Latest Date  Ticker Adj Close  ticker return  SP 500 Initial Close  ...  \\\n",
       "0  2020-12-29       3322.000000       8.299591           1854.290039  ...   \n",
       "1  2020-12-29        343.651062       4.394836           1631.380005  ...   \n",
       "2  2020-12-29        134.239273       7.694253           1631.380005  ...   \n",
       "3  2020-12-29        222.693390       3.098903           2021.939941  ...   \n",
       "4  2020-12-29       1758.719971       2.284258           1775.319946  ...   \n",
       "\n",
       "   Abs. Return Compare  Ticker Share Value  SP 500 Value  Abs Value Compare  \\\n",
       "0             7.289636        83050.000000  17949.905553       65100.094447   \n",
       "1             3.110243        44674.638062  18918.718184       25755.919877   \n",
       "2             6.409660        69133.225632  18166.173109       50967.052523   \n",
       "3             2.255604        33404.008484  15021.965874       18382.042610   \n",
       "4             1.184895        26380.799561  16863.128912        9517.670649   \n",
       "\n",
       "   Stock Gain / (Loss)  SP 500 Gain / (Loss)  Ticker Start Year Close  \\\n",
       "0         74119.500000           9019.405553              3322.000000   \n",
       "1         36393.638062          10637.718184               343.651062   \n",
       "2         61181.625632          10214.573109               134.239273   \n",
       "3         25254.508484           6872.465874               222.693390   \n",
       "4         18348.299561           8830.628912              1758.719971   \n",
       "\n",
       "   SP Start Year Close  Share YTD  SP 500 YTD  \n",
       "0           3687.26001        0.0    0.010789  \n",
       "1           3687.26001        0.0    0.010789  \n",
       "2           3687.26001        0.0    0.010789  \n",
       "3           3687.26001        0.0    0.010789  \n",
       "4           3687.26001        0.0    0.010789  \n",
       "\n",
       "[5 rows x 23 columns]"
      ]
     },
     "execution_count": 359,
     "metadata": {},
     "output_type": "execute_result"
    }
   ],
   "source": [
    "# Deleting another unneeded Date column.\n",
    "\n",
    "del merged_portfolio1_sp_latest_YTD_sp['Date']\n",
    "\n",
    "# Renaming so that it's clear this column is SP 500 start of year close.\n",
    "merged_portfolio1_sp_latest_YTD_sp.rename(columns={'Adj Close': 'SP Start Year Close'}, inplace=True)\n",
    "\n",
    "# YTD return for portfolio position.\n",
    "merged_portfolio1_sp_latest_YTD_sp['Share YTD'] = merged_portfolio1_sp_latest_YTD_sp['Ticker Adj Close'] / merged_portfolio1_sp_latest_YTD_sp['Ticker Start Year Close'] - 1\n",
    "\n",
    "# YTD return for SP to run compares.\n",
    "merged_portfolio1_sp_latest_YTD_sp['SP 500 YTD'] = merged_portfolio1_sp_latest_YTD_sp['SP 500 Latest Close'] / merged_portfolio1_sp_latest_YTD_sp['SP Start Year Close'] - 1\n",
    "\n",
    "merged_portfolio1_sp_latest_YTD_sp.head()"
   ]
  },
  {
   "cell_type": "code",
   "execution_count": 360,
   "metadata": {},
   "outputs": [
    {
     "data": {
      "text/html": [
       "<div>\n",
       "<style scoped>\n",
       "    .dataframe tbody tr th:only-of-type {\n",
       "        vertical-align: middle;\n",
       "    }\n",
       "\n",
       "    .dataframe tbody tr th {\n",
       "        vertical-align: top;\n",
       "    }\n",
       "\n",
       "    .dataframe thead th {\n",
       "        text-align: right;\n",
       "    }\n",
       "</style>\n",
       "<table border=\"1\" class=\"dataframe\">\n",
       "  <thead>\n",
       "    <tr style=\"text-align: right;\">\n",
       "      <th></th>\n",
       "      <th>Ticker</th>\n",
       "      <th>Acquisition Date</th>\n",
       "      <th>Quantity</th>\n",
       "      <th>Unit Cost</th>\n",
       "      <th>Cost Basis</th>\n",
       "      <th>Start of Year</th>\n",
       "      <th>Latest Date</th>\n",
       "      <th>Ticker Adj Close</th>\n",
       "      <th>ticker return</th>\n",
       "      <th>SP 500 Initial Close</th>\n",
       "      <th>...</th>\n",
       "      <th>Abs. Return Compare</th>\n",
       "      <th>Ticker Share Value</th>\n",
       "      <th>SP 500 Value</th>\n",
       "      <th>Abs Value Compare</th>\n",
       "      <th>Stock Gain / (Loss)</th>\n",
       "      <th>SP 500 Gain / (Loss)</th>\n",
       "      <th>Ticker Start Year Close</th>\n",
       "      <th>SP Start Year Close</th>\n",
       "      <th>Share YTD</th>\n",
       "      <th>SP 500 YTD</th>\n",
       "    </tr>\n",
       "  </thead>\n",
       "  <tbody>\n",
       "    <tr>\n",
       "      <th>2</th>\n",
       "      <td>AAPL</td>\n",
       "      <td>2013-06-04</td>\n",
       "      <td>515</td>\n",
       "      <td>15.44</td>\n",
       "      <td>7951.6</td>\n",
       "      <td>2020-12-29</td>\n",
       "      <td>2020-12-29</td>\n",
       "      <td>134.239273</td>\n",
       "      <td>7.694253</td>\n",
       "      <td>1631.380005</td>\n",
       "      <td>...</td>\n",
       "      <td>6.409660</td>\n",
       "      <td>69133.225632</td>\n",
       "      <td>18166.173109</td>\n",
       "      <td>50967.052523</td>\n",
       "      <td>61181.625632</td>\n",
       "      <td>10214.573109</td>\n",
       "      <td>134.239273</td>\n",
       "      <td>3727.040039</td>\n",
       "      <td>0.0</td>\n",
       "      <td>0.0</td>\n",
       "    </tr>\n",
       "    <tr>\n",
       "      <th>0</th>\n",
       "      <td>GS</td>\n",
       "      <td>2014-02-27</td>\n",
       "      <td>50</td>\n",
       "      <td>162.66</td>\n",
       "      <td>8133.0</td>\n",
       "      <td>2020-12-29</td>\n",
       "      <td>2020-12-29</td>\n",
       "      <td>254.896896</td>\n",
       "      <td>0.567053</td>\n",
       "      <td>1854.290039</td>\n",
       "      <td>...</td>\n",
       "      <td>-0.442902</td>\n",
       "      <td>12744.844818</td>\n",
       "      <td>16346.966224</td>\n",
       "      <td>-3602.121406</td>\n",
       "      <td>4611.844818</td>\n",
       "      <td>8213.966224</td>\n",
       "      <td>254.896896</td>\n",
       "      <td>3727.040039</td>\n",
       "      <td>0.0</td>\n",
       "      <td>0.0</td>\n",
       "    </tr>\n",
       "    <tr>\n",
       "      <th>4</th>\n",
       "      <td>LUV</td>\n",
       "      <td>2013-12-13</td>\n",
       "      <td>470</td>\n",
       "      <td>18.88</td>\n",
       "      <td>8873.6</td>\n",
       "      <td>2020-12-29</td>\n",
       "      <td>2020-12-29</td>\n",
       "      <td>46.150002</td>\n",
       "      <td>1.444386</td>\n",
       "      <td>1775.319946</td>\n",
       "      <td>...</td>\n",
       "      <td>0.345023</td>\n",
       "      <td>21690.500717</td>\n",
       "      <td>18628.902672</td>\n",
       "      <td>3061.598045</td>\n",
       "      <td>12816.900717</td>\n",
       "      <td>9755.302672</td>\n",
       "      <td>46.150002</td>\n",
       "      <td>3727.040039</td>\n",
       "      <td>0.0</td>\n",
       "      <td>0.0</td>\n",
       "    </tr>\n",
       "    <tr>\n",
       "      <th>3</th>\n",
       "      <td>MSFT</td>\n",
       "      <td>2015-12-14</td>\n",
       "      <td>150</td>\n",
       "      <td>54.33</td>\n",
       "      <td>8149.5</td>\n",
       "      <td>2020-12-29</td>\n",
       "      <td>2020-12-29</td>\n",
       "      <td>222.693405</td>\n",
       "      <td>3.098903</td>\n",
       "      <td>2021.939941</td>\n",
       "      <td>...</td>\n",
       "      <td>2.255604</td>\n",
       "      <td>33404.010773</td>\n",
       "      <td>15021.965874</td>\n",
       "      <td>18382.044899</td>\n",
       "      <td>25254.510773</td>\n",
       "      <td>6872.465874</td>\n",
       "      <td>222.693405</td>\n",
       "      <td>3727.040039</td>\n",
       "      <td>0.0</td>\n",
       "      <td>0.0</td>\n",
       "    </tr>\n",
       "    <tr>\n",
       "      <th>1</th>\n",
       "      <td>UNH</td>\n",
       "      <td>2013-06-04</td>\n",
       "      <td>130</td>\n",
       "      <td>63.70</td>\n",
       "      <td>8281.0</td>\n",
       "      <td>2020-12-29</td>\n",
       "      <td>2020-12-29</td>\n",
       "      <td>343.651062</td>\n",
       "      <td>4.394836</td>\n",
       "      <td>1631.380005</td>\n",
       "      <td>...</td>\n",
       "      <td>3.110243</td>\n",
       "      <td>44674.638062</td>\n",
       "      <td>18918.718184</td>\n",
       "      <td>25755.919877</td>\n",
       "      <td>36393.638062</td>\n",
       "      <td>10637.718184</td>\n",
       "      <td>343.651062</td>\n",
       "      <td>3727.040039</td>\n",
       "      <td>0.0</td>\n",
       "      <td>0.0</td>\n",
       "    </tr>\n",
       "  </tbody>\n",
       "</table>\n",
       "<p>5 rows × 23 columns</p>\n",
       "</div>"
      ],
      "text/plain": [
       "  Ticker Acquisition Date  Quantity  Unit Cost  Cost Basis Start of Year  \\\n",
       "2   AAPL       2013-06-04       515      15.44      7951.6    2020-12-29   \n",
       "0     GS       2014-02-27        50     162.66      8133.0    2020-12-29   \n",
       "4    LUV       2013-12-13       470      18.88      8873.6    2020-12-29   \n",
       "3   MSFT       2015-12-14       150      54.33      8149.5    2020-12-29   \n",
       "1    UNH       2013-06-04       130      63.70      8281.0    2020-12-29   \n",
       "\n",
       "  Latest Date  Ticker Adj Close  ticker return  SP 500 Initial Close  ...  \\\n",
       "2  2020-12-29        134.239273       7.694253           1631.380005  ...   \n",
       "0  2020-12-29        254.896896       0.567053           1854.290039  ...   \n",
       "4  2020-12-29         46.150002       1.444386           1775.319946  ...   \n",
       "3  2020-12-29        222.693405       3.098903           2021.939941  ...   \n",
       "1  2020-12-29        343.651062       4.394836           1631.380005  ...   \n",
       "\n",
       "   Abs. Return Compare  Ticker Share Value  SP 500 Value  Abs Value Compare  \\\n",
       "2             6.409660        69133.225632  18166.173109       50967.052523   \n",
       "0            -0.442902        12744.844818  16346.966224       -3602.121406   \n",
       "4             0.345023        21690.500717  18628.902672        3061.598045   \n",
       "3             2.255604        33404.010773  15021.965874       18382.044899   \n",
       "1             3.110243        44674.638062  18918.718184       25755.919877   \n",
       "\n",
       "   Stock Gain / (Loss)  SP 500 Gain / (Loss)  Ticker Start Year Close  \\\n",
       "2         61181.625632          10214.573109               134.239273   \n",
       "0          4611.844818           8213.966224               254.896896   \n",
       "4         12816.900717           9755.302672                46.150002   \n",
       "3         25254.510773           6872.465874               222.693405   \n",
       "1         36393.638062          10637.718184               343.651062   \n",
       "\n",
       "   SP Start Year Close  Share YTD  SP 500 YTD  \n",
       "2          3727.040039        0.0         0.0  \n",
       "0          3727.040039        0.0         0.0  \n",
       "4          3727.040039        0.0         0.0  \n",
       "3          3727.040039        0.0         0.0  \n",
       "1          3727.040039        0.0         0.0  \n",
       "\n",
       "[5 rows x 23 columns]"
      ]
     },
     "execution_count": 360,
     "metadata": {},
     "output_type": "execute_result"
    }
   ],
   "source": [
    "merged_portfolio_sp_latest_YTD_sp = merged_portfolio_sp_latest_YTD_sp.sort_values(by='Ticker', ascending=True)\n",
    "merged_portfolio_sp_latest_YTD_sp"
   ]
  },
  {
   "cell_type": "code",
   "execution_count": 361,
   "metadata": {},
   "outputs": [
    {
     "data": {
      "text/html": [
       "<div>\n",
       "<style scoped>\n",
       "    .dataframe tbody tr th:only-of-type {\n",
       "        vertical-align: middle;\n",
       "    }\n",
       "\n",
       "    .dataframe tbody tr th {\n",
       "        vertical-align: top;\n",
       "    }\n",
       "\n",
       "    .dataframe thead th {\n",
       "        text-align: right;\n",
       "    }\n",
       "</style>\n",
       "<table border=\"1\" class=\"dataframe\">\n",
       "  <thead>\n",
       "    <tr style=\"text-align: right;\">\n",
       "      <th></th>\n",
       "      <th>Ticker</th>\n",
       "      <th>Acquisition Date</th>\n",
       "      <th>Quantity</th>\n",
       "      <th>Unit Cost</th>\n",
       "      <th>Cost Basis</th>\n",
       "      <th>Start of Year</th>\n",
       "      <th>Latest Date</th>\n",
       "      <th>Ticker Adj Close</th>\n",
       "      <th>ticker return</th>\n",
       "      <th>SP 500 Initial Close</th>\n",
       "      <th>...</th>\n",
       "      <th>Abs. Return Compare</th>\n",
       "      <th>Ticker Share Value</th>\n",
       "      <th>SP 500 Value</th>\n",
       "      <th>Abs Value Compare</th>\n",
       "      <th>Stock Gain / (Loss)</th>\n",
       "      <th>SP 500 Gain / (Loss)</th>\n",
       "      <th>Ticker Start Year Close</th>\n",
       "      <th>SP Start Year Close</th>\n",
       "      <th>Share YTD</th>\n",
       "      <th>SP 500 YTD</th>\n",
       "    </tr>\n",
       "  </thead>\n",
       "  <tbody>\n",
       "    <tr>\n",
       "      <th>2</th>\n",
       "      <td>AAPL</td>\n",
       "      <td>2013-06-04</td>\n",
       "      <td>515</td>\n",
       "      <td>15.44</td>\n",
       "      <td>7951.6</td>\n",
       "      <td>2020-12-22</td>\n",
       "      <td>2020-12-29</td>\n",
       "      <td>134.239273</td>\n",
       "      <td>7.694253</td>\n",
       "      <td>1631.380005</td>\n",
       "      <td>...</td>\n",
       "      <td>6.409660</td>\n",
       "      <td>69133.225632</td>\n",
       "      <td>18166.173109</td>\n",
       "      <td>50967.052523</td>\n",
       "      <td>61181.625632</td>\n",
       "      <td>10214.573109</td>\n",
       "      <td>134.239273</td>\n",
       "      <td>3687.26001</td>\n",
       "      <td>0.0</td>\n",
       "      <td>0.010789</td>\n",
       "    </tr>\n",
       "    <tr>\n",
       "      <th>0</th>\n",
       "      <td>AMZN</td>\n",
       "      <td>2014-02-27</td>\n",
       "      <td>25</td>\n",
       "      <td>357.22</td>\n",
       "      <td>8930.5</td>\n",
       "      <td>2020-12-22</td>\n",
       "      <td>2020-12-29</td>\n",
       "      <td>3322.000000</td>\n",
       "      <td>8.299591</td>\n",
       "      <td>1854.290039</td>\n",
       "      <td>...</td>\n",
       "      <td>7.289636</td>\n",
       "      <td>83050.000000</td>\n",
       "      <td>17949.905553</td>\n",
       "      <td>65100.094447</td>\n",
       "      <td>74119.500000</td>\n",
       "      <td>9019.405553</td>\n",
       "      <td>3322.000000</td>\n",
       "      <td>3687.26001</td>\n",
       "      <td>0.0</td>\n",
       "      <td>0.010789</td>\n",
       "    </tr>\n",
       "    <tr>\n",
       "      <th>4</th>\n",
       "      <td>GOOG</td>\n",
       "      <td>2013-12-13</td>\n",
       "      <td>15</td>\n",
       "      <td>535.50</td>\n",
       "      <td>8032.5</td>\n",
       "      <td>2020-12-22</td>\n",
       "      <td>2020-12-29</td>\n",
       "      <td>1758.719971</td>\n",
       "      <td>2.284258</td>\n",
       "      <td>1775.319946</td>\n",
       "      <td>...</td>\n",
       "      <td>1.184895</td>\n",
       "      <td>26380.799561</td>\n",
       "      <td>16863.128912</td>\n",
       "      <td>9517.670649</td>\n",
       "      <td>18348.299561</td>\n",
       "      <td>8830.628912</td>\n",
       "      <td>1758.719971</td>\n",
       "      <td>3687.26001</td>\n",
       "      <td>0.0</td>\n",
       "      <td>0.010789</td>\n",
       "    </tr>\n",
       "    <tr>\n",
       "      <th>3</th>\n",
       "      <td>MSFT</td>\n",
       "      <td>2015-12-14</td>\n",
       "      <td>150</td>\n",
       "      <td>54.33</td>\n",
       "      <td>8149.5</td>\n",
       "      <td>2020-12-22</td>\n",
       "      <td>2020-12-29</td>\n",
       "      <td>222.693390</td>\n",
       "      <td>3.098903</td>\n",
       "      <td>2021.939941</td>\n",
       "      <td>...</td>\n",
       "      <td>2.255604</td>\n",
       "      <td>33404.008484</td>\n",
       "      <td>15021.965874</td>\n",
       "      <td>18382.042610</td>\n",
       "      <td>25254.508484</td>\n",
       "      <td>6872.465874</td>\n",
       "      <td>222.693390</td>\n",
       "      <td>3687.26001</td>\n",
       "      <td>0.0</td>\n",
       "      <td>0.010789</td>\n",
       "    </tr>\n",
       "    <tr>\n",
       "      <th>1</th>\n",
       "      <td>UNH</td>\n",
       "      <td>2013-06-04</td>\n",
       "      <td>130</td>\n",
       "      <td>63.70</td>\n",
       "      <td>8281.0</td>\n",
       "      <td>2020-12-22</td>\n",
       "      <td>2020-12-29</td>\n",
       "      <td>343.651062</td>\n",
       "      <td>4.394836</td>\n",
       "      <td>1631.380005</td>\n",
       "      <td>...</td>\n",
       "      <td>3.110243</td>\n",
       "      <td>44674.638062</td>\n",
       "      <td>18918.718184</td>\n",
       "      <td>25755.919877</td>\n",
       "      <td>36393.638062</td>\n",
       "      <td>10637.718184</td>\n",
       "      <td>343.651062</td>\n",
       "      <td>3687.26001</td>\n",
       "      <td>0.0</td>\n",
       "      <td>0.010789</td>\n",
       "    </tr>\n",
       "  </tbody>\n",
       "</table>\n",
       "<p>5 rows × 23 columns</p>\n",
       "</div>"
      ],
      "text/plain": [
       "  Ticker Acquisition Date  Quantity  Unit Cost  Cost Basis Start of Year  \\\n",
       "2   AAPL       2013-06-04       515      15.44      7951.6    2020-12-22   \n",
       "0   AMZN       2014-02-27        25     357.22      8930.5    2020-12-22   \n",
       "4   GOOG       2013-12-13        15     535.50      8032.5    2020-12-22   \n",
       "3   MSFT       2015-12-14       150      54.33      8149.5    2020-12-22   \n",
       "1    UNH       2013-06-04       130      63.70      8281.0    2020-12-22   \n",
       "\n",
       "  Latest Date  Ticker Adj Close  ticker return  SP 500 Initial Close  ...  \\\n",
       "2  2020-12-29        134.239273       7.694253           1631.380005  ...   \n",
       "0  2020-12-29       3322.000000       8.299591           1854.290039  ...   \n",
       "4  2020-12-29       1758.719971       2.284258           1775.319946  ...   \n",
       "3  2020-12-29        222.693390       3.098903           2021.939941  ...   \n",
       "1  2020-12-29        343.651062       4.394836           1631.380005  ...   \n",
       "\n",
       "   Abs. Return Compare  Ticker Share Value  SP 500 Value  Abs Value Compare  \\\n",
       "2             6.409660        69133.225632  18166.173109       50967.052523   \n",
       "0             7.289636        83050.000000  17949.905553       65100.094447   \n",
       "4             1.184895        26380.799561  16863.128912        9517.670649   \n",
       "3             2.255604        33404.008484  15021.965874       18382.042610   \n",
       "1             3.110243        44674.638062  18918.718184       25755.919877   \n",
       "\n",
       "   Stock Gain / (Loss)  SP 500 Gain / (Loss)  Ticker Start Year Close  \\\n",
       "2         61181.625632          10214.573109               134.239273   \n",
       "0         74119.500000           9019.405553              3322.000000   \n",
       "4         18348.299561           8830.628912              1758.719971   \n",
       "3         25254.508484           6872.465874               222.693390   \n",
       "1         36393.638062          10637.718184               343.651062   \n",
       "\n",
       "   SP Start Year Close  Share YTD  SP 500 YTD  \n",
       "2           3687.26001        0.0    0.010789  \n",
       "0           3687.26001        0.0    0.010789  \n",
       "4           3687.26001        0.0    0.010789  \n",
       "3           3687.26001        0.0    0.010789  \n",
       "1           3687.26001        0.0    0.010789  \n",
       "\n",
       "[5 rows x 23 columns]"
      ]
     },
     "execution_count": 361,
     "metadata": {},
     "output_type": "execute_result"
    }
   ],
   "source": [
    "merged_portfolio1_sp_latest_YTD_sp = merged_portfolio1_sp_latest_YTD_sp.sort_values(by='Ticker', ascending=True)\n",
    "merged_portfolio1_sp_latest_YTD_sp"
   ]
  },
  {
   "cell_type": "code",
   "execution_count": 362,
   "metadata": {},
   "outputs": [
    {
     "data": {
      "text/html": [
       "<div>\n",
       "<style scoped>\n",
       "    .dataframe tbody tr th:only-of-type {\n",
       "        vertical-align: middle;\n",
       "    }\n",
       "\n",
       "    .dataframe tbody tr th {\n",
       "        vertical-align: top;\n",
       "    }\n",
       "\n",
       "    .dataframe thead th {\n",
       "        text-align: right;\n",
       "    }\n",
       "</style>\n",
       "<table border=\"1\" class=\"dataframe\">\n",
       "  <thead>\n",
       "    <tr style=\"text-align: right;\">\n",
       "      <th></th>\n",
       "      <th>Ticker</th>\n",
       "      <th>Acquisition Date</th>\n",
       "      <th>Quantity</th>\n",
       "      <th>Unit Cost</th>\n",
       "      <th>Cost Basis</th>\n",
       "      <th>Start of Year</th>\n",
       "      <th>Latest Date</th>\n",
       "      <th>Ticker Adj Close</th>\n",
       "      <th>ticker return</th>\n",
       "      <th>SP 500 Initial Close</th>\n",
       "      <th>...</th>\n",
       "      <th>Stock Gain / (Loss)</th>\n",
       "      <th>SP 500 Gain / (Loss)</th>\n",
       "      <th>Ticker Start Year Close</th>\n",
       "      <th>SP Start Year Close</th>\n",
       "      <th>Share YTD</th>\n",
       "      <th>SP 500 YTD</th>\n",
       "      <th>Cum Invst</th>\n",
       "      <th>Cum Ticker Returns</th>\n",
       "      <th>Cum SP Returns</th>\n",
       "      <th>Cum Ticker ROI Mult</th>\n",
       "    </tr>\n",
       "  </thead>\n",
       "  <tbody>\n",
       "    <tr>\n",
       "      <th>2</th>\n",
       "      <td>AAPL</td>\n",
       "      <td>2013-06-04</td>\n",
       "      <td>515</td>\n",
       "      <td>15.44</td>\n",
       "      <td>7951.6</td>\n",
       "      <td>2020-12-29</td>\n",
       "      <td>2020-12-29</td>\n",
       "      <td>134.239273</td>\n",
       "      <td>7.694253</td>\n",
       "      <td>1631.380005</td>\n",
       "      <td>...</td>\n",
       "      <td>61181.625632</td>\n",
       "      <td>10214.573109</td>\n",
       "      <td>134.239273</td>\n",
       "      <td>3727.040039</td>\n",
       "      <td>0.0</td>\n",
       "      <td>0.0</td>\n",
       "      <td>7951.6</td>\n",
       "      <td>69133.225632</td>\n",
       "      <td>18166.173109</td>\n",
       "      <td>8.694253</td>\n",
       "    </tr>\n",
       "    <tr>\n",
       "      <th>0</th>\n",
       "      <td>GS</td>\n",
       "      <td>2014-02-27</td>\n",
       "      <td>50</td>\n",
       "      <td>162.66</td>\n",
       "      <td>8133.0</td>\n",
       "      <td>2020-12-29</td>\n",
       "      <td>2020-12-29</td>\n",
       "      <td>254.896896</td>\n",
       "      <td>0.567053</td>\n",
       "      <td>1854.290039</td>\n",
       "      <td>...</td>\n",
       "      <td>4611.844818</td>\n",
       "      <td>8213.966224</td>\n",
       "      <td>254.896896</td>\n",
       "      <td>3727.040039</td>\n",
       "      <td>0.0</td>\n",
       "      <td>0.0</td>\n",
       "      <td>16084.6</td>\n",
       "      <td>81878.070450</td>\n",
       "      <td>34513.139332</td>\n",
       "      <td>5.090464</td>\n",
       "    </tr>\n",
       "    <tr>\n",
       "      <th>4</th>\n",
       "      <td>LUV</td>\n",
       "      <td>2013-12-13</td>\n",
       "      <td>470</td>\n",
       "      <td>18.88</td>\n",
       "      <td>8873.6</td>\n",
       "      <td>2020-12-29</td>\n",
       "      <td>2020-12-29</td>\n",
       "      <td>46.150002</td>\n",
       "      <td>1.444386</td>\n",
       "      <td>1775.319946</td>\n",
       "      <td>...</td>\n",
       "      <td>12816.900717</td>\n",
       "      <td>9755.302672</td>\n",
       "      <td>46.150002</td>\n",
       "      <td>3727.040039</td>\n",
       "      <td>0.0</td>\n",
       "      <td>0.0</td>\n",
       "      <td>24958.2</td>\n",
       "      <td>103568.571167</td>\n",
       "      <td>53142.042004</td>\n",
       "      <td>4.149681</td>\n",
       "    </tr>\n",
       "    <tr>\n",
       "      <th>3</th>\n",
       "      <td>MSFT</td>\n",
       "      <td>2015-12-14</td>\n",
       "      <td>150</td>\n",
       "      <td>54.33</td>\n",
       "      <td>8149.5</td>\n",
       "      <td>2020-12-29</td>\n",
       "      <td>2020-12-29</td>\n",
       "      <td>222.693405</td>\n",
       "      <td>3.098903</td>\n",
       "      <td>2021.939941</td>\n",
       "      <td>...</td>\n",
       "      <td>25254.510773</td>\n",
       "      <td>6872.465874</td>\n",
       "      <td>222.693405</td>\n",
       "      <td>3727.040039</td>\n",
       "      <td>0.0</td>\n",
       "      <td>0.0</td>\n",
       "      <td>33107.7</td>\n",
       "      <td>136972.581940</td>\n",
       "      <td>68164.007878</td>\n",
       "      <td>4.137182</td>\n",
       "    </tr>\n",
       "    <tr>\n",
       "      <th>1</th>\n",
       "      <td>UNH</td>\n",
       "      <td>2013-06-04</td>\n",
       "      <td>130</td>\n",
       "      <td>63.70</td>\n",
       "      <td>8281.0</td>\n",
       "      <td>2020-12-29</td>\n",
       "      <td>2020-12-29</td>\n",
       "      <td>343.651062</td>\n",
       "      <td>4.394836</td>\n",
       "      <td>1631.380005</td>\n",
       "      <td>...</td>\n",
       "      <td>36393.638062</td>\n",
       "      <td>10637.718184</td>\n",
       "      <td>343.651062</td>\n",
       "      <td>3727.040039</td>\n",
       "      <td>0.0</td>\n",
       "      <td>0.0</td>\n",
       "      <td>41388.7</td>\n",
       "      <td>181647.220001</td>\n",
       "      <td>87082.726062</td>\n",
       "      <td>4.388812</td>\n",
       "    </tr>\n",
       "  </tbody>\n",
       "</table>\n",
       "<p>5 rows × 27 columns</p>\n",
       "</div>"
      ],
      "text/plain": [
       "  Ticker Acquisition Date  Quantity  Unit Cost  Cost Basis Start of Year  \\\n",
       "2   AAPL       2013-06-04       515      15.44      7951.6    2020-12-29   \n",
       "0     GS       2014-02-27        50     162.66      8133.0    2020-12-29   \n",
       "4    LUV       2013-12-13       470      18.88      8873.6    2020-12-29   \n",
       "3   MSFT       2015-12-14       150      54.33      8149.5    2020-12-29   \n",
       "1    UNH       2013-06-04       130      63.70      8281.0    2020-12-29   \n",
       "\n",
       "  Latest Date  Ticker Adj Close  ticker return  SP 500 Initial Close  ...  \\\n",
       "2  2020-12-29        134.239273       7.694253           1631.380005  ...   \n",
       "0  2020-12-29        254.896896       0.567053           1854.290039  ...   \n",
       "4  2020-12-29         46.150002       1.444386           1775.319946  ...   \n",
       "3  2020-12-29        222.693405       3.098903           2021.939941  ...   \n",
       "1  2020-12-29        343.651062       4.394836           1631.380005  ...   \n",
       "\n",
       "   Stock Gain / (Loss)  SP 500 Gain / (Loss)  Ticker Start Year Close  \\\n",
       "2         61181.625632          10214.573109               134.239273   \n",
       "0          4611.844818           8213.966224               254.896896   \n",
       "4         12816.900717           9755.302672                46.150002   \n",
       "3         25254.510773           6872.465874               222.693405   \n",
       "1         36393.638062          10637.718184               343.651062   \n",
       "\n",
       "   SP Start Year Close  Share YTD  SP 500 YTD  Cum Invst  Cum Ticker Returns  \\\n",
       "2          3727.040039        0.0         0.0     7951.6        69133.225632   \n",
       "0          3727.040039        0.0         0.0    16084.6        81878.070450   \n",
       "4          3727.040039        0.0         0.0    24958.2       103568.571167   \n",
       "3          3727.040039        0.0         0.0    33107.7       136972.581940   \n",
       "1          3727.040039        0.0         0.0    41388.7       181647.220001   \n",
       "\n",
       "   Cum SP Returns  Cum Ticker ROI Mult  \n",
       "2    18166.173109             8.694253  \n",
       "0    34513.139332             5.090464  \n",
       "4    53142.042004             4.149681  \n",
       "3    68164.007878             4.137182  \n",
       "1    87082.726062             4.388812  \n",
       "\n",
       "[5 rows x 27 columns]"
      ]
     },
     "execution_count": 362,
     "metadata": {},
     "output_type": "execute_result"
    }
   ],
   "source": [
    "# Cumulative sum of original investment\n",
    "merged_portfolio_sp_latest_YTD_sp['Cum Invst'] = merged_portfolio_sp_latest_YTD_sp['Cost Basis'].cumsum()\n",
    "\n",
    "# Cumulative sum of Ticker Share Value (latest FMV based on initial quantity purchased).\n",
    "merged_portfolio_sp_latest_YTD_sp['Cum Ticker Returns'] = merged_portfolio_sp_latest_YTD_sp['Ticker Share Value'].cumsum()\n",
    "\n",
    "# Cumulative sum of SP Share Value (latest FMV driven off of initial SP equiv purchase).\n",
    "merged_portfolio_sp_latest_YTD_sp['Cum SP Returns'] = merged_portfolio_sp_latest_YTD_sp['SP 500 Value'].cumsum()\n",
    "\n",
    "# Cumulative CoC multiple return for stock investments\n",
    "merged_portfolio_sp_latest_YTD_sp['Cum Ticker ROI Mult'] = merged_portfolio_sp_latest_YTD_sp['Cum Ticker Returns'] / merged_portfolio_sp_latest_YTD_sp['Cum Invst']\n",
    "\n",
    "merged_portfolio_sp_latest_YTD_sp.head()\n"
   ]
  },
  {
   "cell_type": "code",
   "execution_count": 363,
   "metadata": {},
   "outputs": [
    {
     "data": {
      "text/html": [
       "<div>\n",
       "<style scoped>\n",
       "    .dataframe tbody tr th:only-of-type {\n",
       "        vertical-align: middle;\n",
       "    }\n",
       "\n",
       "    .dataframe tbody tr th {\n",
       "        vertical-align: top;\n",
       "    }\n",
       "\n",
       "    .dataframe thead th {\n",
       "        text-align: right;\n",
       "    }\n",
       "</style>\n",
       "<table border=\"1\" class=\"dataframe\">\n",
       "  <thead>\n",
       "    <tr style=\"text-align: right;\">\n",
       "      <th></th>\n",
       "      <th>Ticker</th>\n",
       "      <th>Acquisition Date</th>\n",
       "      <th>Quantity</th>\n",
       "      <th>Unit Cost</th>\n",
       "      <th>Cost Basis</th>\n",
       "      <th>Start of Year</th>\n",
       "      <th>Latest Date</th>\n",
       "      <th>Ticker Adj Close</th>\n",
       "      <th>ticker return</th>\n",
       "      <th>SP 500 Initial Close</th>\n",
       "      <th>...</th>\n",
       "      <th>Stock Gain / (Loss)</th>\n",
       "      <th>SP 500 Gain / (Loss)</th>\n",
       "      <th>Ticker Start Year Close</th>\n",
       "      <th>SP Start Year Close</th>\n",
       "      <th>Share YTD</th>\n",
       "      <th>SP 500 YTD</th>\n",
       "      <th>Cum Invst</th>\n",
       "      <th>Cum Ticker Returns</th>\n",
       "      <th>Cum SP Returns</th>\n",
       "      <th>Cum Ticker ROI Mult</th>\n",
       "    </tr>\n",
       "  </thead>\n",
       "  <tbody>\n",
       "    <tr>\n",
       "      <th>2</th>\n",
       "      <td>AAPL</td>\n",
       "      <td>2013-06-04</td>\n",
       "      <td>515</td>\n",
       "      <td>15.44</td>\n",
       "      <td>7951.6</td>\n",
       "      <td>2020-12-22</td>\n",
       "      <td>2020-12-29</td>\n",
       "      <td>134.239273</td>\n",
       "      <td>7.694253</td>\n",
       "      <td>1631.380005</td>\n",
       "      <td>...</td>\n",
       "      <td>61181.625632</td>\n",
       "      <td>10214.573109</td>\n",
       "      <td>134.239273</td>\n",
       "      <td>3687.26001</td>\n",
       "      <td>0.0</td>\n",
       "      <td>0.010789</td>\n",
       "      <td>7951.6</td>\n",
       "      <td>69133.225632</td>\n",
       "      <td>18166.173109</td>\n",
       "      <td>8.694253</td>\n",
       "    </tr>\n",
       "    <tr>\n",
       "      <th>0</th>\n",
       "      <td>AMZN</td>\n",
       "      <td>2014-02-27</td>\n",
       "      <td>25</td>\n",
       "      <td>357.22</td>\n",
       "      <td>8930.5</td>\n",
       "      <td>2020-12-22</td>\n",
       "      <td>2020-12-29</td>\n",
       "      <td>3322.000000</td>\n",
       "      <td>8.299591</td>\n",
       "      <td>1854.290039</td>\n",
       "      <td>...</td>\n",
       "      <td>74119.500000</td>\n",
       "      <td>9019.405553</td>\n",
       "      <td>3322.000000</td>\n",
       "      <td>3687.26001</td>\n",
       "      <td>0.0</td>\n",
       "      <td>0.010789</td>\n",
       "      <td>16882.1</td>\n",
       "      <td>152183.225632</td>\n",
       "      <td>36116.078661</td>\n",
       "      <td>9.014472</td>\n",
       "    </tr>\n",
       "    <tr>\n",
       "      <th>4</th>\n",
       "      <td>GOOG</td>\n",
       "      <td>2013-12-13</td>\n",
       "      <td>15</td>\n",
       "      <td>535.50</td>\n",
       "      <td>8032.5</td>\n",
       "      <td>2020-12-22</td>\n",
       "      <td>2020-12-29</td>\n",
       "      <td>1758.719971</td>\n",
       "      <td>2.284258</td>\n",
       "      <td>1775.319946</td>\n",
       "      <td>...</td>\n",
       "      <td>18348.299561</td>\n",
       "      <td>8830.628912</td>\n",
       "      <td>1758.719971</td>\n",
       "      <td>3687.26001</td>\n",
       "      <td>0.0</td>\n",
       "      <td>0.010789</td>\n",
       "      <td>24914.6</td>\n",
       "      <td>178564.025192</td>\n",
       "      <td>52979.207573</td>\n",
       "      <td>7.167044</td>\n",
       "    </tr>\n",
       "    <tr>\n",
       "      <th>3</th>\n",
       "      <td>MSFT</td>\n",
       "      <td>2015-12-14</td>\n",
       "      <td>150</td>\n",
       "      <td>54.33</td>\n",
       "      <td>8149.5</td>\n",
       "      <td>2020-12-22</td>\n",
       "      <td>2020-12-29</td>\n",
       "      <td>222.693390</td>\n",
       "      <td>3.098903</td>\n",
       "      <td>2021.939941</td>\n",
       "      <td>...</td>\n",
       "      <td>25254.508484</td>\n",
       "      <td>6872.465874</td>\n",
       "      <td>222.693390</td>\n",
       "      <td>3687.26001</td>\n",
       "      <td>0.0</td>\n",
       "      <td>0.010789</td>\n",
       "      <td>33064.1</td>\n",
       "      <td>211968.033676</td>\n",
       "      <td>68001.173447</td>\n",
       "      <td>6.410821</td>\n",
       "    </tr>\n",
       "    <tr>\n",
       "      <th>1</th>\n",
       "      <td>UNH</td>\n",
       "      <td>2013-06-04</td>\n",
       "      <td>130</td>\n",
       "      <td>63.70</td>\n",
       "      <td>8281.0</td>\n",
       "      <td>2020-12-22</td>\n",
       "      <td>2020-12-29</td>\n",
       "      <td>343.651062</td>\n",
       "      <td>4.394836</td>\n",
       "      <td>1631.380005</td>\n",
       "      <td>...</td>\n",
       "      <td>36393.638062</td>\n",
       "      <td>10637.718184</td>\n",
       "      <td>343.651062</td>\n",
       "      <td>3687.26001</td>\n",
       "      <td>0.0</td>\n",
       "      <td>0.010789</td>\n",
       "      <td>41345.1</td>\n",
       "      <td>256642.671738</td>\n",
       "      <td>86919.891631</td>\n",
       "      <td>6.207330</td>\n",
       "    </tr>\n",
       "  </tbody>\n",
       "</table>\n",
       "<p>5 rows × 27 columns</p>\n",
       "</div>"
      ],
      "text/plain": [
       "  Ticker Acquisition Date  Quantity  Unit Cost  Cost Basis Start of Year  \\\n",
       "2   AAPL       2013-06-04       515      15.44      7951.6    2020-12-22   \n",
       "0   AMZN       2014-02-27        25     357.22      8930.5    2020-12-22   \n",
       "4   GOOG       2013-12-13        15     535.50      8032.5    2020-12-22   \n",
       "3   MSFT       2015-12-14       150      54.33      8149.5    2020-12-22   \n",
       "1    UNH       2013-06-04       130      63.70      8281.0    2020-12-22   \n",
       "\n",
       "  Latest Date  Ticker Adj Close  ticker return  SP 500 Initial Close  ...  \\\n",
       "2  2020-12-29        134.239273       7.694253           1631.380005  ...   \n",
       "0  2020-12-29       3322.000000       8.299591           1854.290039  ...   \n",
       "4  2020-12-29       1758.719971       2.284258           1775.319946  ...   \n",
       "3  2020-12-29        222.693390       3.098903           2021.939941  ...   \n",
       "1  2020-12-29        343.651062       4.394836           1631.380005  ...   \n",
       "\n",
       "   Stock Gain / (Loss)  SP 500 Gain / (Loss)  Ticker Start Year Close  \\\n",
       "2         61181.625632          10214.573109               134.239273   \n",
       "0         74119.500000           9019.405553              3322.000000   \n",
       "4         18348.299561           8830.628912              1758.719971   \n",
       "3         25254.508484           6872.465874               222.693390   \n",
       "1         36393.638062          10637.718184               343.651062   \n",
       "\n",
       "   SP Start Year Close  Share YTD  SP 500 YTD  Cum Invst  Cum Ticker Returns  \\\n",
       "2           3687.26001        0.0    0.010789     7951.6        69133.225632   \n",
       "0           3687.26001        0.0    0.010789    16882.1       152183.225632   \n",
       "4           3687.26001        0.0    0.010789    24914.6       178564.025192   \n",
       "3           3687.26001        0.0    0.010789    33064.1       211968.033676   \n",
       "1           3687.26001        0.0    0.010789    41345.1       256642.671738   \n",
       "\n",
       "   Cum SP Returns  Cum Ticker ROI Mult  \n",
       "2    18166.173109             8.694253  \n",
       "0    36116.078661             9.014472  \n",
       "4    52979.207573             7.167044  \n",
       "3    68001.173447             6.410821  \n",
       "1    86919.891631             6.207330  \n",
       "\n",
       "[5 rows x 27 columns]"
      ]
     },
     "execution_count": 363,
     "metadata": {},
     "output_type": "execute_result"
    }
   ],
   "source": [
    "# Cumulative sum of original investment\n",
    "merged_portfolio1_sp_latest_YTD_sp['Cum Invst'] = merged_portfolio1_sp_latest_YTD_sp['Cost Basis'].cumsum()\n",
    "\n",
    "# Cumulative sum of Ticker Share Value (latest FMV based on initial quantity purchased).\n",
    "merged_portfolio1_sp_latest_YTD_sp['Cum Ticker Returns'] = merged_portfolio1_sp_latest_YTD_sp['Ticker Share Value'].cumsum()\n",
    "\n",
    "# Cumulative sum of SP Share Value (latest FMV driven off of initial SP equiv purchase).\n",
    "merged_portfolio1_sp_latest_YTD_sp['Cum SP Returns'] = merged_portfolio1_sp_latest_YTD_sp['SP 500 Value'].cumsum()\n",
    "\n",
    "# Cumulative CoC multiple return for stock investments\n",
    "merged_portfolio1_sp_latest_YTD_sp['Cum Ticker ROI Mult'] = merged_portfolio1_sp_latest_YTD_sp['Cum Ticker Returns'] / merged_portfolio1_sp_latest_YTD_sp['Cum Invst']\n",
    "\n",
    "merged_portfolio1_sp_latest_YTD_sp.head()"
   ]
  },
  {
   "cell_type": "markdown",
   "metadata": {},
   "source": [
    "## Assessing Where Positions are At versus Highest Close"
   ]
  },
  {
   "cell_type": "code",
   "execution_count": 364,
   "metadata": {},
   "outputs": [
    {
     "data": {
      "text/html": [
       "<div>\n",
       "<style scoped>\n",
       "    .dataframe tbody tr th:only-of-type {\n",
       "        vertical-align: middle;\n",
       "    }\n",
       "\n",
       "    .dataframe tbody tr th {\n",
       "        vertical-align: top;\n",
       "    }\n",
       "\n",
       "    .dataframe thead th {\n",
       "        text-align: right;\n",
       "    }\n",
       "</style>\n",
       "<table border=\"1\" class=\"dataframe\">\n",
       "  <thead>\n",
       "    <tr style=\"text-align: right;\">\n",
       "      <th></th>\n",
       "      <th>Ticker</th>\n",
       "      <th>Date</th>\n",
       "      <th>Adj Close</th>\n",
       "    </tr>\n",
       "  </thead>\n",
       "  <tbody>\n",
       "    <tr>\n",
       "      <th>0</th>\n",
       "      <td>GS</td>\n",
       "      <td>2012-12-31</td>\n",
       "      <td>111.202988</td>\n",
       "    </tr>\n",
       "    <tr>\n",
       "      <th>1</th>\n",
       "      <td>GS</td>\n",
       "      <td>2013-01-02</td>\n",
       "      <td>114.777237</td>\n",
       "    </tr>\n",
       "    <tr>\n",
       "      <th>2</th>\n",
       "      <td>GS</td>\n",
       "      <td>2013-01-03</td>\n",
       "      <td>114.149582</td>\n",
       "    </tr>\n",
       "    <tr>\n",
       "      <th>3</th>\n",
       "      <td>GS</td>\n",
       "      <td>2013-01-04</td>\n",
       "      <td>117.261780</td>\n",
       "    </tr>\n",
       "    <tr>\n",
       "      <th>4</th>\n",
       "      <td>GS</td>\n",
       "      <td>2013-01-07</td>\n",
       "      <td>117.043854</td>\n",
       "    </tr>\n",
       "  </tbody>\n",
       "</table>\n",
       "</div>"
      ],
      "text/plain": [
       "  Ticker       Date   Adj Close\n",
       "0     GS 2012-12-31  111.202988\n",
       "1     GS 2013-01-02  114.777237\n",
       "2     GS 2013-01-03  114.149582\n",
       "3     GS 2013-01-04  117.261780\n",
       "4     GS 2013-01-07  117.043854"
      ]
     },
     "execution_count": 364,
     "metadata": {},
     "output_type": "execute_result"
    }
   ],
   "source": [
    "# Referencing the adj_close dataframe from above\n",
    "\n",
    "adj_close.head()"
   ]
  },
  {
   "cell_type": "code",
   "execution_count": 365,
   "metadata": {},
   "outputs": [
    {
     "data": {
      "text/html": [
       "<div>\n",
       "<style scoped>\n",
       "    .dataframe tbody tr th:only-of-type {\n",
       "        vertical-align: middle;\n",
       "    }\n",
       "\n",
       "    .dataframe tbody tr th {\n",
       "        vertical-align: top;\n",
       "    }\n",
       "\n",
       "    .dataframe thead th {\n",
       "        text-align: right;\n",
       "    }\n",
       "</style>\n",
       "<table border=\"1\" class=\"dataframe\">\n",
       "  <thead>\n",
       "    <tr style=\"text-align: right;\">\n",
       "      <th></th>\n",
       "      <th>Ticker</th>\n",
       "      <th>Date</th>\n",
       "      <th>Adj Close</th>\n",
       "    </tr>\n",
       "  </thead>\n",
       "  <tbody>\n",
       "    <tr>\n",
       "      <th>0</th>\n",
       "      <td>AMZN</td>\n",
       "      <td>2012-12-31</td>\n",
       "      <td>250.869995</td>\n",
       "    </tr>\n",
       "    <tr>\n",
       "      <th>1</th>\n",
       "      <td>AMZN</td>\n",
       "      <td>2013-01-02</td>\n",
       "      <td>257.309998</td>\n",
       "    </tr>\n",
       "    <tr>\n",
       "      <th>2</th>\n",
       "      <td>AMZN</td>\n",
       "      <td>2013-01-03</td>\n",
       "      <td>258.480011</td>\n",
       "    </tr>\n",
       "    <tr>\n",
       "      <th>3</th>\n",
       "      <td>AMZN</td>\n",
       "      <td>2013-01-04</td>\n",
       "      <td>259.149994</td>\n",
       "    </tr>\n",
       "    <tr>\n",
       "      <th>4</th>\n",
       "      <td>AMZN</td>\n",
       "      <td>2013-01-07</td>\n",
       "      <td>268.459991</td>\n",
       "    </tr>\n",
       "  </tbody>\n",
       "</table>\n",
       "</div>"
      ],
      "text/plain": [
       "  Ticker       Date   Adj Close\n",
       "0   AMZN 2012-12-31  250.869995\n",
       "1   AMZN 2013-01-02  257.309998\n",
       "2   AMZN 2013-01-03  258.480011\n",
       "3   AMZN 2013-01-04  259.149994\n",
       "4   AMZN 2013-01-07  268.459991"
      ]
     },
     "execution_count": 365,
     "metadata": {},
     "output_type": "execute_result"
    }
   ],
   "source": [
    "# Referencing the adj_close dataframe from above\n",
    "\n",
    "adj_close1.head()"
   ]
  },
  {
   "cell_type": "code",
   "execution_count": 366,
   "metadata": {},
   "outputs": [
    {
     "data": {
      "text/html": [
       "<div>\n",
       "<style scoped>\n",
       "    .dataframe tbody tr th:only-of-type {\n",
       "        vertical-align: middle;\n",
       "    }\n",
       "\n",
       "    .dataframe tbody tr th {\n",
       "        vertical-align: top;\n",
       "    }\n",
       "\n",
       "    .dataframe thead th {\n",
       "        text-align: right;\n",
       "    }\n",
       "</style>\n",
       "<table border=\"1\" class=\"dataframe\">\n",
       "  <thead>\n",
       "    <tr style=\"text-align: right;\">\n",
       "      <th></th>\n",
       "      <th>Acquisition Date</th>\n",
       "      <th>Quantity</th>\n",
       "      <th>Unit Cost</th>\n",
       "      <th>Cost Basis</th>\n",
       "      <th>Start of Year</th>\n",
       "    </tr>\n",
       "    <tr>\n",
       "      <th>Ticker</th>\n",
       "      <th></th>\n",
       "      <th></th>\n",
       "      <th></th>\n",
       "      <th></th>\n",
       "      <th></th>\n",
       "    </tr>\n",
       "  </thead>\n",
       "  <tbody>\n",
       "    <tr>\n",
       "      <th>GS</th>\n",
       "      <td>2014-02-27</td>\n",
       "      <td>50</td>\n",
       "      <td>162.66</td>\n",
       "      <td>8133.0</td>\n",
       "      <td>2020-12-29</td>\n",
       "    </tr>\n",
       "    <tr>\n",
       "      <th>UNH</th>\n",
       "      <td>2013-06-04</td>\n",
       "      <td>130</td>\n",
       "      <td>63.70</td>\n",
       "      <td>8281.0</td>\n",
       "      <td>2020-12-29</td>\n",
       "    </tr>\n",
       "    <tr>\n",
       "      <th>MSFT</th>\n",
       "      <td>2015-12-14</td>\n",
       "      <td>150</td>\n",
       "      <td>54.33</td>\n",
       "      <td>8149.5</td>\n",
       "      <td>2020-12-29</td>\n",
       "    </tr>\n",
       "    <tr>\n",
       "      <th>AAPL</th>\n",
       "      <td>2013-06-04</td>\n",
       "      <td>515</td>\n",
       "      <td>15.44</td>\n",
       "      <td>7951.6</td>\n",
       "      <td>2020-12-29</td>\n",
       "    </tr>\n",
       "    <tr>\n",
       "      <th>LUV</th>\n",
       "      <td>2013-12-13</td>\n",
       "      <td>470</td>\n",
       "      <td>18.88</td>\n",
       "      <td>8873.6</td>\n",
       "      <td>2020-12-29</td>\n",
       "    </tr>\n",
       "  </tbody>\n",
       "</table>\n",
       "</div>"
      ],
      "text/plain": [
       "       Acquisition Date  Quantity  Unit Cost  Cost Basis Start of Year\n",
       "Ticker                                                                \n",
       "GS           2014-02-27        50     162.66      8133.0    2020-12-29\n",
       "UNH          2013-06-04       130      63.70      8281.0    2020-12-29\n",
       "MSFT         2015-12-14       150      54.33      8149.5    2020-12-29\n",
       "AAPL         2013-06-04       515      15.44      7951.6    2020-12-29\n",
       "LUV          2013-12-13       470      18.88      8873.6    2020-12-29"
      ]
     },
     "execution_count": 366,
     "metadata": {},
     "output_type": "execute_result"
    }
   ],
   "source": [
    "portfolio_df.head()"
   ]
  },
  {
   "cell_type": "code",
   "execution_count": 367,
   "metadata": {},
   "outputs": [
    {
     "data": {
      "text/html": [
       "<div>\n",
       "<style scoped>\n",
       "    .dataframe tbody tr th:only-of-type {\n",
       "        vertical-align: middle;\n",
       "    }\n",
       "\n",
       "    .dataframe tbody tr th {\n",
       "        vertical-align: top;\n",
       "    }\n",
       "\n",
       "    .dataframe thead th {\n",
       "        text-align: right;\n",
       "    }\n",
       "</style>\n",
       "<table border=\"1\" class=\"dataframe\">\n",
       "  <thead>\n",
       "    <tr style=\"text-align: right;\">\n",
       "      <th></th>\n",
       "      <th>Ticker</th>\n",
       "      <th>Date</th>\n",
       "      <th>Adj Close</th>\n",
       "      <th>Acquisition Date</th>\n",
       "      <th>Quantity</th>\n",
       "      <th>Unit Cost</th>\n",
       "      <th>Cost Basis</th>\n",
       "      <th>Start of Year</th>\n",
       "    </tr>\n",
       "  </thead>\n",
       "  <tbody>\n",
       "    <tr>\n",
       "      <th>0</th>\n",
       "      <td>GS</td>\n",
       "      <td>2012-12-31</td>\n",
       "      <td>111.202988</td>\n",
       "      <td>2014-02-27</td>\n",
       "      <td>50</td>\n",
       "      <td>162.66</td>\n",
       "      <td>8133.0</td>\n",
       "      <td>2020-12-29</td>\n",
       "    </tr>\n",
       "    <tr>\n",
       "      <th>1</th>\n",
       "      <td>GS</td>\n",
       "      <td>2013-01-02</td>\n",
       "      <td>114.777237</td>\n",
       "      <td>2014-02-27</td>\n",
       "      <td>50</td>\n",
       "      <td>162.66</td>\n",
       "      <td>8133.0</td>\n",
       "      <td>2020-12-29</td>\n",
       "    </tr>\n",
       "    <tr>\n",
       "      <th>2</th>\n",
       "      <td>GS</td>\n",
       "      <td>2013-01-03</td>\n",
       "      <td>114.149582</td>\n",
       "      <td>2014-02-27</td>\n",
       "      <td>50</td>\n",
       "      <td>162.66</td>\n",
       "      <td>8133.0</td>\n",
       "      <td>2020-12-29</td>\n",
       "    </tr>\n",
       "    <tr>\n",
       "      <th>3</th>\n",
       "      <td>GS</td>\n",
       "      <td>2013-01-04</td>\n",
       "      <td>117.261780</td>\n",
       "      <td>2014-02-27</td>\n",
       "      <td>50</td>\n",
       "      <td>162.66</td>\n",
       "      <td>8133.0</td>\n",
       "      <td>2020-12-29</td>\n",
       "    </tr>\n",
       "    <tr>\n",
       "      <th>4</th>\n",
       "      <td>GS</td>\n",
       "      <td>2013-01-07</td>\n",
       "      <td>117.043854</td>\n",
       "      <td>2014-02-27</td>\n",
       "      <td>50</td>\n",
       "      <td>162.66</td>\n",
       "      <td>8133.0</td>\n",
       "      <td>2020-12-29</td>\n",
       "    </tr>\n",
       "  </tbody>\n",
       "</table>\n",
       "</div>"
      ],
      "text/plain": [
       "  Ticker       Date   Adj Close Acquisition Date  Quantity  Unit Cost  \\\n",
       "0     GS 2012-12-31  111.202988       2014-02-27        50     162.66   \n",
       "1     GS 2013-01-02  114.777237       2014-02-27        50     162.66   \n",
       "2     GS 2013-01-03  114.149582       2014-02-27        50     162.66   \n",
       "3     GS 2013-01-04  117.261780       2014-02-27        50     162.66   \n",
       "4     GS 2013-01-07  117.043854       2014-02-27        50     162.66   \n",
       "\n",
       "   Cost Basis Start of Year  \n",
       "0      8133.0    2020-12-29  \n",
       "1      8133.0    2020-12-29  \n",
       "2      8133.0    2020-12-29  \n",
       "3      8133.0    2020-12-29  \n",
       "4      8133.0    2020-12-29  "
      ]
     },
     "execution_count": 367,
     "metadata": {},
     "output_type": "execute_result"
    }
   ],
   "source": [
    "# Need to factor in that some positions were purchased much more recently than others.\n",
    "# Join adj_close dataframe with portfolio in order to have acquisition date.\n",
    "\n",
    "portfolio_df.reset_index(inplace=True)\n",
    "\n",
    "adj_close_acq_date = pd.merge(adj_close, portfolio_df, on='Ticker')\n",
    "\n",
    "adj_close_acq_date.head()"
   ]
  },
  {
   "cell_type": "code",
   "execution_count": 368,
   "metadata": {},
   "outputs": [
    {
     "data": {
      "text/html": [
       "<div>\n",
       "<style scoped>\n",
       "    .dataframe tbody tr th:only-of-type {\n",
       "        vertical-align: middle;\n",
       "    }\n",
       "\n",
       "    .dataframe tbody tr th {\n",
       "        vertical-align: top;\n",
       "    }\n",
       "\n",
       "    .dataframe thead th {\n",
       "        text-align: right;\n",
       "    }\n",
       "</style>\n",
       "<table border=\"1\" class=\"dataframe\">\n",
       "  <thead>\n",
       "    <tr style=\"text-align: right;\">\n",
       "      <th></th>\n",
       "      <th>Ticker</th>\n",
       "      <th>Date</th>\n",
       "      <th>Adj Close</th>\n",
       "      <th>Acquisition Date</th>\n",
       "      <th>Quantity</th>\n",
       "      <th>Unit Cost</th>\n",
       "      <th>Cost Basis</th>\n",
       "      <th>Start of Year</th>\n",
       "    </tr>\n",
       "  </thead>\n",
       "  <tbody>\n",
       "    <tr>\n",
       "      <th>0</th>\n",
       "      <td>AMZN</td>\n",
       "      <td>2012-12-31</td>\n",
       "      <td>250.869995</td>\n",
       "      <td>2014-02-27</td>\n",
       "      <td>25</td>\n",
       "      <td>357.22</td>\n",
       "      <td>8930.5</td>\n",
       "      <td>2020-12-22</td>\n",
       "    </tr>\n",
       "    <tr>\n",
       "      <th>1</th>\n",
       "      <td>AMZN</td>\n",
       "      <td>2013-01-02</td>\n",
       "      <td>257.309998</td>\n",
       "      <td>2014-02-27</td>\n",
       "      <td>25</td>\n",
       "      <td>357.22</td>\n",
       "      <td>8930.5</td>\n",
       "      <td>2020-12-22</td>\n",
       "    </tr>\n",
       "    <tr>\n",
       "      <th>2</th>\n",
       "      <td>AMZN</td>\n",
       "      <td>2013-01-03</td>\n",
       "      <td>258.480011</td>\n",
       "      <td>2014-02-27</td>\n",
       "      <td>25</td>\n",
       "      <td>357.22</td>\n",
       "      <td>8930.5</td>\n",
       "      <td>2020-12-22</td>\n",
       "    </tr>\n",
       "    <tr>\n",
       "      <th>3</th>\n",
       "      <td>AMZN</td>\n",
       "      <td>2013-01-04</td>\n",
       "      <td>259.149994</td>\n",
       "      <td>2014-02-27</td>\n",
       "      <td>25</td>\n",
       "      <td>357.22</td>\n",
       "      <td>8930.5</td>\n",
       "      <td>2020-12-22</td>\n",
       "    </tr>\n",
       "    <tr>\n",
       "      <th>4</th>\n",
       "      <td>AMZN</td>\n",
       "      <td>2013-01-07</td>\n",
       "      <td>268.459991</td>\n",
       "      <td>2014-02-27</td>\n",
       "      <td>25</td>\n",
       "      <td>357.22</td>\n",
       "      <td>8930.5</td>\n",
       "      <td>2020-12-22</td>\n",
       "    </tr>\n",
       "  </tbody>\n",
       "</table>\n",
       "</div>"
      ],
      "text/plain": [
       "  Ticker       Date   Adj Close Acquisition Date  Quantity  Unit Cost  \\\n",
       "0   AMZN 2012-12-31  250.869995       2014-02-27        25     357.22   \n",
       "1   AMZN 2013-01-02  257.309998       2014-02-27        25     357.22   \n",
       "2   AMZN 2013-01-03  258.480011       2014-02-27        25     357.22   \n",
       "3   AMZN 2013-01-04  259.149994       2014-02-27        25     357.22   \n",
       "4   AMZN 2013-01-07  268.459991       2014-02-27        25     357.22   \n",
       "\n",
       "   Cost Basis Start of Year  \n",
       "0      8930.5    2020-12-22  \n",
       "1      8930.5    2020-12-22  \n",
       "2      8930.5    2020-12-22  \n",
       "3      8930.5    2020-12-22  \n",
       "4      8930.5    2020-12-22  "
      ]
     },
     "execution_count": 368,
     "metadata": {},
     "output_type": "execute_result"
    }
   ],
   "source": [
    "# Need to factor in that some positions were purchased much more recently than others.\n",
    "# Join adj_close dataframe with portfolio in order to have acquisition date.\n",
    "\n",
    "portfolio_df1.reset_index(inplace=True)\n",
    "\n",
    "adj_close_acq_date1 = pd.merge(adj_close1, portfolio_df1, on='Ticker')\n",
    "\n",
    "adj_close_acq_date1.head()"
   ]
  },
  {
   "cell_type": "code",
   "execution_count": 369,
   "metadata": {
    "collapsed": true
   },
   "outputs": [],
   "source": [
    "# delete_columns = ['Quantity', 'Unit Cost', 'Cost Basis', 'Start of Year']\n",
    "\n",
    "del adj_close_acq_date['Quantity']\n",
    "del adj_close_acq_date['Unit Cost']\n",
    "del adj_close_acq_date['Cost Basis']\n",
    "del adj_close_acq_date['Start of Year']\n",
    "\n",
    "# Sort by these columns in this order in order to make it clearer where compare for each position should begin.\n",
    "adj_close_acq_date.sort_values(by=['Ticker', 'Acquisition Date', 'Date'], ascending=[True, True, True], inplace=True)"
   ]
  },
  {
   "cell_type": "code",
   "execution_count": 370,
   "metadata": {},
   "outputs": [],
   "source": [
    "# delete_columns = ['Quantity', 'Unit Cost', 'Cost Basis', 'Start of Year']\n",
    "\n",
    "del adj_close_acq_date1['Quantity']\n",
    "del adj_close_acq_date1['Unit Cost']\n",
    "del adj_close_acq_date1['Cost Basis']\n",
    "del adj_close_acq_date1['Start of Year']\n",
    "\n",
    "# Sort by these columns in this order in order to make it clearer where compare for each position should begin.\n",
    "adj_close_acq_date1.sort_values(by=['Ticker', 'Acquisition Date', 'Date'], ascending=[True, True, True], inplace=True)"
   ]
  },
  {
   "cell_type": "code",
   "execution_count": 371,
   "metadata": {},
   "outputs": [
    {
     "data": {
      "text/html": [
       "<div>\n",
       "<style scoped>\n",
       "    .dataframe tbody tr th:only-of-type {\n",
       "        vertical-align: middle;\n",
       "    }\n",
       "\n",
       "    .dataframe tbody tr th {\n",
       "        vertical-align: top;\n",
       "    }\n",
       "\n",
       "    .dataframe thead th {\n",
       "        text-align: right;\n",
       "    }\n",
       "</style>\n",
       "<table border=\"1\" class=\"dataframe\">\n",
       "  <thead>\n",
       "    <tr style=\"text-align: right;\">\n",
       "      <th></th>\n",
       "      <th>Ticker</th>\n",
       "      <th>Date</th>\n",
       "      <th>Adj Close</th>\n",
       "      <th>Acquisition Date</th>\n",
       "      <th>Date Delta</th>\n",
       "    </tr>\n",
       "  </thead>\n",
       "  <tbody>\n",
       "    <tr>\n",
       "      <th>6042</th>\n",
       "      <td>AAPL</td>\n",
       "      <td>2012-12-31</td>\n",
       "      <td>16.463842</td>\n",
       "      <td>2013-06-04</td>\n",
       "      <td>-13392000000000000</td>\n",
       "    </tr>\n",
       "    <tr>\n",
       "      <th>6043</th>\n",
       "      <td>AAPL</td>\n",
       "      <td>2013-01-02</td>\n",
       "      <td>16.985451</td>\n",
       "      <td>2013-06-04</td>\n",
       "      <td>-13219200000000000</td>\n",
       "    </tr>\n",
       "    <tr>\n",
       "      <th>6044</th>\n",
       "      <td>AAPL</td>\n",
       "      <td>2013-01-03</td>\n",
       "      <td>16.771053</td>\n",
       "      <td>2013-06-04</td>\n",
       "      <td>-13132800000000000</td>\n",
       "    </tr>\n",
       "    <tr>\n",
       "      <th>6045</th>\n",
       "      <td>AAPL</td>\n",
       "      <td>2013-01-04</td>\n",
       "      <td>16.303898</td>\n",
       "      <td>2013-06-04</td>\n",
       "      <td>-13046400000000000</td>\n",
       "    </tr>\n",
       "    <tr>\n",
       "      <th>6046</th>\n",
       "      <td>AAPL</td>\n",
       "      <td>2013-01-07</td>\n",
       "      <td>16.207994</td>\n",
       "      <td>2013-06-04</td>\n",
       "      <td>-12787200000000000</td>\n",
       "    </tr>\n",
       "  </tbody>\n",
       "</table>\n",
       "</div>"
      ],
      "text/plain": [
       "     Ticker       Date  Adj Close Acquisition Date         Date Delta\n",
       "6042   AAPL 2012-12-31  16.463842       2013-06-04 -13392000000000000\n",
       "6043   AAPL 2013-01-02  16.985451       2013-06-04 -13219200000000000\n",
       "6044   AAPL 2013-01-03  16.771053       2013-06-04 -13132800000000000\n",
       "6045   AAPL 2013-01-04  16.303898       2013-06-04 -13046400000000000\n",
       "6046   AAPL 2013-01-07  16.207994       2013-06-04 -12787200000000000"
      ]
     },
     "execution_count": 371,
     "metadata": {},
     "output_type": "execute_result"
    }
   ],
   "source": [
    "# Anything less than 0 means that the stock close was prior to acquisition.\n",
    "adj_close_acq_date['Date Delta'] = adj_close_acq_date['Date'] - adj_close_acq_date['Acquisition Date']\n",
    "\n",
    "adj_close_acq_date['Date Delta'] = adj_close_acq_date[['Date Delta']].apply(pd.to_numeric)  \n",
    "\n",
    "adj_close_acq_date.head()"
   ]
  },
  {
   "cell_type": "code",
   "execution_count": 372,
   "metadata": {},
   "outputs": [
    {
     "data": {
      "text/html": [
       "<div>\n",
       "<style scoped>\n",
       "    .dataframe tbody tr th:only-of-type {\n",
       "        vertical-align: middle;\n",
       "    }\n",
       "\n",
       "    .dataframe tbody tr th {\n",
       "        vertical-align: top;\n",
       "    }\n",
       "\n",
       "    .dataframe thead th {\n",
       "        text-align: right;\n",
       "    }\n",
       "</style>\n",
       "<table border=\"1\" class=\"dataframe\">\n",
       "  <thead>\n",
       "    <tr style=\"text-align: right;\">\n",
       "      <th></th>\n",
       "      <th>Ticker</th>\n",
       "      <th>Date</th>\n",
       "      <th>Adj Close</th>\n",
       "      <th>Acquisition Date</th>\n",
       "      <th>Date Delta</th>\n",
       "    </tr>\n",
       "  </thead>\n",
       "  <tbody>\n",
       "    <tr>\n",
       "      <th>6042</th>\n",
       "      <td>AAPL</td>\n",
       "      <td>2012-12-31</td>\n",
       "      <td>16.463844</td>\n",
       "      <td>2013-06-04</td>\n",
       "      <td>-13392000000000000</td>\n",
       "    </tr>\n",
       "    <tr>\n",
       "      <th>6043</th>\n",
       "      <td>AAPL</td>\n",
       "      <td>2013-01-02</td>\n",
       "      <td>16.985445</td>\n",
       "      <td>2013-06-04</td>\n",
       "      <td>-13219200000000000</td>\n",
       "    </tr>\n",
       "    <tr>\n",
       "      <th>6044</th>\n",
       "      <td>AAPL</td>\n",
       "      <td>2013-01-03</td>\n",
       "      <td>16.771049</td>\n",
       "      <td>2013-06-04</td>\n",
       "      <td>-13132800000000000</td>\n",
       "    </tr>\n",
       "    <tr>\n",
       "      <th>6045</th>\n",
       "      <td>AAPL</td>\n",
       "      <td>2013-01-04</td>\n",
       "      <td>16.303894</td>\n",
       "      <td>2013-06-04</td>\n",
       "      <td>-13046400000000000</td>\n",
       "    </tr>\n",
       "    <tr>\n",
       "      <th>6046</th>\n",
       "      <td>AAPL</td>\n",
       "      <td>2013-01-07</td>\n",
       "      <td>16.207996</td>\n",
       "      <td>2013-06-04</td>\n",
       "      <td>-12787200000000000</td>\n",
       "    </tr>\n",
       "  </tbody>\n",
       "</table>\n",
       "</div>"
      ],
      "text/plain": [
       "     Ticker       Date  Adj Close Acquisition Date         Date Delta\n",
       "6042   AAPL 2012-12-31  16.463844       2013-06-04 -13392000000000000\n",
       "6043   AAPL 2013-01-02  16.985445       2013-06-04 -13219200000000000\n",
       "6044   AAPL 2013-01-03  16.771049       2013-06-04 -13132800000000000\n",
       "6045   AAPL 2013-01-04  16.303894       2013-06-04 -13046400000000000\n",
       "6046   AAPL 2013-01-07  16.207996       2013-06-04 -12787200000000000"
      ]
     },
     "execution_count": 372,
     "metadata": {},
     "output_type": "execute_result"
    }
   ],
   "source": [
    "# Anything less than 0 means that the stock close was prior to acquisition.\n",
    "adj_close_acq_date1['Date Delta'] = adj_close_acq_date1['Date'] - adj_close_acq_date1['Acquisition Date']\n",
    "\n",
    "adj_close_acq_date1['Date Delta'] = adj_close_acq_date1[['Date Delta']].apply(pd.to_numeric)  \n",
    "\n",
    "adj_close_acq_date1.head()"
   ]
  },
  {
   "cell_type": "code",
   "execution_count": 373,
   "metadata": {},
   "outputs": [
    {
     "data": {
      "text/html": [
       "<div>\n",
       "<style scoped>\n",
       "    .dataframe tbody tr th:only-of-type {\n",
       "        vertical-align: middle;\n",
       "    }\n",
       "\n",
       "    .dataframe tbody tr th {\n",
       "        vertical-align: top;\n",
       "    }\n",
       "\n",
       "    .dataframe thead th {\n",
       "        text-align: right;\n",
       "    }\n",
       "</style>\n",
       "<table border=\"1\" class=\"dataframe\">\n",
       "  <thead>\n",
       "    <tr style=\"text-align: right;\">\n",
       "      <th></th>\n",
       "      <th>Ticker</th>\n",
       "      <th>Date</th>\n",
       "      <th>Adj Close</th>\n",
       "      <th>Acquisition Date</th>\n",
       "      <th>Date Delta</th>\n",
       "    </tr>\n",
       "  </thead>\n",
       "  <tbody>\n",
       "    <tr>\n",
       "      <th>6148</th>\n",
       "      <td>AAPL</td>\n",
       "      <td>2013-06-04</td>\n",
       "      <td>14.073945</td>\n",
       "      <td>2013-06-04</td>\n",
       "      <td>0</td>\n",
       "    </tr>\n",
       "    <tr>\n",
       "      <th>6149</th>\n",
       "      <td>AAPL</td>\n",
       "      <td>2013-06-05</td>\n",
       "      <td>13.942388</td>\n",
       "      <td>2013-06-04</td>\n",
       "      <td>86400000000000</td>\n",
       "    </tr>\n",
       "    <tr>\n",
       "      <th>6150</th>\n",
       "      <td>AAPL</td>\n",
       "      <td>2013-06-06</td>\n",
       "      <td>13.734087</td>\n",
       "      <td>2013-06-04</td>\n",
       "      <td>172800000000000</td>\n",
       "    </tr>\n",
       "    <tr>\n",
       "      <th>6151</th>\n",
       "      <td>AAPL</td>\n",
       "      <td>2013-06-07</td>\n",
       "      <td>13.839019</td>\n",
       "      <td>2013-06-04</td>\n",
       "      <td>259200000000000</td>\n",
       "    </tr>\n",
       "    <tr>\n",
       "      <th>6152</th>\n",
       "      <td>AAPL</td>\n",
       "      <td>2013-06-10</td>\n",
       "      <td>13.747554</td>\n",
       "      <td>2013-06-04</td>\n",
       "      <td>518400000000000</td>\n",
       "    </tr>\n",
       "  </tbody>\n",
       "</table>\n",
       "</div>"
      ],
      "text/plain": [
       "     Ticker       Date  Adj Close Acquisition Date       Date Delta\n",
       "6148   AAPL 2013-06-04  14.073945       2013-06-04                0\n",
       "6149   AAPL 2013-06-05  13.942388       2013-06-04   86400000000000\n",
       "6150   AAPL 2013-06-06  13.734087       2013-06-04  172800000000000\n",
       "6151   AAPL 2013-06-07  13.839019       2013-06-04  259200000000000\n",
       "6152   AAPL 2013-06-10  13.747554       2013-06-04  518400000000000"
      ]
     },
     "execution_count": 373,
     "metadata": {},
     "output_type": "execute_result"
    }
   ],
   "source": [
    "# Modified the dataframe being evaluated to look at highest close which occurred after Acquisition Date (aka, not prior to purchase).\n",
    "\n",
    "adj_close_acq_date_modified = adj_close_acq_date[adj_close_acq_date['Date Delta']>=0]\n",
    "\n",
    "adj_close_acq_date_modified.head()"
   ]
  },
  {
   "cell_type": "code",
   "execution_count": 374,
   "metadata": {},
   "outputs": [
    {
     "data": {
      "text/html": [
       "<div>\n",
       "<style scoped>\n",
       "    .dataframe tbody tr th:only-of-type {\n",
       "        vertical-align: middle;\n",
       "    }\n",
       "\n",
       "    .dataframe tbody tr th {\n",
       "        vertical-align: top;\n",
       "    }\n",
       "\n",
       "    .dataframe thead th {\n",
       "        text-align: right;\n",
       "    }\n",
       "</style>\n",
       "<table border=\"1\" class=\"dataframe\">\n",
       "  <thead>\n",
       "    <tr style=\"text-align: right;\">\n",
       "      <th></th>\n",
       "      <th>Ticker</th>\n",
       "      <th>Date</th>\n",
       "      <th>Adj Close</th>\n",
       "      <th>Acquisition Date</th>\n",
       "      <th>Date Delta</th>\n",
       "    </tr>\n",
       "  </thead>\n",
       "  <tbody>\n",
       "    <tr>\n",
       "      <th>6148</th>\n",
       "      <td>AAPL</td>\n",
       "      <td>2013-06-04</td>\n",
       "      <td>14.073946</td>\n",
       "      <td>2013-06-04</td>\n",
       "      <td>0</td>\n",
       "    </tr>\n",
       "    <tr>\n",
       "      <th>6149</th>\n",
       "      <td>AAPL</td>\n",
       "      <td>2013-06-05</td>\n",
       "      <td>13.942389</td>\n",
       "      <td>2013-06-04</td>\n",
       "      <td>86400000000000</td>\n",
       "    </tr>\n",
       "    <tr>\n",
       "      <th>6150</th>\n",
       "      <td>AAPL</td>\n",
       "      <td>2013-06-06</td>\n",
       "      <td>13.734089</td>\n",
       "      <td>2013-06-04</td>\n",
       "      <td>172800000000000</td>\n",
       "    </tr>\n",
       "    <tr>\n",
       "      <th>6151</th>\n",
       "      <td>AAPL</td>\n",
       "      <td>2013-06-07</td>\n",
       "      <td>13.839021</td>\n",
       "      <td>2013-06-04</td>\n",
       "      <td>259200000000000</td>\n",
       "    </tr>\n",
       "    <tr>\n",
       "      <th>6152</th>\n",
       "      <td>AAPL</td>\n",
       "      <td>2013-06-10</td>\n",
       "      <td>13.747556</td>\n",
       "      <td>2013-06-04</td>\n",
       "      <td>518400000000000</td>\n",
       "    </tr>\n",
       "  </tbody>\n",
       "</table>\n",
       "</div>"
      ],
      "text/plain": [
       "     Ticker       Date  Adj Close Acquisition Date       Date Delta\n",
       "6148   AAPL 2013-06-04  14.073946       2013-06-04                0\n",
       "6149   AAPL 2013-06-05  13.942389       2013-06-04   86400000000000\n",
       "6150   AAPL 2013-06-06  13.734089       2013-06-04  172800000000000\n",
       "6151   AAPL 2013-06-07  13.839021       2013-06-04  259200000000000\n",
       "6152   AAPL 2013-06-10  13.747556       2013-06-04  518400000000000"
      ]
     },
     "execution_count": 374,
     "metadata": {},
     "output_type": "execute_result"
    }
   ],
   "source": [
    "# Modified the dataframe being evaluated to look at highest close which occurred after Acquisition Date (aka, not prior to purchase).\n",
    "\n",
    "adj_close_acq_date_modified1 = adj_close_acq_date1[adj_close_acq_date1['Date Delta']>=0]\n",
    "\n",
    "adj_close_acq_date_modified1.head()"
   ]
  },
  {
   "cell_type": "code",
   "execution_count": 375,
   "metadata": {},
   "outputs": [
    {
     "data": {
      "text/html": [
       "<div>\n",
       "<style scoped>\n",
       "    .dataframe tbody tr th:only-of-type {\n",
       "        vertical-align: middle;\n",
       "    }\n",
       "\n",
       "    .dataframe tbody tr th {\n",
       "        vertical-align: top;\n",
       "    }\n",
       "\n",
       "    .dataframe thead th {\n",
       "        text-align: right;\n",
       "    }\n",
       "</style>\n",
       "<table border=\"1\" class=\"dataframe\">\n",
       "  <thead>\n",
       "    <tr style=\"text-align: right;\">\n",
       "      <th></th>\n",
       "      <th>Ticker</th>\n",
       "      <th>Acquisition Date</th>\n",
       "      <th>Adj Close</th>\n",
       "    </tr>\n",
       "  </thead>\n",
       "  <tbody>\n",
       "    <tr>\n",
       "      <th>0</th>\n",
       "      <td>AAPL</td>\n",
       "      <td>2013-06-04</td>\n",
       "      <td>136.050766</td>\n",
       "    </tr>\n",
       "    <tr>\n",
       "      <th>1</th>\n",
       "      <td>GS</td>\n",
       "      <td>2014-02-27</td>\n",
       "      <td>256.457855</td>\n",
       "    </tr>\n",
       "    <tr>\n",
       "      <th>2</th>\n",
       "      <td>LUV</td>\n",
       "      <td>2013-12-13</td>\n",
       "      <td>64.447029</td>\n",
       "    </tr>\n",
       "    <tr>\n",
       "      <th>3</th>\n",
       "      <td>MSFT</td>\n",
       "      <td>2015-12-14</td>\n",
       "      <td>229.543701</td>\n",
       "    </tr>\n",
       "    <tr>\n",
       "      <th>4</th>\n",
       "      <td>UNH</td>\n",
       "      <td>2013-06-04</td>\n",
       "      <td>351.754669</td>\n",
       "    </tr>\n",
       "  </tbody>\n",
       "</table>\n",
       "</div>"
      ],
      "text/plain": [
       "  Ticker Acquisition Date   Adj Close\n",
       "0   AAPL       2013-06-04  136.050766\n",
       "1     GS       2014-02-27  256.457855\n",
       "2    LUV       2013-12-13   64.447029\n",
       "3   MSFT       2015-12-14  229.543701\n",
       "4    UNH       2013-06-04  351.754669"
      ]
     },
     "execution_count": 375,
     "metadata": {},
     "output_type": "execute_result"
    }
   ],
   "source": [
    "# This pivot table will index on the Ticker and Acquisition Date, and find the max adjusted close.\n",
    "\n",
    "adj_close_pivot = adj_close_acq_date_modified.pivot_table(index=['Ticker', 'Acquisition Date'], values='Adj Close', aggfunc=np.max)\n",
    "\n",
    "adj_close_pivot.reset_index(inplace=True)\n",
    "\n",
    "adj_close_pivot"
   ]
  },
  {
   "cell_type": "code",
   "execution_count": 376,
   "metadata": {},
   "outputs": [
    {
     "data": {
      "text/html": [
       "<div>\n",
       "<style scoped>\n",
       "    .dataframe tbody tr th:only-of-type {\n",
       "        vertical-align: middle;\n",
       "    }\n",
       "\n",
       "    .dataframe tbody tr th {\n",
       "        vertical-align: top;\n",
       "    }\n",
       "\n",
       "    .dataframe thead th {\n",
       "        text-align: right;\n",
       "    }\n",
       "</style>\n",
       "<table border=\"1\" class=\"dataframe\">\n",
       "  <thead>\n",
       "    <tr style=\"text-align: right;\">\n",
       "      <th></th>\n",
       "      <th>Ticker</th>\n",
       "      <th>Acquisition Date</th>\n",
       "      <th>Adj Close</th>\n",
       "    </tr>\n",
       "  </thead>\n",
       "  <tbody>\n",
       "    <tr>\n",
       "      <th>0</th>\n",
       "      <td>AAPL</td>\n",
       "      <td>2013-06-04</td>\n",
       "      <td>136.050781</td>\n",
       "    </tr>\n",
       "    <tr>\n",
       "      <th>1</th>\n",
       "      <td>AMZN</td>\n",
       "      <td>2014-02-27</td>\n",
       "      <td>3531.449951</td>\n",
       "    </tr>\n",
       "    <tr>\n",
       "      <th>2</th>\n",
       "      <td>GOOG</td>\n",
       "      <td>2013-12-13</td>\n",
       "      <td>1827.989990</td>\n",
       "    </tr>\n",
       "    <tr>\n",
       "      <th>3</th>\n",
       "      <td>MSFT</td>\n",
       "      <td>2015-12-14</td>\n",
       "      <td>229.543701</td>\n",
       "    </tr>\n",
       "    <tr>\n",
       "      <th>4</th>\n",
       "      <td>UNH</td>\n",
       "      <td>2013-06-04</td>\n",
       "      <td>351.754669</td>\n",
       "    </tr>\n",
       "  </tbody>\n",
       "</table>\n",
       "</div>"
      ],
      "text/plain": [
       "  Ticker Acquisition Date    Adj Close\n",
       "0   AAPL       2013-06-04   136.050781\n",
       "1   AMZN       2014-02-27  3531.449951\n",
       "2   GOOG       2013-12-13  1827.989990\n",
       "3   MSFT       2015-12-14   229.543701\n",
       "4    UNH       2013-06-04   351.754669"
      ]
     },
     "execution_count": 376,
     "metadata": {},
     "output_type": "execute_result"
    }
   ],
   "source": [
    "# This pivot table will index on the Ticker and Acquisition Date, and find the max adjusted close.\n",
    "\n",
    "adj_close_pivot1 = adj_close_acq_date_modified1.pivot_table(index=['Ticker', 'Acquisition Date'], values='Adj Close', aggfunc=np.max)\n",
    "\n",
    "adj_close_pivot1.reset_index(inplace=True)\n",
    "\n",
    "adj_close_pivot1"
   ]
  },
  {
   "cell_type": "code",
   "execution_count": 377,
   "metadata": {},
   "outputs": [
    {
     "data": {
      "text/html": [
       "<div>\n",
       "<style scoped>\n",
       "    .dataframe tbody tr th:only-of-type {\n",
       "        vertical-align: middle;\n",
       "    }\n",
       "\n",
       "    .dataframe tbody tr th {\n",
       "        vertical-align: top;\n",
       "    }\n",
       "\n",
       "    .dataframe thead th {\n",
       "        text-align: right;\n",
       "    }\n",
       "</style>\n",
       "<table border=\"1\" class=\"dataframe\">\n",
       "  <thead>\n",
       "    <tr style=\"text-align: right;\">\n",
       "      <th></th>\n",
       "      <th>Ticker</th>\n",
       "      <th>Acquisition Date</th>\n",
       "      <th>Adj Close</th>\n",
       "      <th>Date</th>\n",
       "    </tr>\n",
       "  </thead>\n",
       "  <tbody>\n",
       "    <tr>\n",
       "      <th>0</th>\n",
       "      <td>AAPL</td>\n",
       "      <td>2013-06-04</td>\n",
       "      <td>136.050766</td>\n",
       "      <td>2020-12-28</td>\n",
       "    </tr>\n",
       "    <tr>\n",
       "      <th>1</th>\n",
       "      <td>GS</td>\n",
       "      <td>2014-02-27</td>\n",
       "      <td>256.457855</td>\n",
       "      <td>2020-12-28</td>\n",
       "    </tr>\n",
       "    <tr>\n",
       "      <th>2</th>\n",
       "      <td>LUV</td>\n",
       "      <td>2013-12-13</td>\n",
       "      <td>64.447029</td>\n",
       "      <td>2018-01-02</td>\n",
       "    </tr>\n",
       "    <tr>\n",
       "      <th>3</th>\n",
       "      <td>MSFT</td>\n",
       "      <td>2015-12-14</td>\n",
       "      <td>229.543701</td>\n",
       "      <td>2020-09-02</td>\n",
       "    </tr>\n",
       "    <tr>\n",
       "      <th>4</th>\n",
       "      <td>UNH</td>\n",
       "      <td>2013-06-04</td>\n",
       "      <td>351.754669</td>\n",
       "      <td>2020-11-16</td>\n",
       "    </tr>\n",
       "  </tbody>\n",
       "</table>\n",
       "</div>"
      ],
      "text/plain": [
       "  Ticker Acquisition Date   Adj Close       Date\n",
       "0   AAPL       2013-06-04  136.050766 2020-12-28\n",
       "1     GS       2014-02-27  256.457855 2020-12-28\n",
       "2    LUV       2013-12-13   64.447029 2018-01-02\n",
       "3   MSFT       2015-12-14  229.543701 2020-09-02\n",
       "4    UNH       2013-06-04  351.754669 2020-11-16"
      ]
     },
     "execution_count": 377,
     "metadata": {},
     "output_type": "execute_result"
    }
   ],
   "source": [
    "# Merge the adj close pivot table with the adj_close table in order to grab the date of the Adj Close High (good to know).\n",
    "\n",
    "adj_close_pivot_merged = pd.merge(adj_close_pivot, adj_close\n",
    "                                             , on=['Ticker', 'Adj Close'])\n",
    "\n",
    "adj_close_pivot_merged.head()"
   ]
  },
  {
   "cell_type": "code",
   "execution_count": 378,
   "metadata": {},
   "outputs": [
    {
     "data": {
      "text/html": [
       "<div>\n",
       "<style scoped>\n",
       "    .dataframe tbody tr th:only-of-type {\n",
       "        vertical-align: middle;\n",
       "    }\n",
       "\n",
       "    .dataframe tbody tr th {\n",
       "        vertical-align: top;\n",
       "    }\n",
       "\n",
       "    .dataframe thead th {\n",
       "        text-align: right;\n",
       "    }\n",
       "</style>\n",
       "<table border=\"1\" class=\"dataframe\">\n",
       "  <thead>\n",
       "    <tr style=\"text-align: right;\">\n",
       "      <th></th>\n",
       "      <th>Ticker</th>\n",
       "      <th>Acquisition Date</th>\n",
       "      <th>Adj Close</th>\n",
       "      <th>Date</th>\n",
       "    </tr>\n",
       "  </thead>\n",
       "  <tbody>\n",
       "    <tr>\n",
       "      <th>0</th>\n",
       "      <td>AAPL</td>\n",
       "      <td>2013-06-04</td>\n",
       "      <td>136.050781</td>\n",
       "      <td>2020-12-28</td>\n",
       "    </tr>\n",
       "    <tr>\n",
       "      <th>1</th>\n",
       "      <td>AMZN</td>\n",
       "      <td>2014-02-27</td>\n",
       "      <td>3531.449951</td>\n",
       "      <td>2020-09-02</td>\n",
       "    </tr>\n",
       "    <tr>\n",
       "      <th>2</th>\n",
       "      <td>GOOG</td>\n",
       "      <td>2013-12-13</td>\n",
       "      <td>1827.989990</td>\n",
       "      <td>2020-12-04</td>\n",
       "    </tr>\n",
       "    <tr>\n",
       "      <th>3</th>\n",
       "      <td>MSFT</td>\n",
       "      <td>2015-12-14</td>\n",
       "      <td>229.543701</td>\n",
       "      <td>2020-09-02</td>\n",
       "    </tr>\n",
       "    <tr>\n",
       "      <th>4</th>\n",
       "      <td>UNH</td>\n",
       "      <td>2013-06-04</td>\n",
       "      <td>351.754669</td>\n",
       "      <td>2020-11-16</td>\n",
       "    </tr>\n",
       "  </tbody>\n",
       "</table>\n",
       "</div>"
      ],
      "text/plain": [
       "  Ticker Acquisition Date    Adj Close       Date\n",
       "0   AAPL       2013-06-04   136.050781 2020-12-28\n",
       "1   AMZN       2014-02-27  3531.449951 2020-09-02\n",
       "2   GOOG       2013-12-13  1827.989990 2020-12-04\n",
       "3   MSFT       2015-12-14   229.543701 2020-09-02\n",
       "4    UNH       2013-06-04   351.754669 2020-11-16"
      ]
     },
     "execution_count": 378,
     "metadata": {},
     "output_type": "execute_result"
    }
   ],
   "source": [
    "# Merge the adj close pivot table with the adj_close table in order to grab the date of the Adj Close High (good to know).\n",
    "\n",
    "adj_close_pivot_merged1 = pd.merge(adj_close_pivot1, adj_close1\n",
    "                                             , on=['Ticker', 'Adj Close'])\n",
    "\n",
    "adj_close_pivot_merged1.head()"
   ]
  },
  {
   "cell_type": "code",
   "execution_count": 379,
   "metadata": {},
   "outputs": [
    {
     "data": {
      "text/html": [
       "<div>\n",
       "<style scoped>\n",
       "    .dataframe tbody tr th:only-of-type {\n",
       "        vertical-align: middle;\n",
       "    }\n",
       "\n",
       "    .dataframe tbody tr th {\n",
       "        vertical-align: top;\n",
       "    }\n",
       "\n",
       "    .dataframe thead th {\n",
       "        text-align: right;\n",
       "    }\n",
       "</style>\n",
       "<table border=\"1\" class=\"dataframe\">\n",
       "  <thead>\n",
       "    <tr style=\"text-align: right;\">\n",
       "      <th></th>\n",
       "      <th>Ticker</th>\n",
       "      <th>Acquisition Date</th>\n",
       "      <th>Quantity</th>\n",
       "      <th>Unit Cost</th>\n",
       "      <th>Cost Basis</th>\n",
       "      <th>Start of Year</th>\n",
       "      <th>Latest Date</th>\n",
       "      <th>Ticker Adj Close</th>\n",
       "      <th>ticker return</th>\n",
       "      <th>SP 500 Initial Close</th>\n",
       "      <th>...</th>\n",
       "      <th>SP Start Year Close</th>\n",
       "      <th>Share YTD</th>\n",
       "      <th>SP 500 YTD</th>\n",
       "      <th>Cum Invst</th>\n",
       "      <th>Cum Ticker Returns</th>\n",
       "      <th>Cum SP Returns</th>\n",
       "      <th>Cum Ticker ROI Mult</th>\n",
       "      <th>Closing High Adj Close</th>\n",
       "      <th>Closing High Adj Close Date</th>\n",
       "      <th>Pct off High</th>\n",
       "    </tr>\n",
       "  </thead>\n",
       "  <tbody>\n",
       "    <tr>\n",
       "      <th>0</th>\n",
       "      <td>AAPL</td>\n",
       "      <td>2013-06-04</td>\n",
       "      <td>515</td>\n",
       "      <td>15.44</td>\n",
       "      <td>7951.6</td>\n",
       "      <td>2020-12-29</td>\n",
       "      <td>2020-12-29</td>\n",
       "      <td>134.239273</td>\n",
       "      <td>7.694253</td>\n",
       "      <td>1631.380005</td>\n",
       "      <td>...</td>\n",
       "      <td>3727.040039</td>\n",
       "      <td>0.0</td>\n",
       "      <td>0.0</td>\n",
       "      <td>7951.6</td>\n",
       "      <td>69133.225632</td>\n",
       "      <td>18166.173109</td>\n",
       "      <td>8.694253</td>\n",
       "      <td>136.050766</td>\n",
       "      <td>2020-12-28</td>\n",
       "      <td>-0.013315</td>\n",
       "    </tr>\n",
       "    <tr>\n",
       "      <th>1</th>\n",
       "      <td>GS</td>\n",
       "      <td>2014-02-27</td>\n",
       "      <td>50</td>\n",
       "      <td>162.66</td>\n",
       "      <td>8133.0</td>\n",
       "      <td>2020-12-29</td>\n",
       "      <td>2020-12-29</td>\n",
       "      <td>254.896896</td>\n",
       "      <td>0.567053</td>\n",
       "      <td>1854.290039</td>\n",
       "      <td>...</td>\n",
       "      <td>3727.040039</td>\n",
       "      <td>0.0</td>\n",
       "      <td>0.0</td>\n",
       "      <td>16084.6</td>\n",
       "      <td>81878.070450</td>\n",
       "      <td>34513.139332</td>\n",
       "      <td>5.090464</td>\n",
       "      <td>256.457855</td>\n",
       "      <td>2020-12-28</td>\n",
       "      <td>-0.006087</td>\n",
       "    </tr>\n",
       "    <tr>\n",
       "      <th>2</th>\n",
       "      <td>LUV</td>\n",
       "      <td>2013-12-13</td>\n",
       "      <td>470</td>\n",
       "      <td>18.88</td>\n",
       "      <td>8873.6</td>\n",
       "      <td>2020-12-29</td>\n",
       "      <td>2020-12-29</td>\n",
       "      <td>46.150002</td>\n",
       "      <td>1.444386</td>\n",
       "      <td>1775.319946</td>\n",
       "      <td>...</td>\n",
       "      <td>3727.040039</td>\n",
       "      <td>0.0</td>\n",
       "      <td>0.0</td>\n",
       "      <td>24958.2</td>\n",
       "      <td>103568.571167</td>\n",
       "      <td>53142.042004</td>\n",
       "      <td>4.149681</td>\n",
       "      <td>64.447029</td>\n",
       "      <td>2018-01-02</td>\n",
       "      <td>-0.283908</td>\n",
       "    </tr>\n",
       "    <tr>\n",
       "      <th>3</th>\n",
       "      <td>MSFT</td>\n",
       "      <td>2015-12-14</td>\n",
       "      <td>150</td>\n",
       "      <td>54.33</td>\n",
       "      <td>8149.5</td>\n",
       "      <td>2020-12-29</td>\n",
       "      <td>2020-12-29</td>\n",
       "      <td>222.693405</td>\n",
       "      <td>3.098903</td>\n",
       "      <td>2021.939941</td>\n",
       "      <td>...</td>\n",
       "      <td>3727.040039</td>\n",
       "      <td>0.0</td>\n",
       "      <td>0.0</td>\n",
       "      <td>33107.7</td>\n",
       "      <td>136972.581940</td>\n",
       "      <td>68164.007878</td>\n",
       "      <td>4.137182</td>\n",
       "      <td>229.543701</td>\n",
       "      <td>2020-09-02</td>\n",
       "      <td>-0.029843</td>\n",
       "    </tr>\n",
       "    <tr>\n",
       "      <th>4</th>\n",
       "      <td>UNH</td>\n",
       "      <td>2013-06-04</td>\n",
       "      <td>130</td>\n",
       "      <td>63.70</td>\n",
       "      <td>8281.0</td>\n",
       "      <td>2020-12-29</td>\n",
       "      <td>2020-12-29</td>\n",
       "      <td>343.651062</td>\n",
       "      <td>4.394836</td>\n",
       "      <td>1631.380005</td>\n",
       "      <td>...</td>\n",
       "      <td>3727.040039</td>\n",
       "      <td>0.0</td>\n",
       "      <td>0.0</td>\n",
       "      <td>41388.7</td>\n",
       "      <td>181647.220001</td>\n",
       "      <td>87082.726062</td>\n",
       "      <td>4.388812</td>\n",
       "      <td>351.754669</td>\n",
       "      <td>2020-11-16</td>\n",
       "      <td>-0.023038</td>\n",
       "    </tr>\n",
       "  </tbody>\n",
       "</table>\n",
       "<p>5 rows × 30 columns</p>\n",
       "</div>"
      ],
      "text/plain": [
       "  Ticker Acquisition Date  Quantity  Unit Cost  Cost Basis Start of Year  \\\n",
       "0   AAPL       2013-06-04       515      15.44      7951.6    2020-12-29   \n",
       "1     GS       2014-02-27        50     162.66      8133.0    2020-12-29   \n",
       "2    LUV       2013-12-13       470      18.88      8873.6    2020-12-29   \n",
       "3   MSFT       2015-12-14       150      54.33      8149.5    2020-12-29   \n",
       "4    UNH       2013-06-04       130      63.70      8281.0    2020-12-29   \n",
       "\n",
       "  Latest Date  Ticker Adj Close  ticker return  SP 500 Initial Close  ...  \\\n",
       "0  2020-12-29        134.239273       7.694253           1631.380005  ...   \n",
       "1  2020-12-29        254.896896       0.567053           1854.290039  ...   \n",
       "2  2020-12-29         46.150002       1.444386           1775.319946  ...   \n",
       "3  2020-12-29        222.693405       3.098903           2021.939941  ...   \n",
       "4  2020-12-29        343.651062       4.394836           1631.380005  ...   \n",
       "\n",
       "   SP Start Year Close  Share YTD  SP 500 YTD  Cum Invst  Cum Ticker Returns  \\\n",
       "0          3727.040039        0.0         0.0     7951.6        69133.225632   \n",
       "1          3727.040039        0.0         0.0    16084.6        81878.070450   \n",
       "2          3727.040039        0.0         0.0    24958.2       103568.571167   \n",
       "3          3727.040039        0.0         0.0    33107.7       136972.581940   \n",
       "4          3727.040039        0.0         0.0    41388.7       181647.220001   \n",
       "\n",
       "   Cum SP Returns  Cum Ticker ROI Mult  Closing High Adj Close  \\\n",
       "0    18166.173109             8.694253              136.050766   \n",
       "1    34513.139332             5.090464              256.457855   \n",
       "2    53142.042004             4.149681               64.447029   \n",
       "3    68164.007878             4.137182              229.543701   \n",
       "4    87082.726062             4.388812              351.754669   \n",
       "\n",
       "   Closing High Adj Close Date  Pct off High  \n",
       "0                   2020-12-28     -0.013315  \n",
       "1                   2020-12-28     -0.006087  \n",
       "2                   2018-01-02     -0.283908  \n",
       "3                   2020-09-02     -0.029843  \n",
       "4                   2020-11-16     -0.023038  \n",
       "\n",
       "[5 rows x 30 columns]"
      ]
     },
     "execution_count": 379,
     "metadata": {},
     "output_type": "execute_result"
    }
   ],
   "source": [
    "# Merge the Adj Close pivot table with the master dataframe to have the closing high since you have owned the stock.\n",
    "\n",
    "merged_portfolio_sp_latest_YTD_sp_closing_high = pd.merge(merged_portfolio_sp_latest_YTD_sp, adj_close_pivot_merged\n",
    "                                             , on=['Ticker', 'Acquisition Date'])\n",
    "\n",
    "# Renaming so that it's clear that the new columns are two year closing high and two year closing high date.\n",
    "merged_portfolio_sp_latest_YTD_sp_closing_high.rename(columns={'Adj Close': 'Closing High Adj Close', 'Date': 'Closing High Adj Close Date'}, inplace=True)\n",
    "\n",
    "merged_portfolio_sp_latest_YTD_sp_closing_high['Pct off High'] = merged_portfolio_sp_latest_YTD_sp_closing_high['Ticker Adj Close'] / merged_portfolio_sp_latest_YTD_sp_closing_high['Closing High Adj Close'] - 1 \n",
    "\n",
    "merged_portfolio_sp_latest_YTD_sp_closing_high"
   ]
  },
  {
   "cell_type": "code",
   "execution_count": 380,
   "metadata": {},
   "outputs": [
    {
     "data": {
      "text/html": [
       "<div>\n",
       "<style scoped>\n",
       "    .dataframe tbody tr th:only-of-type {\n",
       "        vertical-align: middle;\n",
       "    }\n",
       "\n",
       "    .dataframe tbody tr th {\n",
       "        vertical-align: top;\n",
       "    }\n",
       "\n",
       "    .dataframe thead th {\n",
       "        text-align: right;\n",
       "    }\n",
       "</style>\n",
       "<table border=\"1\" class=\"dataframe\">\n",
       "  <thead>\n",
       "    <tr style=\"text-align: right;\">\n",
       "      <th></th>\n",
       "      <th>Ticker</th>\n",
       "      <th>Acquisition Date</th>\n",
       "      <th>Quantity</th>\n",
       "      <th>Unit Cost</th>\n",
       "      <th>Cost Basis</th>\n",
       "      <th>Start of Year</th>\n",
       "      <th>Latest Date</th>\n",
       "      <th>Ticker Adj Close</th>\n",
       "      <th>ticker return</th>\n",
       "      <th>SP 500 Initial Close</th>\n",
       "      <th>...</th>\n",
       "      <th>SP Start Year Close</th>\n",
       "      <th>Share YTD</th>\n",
       "      <th>SP 500 YTD</th>\n",
       "      <th>Cum Invst</th>\n",
       "      <th>Cum Ticker Returns</th>\n",
       "      <th>Cum SP Returns</th>\n",
       "      <th>Cum Ticker ROI Mult</th>\n",
       "      <th>Closing High Adj Close</th>\n",
       "      <th>Closing High Adj Close Date</th>\n",
       "      <th>Pct off High</th>\n",
       "    </tr>\n",
       "  </thead>\n",
       "  <tbody>\n",
       "    <tr>\n",
       "      <th>0</th>\n",
       "      <td>AAPL</td>\n",
       "      <td>2013-06-04</td>\n",
       "      <td>515</td>\n",
       "      <td>15.44</td>\n",
       "      <td>7951.6</td>\n",
       "      <td>2020-12-22</td>\n",
       "      <td>2020-12-29</td>\n",
       "      <td>134.239273</td>\n",
       "      <td>7.694253</td>\n",
       "      <td>1631.380005</td>\n",
       "      <td>...</td>\n",
       "      <td>3687.26001</td>\n",
       "      <td>0.0</td>\n",
       "      <td>0.010789</td>\n",
       "      <td>7951.6</td>\n",
       "      <td>69133.225632</td>\n",
       "      <td>18166.173109</td>\n",
       "      <td>8.694253</td>\n",
       "      <td>136.050781</td>\n",
       "      <td>2020-12-28</td>\n",
       "      <td>-0.013315</td>\n",
       "    </tr>\n",
       "    <tr>\n",
       "      <th>1</th>\n",
       "      <td>AMZN</td>\n",
       "      <td>2014-02-27</td>\n",
       "      <td>25</td>\n",
       "      <td>357.22</td>\n",
       "      <td>8930.5</td>\n",
       "      <td>2020-12-22</td>\n",
       "      <td>2020-12-29</td>\n",
       "      <td>3322.000000</td>\n",
       "      <td>8.299591</td>\n",
       "      <td>1854.290039</td>\n",
       "      <td>...</td>\n",
       "      <td>3687.26001</td>\n",
       "      <td>0.0</td>\n",
       "      <td>0.010789</td>\n",
       "      <td>16882.1</td>\n",
       "      <td>152183.225632</td>\n",
       "      <td>36116.078661</td>\n",
       "      <td>9.014472</td>\n",
       "      <td>3531.449951</td>\n",
       "      <td>2020-09-02</td>\n",
       "      <td>-0.059310</td>\n",
       "    </tr>\n",
       "    <tr>\n",
       "      <th>2</th>\n",
       "      <td>GOOG</td>\n",
       "      <td>2013-12-13</td>\n",
       "      <td>15</td>\n",
       "      <td>535.50</td>\n",
       "      <td>8032.5</td>\n",
       "      <td>2020-12-22</td>\n",
       "      <td>2020-12-29</td>\n",
       "      <td>1758.719971</td>\n",
       "      <td>2.284258</td>\n",
       "      <td>1775.319946</td>\n",
       "      <td>...</td>\n",
       "      <td>3687.26001</td>\n",
       "      <td>0.0</td>\n",
       "      <td>0.010789</td>\n",
       "      <td>24914.6</td>\n",
       "      <td>178564.025192</td>\n",
       "      <td>52979.207573</td>\n",
       "      <td>7.167044</td>\n",
       "      <td>1827.989990</td>\n",
       "      <td>2020-12-04</td>\n",
       "      <td>-0.037894</td>\n",
       "    </tr>\n",
       "    <tr>\n",
       "      <th>3</th>\n",
       "      <td>MSFT</td>\n",
       "      <td>2015-12-14</td>\n",
       "      <td>150</td>\n",
       "      <td>54.33</td>\n",
       "      <td>8149.5</td>\n",
       "      <td>2020-12-22</td>\n",
       "      <td>2020-12-29</td>\n",
       "      <td>222.693390</td>\n",
       "      <td>3.098903</td>\n",
       "      <td>2021.939941</td>\n",
       "      <td>...</td>\n",
       "      <td>3687.26001</td>\n",
       "      <td>0.0</td>\n",
       "      <td>0.010789</td>\n",
       "      <td>33064.1</td>\n",
       "      <td>211968.033676</td>\n",
       "      <td>68001.173447</td>\n",
       "      <td>6.410821</td>\n",
       "      <td>229.543701</td>\n",
       "      <td>2020-09-02</td>\n",
       "      <td>-0.029843</td>\n",
       "    </tr>\n",
       "    <tr>\n",
       "      <th>4</th>\n",
       "      <td>UNH</td>\n",
       "      <td>2013-06-04</td>\n",
       "      <td>130</td>\n",
       "      <td>63.70</td>\n",
       "      <td>8281.0</td>\n",
       "      <td>2020-12-22</td>\n",
       "      <td>2020-12-29</td>\n",
       "      <td>343.651062</td>\n",
       "      <td>4.394836</td>\n",
       "      <td>1631.380005</td>\n",
       "      <td>...</td>\n",
       "      <td>3687.26001</td>\n",
       "      <td>0.0</td>\n",
       "      <td>0.010789</td>\n",
       "      <td>41345.1</td>\n",
       "      <td>256642.671738</td>\n",
       "      <td>86919.891631</td>\n",
       "      <td>6.207330</td>\n",
       "      <td>351.754669</td>\n",
       "      <td>2020-11-16</td>\n",
       "      <td>-0.023038</td>\n",
       "    </tr>\n",
       "  </tbody>\n",
       "</table>\n",
       "<p>5 rows × 30 columns</p>\n",
       "</div>"
      ],
      "text/plain": [
       "  Ticker Acquisition Date  Quantity  Unit Cost  Cost Basis Start of Year  \\\n",
       "0   AAPL       2013-06-04       515      15.44      7951.6    2020-12-22   \n",
       "1   AMZN       2014-02-27        25     357.22      8930.5    2020-12-22   \n",
       "2   GOOG       2013-12-13        15     535.50      8032.5    2020-12-22   \n",
       "3   MSFT       2015-12-14       150      54.33      8149.5    2020-12-22   \n",
       "4    UNH       2013-06-04       130      63.70      8281.0    2020-12-22   \n",
       "\n",
       "  Latest Date  Ticker Adj Close  ticker return  SP 500 Initial Close  ...  \\\n",
       "0  2020-12-29        134.239273       7.694253           1631.380005  ...   \n",
       "1  2020-12-29       3322.000000       8.299591           1854.290039  ...   \n",
       "2  2020-12-29       1758.719971       2.284258           1775.319946  ...   \n",
       "3  2020-12-29        222.693390       3.098903           2021.939941  ...   \n",
       "4  2020-12-29        343.651062       4.394836           1631.380005  ...   \n",
       "\n",
       "   SP Start Year Close  Share YTD  SP 500 YTD  Cum Invst  Cum Ticker Returns  \\\n",
       "0           3687.26001        0.0    0.010789     7951.6        69133.225632   \n",
       "1           3687.26001        0.0    0.010789    16882.1       152183.225632   \n",
       "2           3687.26001        0.0    0.010789    24914.6       178564.025192   \n",
       "3           3687.26001        0.0    0.010789    33064.1       211968.033676   \n",
       "4           3687.26001        0.0    0.010789    41345.1       256642.671738   \n",
       "\n",
       "   Cum SP Returns  Cum Ticker ROI Mult  Closing High Adj Close  \\\n",
       "0    18166.173109             8.694253              136.050781   \n",
       "1    36116.078661             9.014472             3531.449951   \n",
       "2    52979.207573             7.167044             1827.989990   \n",
       "3    68001.173447             6.410821              229.543701   \n",
       "4    86919.891631             6.207330              351.754669   \n",
       "\n",
       "   Closing High Adj Close Date  Pct off High  \n",
       "0                   2020-12-28     -0.013315  \n",
       "1                   2020-09-02     -0.059310  \n",
       "2                   2020-12-04     -0.037894  \n",
       "3                   2020-09-02     -0.029843  \n",
       "4                   2020-11-16     -0.023038  \n",
       "\n",
       "[5 rows x 30 columns]"
      ]
     },
     "execution_count": 380,
     "metadata": {},
     "output_type": "execute_result"
    }
   ],
   "source": [
    "# Merge the Adj Close pivot table with the master dataframe to have the closing high since you have owned the stock.\n",
    "\n",
    "merged_portfolio_sp_latest_YTD_sp_closing_high1 = pd.merge(merged_portfolio1_sp_latest_YTD_sp, adj_close_pivot_merged1\n",
    "                                             , on=['Ticker', 'Acquisition Date'])\n",
    "\n",
    "# Renaming so that it's clear that the new columns are two year closing high and two year closing high date.\n",
    "merged_portfolio_sp_latest_YTD_sp_closing_high1.rename(columns={'Adj Close': 'Closing High Adj Close', 'Date': 'Closing High Adj Close Date'}, inplace=True)\n",
    "\n",
    "merged_portfolio_sp_latest_YTD_sp_closing_high1['Pct off High'] = merged_portfolio_sp_latest_YTD_sp_closing_high1['Ticker Adj Close'] / merged_portfolio_sp_latest_YTD_sp_closing_high1['Closing High Adj Close'] - 1 \n",
    "\n",
    "merged_portfolio_sp_latest_YTD_sp_closing_high1"
   ]
  },
  {
   "cell_type": "code",
   "execution_count": 138,
   "metadata": {
    "collapsed": true
   },
   "outputs": [],
   "source": [
    "# Not needed for this blog post -- this is if you have multiple positions for the same ticker with different acquisition dates.\n",
    "# merged_portfolio_sp_latest_YTD_sp_closing_high['Counts'] = merged_portfolio_sp_latest_YTD_sp_closing_high.index\n",
    "\n",
    "# merged_portfolio_sp_latest_YTD_sp_closing_high['Ticker #'] = merged_portfolio_sp_latest_YTD_sp_closing_high['Ticker'].map(str) + ' ' + merged_portfolio_sp_latest_YTD_sp_closing_high['Counts'].map(str)\n",
    "\n",
    "# merged_portfolio_sp_latest_YTD_sp_closing_high.head()"
   ]
  },
  {
   "cell_type": "markdown",
   "metadata": {},
   "source": [
    "## YTD and Trailing Stop Charts"
   ]
  },
  {
   "cell_type": "code",
   "execution_count": 381,
   "metadata": {},
   "outputs": [
    {
     "data": {
      "application/vnd.plotly.v1+json": {
       "config": {
        "linkText": "Export to plot.ly",
        "plotlyServerURL": "https://plot.ly",
        "showLink": false
       },
       "data": [
        {
         "name": "Ticker YTD",
         "type": "bar",
         "x": [
          "AAPL",
          "GS",
          "LUV",
          "MSFT",
          "UNH"
         ],
         "y": [
          0,
          0,
          0,
          0,
          0
         ]
        },
        {
         "name": "SP500 YTD",
         "type": "scatter",
         "x": [
          "AAPL",
          "GS",
          "LUV",
          "MSFT",
          "UNH"
         ],
         "y": [
          0,
          0,
          0,
          0,
          0
         ]
        }
       ],
       "layout": {
        "barmode": "group",
        "legend": {
         "x": 0.8,
         "y": 1
        },
        "template": {
         "data": {
          "bar": [
           {
            "error_x": {
             "color": "#2a3f5f"
            },
            "error_y": {
             "color": "#2a3f5f"
            },
            "marker": {
             "line": {
              "color": "#E5ECF6",
              "width": 0.5
             },
             "pattern": {
              "fillmode": "overlay",
              "size": 10,
              "solidity": 0.2
             }
            },
            "type": "bar"
           }
          ],
          "barpolar": [
           {
            "marker": {
             "line": {
              "color": "#E5ECF6",
              "width": 0.5
             },
             "pattern": {
              "fillmode": "overlay",
              "size": 10,
              "solidity": 0.2
             }
            },
            "type": "barpolar"
           }
          ],
          "carpet": [
           {
            "aaxis": {
             "endlinecolor": "#2a3f5f",
             "gridcolor": "white",
             "linecolor": "white",
             "minorgridcolor": "white",
             "startlinecolor": "#2a3f5f"
            },
            "baxis": {
             "endlinecolor": "#2a3f5f",
             "gridcolor": "white",
             "linecolor": "white",
             "minorgridcolor": "white",
             "startlinecolor": "#2a3f5f"
            },
            "type": "carpet"
           }
          ],
          "choropleth": [
           {
            "colorbar": {
             "outlinewidth": 0,
             "ticks": ""
            },
            "type": "choropleth"
           }
          ],
          "contour": [
           {
            "colorbar": {
             "outlinewidth": 0,
             "ticks": ""
            },
            "colorscale": [
             [
              0,
              "#0d0887"
             ],
             [
              0.1111111111111111,
              "#46039f"
             ],
             [
              0.2222222222222222,
              "#7201a8"
             ],
             [
              0.3333333333333333,
              "#9c179e"
             ],
             [
              0.4444444444444444,
              "#bd3786"
             ],
             [
              0.5555555555555556,
              "#d8576b"
             ],
             [
              0.6666666666666666,
              "#ed7953"
             ],
             [
              0.7777777777777778,
              "#fb9f3a"
             ],
             [
              0.8888888888888888,
              "#fdca26"
             ],
             [
              1,
              "#f0f921"
             ]
            ],
            "type": "contour"
           }
          ],
          "contourcarpet": [
           {
            "colorbar": {
             "outlinewidth": 0,
             "ticks": ""
            },
            "type": "contourcarpet"
           }
          ],
          "heatmap": [
           {
            "colorbar": {
             "outlinewidth": 0,
             "ticks": ""
            },
            "colorscale": [
             [
              0,
              "#0d0887"
             ],
             [
              0.1111111111111111,
              "#46039f"
             ],
             [
              0.2222222222222222,
              "#7201a8"
             ],
             [
              0.3333333333333333,
              "#9c179e"
             ],
             [
              0.4444444444444444,
              "#bd3786"
             ],
             [
              0.5555555555555556,
              "#d8576b"
             ],
             [
              0.6666666666666666,
              "#ed7953"
             ],
             [
              0.7777777777777778,
              "#fb9f3a"
             ],
             [
              0.8888888888888888,
              "#fdca26"
             ],
             [
              1,
              "#f0f921"
             ]
            ],
            "type": "heatmap"
           }
          ],
          "heatmapgl": [
           {
            "colorbar": {
             "outlinewidth": 0,
             "ticks": ""
            },
            "colorscale": [
             [
              0,
              "#0d0887"
             ],
             [
              0.1111111111111111,
              "#46039f"
             ],
             [
              0.2222222222222222,
              "#7201a8"
             ],
             [
              0.3333333333333333,
              "#9c179e"
             ],
             [
              0.4444444444444444,
              "#bd3786"
             ],
             [
              0.5555555555555556,
              "#d8576b"
             ],
             [
              0.6666666666666666,
              "#ed7953"
             ],
             [
              0.7777777777777778,
              "#fb9f3a"
             ],
             [
              0.8888888888888888,
              "#fdca26"
             ],
             [
              1,
              "#f0f921"
             ]
            ],
            "type": "heatmapgl"
           }
          ],
          "histogram": [
           {
            "marker": {
             "pattern": {
              "fillmode": "overlay",
              "size": 10,
              "solidity": 0.2
             }
            },
            "type": "histogram"
           }
          ],
          "histogram2d": [
           {
            "colorbar": {
             "outlinewidth": 0,
             "ticks": ""
            },
            "colorscale": [
             [
              0,
              "#0d0887"
             ],
             [
              0.1111111111111111,
              "#46039f"
             ],
             [
              0.2222222222222222,
              "#7201a8"
             ],
             [
              0.3333333333333333,
              "#9c179e"
             ],
             [
              0.4444444444444444,
              "#bd3786"
             ],
             [
              0.5555555555555556,
              "#d8576b"
             ],
             [
              0.6666666666666666,
              "#ed7953"
             ],
             [
              0.7777777777777778,
              "#fb9f3a"
             ],
             [
              0.8888888888888888,
              "#fdca26"
             ],
             [
              1,
              "#f0f921"
             ]
            ],
            "type": "histogram2d"
           }
          ],
          "histogram2dcontour": [
           {
            "colorbar": {
             "outlinewidth": 0,
             "ticks": ""
            },
            "colorscale": [
             [
              0,
              "#0d0887"
             ],
             [
              0.1111111111111111,
              "#46039f"
             ],
             [
              0.2222222222222222,
              "#7201a8"
             ],
             [
              0.3333333333333333,
              "#9c179e"
             ],
             [
              0.4444444444444444,
              "#bd3786"
             ],
             [
              0.5555555555555556,
              "#d8576b"
             ],
             [
              0.6666666666666666,
              "#ed7953"
             ],
             [
              0.7777777777777778,
              "#fb9f3a"
             ],
             [
              0.8888888888888888,
              "#fdca26"
             ],
             [
              1,
              "#f0f921"
             ]
            ],
            "type": "histogram2dcontour"
           }
          ],
          "mesh3d": [
           {
            "colorbar": {
             "outlinewidth": 0,
             "ticks": ""
            },
            "type": "mesh3d"
           }
          ],
          "parcoords": [
           {
            "line": {
             "colorbar": {
              "outlinewidth": 0,
              "ticks": ""
             }
            },
            "type": "parcoords"
           }
          ],
          "pie": [
           {
            "automargin": true,
            "type": "pie"
           }
          ],
          "scatter": [
           {
            "marker": {
             "colorbar": {
              "outlinewidth": 0,
              "ticks": ""
             }
            },
            "type": "scatter"
           }
          ],
          "scatter3d": [
           {
            "line": {
             "colorbar": {
              "outlinewidth": 0,
              "ticks": ""
             }
            },
            "marker": {
             "colorbar": {
              "outlinewidth": 0,
              "ticks": ""
             }
            },
            "type": "scatter3d"
           }
          ],
          "scattercarpet": [
           {
            "marker": {
             "colorbar": {
              "outlinewidth": 0,
              "ticks": ""
             }
            },
            "type": "scattercarpet"
           }
          ],
          "scattergeo": [
           {
            "marker": {
             "colorbar": {
              "outlinewidth": 0,
              "ticks": ""
             }
            },
            "type": "scattergeo"
           }
          ],
          "scattergl": [
           {
            "marker": {
             "colorbar": {
              "outlinewidth": 0,
              "ticks": ""
             }
            },
            "type": "scattergl"
           }
          ],
          "scattermapbox": [
           {
            "marker": {
             "colorbar": {
              "outlinewidth": 0,
              "ticks": ""
             }
            },
            "type": "scattermapbox"
           }
          ],
          "scatterpolar": [
           {
            "marker": {
             "colorbar": {
              "outlinewidth": 0,
              "ticks": ""
             }
            },
            "type": "scatterpolar"
           }
          ],
          "scatterpolargl": [
           {
            "marker": {
             "colorbar": {
              "outlinewidth": 0,
              "ticks": ""
             }
            },
            "type": "scatterpolargl"
           }
          ],
          "scatterternary": [
           {
            "marker": {
             "colorbar": {
              "outlinewidth": 0,
              "ticks": ""
             }
            },
            "type": "scatterternary"
           }
          ],
          "surface": [
           {
            "colorbar": {
             "outlinewidth": 0,
             "ticks": ""
            },
            "colorscale": [
             [
              0,
              "#0d0887"
             ],
             [
              0.1111111111111111,
              "#46039f"
             ],
             [
              0.2222222222222222,
              "#7201a8"
             ],
             [
              0.3333333333333333,
              "#9c179e"
             ],
             [
              0.4444444444444444,
              "#bd3786"
             ],
             [
              0.5555555555555556,
              "#d8576b"
             ],
             [
              0.6666666666666666,
              "#ed7953"
             ],
             [
              0.7777777777777778,
              "#fb9f3a"
             ],
             [
              0.8888888888888888,
              "#fdca26"
             ],
             [
              1,
              "#f0f921"
             ]
            ],
            "type": "surface"
           }
          ],
          "table": [
           {
            "cells": {
             "fill": {
              "color": "#EBF0F8"
             },
             "line": {
              "color": "white"
             }
            },
            "header": {
             "fill": {
              "color": "#C8D4E3"
             },
             "line": {
              "color": "white"
             }
            },
            "type": "table"
           }
          ]
         },
         "layout": {
          "annotationdefaults": {
           "arrowcolor": "#2a3f5f",
           "arrowhead": 0,
           "arrowwidth": 1
          },
          "autotypenumbers": "strict",
          "coloraxis": {
           "colorbar": {
            "outlinewidth": 0,
            "ticks": ""
           }
          },
          "colorscale": {
           "diverging": [
            [
             0,
             "#8e0152"
            ],
            [
             0.1,
             "#c51b7d"
            ],
            [
             0.2,
             "#de77ae"
            ],
            [
             0.3,
             "#f1b6da"
            ],
            [
             0.4,
             "#fde0ef"
            ],
            [
             0.5,
             "#f7f7f7"
            ],
            [
             0.6,
             "#e6f5d0"
            ],
            [
             0.7,
             "#b8e186"
            ],
            [
             0.8,
             "#7fbc41"
            ],
            [
             0.9,
             "#4d9221"
            ],
            [
             1,
             "#276419"
            ]
           ],
           "sequential": [
            [
             0,
             "#0d0887"
            ],
            [
             0.1111111111111111,
             "#46039f"
            ],
            [
             0.2222222222222222,
             "#7201a8"
            ],
            [
             0.3333333333333333,
             "#9c179e"
            ],
            [
             0.4444444444444444,
             "#bd3786"
            ],
            [
             0.5555555555555556,
             "#d8576b"
            ],
            [
             0.6666666666666666,
             "#ed7953"
            ],
            [
             0.7777777777777778,
             "#fb9f3a"
            ],
            [
             0.8888888888888888,
             "#fdca26"
            ],
            [
             1,
             "#f0f921"
            ]
           ],
           "sequentialminus": [
            [
             0,
             "#0d0887"
            ],
            [
             0.1111111111111111,
             "#46039f"
            ],
            [
             0.2222222222222222,
             "#7201a8"
            ],
            [
             0.3333333333333333,
             "#9c179e"
            ],
            [
             0.4444444444444444,
             "#bd3786"
            ],
            [
             0.5555555555555556,
             "#d8576b"
            ],
            [
             0.6666666666666666,
             "#ed7953"
            ],
            [
             0.7777777777777778,
             "#fb9f3a"
            ],
            [
             0.8888888888888888,
             "#fdca26"
            ],
            [
             1,
             "#f0f921"
            ]
           ]
          },
          "colorway": [
           "#636efa",
           "#EF553B",
           "#00cc96",
           "#ab63fa",
           "#FFA15A",
           "#19d3f3",
           "#FF6692",
           "#B6E880",
           "#FF97FF",
           "#FECB52"
          ],
          "font": {
           "color": "#2a3f5f"
          },
          "geo": {
           "bgcolor": "white",
           "lakecolor": "white",
           "landcolor": "#E5ECF6",
           "showlakes": true,
           "showland": true,
           "subunitcolor": "white"
          },
          "hoverlabel": {
           "align": "left"
          },
          "hovermode": "closest",
          "mapbox": {
           "style": "light"
          },
          "paper_bgcolor": "white",
          "plot_bgcolor": "#E5ECF6",
          "polar": {
           "angularaxis": {
            "gridcolor": "white",
            "linecolor": "white",
            "ticks": ""
           },
           "bgcolor": "#E5ECF6",
           "radialaxis": {
            "gridcolor": "white",
            "linecolor": "white",
            "ticks": ""
           }
          },
          "scene": {
           "xaxis": {
            "backgroundcolor": "#E5ECF6",
            "gridcolor": "white",
            "gridwidth": 2,
            "linecolor": "white",
            "showbackground": true,
            "ticks": "",
            "zerolinecolor": "white"
           },
           "yaxis": {
            "backgroundcolor": "#E5ECF6",
            "gridcolor": "white",
            "gridwidth": 2,
            "linecolor": "white",
            "showbackground": true,
            "ticks": "",
            "zerolinecolor": "white"
           },
           "zaxis": {
            "backgroundcolor": "#E5ECF6",
            "gridcolor": "white",
            "gridwidth": 2,
            "linecolor": "white",
            "showbackground": true,
            "ticks": "",
            "zerolinecolor": "white"
           }
          },
          "shapedefaults": {
           "line": {
            "color": "#2a3f5f"
           }
          },
          "ternary": {
           "aaxis": {
            "gridcolor": "white",
            "linecolor": "white",
            "ticks": ""
           },
           "baxis": {
            "gridcolor": "white",
            "linecolor": "white",
            "ticks": ""
           },
           "bgcolor": "#E5ECF6",
           "caxis": {
            "gridcolor": "white",
            "linecolor": "white",
            "ticks": ""
           }
          },
          "title": {
           "x": 0.05
          },
          "xaxis": {
           "automargin": true,
           "gridcolor": "white",
           "linecolor": "white",
           "ticks": "",
           "title": {
            "standoff": 15
           },
           "zerolinecolor": "white",
           "zerolinewidth": 2
          },
          "yaxis": {
           "automargin": true,
           "gridcolor": "white",
           "linecolor": "white",
           "ticks": "",
           "title": {
            "standoff": 15
           },
           "zerolinecolor": "white",
           "zerolinewidth": 2
          }
         }
        },
        "title": {
         "text": "YTD Return vs S&P 500 YTD"
        },
        "xaxis": {
         "title": {
          "text": "Ticker"
         }
        },
        "yaxis": {
         "tickformat": ".2%",
         "title": {
          "text": "Returns"
         }
        }
       }
      },
      "text/html": [
       "<div>                            <div id=\"9c2996ad-349d-4c5d-b3b8-d70dc9ced1d1\" class=\"plotly-graph-div\" style=\"height:525px; width:100%;\"></div>            <script type=\"text/javascript\">                require([\"plotly\"], function(Plotly) {                    window.PLOTLYENV=window.PLOTLYENV || {};                                    if (document.getElementById(\"9c2996ad-349d-4c5d-b3b8-d70dc9ced1d1\")) {                    Plotly.newPlot(                        \"9c2996ad-349d-4c5d-b3b8-d70dc9ced1d1\",                        [{\"name\":\"Ticker YTD\",\"type\":\"bar\",\"x\":[\"AAPL\",\"GS\",\"LUV\",\"MSFT\",\"UNH\"],\"y\":[0.0,0.0,0.0,0.0,0.0]},{\"name\":\"SP500 YTD\",\"type\":\"scatter\",\"x\":[\"AAPL\",\"GS\",\"LUV\",\"MSFT\",\"UNH\"],\"y\":[0.0,0.0,0.0,0.0,0.0]}],                        {\"barmode\":\"group\",\"legend\":{\"x\":0.8,\"y\":1},\"template\":{\"data\":{\"bar\":[{\"error_x\":{\"color\":\"#2a3f5f\"},\"error_y\":{\"color\":\"#2a3f5f\"},\"marker\":{\"line\":{\"color\":\"#E5ECF6\",\"width\":0.5},\"pattern\":{\"fillmode\":\"overlay\",\"size\":10,\"solidity\":0.2}},\"type\":\"bar\"}],\"barpolar\":[{\"marker\":{\"line\":{\"color\":\"#E5ECF6\",\"width\":0.5},\"pattern\":{\"fillmode\":\"overlay\",\"size\":10,\"solidity\":0.2}},\"type\":\"barpolar\"}],\"carpet\":[{\"aaxis\":{\"endlinecolor\":\"#2a3f5f\",\"gridcolor\":\"white\",\"linecolor\":\"white\",\"minorgridcolor\":\"white\",\"startlinecolor\":\"#2a3f5f\"},\"baxis\":{\"endlinecolor\":\"#2a3f5f\",\"gridcolor\":\"white\",\"linecolor\":\"white\",\"minorgridcolor\":\"white\",\"startlinecolor\":\"#2a3f5f\"},\"type\":\"carpet\"}],\"choropleth\":[{\"colorbar\":{\"outlinewidth\":0,\"ticks\":\"\"},\"type\":\"choropleth\"}],\"contour\":[{\"colorbar\":{\"outlinewidth\":0,\"ticks\":\"\"},\"colorscale\":[[0.0,\"#0d0887\"],[0.1111111111111111,\"#46039f\"],[0.2222222222222222,\"#7201a8\"],[0.3333333333333333,\"#9c179e\"],[0.4444444444444444,\"#bd3786\"],[0.5555555555555556,\"#d8576b\"],[0.6666666666666666,\"#ed7953\"],[0.7777777777777778,\"#fb9f3a\"],[0.8888888888888888,\"#fdca26\"],[1.0,\"#f0f921\"]],\"type\":\"contour\"}],\"contourcarpet\":[{\"colorbar\":{\"outlinewidth\":0,\"ticks\":\"\"},\"type\":\"contourcarpet\"}],\"heatmap\":[{\"colorbar\":{\"outlinewidth\":0,\"ticks\":\"\"},\"colorscale\":[[0.0,\"#0d0887\"],[0.1111111111111111,\"#46039f\"],[0.2222222222222222,\"#7201a8\"],[0.3333333333333333,\"#9c179e\"],[0.4444444444444444,\"#bd3786\"],[0.5555555555555556,\"#d8576b\"],[0.6666666666666666,\"#ed7953\"],[0.7777777777777778,\"#fb9f3a\"],[0.8888888888888888,\"#fdca26\"],[1.0,\"#f0f921\"]],\"type\":\"heatmap\"}],\"heatmapgl\":[{\"colorbar\":{\"outlinewidth\":0,\"ticks\":\"\"},\"colorscale\":[[0.0,\"#0d0887\"],[0.1111111111111111,\"#46039f\"],[0.2222222222222222,\"#7201a8\"],[0.3333333333333333,\"#9c179e\"],[0.4444444444444444,\"#bd3786\"],[0.5555555555555556,\"#d8576b\"],[0.6666666666666666,\"#ed7953\"],[0.7777777777777778,\"#fb9f3a\"],[0.8888888888888888,\"#fdca26\"],[1.0,\"#f0f921\"]],\"type\":\"heatmapgl\"}],\"histogram\":[{\"marker\":{\"pattern\":{\"fillmode\":\"overlay\",\"size\":10,\"solidity\":0.2}},\"type\":\"histogram\"}],\"histogram2d\":[{\"colorbar\":{\"outlinewidth\":0,\"ticks\":\"\"},\"colorscale\":[[0.0,\"#0d0887\"],[0.1111111111111111,\"#46039f\"],[0.2222222222222222,\"#7201a8\"],[0.3333333333333333,\"#9c179e\"],[0.4444444444444444,\"#bd3786\"],[0.5555555555555556,\"#d8576b\"],[0.6666666666666666,\"#ed7953\"],[0.7777777777777778,\"#fb9f3a\"],[0.8888888888888888,\"#fdca26\"],[1.0,\"#f0f921\"]],\"type\":\"histogram2d\"}],\"histogram2dcontour\":[{\"colorbar\":{\"outlinewidth\":0,\"ticks\":\"\"},\"colorscale\":[[0.0,\"#0d0887\"],[0.1111111111111111,\"#46039f\"],[0.2222222222222222,\"#7201a8\"],[0.3333333333333333,\"#9c179e\"],[0.4444444444444444,\"#bd3786\"],[0.5555555555555556,\"#d8576b\"],[0.6666666666666666,\"#ed7953\"],[0.7777777777777778,\"#fb9f3a\"],[0.8888888888888888,\"#fdca26\"],[1.0,\"#f0f921\"]],\"type\":\"histogram2dcontour\"}],\"mesh3d\":[{\"colorbar\":{\"outlinewidth\":0,\"ticks\":\"\"},\"type\":\"mesh3d\"}],\"parcoords\":[{\"line\":{\"colorbar\":{\"outlinewidth\":0,\"ticks\":\"\"}},\"type\":\"parcoords\"}],\"pie\":[{\"automargin\":true,\"type\":\"pie\"}],\"scatter\":[{\"marker\":{\"colorbar\":{\"outlinewidth\":0,\"ticks\":\"\"}},\"type\":\"scatter\"}],\"scatter3d\":[{\"line\":{\"colorbar\":{\"outlinewidth\":0,\"ticks\":\"\"}},\"marker\":{\"colorbar\":{\"outlinewidth\":0,\"ticks\":\"\"}},\"type\":\"scatter3d\"}],\"scattercarpet\":[{\"marker\":{\"colorbar\":{\"outlinewidth\":0,\"ticks\":\"\"}},\"type\":\"scattercarpet\"}],\"scattergeo\":[{\"marker\":{\"colorbar\":{\"outlinewidth\":0,\"ticks\":\"\"}},\"type\":\"scattergeo\"}],\"scattergl\":[{\"marker\":{\"colorbar\":{\"outlinewidth\":0,\"ticks\":\"\"}},\"type\":\"scattergl\"}],\"scattermapbox\":[{\"marker\":{\"colorbar\":{\"outlinewidth\":0,\"ticks\":\"\"}},\"type\":\"scattermapbox\"}],\"scatterpolar\":[{\"marker\":{\"colorbar\":{\"outlinewidth\":0,\"ticks\":\"\"}},\"type\":\"scatterpolar\"}],\"scatterpolargl\":[{\"marker\":{\"colorbar\":{\"outlinewidth\":0,\"ticks\":\"\"}},\"type\":\"scatterpolargl\"}],\"scatterternary\":[{\"marker\":{\"colorbar\":{\"outlinewidth\":0,\"ticks\":\"\"}},\"type\":\"scatterternary\"}],\"surface\":[{\"colorbar\":{\"outlinewidth\":0,\"ticks\":\"\"},\"colorscale\":[[0.0,\"#0d0887\"],[0.1111111111111111,\"#46039f\"],[0.2222222222222222,\"#7201a8\"],[0.3333333333333333,\"#9c179e\"],[0.4444444444444444,\"#bd3786\"],[0.5555555555555556,\"#d8576b\"],[0.6666666666666666,\"#ed7953\"],[0.7777777777777778,\"#fb9f3a\"],[0.8888888888888888,\"#fdca26\"],[1.0,\"#f0f921\"]],\"type\":\"surface\"}],\"table\":[{\"cells\":{\"fill\":{\"color\":\"#EBF0F8\"},\"line\":{\"color\":\"white\"}},\"header\":{\"fill\":{\"color\":\"#C8D4E3\"},\"line\":{\"color\":\"white\"}},\"type\":\"table\"}]},\"layout\":{\"annotationdefaults\":{\"arrowcolor\":\"#2a3f5f\",\"arrowhead\":0,\"arrowwidth\":1},\"autotypenumbers\":\"strict\",\"coloraxis\":{\"colorbar\":{\"outlinewidth\":0,\"ticks\":\"\"}},\"colorscale\":{\"diverging\":[[0,\"#8e0152\"],[0.1,\"#c51b7d\"],[0.2,\"#de77ae\"],[0.3,\"#f1b6da\"],[0.4,\"#fde0ef\"],[0.5,\"#f7f7f7\"],[0.6,\"#e6f5d0\"],[0.7,\"#b8e186\"],[0.8,\"#7fbc41\"],[0.9,\"#4d9221\"],[1,\"#276419\"]],\"sequential\":[[0.0,\"#0d0887\"],[0.1111111111111111,\"#46039f\"],[0.2222222222222222,\"#7201a8\"],[0.3333333333333333,\"#9c179e\"],[0.4444444444444444,\"#bd3786\"],[0.5555555555555556,\"#d8576b\"],[0.6666666666666666,\"#ed7953\"],[0.7777777777777778,\"#fb9f3a\"],[0.8888888888888888,\"#fdca26\"],[1.0,\"#f0f921\"]],\"sequentialminus\":[[0.0,\"#0d0887\"],[0.1111111111111111,\"#46039f\"],[0.2222222222222222,\"#7201a8\"],[0.3333333333333333,\"#9c179e\"],[0.4444444444444444,\"#bd3786\"],[0.5555555555555556,\"#d8576b\"],[0.6666666666666666,\"#ed7953\"],[0.7777777777777778,\"#fb9f3a\"],[0.8888888888888888,\"#fdca26\"],[1.0,\"#f0f921\"]]},\"colorway\":[\"#636efa\",\"#EF553B\",\"#00cc96\",\"#ab63fa\",\"#FFA15A\",\"#19d3f3\",\"#FF6692\",\"#B6E880\",\"#FF97FF\",\"#FECB52\"],\"font\":{\"color\":\"#2a3f5f\"},\"geo\":{\"bgcolor\":\"white\",\"lakecolor\":\"white\",\"landcolor\":\"#E5ECF6\",\"showlakes\":true,\"showland\":true,\"subunitcolor\":\"white\"},\"hoverlabel\":{\"align\":\"left\"},\"hovermode\":\"closest\",\"mapbox\":{\"style\":\"light\"},\"paper_bgcolor\":\"white\",\"plot_bgcolor\":\"#E5ECF6\",\"polar\":{\"angularaxis\":{\"gridcolor\":\"white\",\"linecolor\":\"white\",\"ticks\":\"\"},\"bgcolor\":\"#E5ECF6\",\"radialaxis\":{\"gridcolor\":\"white\",\"linecolor\":\"white\",\"ticks\":\"\"}},\"scene\":{\"xaxis\":{\"backgroundcolor\":\"#E5ECF6\",\"gridcolor\":\"white\",\"gridwidth\":2,\"linecolor\":\"white\",\"showbackground\":true,\"ticks\":\"\",\"zerolinecolor\":\"white\"},\"yaxis\":{\"backgroundcolor\":\"#E5ECF6\",\"gridcolor\":\"white\",\"gridwidth\":2,\"linecolor\":\"white\",\"showbackground\":true,\"ticks\":\"\",\"zerolinecolor\":\"white\"},\"zaxis\":{\"backgroundcolor\":\"#E5ECF6\",\"gridcolor\":\"white\",\"gridwidth\":2,\"linecolor\":\"white\",\"showbackground\":true,\"ticks\":\"\",\"zerolinecolor\":\"white\"}},\"shapedefaults\":{\"line\":{\"color\":\"#2a3f5f\"}},\"ternary\":{\"aaxis\":{\"gridcolor\":\"white\",\"linecolor\":\"white\",\"ticks\":\"\"},\"baxis\":{\"gridcolor\":\"white\",\"linecolor\":\"white\",\"ticks\":\"\"},\"bgcolor\":\"#E5ECF6\",\"caxis\":{\"gridcolor\":\"white\",\"linecolor\":\"white\",\"ticks\":\"\"}},\"title\":{\"x\":0.05},\"xaxis\":{\"automargin\":true,\"gridcolor\":\"white\",\"linecolor\":\"white\",\"ticks\":\"\",\"title\":{\"standoff\":15},\"zerolinecolor\":\"white\",\"zerolinewidth\":2},\"yaxis\":{\"automargin\":true,\"gridcolor\":\"white\",\"linecolor\":\"white\",\"ticks\":\"\",\"title\":{\"standoff\":15},\"zerolinecolor\":\"white\",\"zerolinewidth\":2}}},\"title\":{\"text\":\"YTD Return vs S&P 500 YTD\"},\"xaxis\":{\"title\":{\"text\":\"Ticker\"}},\"yaxis\":{\"tickformat\":\".2%\",\"title\":{\"text\":\"Returns\"}}},                        {\"responsive\": true}                    ).then(function(){\n",
       "                            \n",
       "var gd = document.getElementById('9c2996ad-349d-4c5d-b3b8-d70dc9ced1d1');\n",
       "var x = new MutationObserver(function (mutations, observer) {{\n",
       "        var display = window.getComputedStyle(gd).display;\n",
       "        if (!display || display === 'none') {{\n",
       "            console.log([gd, 'removed!']);\n",
       "            Plotly.purge(gd);\n",
       "            observer.disconnect();\n",
       "        }}\n",
       "}});\n",
       "\n",
       "// Listen for the removal of the full notebook cells\n",
       "var notebookContainer = gd.closest('#notebook-container');\n",
       "if (notebookContainer) {{\n",
       "    x.observe(notebookContainer, {childList: true});\n",
       "}}\n",
       "\n",
       "// Listen for the clearing of the current output cell\n",
       "var outputEl = gd.closest('.output');\n",
       "if (outputEl) {{\n",
       "    x.observe(outputEl, {childList: true});\n",
       "}}\n",
       "\n",
       "                        })                };                });            </script>        </div>"
      ]
     },
     "metadata": {},
     "output_type": "display_data"
    }
   ],
   "source": [
    "# Ploty is an outstanding resource for interactive charts.\n",
    "\n",
    "trace1 = go.Bar(\n",
    "    x = merged_portfolio_sp_latest_YTD_sp['Ticker'][0:10],\n",
    "    y = merged_portfolio_sp_latest_YTD_sp['Share YTD'][0:10],\n",
    "    name = 'Ticker YTD')\n",
    "\n",
    "trace2 = go.Scatter(\n",
    "    x = merged_portfolio_sp_latest_YTD_sp['Ticker'][0:10],\n",
    "    y = merged_portfolio_sp_latest_YTD_sp['SP 500 YTD'][0:10],\n",
    "    name = 'SP500 YTD')\n",
    "    \n",
    "data = [trace1, trace2]\n",
    "\n",
    "layout = go.Layout(title = 'YTD Return vs S&P 500 YTD'\n",
    "    , barmode = 'group'\n",
    "    , yaxis=dict(title='Returns', tickformat=\".2%\")\n",
    "    , xaxis=dict(title='Ticker')\n",
    "    , legend=dict(x=.8,y=1)\n",
    "    )\n",
    "\n",
    "fig = go.Figure(data=data, layout=layout)\n",
    "iplot(fig)"
   ]
  },
  {
   "cell_type": "code",
   "execution_count": 382,
   "metadata": {},
   "outputs": [
    {
     "data": {
      "application/vnd.plotly.v1+json": {
       "config": {
        "linkText": "Export to plot.ly",
        "plotlyServerURL": "https://plot.ly",
        "showLink": false
       },
       "data": [
        {
         "name": "Ticker YTD",
         "type": "bar",
         "x": [
          "AAPL",
          "AMZN",
          "GOOG",
          "MSFT",
          "UNH"
         ],
         "y": [
          0,
          0,
          0,
          0,
          0
         ]
        },
        {
         "name": "SP500 YTD",
         "type": "scatter",
         "x": [
          "AAPL",
          "AMZN",
          "GOOG",
          "MSFT",
          "UNH"
         ],
         "y": [
          0.010788506693728772,
          0.010788506693728772,
          0.010788506693728772,
          0.010788506693728772,
          0.010788506693728772
         ]
        }
       ],
       "layout": {
        "barmode": "group",
        "legend": {
         "x": 0.8,
         "y": 1
        },
        "template": {
         "data": {
          "bar": [
           {
            "error_x": {
             "color": "#2a3f5f"
            },
            "error_y": {
             "color": "#2a3f5f"
            },
            "marker": {
             "line": {
              "color": "#E5ECF6",
              "width": 0.5
             },
             "pattern": {
              "fillmode": "overlay",
              "size": 10,
              "solidity": 0.2
             }
            },
            "type": "bar"
           }
          ],
          "barpolar": [
           {
            "marker": {
             "line": {
              "color": "#E5ECF6",
              "width": 0.5
             },
             "pattern": {
              "fillmode": "overlay",
              "size": 10,
              "solidity": 0.2
             }
            },
            "type": "barpolar"
           }
          ],
          "carpet": [
           {
            "aaxis": {
             "endlinecolor": "#2a3f5f",
             "gridcolor": "white",
             "linecolor": "white",
             "minorgridcolor": "white",
             "startlinecolor": "#2a3f5f"
            },
            "baxis": {
             "endlinecolor": "#2a3f5f",
             "gridcolor": "white",
             "linecolor": "white",
             "minorgridcolor": "white",
             "startlinecolor": "#2a3f5f"
            },
            "type": "carpet"
           }
          ],
          "choropleth": [
           {
            "colorbar": {
             "outlinewidth": 0,
             "ticks": ""
            },
            "type": "choropleth"
           }
          ],
          "contour": [
           {
            "colorbar": {
             "outlinewidth": 0,
             "ticks": ""
            },
            "colorscale": [
             [
              0,
              "#0d0887"
             ],
             [
              0.1111111111111111,
              "#46039f"
             ],
             [
              0.2222222222222222,
              "#7201a8"
             ],
             [
              0.3333333333333333,
              "#9c179e"
             ],
             [
              0.4444444444444444,
              "#bd3786"
             ],
             [
              0.5555555555555556,
              "#d8576b"
             ],
             [
              0.6666666666666666,
              "#ed7953"
             ],
             [
              0.7777777777777778,
              "#fb9f3a"
             ],
             [
              0.8888888888888888,
              "#fdca26"
             ],
             [
              1,
              "#f0f921"
             ]
            ],
            "type": "contour"
           }
          ],
          "contourcarpet": [
           {
            "colorbar": {
             "outlinewidth": 0,
             "ticks": ""
            },
            "type": "contourcarpet"
           }
          ],
          "heatmap": [
           {
            "colorbar": {
             "outlinewidth": 0,
             "ticks": ""
            },
            "colorscale": [
             [
              0,
              "#0d0887"
             ],
             [
              0.1111111111111111,
              "#46039f"
             ],
             [
              0.2222222222222222,
              "#7201a8"
             ],
             [
              0.3333333333333333,
              "#9c179e"
             ],
             [
              0.4444444444444444,
              "#bd3786"
             ],
             [
              0.5555555555555556,
              "#d8576b"
             ],
             [
              0.6666666666666666,
              "#ed7953"
             ],
             [
              0.7777777777777778,
              "#fb9f3a"
             ],
             [
              0.8888888888888888,
              "#fdca26"
             ],
             [
              1,
              "#f0f921"
             ]
            ],
            "type": "heatmap"
           }
          ],
          "heatmapgl": [
           {
            "colorbar": {
             "outlinewidth": 0,
             "ticks": ""
            },
            "colorscale": [
             [
              0,
              "#0d0887"
             ],
             [
              0.1111111111111111,
              "#46039f"
             ],
             [
              0.2222222222222222,
              "#7201a8"
             ],
             [
              0.3333333333333333,
              "#9c179e"
             ],
             [
              0.4444444444444444,
              "#bd3786"
             ],
             [
              0.5555555555555556,
              "#d8576b"
             ],
             [
              0.6666666666666666,
              "#ed7953"
             ],
             [
              0.7777777777777778,
              "#fb9f3a"
             ],
             [
              0.8888888888888888,
              "#fdca26"
             ],
             [
              1,
              "#f0f921"
             ]
            ],
            "type": "heatmapgl"
           }
          ],
          "histogram": [
           {
            "marker": {
             "pattern": {
              "fillmode": "overlay",
              "size": 10,
              "solidity": 0.2
             }
            },
            "type": "histogram"
           }
          ],
          "histogram2d": [
           {
            "colorbar": {
             "outlinewidth": 0,
             "ticks": ""
            },
            "colorscale": [
             [
              0,
              "#0d0887"
             ],
             [
              0.1111111111111111,
              "#46039f"
             ],
             [
              0.2222222222222222,
              "#7201a8"
             ],
             [
              0.3333333333333333,
              "#9c179e"
             ],
             [
              0.4444444444444444,
              "#bd3786"
             ],
             [
              0.5555555555555556,
              "#d8576b"
             ],
             [
              0.6666666666666666,
              "#ed7953"
             ],
             [
              0.7777777777777778,
              "#fb9f3a"
             ],
             [
              0.8888888888888888,
              "#fdca26"
             ],
             [
              1,
              "#f0f921"
             ]
            ],
            "type": "histogram2d"
           }
          ],
          "histogram2dcontour": [
           {
            "colorbar": {
             "outlinewidth": 0,
             "ticks": ""
            },
            "colorscale": [
             [
              0,
              "#0d0887"
             ],
             [
              0.1111111111111111,
              "#46039f"
             ],
             [
              0.2222222222222222,
              "#7201a8"
             ],
             [
              0.3333333333333333,
              "#9c179e"
             ],
             [
              0.4444444444444444,
              "#bd3786"
             ],
             [
              0.5555555555555556,
              "#d8576b"
             ],
             [
              0.6666666666666666,
              "#ed7953"
             ],
             [
              0.7777777777777778,
              "#fb9f3a"
             ],
             [
              0.8888888888888888,
              "#fdca26"
             ],
             [
              1,
              "#f0f921"
             ]
            ],
            "type": "histogram2dcontour"
           }
          ],
          "mesh3d": [
           {
            "colorbar": {
             "outlinewidth": 0,
             "ticks": ""
            },
            "type": "mesh3d"
           }
          ],
          "parcoords": [
           {
            "line": {
             "colorbar": {
              "outlinewidth": 0,
              "ticks": ""
             }
            },
            "type": "parcoords"
           }
          ],
          "pie": [
           {
            "automargin": true,
            "type": "pie"
           }
          ],
          "scatter": [
           {
            "marker": {
             "colorbar": {
              "outlinewidth": 0,
              "ticks": ""
             }
            },
            "type": "scatter"
           }
          ],
          "scatter3d": [
           {
            "line": {
             "colorbar": {
              "outlinewidth": 0,
              "ticks": ""
             }
            },
            "marker": {
             "colorbar": {
              "outlinewidth": 0,
              "ticks": ""
             }
            },
            "type": "scatter3d"
           }
          ],
          "scattercarpet": [
           {
            "marker": {
             "colorbar": {
              "outlinewidth": 0,
              "ticks": ""
             }
            },
            "type": "scattercarpet"
           }
          ],
          "scattergeo": [
           {
            "marker": {
             "colorbar": {
              "outlinewidth": 0,
              "ticks": ""
             }
            },
            "type": "scattergeo"
           }
          ],
          "scattergl": [
           {
            "marker": {
             "colorbar": {
              "outlinewidth": 0,
              "ticks": ""
             }
            },
            "type": "scattergl"
           }
          ],
          "scattermapbox": [
           {
            "marker": {
             "colorbar": {
              "outlinewidth": 0,
              "ticks": ""
             }
            },
            "type": "scattermapbox"
           }
          ],
          "scatterpolar": [
           {
            "marker": {
             "colorbar": {
              "outlinewidth": 0,
              "ticks": ""
             }
            },
            "type": "scatterpolar"
           }
          ],
          "scatterpolargl": [
           {
            "marker": {
             "colorbar": {
              "outlinewidth": 0,
              "ticks": ""
             }
            },
            "type": "scatterpolargl"
           }
          ],
          "scatterternary": [
           {
            "marker": {
             "colorbar": {
              "outlinewidth": 0,
              "ticks": ""
             }
            },
            "type": "scatterternary"
           }
          ],
          "surface": [
           {
            "colorbar": {
             "outlinewidth": 0,
             "ticks": ""
            },
            "colorscale": [
             [
              0,
              "#0d0887"
             ],
             [
              0.1111111111111111,
              "#46039f"
             ],
             [
              0.2222222222222222,
              "#7201a8"
             ],
             [
              0.3333333333333333,
              "#9c179e"
             ],
             [
              0.4444444444444444,
              "#bd3786"
             ],
             [
              0.5555555555555556,
              "#d8576b"
             ],
             [
              0.6666666666666666,
              "#ed7953"
             ],
             [
              0.7777777777777778,
              "#fb9f3a"
             ],
             [
              0.8888888888888888,
              "#fdca26"
             ],
             [
              1,
              "#f0f921"
             ]
            ],
            "type": "surface"
           }
          ],
          "table": [
           {
            "cells": {
             "fill": {
              "color": "#EBF0F8"
             },
             "line": {
              "color": "white"
             }
            },
            "header": {
             "fill": {
              "color": "#C8D4E3"
             },
             "line": {
              "color": "white"
             }
            },
            "type": "table"
           }
          ]
         },
         "layout": {
          "annotationdefaults": {
           "arrowcolor": "#2a3f5f",
           "arrowhead": 0,
           "arrowwidth": 1
          },
          "autotypenumbers": "strict",
          "coloraxis": {
           "colorbar": {
            "outlinewidth": 0,
            "ticks": ""
           }
          },
          "colorscale": {
           "diverging": [
            [
             0,
             "#8e0152"
            ],
            [
             0.1,
             "#c51b7d"
            ],
            [
             0.2,
             "#de77ae"
            ],
            [
             0.3,
             "#f1b6da"
            ],
            [
             0.4,
             "#fde0ef"
            ],
            [
             0.5,
             "#f7f7f7"
            ],
            [
             0.6,
             "#e6f5d0"
            ],
            [
             0.7,
             "#b8e186"
            ],
            [
             0.8,
             "#7fbc41"
            ],
            [
             0.9,
             "#4d9221"
            ],
            [
             1,
             "#276419"
            ]
           ],
           "sequential": [
            [
             0,
             "#0d0887"
            ],
            [
             0.1111111111111111,
             "#46039f"
            ],
            [
             0.2222222222222222,
             "#7201a8"
            ],
            [
             0.3333333333333333,
             "#9c179e"
            ],
            [
             0.4444444444444444,
             "#bd3786"
            ],
            [
             0.5555555555555556,
             "#d8576b"
            ],
            [
             0.6666666666666666,
             "#ed7953"
            ],
            [
             0.7777777777777778,
             "#fb9f3a"
            ],
            [
             0.8888888888888888,
             "#fdca26"
            ],
            [
             1,
             "#f0f921"
            ]
           ],
           "sequentialminus": [
            [
             0,
             "#0d0887"
            ],
            [
             0.1111111111111111,
             "#46039f"
            ],
            [
             0.2222222222222222,
             "#7201a8"
            ],
            [
             0.3333333333333333,
             "#9c179e"
            ],
            [
             0.4444444444444444,
             "#bd3786"
            ],
            [
             0.5555555555555556,
             "#d8576b"
            ],
            [
             0.6666666666666666,
             "#ed7953"
            ],
            [
             0.7777777777777778,
             "#fb9f3a"
            ],
            [
             0.8888888888888888,
             "#fdca26"
            ],
            [
             1,
             "#f0f921"
            ]
           ]
          },
          "colorway": [
           "#636efa",
           "#EF553B",
           "#00cc96",
           "#ab63fa",
           "#FFA15A",
           "#19d3f3",
           "#FF6692",
           "#B6E880",
           "#FF97FF",
           "#FECB52"
          ],
          "font": {
           "color": "#2a3f5f"
          },
          "geo": {
           "bgcolor": "white",
           "lakecolor": "white",
           "landcolor": "#E5ECF6",
           "showlakes": true,
           "showland": true,
           "subunitcolor": "white"
          },
          "hoverlabel": {
           "align": "left"
          },
          "hovermode": "closest",
          "mapbox": {
           "style": "light"
          },
          "paper_bgcolor": "white",
          "plot_bgcolor": "#E5ECF6",
          "polar": {
           "angularaxis": {
            "gridcolor": "white",
            "linecolor": "white",
            "ticks": ""
           },
           "bgcolor": "#E5ECF6",
           "radialaxis": {
            "gridcolor": "white",
            "linecolor": "white",
            "ticks": ""
           }
          },
          "scene": {
           "xaxis": {
            "backgroundcolor": "#E5ECF6",
            "gridcolor": "white",
            "gridwidth": 2,
            "linecolor": "white",
            "showbackground": true,
            "ticks": "",
            "zerolinecolor": "white"
           },
           "yaxis": {
            "backgroundcolor": "#E5ECF6",
            "gridcolor": "white",
            "gridwidth": 2,
            "linecolor": "white",
            "showbackground": true,
            "ticks": "",
            "zerolinecolor": "white"
           },
           "zaxis": {
            "backgroundcolor": "#E5ECF6",
            "gridcolor": "white",
            "gridwidth": 2,
            "linecolor": "white",
            "showbackground": true,
            "ticks": "",
            "zerolinecolor": "white"
           }
          },
          "shapedefaults": {
           "line": {
            "color": "#2a3f5f"
           }
          },
          "ternary": {
           "aaxis": {
            "gridcolor": "white",
            "linecolor": "white",
            "ticks": ""
           },
           "baxis": {
            "gridcolor": "white",
            "linecolor": "white",
            "ticks": ""
           },
           "bgcolor": "#E5ECF6",
           "caxis": {
            "gridcolor": "white",
            "linecolor": "white",
            "ticks": ""
           }
          },
          "title": {
           "x": 0.05
          },
          "xaxis": {
           "automargin": true,
           "gridcolor": "white",
           "linecolor": "white",
           "ticks": "",
           "title": {
            "standoff": 15
           },
           "zerolinecolor": "white",
           "zerolinewidth": 2
          },
          "yaxis": {
           "automargin": true,
           "gridcolor": "white",
           "linecolor": "white",
           "ticks": "",
           "title": {
            "standoff": 15
           },
           "zerolinecolor": "white",
           "zerolinewidth": 2
          }
         }
        },
        "title": {
         "text": "YTD Return vs S&P 500 YTD"
        },
        "xaxis": {
         "title": {
          "text": "Ticker"
         }
        },
        "yaxis": {
         "tickformat": ".2%",
         "title": {
          "text": "Returns"
         }
        }
       }
      },
      "text/html": [
       "<div>                            <div id=\"6952e679-3c28-40ab-a3ee-f3ebd33c1562\" class=\"plotly-graph-div\" style=\"height:525px; width:100%;\"></div>            <script type=\"text/javascript\">                require([\"plotly\"], function(Plotly) {                    window.PLOTLYENV=window.PLOTLYENV || {};                                    if (document.getElementById(\"6952e679-3c28-40ab-a3ee-f3ebd33c1562\")) {                    Plotly.newPlot(                        \"6952e679-3c28-40ab-a3ee-f3ebd33c1562\",                        [{\"name\":\"Ticker YTD\",\"type\":\"bar\",\"x\":[\"AAPL\",\"AMZN\",\"GOOG\",\"MSFT\",\"UNH\"],\"y\":[0.0,0.0,0.0,0.0,0.0]},{\"name\":\"SP500 YTD\",\"type\":\"scatter\",\"x\":[\"AAPL\",\"AMZN\",\"GOOG\",\"MSFT\",\"UNH\"],\"y\":[0.010788506693728772,0.010788506693728772,0.010788506693728772,0.010788506693728772,0.010788506693728772]}],                        {\"barmode\":\"group\",\"legend\":{\"x\":0.8,\"y\":1},\"template\":{\"data\":{\"bar\":[{\"error_x\":{\"color\":\"#2a3f5f\"},\"error_y\":{\"color\":\"#2a3f5f\"},\"marker\":{\"line\":{\"color\":\"#E5ECF6\",\"width\":0.5},\"pattern\":{\"fillmode\":\"overlay\",\"size\":10,\"solidity\":0.2}},\"type\":\"bar\"}],\"barpolar\":[{\"marker\":{\"line\":{\"color\":\"#E5ECF6\",\"width\":0.5},\"pattern\":{\"fillmode\":\"overlay\",\"size\":10,\"solidity\":0.2}},\"type\":\"barpolar\"}],\"carpet\":[{\"aaxis\":{\"endlinecolor\":\"#2a3f5f\",\"gridcolor\":\"white\",\"linecolor\":\"white\",\"minorgridcolor\":\"white\",\"startlinecolor\":\"#2a3f5f\"},\"baxis\":{\"endlinecolor\":\"#2a3f5f\",\"gridcolor\":\"white\",\"linecolor\":\"white\",\"minorgridcolor\":\"white\",\"startlinecolor\":\"#2a3f5f\"},\"type\":\"carpet\"}],\"choropleth\":[{\"colorbar\":{\"outlinewidth\":0,\"ticks\":\"\"},\"type\":\"choropleth\"}],\"contour\":[{\"colorbar\":{\"outlinewidth\":0,\"ticks\":\"\"},\"colorscale\":[[0.0,\"#0d0887\"],[0.1111111111111111,\"#46039f\"],[0.2222222222222222,\"#7201a8\"],[0.3333333333333333,\"#9c179e\"],[0.4444444444444444,\"#bd3786\"],[0.5555555555555556,\"#d8576b\"],[0.6666666666666666,\"#ed7953\"],[0.7777777777777778,\"#fb9f3a\"],[0.8888888888888888,\"#fdca26\"],[1.0,\"#f0f921\"]],\"type\":\"contour\"}],\"contourcarpet\":[{\"colorbar\":{\"outlinewidth\":0,\"ticks\":\"\"},\"type\":\"contourcarpet\"}],\"heatmap\":[{\"colorbar\":{\"outlinewidth\":0,\"ticks\":\"\"},\"colorscale\":[[0.0,\"#0d0887\"],[0.1111111111111111,\"#46039f\"],[0.2222222222222222,\"#7201a8\"],[0.3333333333333333,\"#9c179e\"],[0.4444444444444444,\"#bd3786\"],[0.5555555555555556,\"#d8576b\"],[0.6666666666666666,\"#ed7953\"],[0.7777777777777778,\"#fb9f3a\"],[0.8888888888888888,\"#fdca26\"],[1.0,\"#f0f921\"]],\"type\":\"heatmap\"}],\"heatmapgl\":[{\"colorbar\":{\"outlinewidth\":0,\"ticks\":\"\"},\"colorscale\":[[0.0,\"#0d0887\"],[0.1111111111111111,\"#46039f\"],[0.2222222222222222,\"#7201a8\"],[0.3333333333333333,\"#9c179e\"],[0.4444444444444444,\"#bd3786\"],[0.5555555555555556,\"#d8576b\"],[0.6666666666666666,\"#ed7953\"],[0.7777777777777778,\"#fb9f3a\"],[0.8888888888888888,\"#fdca26\"],[1.0,\"#f0f921\"]],\"type\":\"heatmapgl\"}],\"histogram\":[{\"marker\":{\"pattern\":{\"fillmode\":\"overlay\",\"size\":10,\"solidity\":0.2}},\"type\":\"histogram\"}],\"histogram2d\":[{\"colorbar\":{\"outlinewidth\":0,\"ticks\":\"\"},\"colorscale\":[[0.0,\"#0d0887\"],[0.1111111111111111,\"#46039f\"],[0.2222222222222222,\"#7201a8\"],[0.3333333333333333,\"#9c179e\"],[0.4444444444444444,\"#bd3786\"],[0.5555555555555556,\"#d8576b\"],[0.6666666666666666,\"#ed7953\"],[0.7777777777777778,\"#fb9f3a\"],[0.8888888888888888,\"#fdca26\"],[1.0,\"#f0f921\"]],\"type\":\"histogram2d\"}],\"histogram2dcontour\":[{\"colorbar\":{\"outlinewidth\":0,\"ticks\":\"\"},\"colorscale\":[[0.0,\"#0d0887\"],[0.1111111111111111,\"#46039f\"],[0.2222222222222222,\"#7201a8\"],[0.3333333333333333,\"#9c179e\"],[0.4444444444444444,\"#bd3786\"],[0.5555555555555556,\"#d8576b\"],[0.6666666666666666,\"#ed7953\"],[0.7777777777777778,\"#fb9f3a\"],[0.8888888888888888,\"#fdca26\"],[1.0,\"#f0f921\"]],\"type\":\"histogram2dcontour\"}],\"mesh3d\":[{\"colorbar\":{\"outlinewidth\":0,\"ticks\":\"\"},\"type\":\"mesh3d\"}],\"parcoords\":[{\"line\":{\"colorbar\":{\"outlinewidth\":0,\"ticks\":\"\"}},\"type\":\"parcoords\"}],\"pie\":[{\"automargin\":true,\"type\":\"pie\"}],\"scatter\":[{\"marker\":{\"colorbar\":{\"outlinewidth\":0,\"ticks\":\"\"}},\"type\":\"scatter\"}],\"scatter3d\":[{\"line\":{\"colorbar\":{\"outlinewidth\":0,\"ticks\":\"\"}},\"marker\":{\"colorbar\":{\"outlinewidth\":0,\"ticks\":\"\"}},\"type\":\"scatter3d\"}],\"scattercarpet\":[{\"marker\":{\"colorbar\":{\"outlinewidth\":0,\"ticks\":\"\"}},\"type\":\"scattercarpet\"}],\"scattergeo\":[{\"marker\":{\"colorbar\":{\"outlinewidth\":0,\"ticks\":\"\"}},\"type\":\"scattergeo\"}],\"scattergl\":[{\"marker\":{\"colorbar\":{\"outlinewidth\":0,\"ticks\":\"\"}},\"type\":\"scattergl\"}],\"scattermapbox\":[{\"marker\":{\"colorbar\":{\"outlinewidth\":0,\"ticks\":\"\"}},\"type\":\"scattermapbox\"}],\"scatterpolar\":[{\"marker\":{\"colorbar\":{\"outlinewidth\":0,\"ticks\":\"\"}},\"type\":\"scatterpolar\"}],\"scatterpolargl\":[{\"marker\":{\"colorbar\":{\"outlinewidth\":0,\"ticks\":\"\"}},\"type\":\"scatterpolargl\"}],\"scatterternary\":[{\"marker\":{\"colorbar\":{\"outlinewidth\":0,\"ticks\":\"\"}},\"type\":\"scatterternary\"}],\"surface\":[{\"colorbar\":{\"outlinewidth\":0,\"ticks\":\"\"},\"colorscale\":[[0.0,\"#0d0887\"],[0.1111111111111111,\"#46039f\"],[0.2222222222222222,\"#7201a8\"],[0.3333333333333333,\"#9c179e\"],[0.4444444444444444,\"#bd3786\"],[0.5555555555555556,\"#d8576b\"],[0.6666666666666666,\"#ed7953\"],[0.7777777777777778,\"#fb9f3a\"],[0.8888888888888888,\"#fdca26\"],[1.0,\"#f0f921\"]],\"type\":\"surface\"}],\"table\":[{\"cells\":{\"fill\":{\"color\":\"#EBF0F8\"},\"line\":{\"color\":\"white\"}},\"header\":{\"fill\":{\"color\":\"#C8D4E3\"},\"line\":{\"color\":\"white\"}},\"type\":\"table\"}]},\"layout\":{\"annotationdefaults\":{\"arrowcolor\":\"#2a3f5f\",\"arrowhead\":0,\"arrowwidth\":1},\"autotypenumbers\":\"strict\",\"coloraxis\":{\"colorbar\":{\"outlinewidth\":0,\"ticks\":\"\"}},\"colorscale\":{\"diverging\":[[0,\"#8e0152\"],[0.1,\"#c51b7d\"],[0.2,\"#de77ae\"],[0.3,\"#f1b6da\"],[0.4,\"#fde0ef\"],[0.5,\"#f7f7f7\"],[0.6,\"#e6f5d0\"],[0.7,\"#b8e186\"],[0.8,\"#7fbc41\"],[0.9,\"#4d9221\"],[1,\"#276419\"]],\"sequential\":[[0.0,\"#0d0887\"],[0.1111111111111111,\"#46039f\"],[0.2222222222222222,\"#7201a8\"],[0.3333333333333333,\"#9c179e\"],[0.4444444444444444,\"#bd3786\"],[0.5555555555555556,\"#d8576b\"],[0.6666666666666666,\"#ed7953\"],[0.7777777777777778,\"#fb9f3a\"],[0.8888888888888888,\"#fdca26\"],[1.0,\"#f0f921\"]],\"sequentialminus\":[[0.0,\"#0d0887\"],[0.1111111111111111,\"#46039f\"],[0.2222222222222222,\"#7201a8\"],[0.3333333333333333,\"#9c179e\"],[0.4444444444444444,\"#bd3786\"],[0.5555555555555556,\"#d8576b\"],[0.6666666666666666,\"#ed7953\"],[0.7777777777777778,\"#fb9f3a\"],[0.8888888888888888,\"#fdca26\"],[1.0,\"#f0f921\"]]},\"colorway\":[\"#636efa\",\"#EF553B\",\"#00cc96\",\"#ab63fa\",\"#FFA15A\",\"#19d3f3\",\"#FF6692\",\"#B6E880\",\"#FF97FF\",\"#FECB52\"],\"font\":{\"color\":\"#2a3f5f\"},\"geo\":{\"bgcolor\":\"white\",\"lakecolor\":\"white\",\"landcolor\":\"#E5ECF6\",\"showlakes\":true,\"showland\":true,\"subunitcolor\":\"white\"},\"hoverlabel\":{\"align\":\"left\"},\"hovermode\":\"closest\",\"mapbox\":{\"style\":\"light\"},\"paper_bgcolor\":\"white\",\"plot_bgcolor\":\"#E5ECF6\",\"polar\":{\"angularaxis\":{\"gridcolor\":\"white\",\"linecolor\":\"white\",\"ticks\":\"\"},\"bgcolor\":\"#E5ECF6\",\"radialaxis\":{\"gridcolor\":\"white\",\"linecolor\":\"white\",\"ticks\":\"\"}},\"scene\":{\"xaxis\":{\"backgroundcolor\":\"#E5ECF6\",\"gridcolor\":\"white\",\"gridwidth\":2,\"linecolor\":\"white\",\"showbackground\":true,\"ticks\":\"\",\"zerolinecolor\":\"white\"},\"yaxis\":{\"backgroundcolor\":\"#E5ECF6\",\"gridcolor\":\"white\",\"gridwidth\":2,\"linecolor\":\"white\",\"showbackground\":true,\"ticks\":\"\",\"zerolinecolor\":\"white\"},\"zaxis\":{\"backgroundcolor\":\"#E5ECF6\",\"gridcolor\":\"white\",\"gridwidth\":2,\"linecolor\":\"white\",\"showbackground\":true,\"ticks\":\"\",\"zerolinecolor\":\"white\"}},\"shapedefaults\":{\"line\":{\"color\":\"#2a3f5f\"}},\"ternary\":{\"aaxis\":{\"gridcolor\":\"white\",\"linecolor\":\"white\",\"ticks\":\"\"},\"baxis\":{\"gridcolor\":\"white\",\"linecolor\":\"white\",\"ticks\":\"\"},\"bgcolor\":\"#E5ECF6\",\"caxis\":{\"gridcolor\":\"white\",\"linecolor\":\"white\",\"ticks\":\"\"}},\"title\":{\"x\":0.05},\"xaxis\":{\"automargin\":true,\"gridcolor\":\"white\",\"linecolor\":\"white\",\"ticks\":\"\",\"title\":{\"standoff\":15},\"zerolinecolor\":\"white\",\"zerolinewidth\":2},\"yaxis\":{\"automargin\":true,\"gridcolor\":\"white\",\"linecolor\":\"white\",\"ticks\":\"\",\"title\":{\"standoff\":15},\"zerolinecolor\":\"white\",\"zerolinewidth\":2}}},\"title\":{\"text\":\"YTD Return vs S&P 500 YTD\"},\"xaxis\":{\"title\":{\"text\":\"Ticker\"}},\"yaxis\":{\"tickformat\":\".2%\",\"title\":{\"text\":\"Returns\"}}},                        {\"responsive\": true}                    ).then(function(){\n",
       "                            \n",
       "var gd = document.getElementById('6952e679-3c28-40ab-a3ee-f3ebd33c1562');\n",
       "var x = new MutationObserver(function (mutations, observer) {{\n",
       "        var display = window.getComputedStyle(gd).display;\n",
       "        if (!display || display === 'none') {{\n",
       "            console.log([gd, 'removed!']);\n",
       "            Plotly.purge(gd);\n",
       "            observer.disconnect();\n",
       "        }}\n",
       "}});\n",
       "\n",
       "// Listen for the removal of the full notebook cells\n",
       "var notebookContainer = gd.closest('#notebook-container');\n",
       "if (notebookContainer) {{\n",
       "    x.observe(notebookContainer, {childList: true});\n",
       "}}\n",
       "\n",
       "// Listen for the clearing of the current output cell\n",
       "var outputEl = gd.closest('.output');\n",
       "if (outputEl) {{\n",
       "    x.observe(outputEl, {childList: true});\n",
       "}}\n",
       "\n",
       "                        })                };                });            </script>        </div>"
      ]
     },
     "metadata": {},
     "output_type": "display_data"
    }
   ],
   "source": [
    "# Ploty is an outstanding resource for interactive charts.\n",
    "\n",
    "trace1 = go.Bar(\n",
    "    x = merged_portfolio1_sp_latest_YTD_sp['Ticker'][0:10],\n",
    "    y = merged_portfolio1_sp_latest_YTD_sp['Share YTD'][0:10],\n",
    "    name = 'Ticker YTD')\n",
    "\n",
    "trace2 = go.Scatter(\n",
    "    x = merged_portfolio1_sp_latest_YTD_sp['Ticker'][0:10],\n",
    "    y = merged_portfolio1_sp_latest_YTD_sp['SP 500 YTD'][0:10],\n",
    "    name = 'SP500 YTD')\n",
    "    \n",
    "data = [trace1, trace2]\n",
    "\n",
    "layout = go.Layout(title = 'YTD Return vs S&P 500 YTD'\n",
    "    , barmode = 'group'\n",
    "    , yaxis=dict(title='Returns', tickformat=\".2%\")\n",
    "    , xaxis=dict(title='Ticker')\n",
    "    , legend=dict(x=.8,y=1)\n",
    "    )\n",
    "\n",
    "fig = go.Figure(data=data, layout=layout)\n",
    "iplot(fig)"
   ]
  },
  {
   "cell_type": "code",
   "execution_count": 383,
   "metadata": {},
   "outputs": [
    {
     "data": {
      "application/vnd.plotly.v1+json": {
       "config": {
        "linkText": "Export to plot.ly",
        "plotlyServerURL": "https://plot.ly",
        "showLink": false
       },
       "data": [
        {
         "name": "Pct off High",
         "type": "bar",
         "x": [
          "AAPL",
          "GS",
          "LUV",
          "MSFT",
          "UNH"
         ],
         "y": [
          -0.01331483073045614,
          -0.00608660967291319,
          -0.28390800692442386,
          -0.029843101708020847,
          -0.023037667691540475
         ]
        }
       ],
       "layout": {
        "barmode": "group",
        "legend": {
         "x": 0.8,
         "y": 1
        },
        "template": {
         "data": {
          "bar": [
           {
            "error_x": {
             "color": "#2a3f5f"
            },
            "error_y": {
             "color": "#2a3f5f"
            },
            "marker": {
             "line": {
              "color": "#E5ECF6",
              "width": 0.5
             },
             "pattern": {
              "fillmode": "overlay",
              "size": 10,
              "solidity": 0.2
             }
            },
            "type": "bar"
           }
          ],
          "barpolar": [
           {
            "marker": {
             "line": {
              "color": "#E5ECF6",
              "width": 0.5
             },
             "pattern": {
              "fillmode": "overlay",
              "size": 10,
              "solidity": 0.2
             }
            },
            "type": "barpolar"
           }
          ],
          "carpet": [
           {
            "aaxis": {
             "endlinecolor": "#2a3f5f",
             "gridcolor": "white",
             "linecolor": "white",
             "minorgridcolor": "white",
             "startlinecolor": "#2a3f5f"
            },
            "baxis": {
             "endlinecolor": "#2a3f5f",
             "gridcolor": "white",
             "linecolor": "white",
             "minorgridcolor": "white",
             "startlinecolor": "#2a3f5f"
            },
            "type": "carpet"
           }
          ],
          "choropleth": [
           {
            "colorbar": {
             "outlinewidth": 0,
             "ticks": ""
            },
            "type": "choropleth"
           }
          ],
          "contour": [
           {
            "colorbar": {
             "outlinewidth": 0,
             "ticks": ""
            },
            "colorscale": [
             [
              0,
              "#0d0887"
             ],
             [
              0.1111111111111111,
              "#46039f"
             ],
             [
              0.2222222222222222,
              "#7201a8"
             ],
             [
              0.3333333333333333,
              "#9c179e"
             ],
             [
              0.4444444444444444,
              "#bd3786"
             ],
             [
              0.5555555555555556,
              "#d8576b"
             ],
             [
              0.6666666666666666,
              "#ed7953"
             ],
             [
              0.7777777777777778,
              "#fb9f3a"
             ],
             [
              0.8888888888888888,
              "#fdca26"
             ],
             [
              1,
              "#f0f921"
             ]
            ],
            "type": "contour"
           }
          ],
          "contourcarpet": [
           {
            "colorbar": {
             "outlinewidth": 0,
             "ticks": ""
            },
            "type": "contourcarpet"
           }
          ],
          "heatmap": [
           {
            "colorbar": {
             "outlinewidth": 0,
             "ticks": ""
            },
            "colorscale": [
             [
              0,
              "#0d0887"
             ],
             [
              0.1111111111111111,
              "#46039f"
             ],
             [
              0.2222222222222222,
              "#7201a8"
             ],
             [
              0.3333333333333333,
              "#9c179e"
             ],
             [
              0.4444444444444444,
              "#bd3786"
             ],
             [
              0.5555555555555556,
              "#d8576b"
             ],
             [
              0.6666666666666666,
              "#ed7953"
             ],
             [
              0.7777777777777778,
              "#fb9f3a"
             ],
             [
              0.8888888888888888,
              "#fdca26"
             ],
             [
              1,
              "#f0f921"
             ]
            ],
            "type": "heatmap"
           }
          ],
          "heatmapgl": [
           {
            "colorbar": {
             "outlinewidth": 0,
             "ticks": ""
            },
            "colorscale": [
             [
              0,
              "#0d0887"
             ],
             [
              0.1111111111111111,
              "#46039f"
             ],
             [
              0.2222222222222222,
              "#7201a8"
             ],
             [
              0.3333333333333333,
              "#9c179e"
             ],
             [
              0.4444444444444444,
              "#bd3786"
             ],
             [
              0.5555555555555556,
              "#d8576b"
             ],
             [
              0.6666666666666666,
              "#ed7953"
             ],
             [
              0.7777777777777778,
              "#fb9f3a"
             ],
             [
              0.8888888888888888,
              "#fdca26"
             ],
             [
              1,
              "#f0f921"
             ]
            ],
            "type": "heatmapgl"
           }
          ],
          "histogram": [
           {
            "marker": {
             "pattern": {
              "fillmode": "overlay",
              "size": 10,
              "solidity": 0.2
             }
            },
            "type": "histogram"
           }
          ],
          "histogram2d": [
           {
            "colorbar": {
             "outlinewidth": 0,
             "ticks": ""
            },
            "colorscale": [
             [
              0,
              "#0d0887"
             ],
             [
              0.1111111111111111,
              "#46039f"
             ],
             [
              0.2222222222222222,
              "#7201a8"
             ],
             [
              0.3333333333333333,
              "#9c179e"
             ],
             [
              0.4444444444444444,
              "#bd3786"
             ],
             [
              0.5555555555555556,
              "#d8576b"
             ],
             [
              0.6666666666666666,
              "#ed7953"
             ],
             [
              0.7777777777777778,
              "#fb9f3a"
             ],
             [
              0.8888888888888888,
              "#fdca26"
             ],
             [
              1,
              "#f0f921"
             ]
            ],
            "type": "histogram2d"
           }
          ],
          "histogram2dcontour": [
           {
            "colorbar": {
             "outlinewidth": 0,
             "ticks": ""
            },
            "colorscale": [
             [
              0,
              "#0d0887"
             ],
             [
              0.1111111111111111,
              "#46039f"
             ],
             [
              0.2222222222222222,
              "#7201a8"
             ],
             [
              0.3333333333333333,
              "#9c179e"
             ],
             [
              0.4444444444444444,
              "#bd3786"
             ],
             [
              0.5555555555555556,
              "#d8576b"
             ],
             [
              0.6666666666666666,
              "#ed7953"
             ],
             [
              0.7777777777777778,
              "#fb9f3a"
             ],
             [
              0.8888888888888888,
              "#fdca26"
             ],
             [
              1,
              "#f0f921"
             ]
            ],
            "type": "histogram2dcontour"
           }
          ],
          "mesh3d": [
           {
            "colorbar": {
             "outlinewidth": 0,
             "ticks": ""
            },
            "type": "mesh3d"
           }
          ],
          "parcoords": [
           {
            "line": {
             "colorbar": {
              "outlinewidth": 0,
              "ticks": ""
             }
            },
            "type": "parcoords"
           }
          ],
          "pie": [
           {
            "automargin": true,
            "type": "pie"
           }
          ],
          "scatter": [
           {
            "marker": {
             "colorbar": {
              "outlinewidth": 0,
              "ticks": ""
             }
            },
            "type": "scatter"
           }
          ],
          "scatter3d": [
           {
            "line": {
             "colorbar": {
              "outlinewidth": 0,
              "ticks": ""
             }
            },
            "marker": {
             "colorbar": {
              "outlinewidth": 0,
              "ticks": ""
             }
            },
            "type": "scatter3d"
           }
          ],
          "scattercarpet": [
           {
            "marker": {
             "colorbar": {
              "outlinewidth": 0,
              "ticks": ""
             }
            },
            "type": "scattercarpet"
           }
          ],
          "scattergeo": [
           {
            "marker": {
             "colorbar": {
              "outlinewidth": 0,
              "ticks": ""
             }
            },
            "type": "scattergeo"
           }
          ],
          "scattergl": [
           {
            "marker": {
             "colorbar": {
              "outlinewidth": 0,
              "ticks": ""
             }
            },
            "type": "scattergl"
           }
          ],
          "scattermapbox": [
           {
            "marker": {
             "colorbar": {
              "outlinewidth": 0,
              "ticks": ""
             }
            },
            "type": "scattermapbox"
           }
          ],
          "scatterpolar": [
           {
            "marker": {
             "colorbar": {
              "outlinewidth": 0,
              "ticks": ""
             }
            },
            "type": "scatterpolar"
           }
          ],
          "scatterpolargl": [
           {
            "marker": {
             "colorbar": {
              "outlinewidth": 0,
              "ticks": ""
             }
            },
            "type": "scatterpolargl"
           }
          ],
          "scatterternary": [
           {
            "marker": {
             "colorbar": {
              "outlinewidth": 0,
              "ticks": ""
             }
            },
            "type": "scatterternary"
           }
          ],
          "surface": [
           {
            "colorbar": {
             "outlinewidth": 0,
             "ticks": ""
            },
            "colorscale": [
             [
              0,
              "#0d0887"
             ],
             [
              0.1111111111111111,
              "#46039f"
             ],
             [
              0.2222222222222222,
              "#7201a8"
             ],
             [
              0.3333333333333333,
              "#9c179e"
             ],
             [
              0.4444444444444444,
              "#bd3786"
             ],
             [
              0.5555555555555556,
              "#d8576b"
             ],
             [
              0.6666666666666666,
              "#ed7953"
             ],
             [
              0.7777777777777778,
              "#fb9f3a"
             ],
             [
              0.8888888888888888,
              "#fdca26"
             ],
             [
              1,
              "#f0f921"
             ]
            ],
            "type": "surface"
           }
          ],
          "table": [
           {
            "cells": {
             "fill": {
              "color": "#EBF0F8"
             },
             "line": {
              "color": "white"
             }
            },
            "header": {
             "fill": {
              "color": "#C8D4E3"
             },
             "line": {
              "color": "white"
             }
            },
            "type": "table"
           }
          ]
         },
         "layout": {
          "annotationdefaults": {
           "arrowcolor": "#2a3f5f",
           "arrowhead": 0,
           "arrowwidth": 1
          },
          "autotypenumbers": "strict",
          "coloraxis": {
           "colorbar": {
            "outlinewidth": 0,
            "ticks": ""
           }
          },
          "colorscale": {
           "diverging": [
            [
             0,
             "#8e0152"
            ],
            [
             0.1,
             "#c51b7d"
            ],
            [
             0.2,
             "#de77ae"
            ],
            [
             0.3,
             "#f1b6da"
            ],
            [
             0.4,
             "#fde0ef"
            ],
            [
             0.5,
             "#f7f7f7"
            ],
            [
             0.6,
             "#e6f5d0"
            ],
            [
             0.7,
             "#b8e186"
            ],
            [
             0.8,
             "#7fbc41"
            ],
            [
             0.9,
             "#4d9221"
            ],
            [
             1,
             "#276419"
            ]
           ],
           "sequential": [
            [
             0,
             "#0d0887"
            ],
            [
             0.1111111111111111,
             "#46039f"
            ],
            [
             0.2222222222222222,
             "#7201a8"
            ],
            [
             0.3333333333333333,
             "#9c179e"
            ],
            [
             0.4444444444444444,
             "#bd3786"
            ],
            [
             0.5555555555555556,
             "#d8576b"
            ],
            [
             0.6666666666666666,
             "#ed7953"
            ],
            [
             0.7777777777777778,
             "#fb9f3a"
            ],
            [
             0.8888888888888888,
             "#fdca26"
            ],
            [
             1,
             "#f0f921"
            ]
           ],
           "sequentialminus": [
            [
             0,
             "#0d0887"
            ],
            [
             0.1111111111111111,
             "#46039f"
            ],
            [
             0.2222222222222222,
             "#7201a8"
            ],
            [
             0.3333333333333333,
             "#9c179e"
            ],
            [
             0.4444444444444444,
             "#bd3786"
            ],
            [
             0.5555555555555556,
             "#d8576b"
            ],
            [
             0.6666666666666666,
             "#ed7953"
            ],
            [
             0.7777777777777778,
             "#fb9f3a"
            ],
            [
             0.8888888888888888,
             "#fdca26"
            ],
            [
             1,
             "#f0f921"
            ]
           ]
          },
          "colorway": [
           "#636efa",
           "#EF553B",
           "#00cc96",
           "#ab63fa",
           "#FFA15A",
           "#19d3f3",
           "#FF6692",
           "#B6E880",
           "#FF97FF",
           "#FECB52"
          ],
          "font": {
           "color": "#2a3f5f"
          },
          "geo": {
           "bgcolor": "white",
           "lakecolor": "white",
           "landcolor": "#E5ECF6",
           "showlakes": true,
           "showland": true,
           "subunitcolor": "white"
          },
          "hoverlabel": {
           "align": "left"
          },
          "hovermode": "closest",
          "mapbox": {
           "style": "light"
          },
          "paper_bgcolor": "white",
          "plot_bgcolor": "#E5ECF6",
          "polar": {
           "angularaxis": {
            "gridcolor": "white",
            "linecolor": "white",
            "ticks": ""
           },
           "bgcolor": "#E5ECF6",
           "radialaxis": {
            "gridcolor": "white",
            "linecolor": "white",
            "ticks": ""
           }
          },
          "scene": {
           "xaxis": {
            "backgroundcolor": "#E5ECF6",
            "gridcolor": "white",
            "gridwidth": 2,
            "linecolor": "white",
            "showbackground": true,
            "ticks": "",
            "zerolinecolor": "white"
           },
           "yaxis": {
            "backgroundcolor": "#E5ECF6",
            "gridcolor": "white",
            "gridwidth": 2,
            "linecolor": "white",
            "showbackground": true,
            "ticks": "",
            "zerolinecolor": "white"
           },
           "zaxis": {
            "backgroundcolor": "#E5ECF6",
            "gridcolor": "white",
            "gridwidth": 2,
            "linecolor": "white",
            "showbackground": true,
            "ticks": "",
            "zerolinecolor": "white"
           }
          },
          "shapedefaults": {
           "line": {
            "color": "#2a3f5f"
           }
          },
          "ternary": {
           "aaxis": {
            "gridcolor": "white",
            "linecolor": "white",
            "ticks": ""
           },
           "baxis": {
            "gridcolor": "white",
            "linecolor": "white",
            "ticks": ""
           },
           "bgcolor": "#E5ECF6",
           "caxis": {
            "gridcolor": "white",
            "linecolor": "white",
            "ticks": ""
           }
          },
          "title": {
           "x": 0.05
          },
          "xaxis": {
           "automargin": true,
           "gridcolor": "white",
           "linecolor": "white",
           "ticks": "",
           "title": {
            "standoff": 15
           },
           "zerolinecolor": "white",
           "zerolinewidth": 2
          },
          "yaxis": {
           "automargin": true,
           "gridcolor": "white",
           "linecolor": "white",
           "ticks": "",
           "title": {
            "standoff": 15
           },
           "zerolinecolor": "white",
           "zerolinewidth": 2
          }
         }
        },
        "title": {
         "text": "Adj Close % off of High"
        },
        "xaxis": {
         "title": {
          "text": "Ticker"
         }
        },
        "yaxis": {
         "tickformat": ".2%",
         "title": {
          "text": "% Below Adj Close High"
         }
        }
       }
      },
      "text/html": [
       "<div>                            <div id=\"043a845d-1663-45cd-a26d-56faf074dcaa\" class=\"plotly-graph-div\" style=\"height:525px; width:100%;\"></div>            <script type=\"text/javascript\">                require([\"plotly\"], function(Plotly) {                    window.PLOTLYENV=window.PLOTLYENV || {};                                    if (document.getElementById(\"043a845d-1663-45cd-a26d-56faf074dcaa\")) {                    Plotly.newPlot(                        \"043a845d-1663-45cd-a26d-56faf074dcaa\",                        [{\"name\":\"Pct off High\",\"type\":\"bar\",\"x\":[\"AAPL\",\"GS\",\"LUV\",\"MSFT\",\"UNH\"],\"y\":[-0.01331483073045614,-0.00608660967291319,-0.28390800692442386,-0.029843101708020847,-0.023037667691540475]}],                        {\"barmode\":\"group\",\"legend\":{\"x\":0.8,\"y\":1},\"template\":{\"data\":{\"bar\":[{\"error_x\":{\"color\":\"#2a3f5f\"},\"error_y\":{\"color\":\"#2a3f5f\"},\"marker\":{\"line\":{\"color\":\"#E5ECF6\",\"width\":0.5},\"pattern\":{\"fillmode\":\"overlay\",\"size\":10,\"solidity\":0.2}},\"type\":\"bar\"}],\"barpolar\":[{\"marker\":{\"line\":{\"color\":\"#E5ECF6\",\"width\":0.5},\"pattern\":{\"fillmode\":\"overlay\",\"size\":10,\"solidity\":0.2}},\"type\":\"barpolar\"}],\"carpet\":[{\"aaxis\":{\"endlinecolor\":\"#2a3f5f\",\"gridcolor\":\"white\",\"linecolor\":\"white\",\"minorgridcolor\":\"white\",\"startlinecolor\":\"#2a3f5f\"},\"baxis\":{\"endlinecolor\":\"#2a3f5f\",\"gridcolor\":\"white\",\"linecolor\":\"white\",\"minorgridcolor\":\"white\",\"startlinecolor\":\"#2a3f5f\"},\"type\":\"carpet\"}],\"choropleth\":[{\"colorbar\":{\"outlinewidth\":0,\"ticks\":\"\"},\"type\":\"choropleth\"}],\"contour\":[{\"colorbar\":{\"outlinewidth\":0,\"ticks\":\"\"},\"colorscale\":[[0.0,\"#0d0887\"],[0.1111111111111111,\"#46039f\"],[0.2222222222222222,\"#7201a8\"],[0.3333333333333333,\"#9c179e\"],[0.4444444444444444,\"#bd3786\"],[0.5555555555555556,\"#d8576b\"],[0.6666666666666666,\"#ed7953\"],[0.7777777777777778,\"#fb9f3a\"],[0.8888888888888888,\"#fdca26\"],[1.0,\"#f0f921\"]],\"type\":\"contour\"}],\"contourcarpet\":[{\"colorbar\":{\"outlinewidth\":0,\"ticks\":\"\"},\"type\":\"contourcarpet\"}],\"heatmap\":[{\"colorbar\":{\"outlinewidth\":0,\"ticks\":\"\"},\"colorscale\":[[0.0,\"#0d0887\"],[0.1111111111111111,\"#46039f\"],[0.2222222222222222,\"#7201a8\"],[0.3333333333333333,\"#9c179e\"],[0.4444444444444444,\"#bd3786\"],[0.5555555555555556,\"#d8576b\"],[0.6666666666666666,\"#ed7953\"],[0.7777777777777778,\"#fb9f3a\"],[0.8888888888888888,\"#fdca26\"],[1.0,\"#f0f921\"]],\"type\":\"heatmap\"}],\"heatmapgl\":[{\"colorbar\":{\"outlinewidth\":0,\"ticks\":\"\"},\"colorscale\":[[0.0,\"#0d0887\"],[0.1111111111111111,\"#46039f\"],[0.2222222222222222,\"#7201a8\"],[0.3333333333333333,\"#9c179e\"],[0.4444444444444444,\"#bd3786\"],[0.5555555555555556,\"#d8576b\"],[0.6666666666666666,\"#ed7953\"],[0.7777777777777778,\"#fb9f3a\"],[0.8888888888888888,\"#fdca26\"],[1.0,\"#f0f921\"]],\"type\":\"heatmapgl\"}],\"histogram\":[{\"marker\":{\"pattern\":{\"fillmode\":\"overlay\",\"size\":10,\"solidity\":0.2}},\"type\":\"histogram\"}],\"histogram2d\":[{\"colorbar\":{\"outlinewidth\":0,\"ticks\":\"\"},\"colorscale\":[[0.0,\"#0d0887\"],[0.1111111111111111,\"#46039f\"],[0.2222222222222222,\"#7201a8\"],[0.3333333333333333,\"#9c179e\"],[0.4444444444444444,\"#bd3786\"],[0.5555555555555556,\"#d8576b\"],[0.6666666666666666,\"#ed7953\"],[0.7777777777777778,\"#fb9f3a\"],[0.8888888888888888,\"#fdca26\"],[1.0,\"#f0f921\"]],\"type\":\"histogram2d\"}],\"histogram2dcontour\":[{\"colorbar\":{\"outlinewidth\":0,\"ticks\":\"\"},\"colorscale\":[[0.0,\"#0d0887\"],[0.1111111111111111,\"#46039f\"],[0.2222222222222222,\"#7201a8\"],[0.3333333333333333,\"#9c179e\"],[0.4444444444444444,\"#bd3786\"],[0.5555555555555556,\"#d8576b\"],[0.6666666666666666,\"#ed7953\"],[0.7777777777777778,\"#fb9f3a\"],[0.8888888888888888,\"#fdca26\"],[1.0,\"#f0f921\"]],\"type\":\"histogram2dcontour\"}],\"mesh3d\":[{\"colorbar\":{\"outlinewidth\":0,\"ticks\":\"\"},\"type\":\"mesh3d\"}],\"parcoords\":[{\"line\":{\"colorbar\":{\"outlinewidth\":0,\"ticks\":\"\"}},\"type\":\"parcoords\"}],\"pie\":[{\"automargin\":true,\"type\":\"pie\"}],\"scatter\":[{\"marker\":{\"colorbar\":{\"outlinewidth\":0,\"ticks\":\"\"}},\"type\":\"scatter\"}],\"scatter3d\":[{\"line\":{\"colorbar\":{\"outlinewidth\":0,\"ticks\":\"\"}},\"marker\":{\"colorbar\":{\"outlinewidth\":0,\"ticks\":\"\"}},\"type\":\"scatter3d\"}],\"scattercarpet\":[{\"marker\":{\"colorbar\":{\"outlinewidth\":0,\"ticks\":\"\"}},\"type\":\"scattercarpet\"}],\"scattergeo\":[{\"marker\":{\"colorbar\":{\"outlinewidth\":0,\"ticks\":\"\"}},\"type\":\"scattergeo\"}],\"scattergl\":[{\"marker\":{\"colorbar\":{\"outlinewidth\":0,\"ticks\":\"\"}},\"type\":\"scattergl\"}],\"scattermapbox\":[{\"marker\":{\"colorbar\":{\"outlinewidth\":0,\"ticks\":\"\"}},\"type\":\"scattermapbox\"}],\"scatterpolar\":[{\"marker\":{\"colorbar\":{\"outlinewidth\":0,\"ticks\":\"\"}},\"type\":\"scatterpolar\"}],\"scatterpolargl\":[{\"marker\":{\"colorbar\":{\"outlinewidth\":0,\"ticks\":\"\"}},\"type\":\"scatterpolargl\"}],\"scatterternary\":[{\"marker\":{\"colorbar\":{\"outlinewidth\":0,\"ticks\":\"\"}},\"type\":\"scatterternary\"}],\"surface\":[{\"colorbar\":{\"outlinewidth\":0,\"ticks\":\"\"},\"colorscale\":[[0.0,\"#0d0887\"],[0.1111111111111111,\"#46039f\"],[0.2222222222222222,\"#7201a8\"],[0.3333333333333333,\"#9c179e\"],[0.4444444444444444,\"#bd3786\"],[0.5555555555555556,\"#d8576b\"],[0.6666666666666666,\"#ed7953\"],[0.7777777777777778,\"#fb9f3a\"],[0.8888888888888888,\"#fdca26\"],[1.0,\"#f0f921\"]],\"type\":\"surface\"}],\"table\":[{\"cells\":{\"fill\":{\"color\":\"#EBF0F8\"},\"line\":{\"color\":\"white\"}},\"header\":{\"fill\":{\"color\":\"#C8D4E3\"},\"line\":{\"color\":\"white\"}},\"type\":\"table\"}]},\"layout\":{\"annotationdefaults\":{\"arrowcolor\":\"#2a3f5f\",\"arrowhead\":0,\"arrowwidth\":1},\"autotypenumbers\":\"strict\",\"coloraxis\":{\"colorbar\":{\"outlinewidth\":0,\"ticks\":\"\"}},\"colorscale\":{\"diverging\":[[0,\"#8e0152\"],[0.1,\"#c51b7d\"],[0.2,\"#de77ae\"],[0.3,\"#f1b6da\"],[0.4,\"#fde0ef\"],[0.5,\"#f7f7f7\"],[0.6,\"#e6f5d0\"],[0.7,\"#b8e186\"],[0.8,\"#7fbc41\"],[0.9,\"#4d9221\"],[1,\"#276419\"]],\"sequential\":[[0.0,\"#0d0887\"],[0.1111111111111111,\"#46039f\"],[0.2222222222222222,\"#7201a8\"],[0.3333333333333333,\"#9c179e\"],[0.4444444444444444,\"#bd3786\"],[0.5555555555555556,\"#d8576b\"],[0.6666666666666666,\"#ed7953\"],[0.7777777777777778,\"#fb9f3a\"],[0.8888888888888888,\"#fdca26\"],[1.0,\"#f0f921\"]],\"sequentialminus\":[[0.0,\"#0d0887\"],[0.1111111111111111,\"#46039f\"],[0.2222222222222222,\"#7201a8\"],[0.3333333333333333,\"#9c179e\"],[0.4444444444444444,\"#bd3786\"],[0.5555555555555556,\"#d8576b\"],[0.6666666666666666,\"#ed7953\"],[0.7777777777777778,\"#fb9f3a\"],[0.8888888888888888,\"#fdca26\"],[1.0,\"#f0f921\"]]},\"colorway\":[\"#636efa\",\"#EF553B\",\"#00cc96\",\"#ab63fa\",\"#FFA15A\",\"#19d3f3\",\"#FF6692\",\"#B6E880\",\"#FF97FF\",\"#FECB52\"],\"font\":{\"color\":\"#2a3f5f\"},\"geo\":{\"bgcolor\":\"white\",\"lakecolor\":\"white\",\"landcolor\":\"#E5ECF6\",\"showlakes\":true,\"showland\":true,\"subunitcolor\":\"white\"},\"hoverlabel\":{\"align\":\"left\"},\"hovermode\":\"closest\",\"mapbox\":{\"style\":\"light\"},\"paper_bgcolor\":\"white\",\"plot_bgcolor\":\"#E5ECF6\",\"polar\":{\"angularaxis\":{\"gridcolor\":\"white\",\"linecolor\":\"white\",\"ticks\":\"\"},\"bgcolor\":\"#E5ECF6\",\"radialaxis\":{\"gridcolor\":\"white\",\"linecolor\":\"white\",\"ticks\":\"\"}},\"scene\":{\"xaxis\":{\"backgroundcolor\":\"#E5ECF6\",\"gridcolor\":\"white\",\"gridwidth\":2,\"linecolor\":\"white\",\"showbackground\":true,\"ticks\":\"\",\"zerolinecolor\":\"white\"},\"yaxis\":{\"backgroundcolor\":\"#E5ECF6\",\"gridcolor\":\"white\",\"gridwidth\":2,\"linecolor\":\"white\",\"showbackground\":true,\"ticks\":\"\",\"zerolinecolor\":\"white\"},\"zaxis\":{\"backgroundcolor\":\"#E5ECF6\",\"gridcolor\":\"white\",\"gridwidth\":2,\"linecolor\":\"white\",\"showbackground\":true,\"ticks\":\"\",\"zerolinecolor\":\"white\"}},\"shapedefaults\":{\"line\":{\"color\":\"#2a3f5f\"}},\"ternary\":{\"aaxis\":{\"gridcolor\":\"white\",\"linecolor\":\"white\",\"ticks\":\"\"},\"baxis\":{\"gridcolor\":\"white\",\"linecolor\":\"white\",\"ticks\":\"\"},\"bgcolor\":\"#E5ECF6\",\"caxis\":{\"gridcolor\":\"white\",\"linecolor\":\"white\",\"ticks\":\"\"}},\"title\":{\"x\":0.05},\"xaxis\":{\"automargin\":true,\"gridcolor\":\"white\",\"linecolor\":\"white\",\"ticks\":\"\",\"title\":{\"standoff\":15},\"zerolinecolor\":\"white\",\"zerolinewidth\":2},\"yaxis\":{\"automargin\":true,\"gridcolor\":\"white\",\"linecolor\":\"white\",\"ticks\":\"\",\"title\":{\"standoff\":15},\"zerolinecolor\":\"white\",\"zerolinewidth\":2}}},\"title\":{\"text\":\"Adj Close % off of High\"},\"xaxis\":{\"title\":{\"text\":\"Ticker\"}},\"yaxis\":{\"tickformat\":\".2%\",\"title\":{\"text\":\"% Below Adj Close High\"}}},                        {\"responsive\": true}                    ).then(function(){\n",
       "                            \n",
       "var gd = document.getElementById('043a845d-1663-45cd-a26d-56faf074dcaa');\n",
       "var x = new MutationObserver(function (mutations, observer) {{\n",
       "        var display = window.getComputedStyle(gd).display;\n",
       "        if (!display || display === 'none') {{\n",
       "            console.log([gd, 'removed!']);\n",
       "            Plotly.purge(gd);\n",
       "            observer.disconnect();\n",
       "        }}\n",
       "}});\n",
       "\n",
       "// Listen for the removal of the full notebook cells\n",
       "var notebookContainer = gd.closest('#notebook-container');\n",
       "if (notebookContainer) {{\n",
       "    x.observe(notebookContainer, {childList: true});\n",
       "}}\n",
       "\n",
       "// Listen for the clearing of the current output cell\n",
       "var outputEl = gd.closest('.output');\n",
       "if (outputEl) {{\n",
       "    x.observe(outputEl, {childList: true});\n",
       "}}\n",
       "\n",
       "                        })                };                });            </script>        </div>"
      ]
     },
     "metadata": {},
     "output_type": "display_data"
    }
   ],
   "source": [
    "# Current Share Price versus Closing High Since Purchased\n",
    "\n",
    "trace1 = go.Bar(\n",
    "    x = merged_portfolio_sp_latest_YTD_sp_closing_high['Ticker'][0:10],\n",
    "    y = merged_portfolio_sp_latest_YTD_sp_closing_high['Pct off High'][0:10],\n",
    "    name = 'Pct off High')\n",
    "    \n",
    "data = [trace1]\n",
    "\n",
    "layout = go.Layout(title = 'Adj Close % off of High'\n",
    "    , barmode = 'group'\n",
    "    , yaxis=dict(title='% Below Adj Close High', tickformat=\".2%\")\n",
    "    , xaxis=dict(title='Ticker')\n",
    "    , legend=dict(x=.8,y=1)\n",
    "    )\n",
    "\n",
    "fig = go.Figure(data=data, layout=layout)\n",
    "iplot(fig)"
   ]
  },
  {
   "cell_type": "code",
   "execution_count": 384,
   "metadata": {},
   "outputs": [
    {
     "data": {
      "application/vnd.plotly.v1+json": {
       "config": {
        "linkText": "Export to plot.ly",
        "plotlyServerURL": "https://plot.ly",
        "showLink": false
       },
       "data": [
        {
         "name": "Pct off High",
         "type": "bar",
         "x": [
          "AAPL",
          "AMZN",
          "GOOG",
          "MSFT",
          "UNH"
         ],
         "y": [
          -0.013314941392230661,
          -0.059309902184050856,
          -0.03789409127036225,
          -0.029843168182461133,
          -0.023037667691540475
         ]
        }
       ],
       "layout": {
        "barmode": "group",
        "legend": {
         "x": 0.8,
         "y": 1
        },
        "template": {
         "data": {
          "bar": [
           {
            "error_x": {
             "color": "#2a3f5f"
            },
            "error_y": {
             "color": "#2a3f5f"
            },
            "marker": {
             "line": {
              "color": "#E5ECF6",
              "width": 0.5
             },
             "pattern": {
              "fillmode": "overlay",
              "size": 10,
              "solidity": 0.2
             }
            },
            "type": "bar"
           }
          ],
          "barpolar": [
           {
            "marker": {
             "line": {
              "color": "#E5ECF6",
              "width": 0.5
             },
             "pattern": {
              "fillmode": "overlay",
              "size": 10,
              "solidity": 0.2
             }
            },
            "type": "barpolar"
           }
          ],
          "carpet": [
           {
            "aaxis": {
             "endlinecolor": "#2a3f5f",
             "gridcolor": "white",
             "linecolor": "white",
             "minorgridcolor": "white",
             "startlinecolor": "#2a3f5f"
            },
            "baxis": {
             "endlinecolor": "#2a3f5f",
             "gridcolor": "white",
             "linecolor": "white",
             "minorgridcolor": "white",
             "startlinecolor": "#2a3f5f"
            },
            "type": "carpet"
           }
          ],
          "choropleth": [
           {
            "colorbar": {
             "outlinewidth": 0,
             "ticks": ""
            },
            "type": "choropleth"
           }
          ],
          "contour": [
           {
            "colorbar": {
             "outlinewidth": 0,
             "ticks": ""
            },
            "colorscale": [
             [
              0,
              "#0d0887"
             ],
             [
              0.1111111111111111,
              "#46039f"
             ],
             [
              0.2222222222222222,
              "#7201a8"
             ],
             [
              0.3333333333333333,
              "#9c179e"
             ],
             [
              0.4444444444444444,
              "#bd3786"
             ],
             [
              0.5555555555555556,
              "#d8576b"
             ],
             [
              0.6666666666666666,
              "#ed7953"
             ],
             [
              0.7777777777777778,
              "#fb9f3a"
             ],
             [
              0.8888888888888888,
              "#fdca26"
             ],
             [
              1,
              "#f0f921"
             ]
            ],
            "type": "contour"
           }
          ],
          "contourcarpet": [
           {
            "colorbar": {
             "outlinewidth": 0,
             "ticks": ""
            },
            "type": "contourcarpet"
           }
          ],
          "heatmap": [
           {
            "colorbar": {
             "outlinewidth": 0,
             "ticks": ""
            },
            "colorscale": [
             [
              0,
              "#0d0887"
             ],
             [
              0.1111111111111111,
              "#46039f"
             ],
             [
              0.2222222222222222,
              "#7201a8"
             ],
             [
              0.3333333333333333,
              "#9c179e"
             ],
             [
              0.4444444444444444,
              "#bd3786"
             ],
             [
              0.5555555555555556,
              "#d8576b"
             ],
             [
              0.6666666666666666,
              "#ed7953"
             ],
             [
              0.7777777777777778,
              "#fb9f3a"
             ],
             [
              0.8888888888888888,
              "#fdca26"
             ],
             [
              1,
              "#f0f921"
             ]
            ],
            "type": "heatmap"
           }
          ],
          "heatmapgl": [
           {
            "colorbar": {
             "outlinewidth": 0,
             "ticks": ""
            },
            "colorscale": [
             [
              0,
              "#0d0887"
             ],
             [
              0.1111111111111111,
              "#46039f"
             ],
             [
              0.2222222222222222,
              "#7201a8"
             ],
             [
              0.3333333333333333,
              "#9c179e"
             ],
             [
              0.4444444444444444,
              "#bd3786"
             ],
             [
              0.5555555555555556,
              "#d8576b"
             ],
             [
              0.6666666666666666,
              "#ed7953"
             ],
             [
              0.7777777777777778,
              "#fb9f3a"
             ],
             [
              0.8888888888888888,
              "#fdca26"
             ],
             [
              1,
              "#f0f921"
             ]
            ],
            "type": "heatmapgl"
           }
          ],
          "histogram": [
           {
            "marker": {
             "pattern": {
              "fillmode": "overlay",
              "size": 10,
              "solidity": 0.2
             }
            },
            "type": "histogram"
           }
          ],
          "histogram2d": [
           {
            "colorbar": {
             "outlinewidth": 0,
             "ticks": ""
            },
            "colorscale": [
             [
              0,
              "#0d0887"
             ],
             [
              0.1111111111111111,
              "#46039f"
             ],
             [
              0.2222222222222222,
              "#7201a8"
             ],
             [
              0.3333333333333333,
              "#9c179e"
             ],
             [
              0.4444444444444444,
              "#bd3786"
             ],
             [
              0.5555555555555556,
              "#d8576b"
             ],
             [
              0.6666666666666666,
              "#ed7953"
             ],
             [
              0.7777777777777778,
              "#fb9f3a"
             ],
             [
              0.8888888888888888,
              "#fdca26"
             ],
             [
              1,
              "#f0f921"
             ]
            ],
            "type": "histogram2d"
           }
          ],
          "histogram2dcontour": [
           {
            "colorbar": {
             "outlinewidth": 0,
             "ticks": ""
            },
            "colorscale": [
             [
              0,
              "#0d0887"
             ],
             [
              0.1111111111111111,
              "#46039f"
             ],
             [
              0.2222222222222222,
              "#7201a8"
             ],
             [
              0.3333333333333333,
              "#9c179e"
             ],
             [
              0.4444444444444444,
              "#bd3786"
             ],
             [
              0.5555555555555556,
              "#d8576b"
             ],
             [
              0.6666666666666666,
              "#ed7953"
             ],
             [
              0.7777777777777778,
              "#fb9f3a"
             ],
             [
              0.8888888888888888,
              "#fdca26"
             ],
             [
              1,
              "#f0f921"
             ]
            ],
            "type": "histogram2dcontour"
           }
          ],
          "mesh3d": [
           {
            "colorbar": {
             "outlinewidth": 0,
             "ticks": ""
            },
            "type": "mesh3d"
           }
          ],
          "parcoords": [
           {
            "line": {
             "colorbar": {
              "outlinewidth": 0,
              "ticks": ""
             }
            },
            "type": "parcoords"
           }
          ],
          "pie": [
           {
            "automargin": true,
            "type": "pie"
           }
          ],
          "scatter": [
           {
            "marker": {
             "colorbar": {
              "outlinewidth": 0,
              "ticks": ""
             }
            },
            "type": "scatter"
           }
          ],
          "scatter3d": [
           {
            "line": {
             "colorbar": {
              "outlinewidth": 0,
              "ticks": ""
             }
            },
            "marker": {
             "colorbar": {
              "outlinewidth": 0,
              "ticks": ""
             }
            },
            "type": "scatter3d"
           }
          ],
          "scattercarpet": [
           {
            "marker": {
             "colorbar": {
              "outlinewidth": 0,
              "ticks": ""
             }
            },
            "type": "scattercarpet"
           }
          ],
          "scattergeo": [
           {
            "marker": {
             "colorbar": {
              "outlinewidth": 0,
              "ticks": ""
             }
            },
            "type": "scattergeo"
           }
          ],
          "scattergl": [
           {
            "marker": {
             "colorbar": {
              "outlinewidth": 0,
              "ticks": ""
             }
            },
            "type": "scattergl"
           }
          ],
          "scattermapbox": [
           {
            "marker": {
             "colorbar": {
              "outlinewidth": 0,
              "ticks": ""
             }
            },
            "type": "scattermapbox"
           }
          ],
          "scatterpolar": [
           {
            "marker": {
             "colorbar": {
              "outlinewidth": 0,
              "ticks": ""
             }
            },
            "type": "scatterpolar"
           }
          ],
          "scatterpolargl": [
           {
            "marker": {
             "colorbar": {
              "outlinewidth": 0,
              "ticks": ""
             }
            },
            "type": "scatterpolargl"
           }
          ],
          "scatterternary": [
           {
            "marker": {
             "colorbar": {
              "outlinewidth": 0,
              "ticks": ""
             }
            },
            "type": "scatterternary"
           }
          ],
          "surface": [
           {
            "colorbar": {
             "outlinewidth": 0,
             "ticks": ""
            },
            "colorscale": [
             [
              0,
              "#0d0887"
             ],
             [
              0.1111111111111111,
              "#46039f"
             ],
             [
              0.2222222222222222,
              "#7201a8"
             ],
             [
              0.3333333333333333,
              "#9c179e"
             ],
             [
              0.4444444444444444,
              "#bd3786"
             ],
             [
              0.5555555555555556,
              "#d8576b"
             ],
             [
              0.6666666666666666,
              "#ed7953"
             ],
             [
              0.7777777777777778,
              "#fb9f3a"
             ],
             [
              0.8888888888888888,
              "#fdca26"
             ],
             [
              1,
              "#f0f921"
             ]
            ],
            "type": "surface"
           }
          ],
          "table": [
           {
            "cells": {
             "fill": {
              "color": "#EBF0F8"
             },
             "line": {
              "color": "white"
             }
            },
            "header": {
             "fill": {
              "color": "#C8D4E3"
             },
             "line": {
              "color": "white"
             }
            },
            "type": "table"
           }
          ]
         },
         "layout": {
          "annotationdefaults": {
           "arrowcolor": "#2a3f5f",
           "arrowhead": 0,
           "arrowwidth": 1
          },
          "autotypenumbers": "strict",
          "coloraxis": {
           "colorbar": {
            "outlinewidth": 0,
            "ticks": ""
           }
          },
          "colorscale": {
           "diverging": [
            [
             0,
             "#8e0152"
            ],
            [
             0.1,
             "#c51b7d"
            ],
            [
             0.2,
             "#de77ae"
            ],
            [
             0.3,
             "#f1b6da"
            ],
            [
             0.4,
             "#fde0ef"
            ],
            [
             0.5,
             "#f7f7f7"
            ],
            [
             0.6,
             "#e6f5d0"
            ],
            [
             0.7,
             "#b8e186"
            ],
            [
             0.8,
             "#7fbc41"
            ],
            [
             0.9,
             "#4d9221"
            ],
            [
             1,
             "#276419"
            ]
           ],
           "sequential": [
            [
             0,
             "#0d0887"
            ],
            [
             0.1111111111111111,
             "#46039f"
            ],
            [
             0.2222222222222222,
             "#7201a8"
            ],
            [
             0.3333333333333333,
             "#9c179e"
            ],
            [
             0.4444444444444444,
             "#bd3786"
            ],
            [
             0.5555555555555556,
             "#d8576b"
            ],
            [
             0.6666666666666666,
             "#ed7953"
            ],
            [
             0.7777777777777778,
             "#fb9f3a"
            ],
            [
             0.8888888888888888,
             "#fdca26"
            ],
            [
             1,
             "#f0f921"
            ]
           ],
           "sequentialminus": [
            [
             0,
             "#0d0887"
            ],
            [
             0.1111111111111111,
             "#46039f"
            ],
            [
             0.2222222222222222,
             "#7201a8"
            ],
            [
             0.3333333333333333,
             "#9c179e"
            ],
            [
             0.4444444444444444,
             "#bd3786"
            ],
            [
             0.5555555555555556,
             "#d8576b"
            ],
            [
             0.6666666666666666,
             "#ed7953"
            ],
            [
             0.7777777777777778,
             "#fb9f3a"
            ],
            [
             0.8888888888888888,
             "#fdca26"
            ],
            [
             1,
             "#f0f921"
            ]
           ]
          },
          "colorway": [
           "#636efa",
           "#EF553B",
           "#00cc96",
           "#ab63fa",
           "#FFA15A",
           "#19d3f3",
           "#FF6692",
           "#B6E880",
           "#FF97FF",
           "#FECB52"
          ],
          "font": {
           "color": "#2a3f5f"
          },
          "geo": {
           "bgcolor": "white",
           "lakecolor": "white",
           "landcolor": "#E5ECF6",
           "showlakes": true,
           "showland": true,
           "subunitcolor": "white"
          },
          "hoverlabel": {
           "align": "left"
          },
          "hovermode": "closest",
          "mapbox": {
           "style": "light"
          },
          "paper_bgcolor": "white",
          "plot_bgcolor": "#E5ECF6",
          "polar": {
           "angularaxis": {
            "gridcolor": "white",
            "linecolor": "white",
            "ticks": ""
           },
           "bgcolor": "#E5ECF6",
           "radialaxis": {
            "gridcolor": "white",
            "linecolor": "white",
            "ticks": ""
           }
          },
          "scene": {
           "xaxis": {
            "backgroundcolor": "#E5ECF6",
            "gridcolor": "white",
            "gridwidth": 2,
            "linecolor": "white",
            "showbackground": true,
            "ticks": "",
            "zerolinecolor": "white"
           },
           "yaxis": {
            "backgroundcolor": "#E5ECF6",
            "gridcolor": "white",
            "gridwidth": 2,
            "linecolor": "white",
            "showbackground": true,
            "ticks": "",
            "zerolinecolor": "white"
           },
           "zaxis": {
            "backgroundcolor": "#E5ECF6",
            "gridcolor": "white",
            "gridwidth": 2,
            "linecolor": "white",
            "showbackground": true,
            "ticks": "",
            "zerolinecolor": "white"
           }
          },
          "shapedefaults": {
           "line": {
            "color": "#2a3f5f"
           }
          },
          "ternary": {
           "aaxis": {
            "gridcolor": "white",
            "linecolor": "white",
            "ticks": ""
           },
           "baxis": {
            "gridcolor": "white",
            "linecolor": "white",
            "ticks": ""
           },
           "bgcolor": "#E5ECF6",
           "caxis": {
            "gridcolor": "white",
            "linecolor": "white",
            "ticks": ""
           }
          },
          "title": {
           "x": 0.05
          },
          "xaxis": {
           "automargin": true,
           "gridcolor": "white",
           "linecolor": "white",
           "ticks": "",
           "title": {
            "standoff": 15
           },
           "zerolinecolor": "white",
           "zerolinewidth": 2
          },
          "yaxis": {
           "automargin": true,
           "gridcolor": "white",
           "linecolor": "white",
           "ticks": "",
           "title": {
            "standoff": 15
           },
           "zerolinecolor": "white",
           "zerolinewidth": 2
          }
         }
        },
        "title": {
         "text": "Adj Close % off of High"
        },
        "xaxis": {
         "title": {
          "text": "Ticker"
         }
        },
        "yaxis": {
         "tickformat": ".2%",
         "title": {
          "text": "% Below Adj Close High"
         }
        }
       }
      },
      "text/html": [
       "<div>                            <div id=\"7dac8004-fa1c-4e0f-9e09-1340034d98ae\" class=\"plotly-graph-div\" style=\"height:525px; width:100%;\"></div>            <script type=\"text/javascript\">                require([\"plotly\"], function(Plotly) {                    window.PLOTLYENV=window.PLOTLYENV || {};                                    if (document.getElementById(\"7dac8004-fa1c-4e0f-9e09-1340034d98ae\")) {                    Plotly.newPlot(                        \"7dac8004-fa1c-4e0f-9e09-1340034d98ae\",                        [{\"name\":\"Pct off High\",\"type\":\"bar\",\"x\":[\"AAPL\",\"AMZN\",\"GOOG\",\"MSFT\",\"UNH\"],\"y\":[-0.013314941392230661,-0.059309902184050856,-0.03789409127036225,-0.029843168182461133,-0.023037667691540475]}],                        {\"barmode\":\"group\",\"legend\":{\"x\":0.8,\"y\":1},\"template\":{\"data\":{\"bar\":[{\"error_x\":{\"color\":\"#2a3f5f\"},\"error_y\":{\"color\":\"#2a3f5f\"},\"marker\":{\"line\":{\"color\":\"#E5ECF6\",\"width\":0.5},\"pattern\":{\"fillmode\":\"overlay\",\"size\":10,\"solidity\":0.2}},\"type\":\"bar\"}],\"barpolar\":[{\"marker\":{\"line\":{\"color\":\"#E5ECF6\",\"width\":0.5},\"pattern\":{\"fillmode\":\"overlay\",\"size\":10,\"solidity\":0.2}},\"type\":\"barpolar\"}],\"carpet\":[{\"aaxis\":{\"endlinecolor\":\"#2a3f5f\",\"gridcolor\":\"white\",\"linecolor\":\"white\",\"minorgridcolor\":\"white\",\"startlinecolor\":\"#2a3f5f\"},\"baxis\":{\"endlinecolor\":\"#2a3f5f\",\"gridcolor\":\"white\",\"linecolor\":\"white\",\"minorgridcolor\":\"white\",\"startlinecolor\":\"#2a3f5f\"},\"type\":\"carpet\"}],\"choropleth\":[{\"colorbar\":{\"outlinewidth\":0,\"ticks\":\"\"},\"type\":\"choropleth\"}],\"contour\":[{\"colorbar\":{\"outlinewidth\":0,\"ticks\":\"\"},\"colorscale\":[[0.0,\"#0d0887\"],[0.1111111111111111,\"#46039f\"],[0.2222222222222222,\"#7201a8\"],[0.3333333333333333,\"#9c179e\"],[0.4444444444444444,\"#bd3786\"],[0.5555555555555556,\"#d8576b\"],[0.6666666666666666,\"#ed7953\"],[0.7777777777777778,\"#fb9f3a\"],[0.8888888888888888,\"#fdca26\"],[1.0,\"#f0f921\"]],\"type\":\"contour\"}],\"contourcarpet\":[{\"colorbar\":{\"outlinewidth\":0,\"ticks\":\"\"},\"type\":\"contourcarpet\"}],\"heatmap\":[{\"colorbar\":{\"outlinewidth\":0,\"ticks\":\"\"},\"colorscale\":[[0.0,\"#0d0887\"],[0.1111111111111111,\"#46039f\"],[0.2222222222222222,\"#7201a8\"],[0.3333333333333333,\"#9c179e\"],[0.4444444444444444,\"#bd3786\"],[0.5555555555555556,\"#d8576b\"],[0.6666666666666666,\"#ed7953\"],[0.7777777777777778,\"#fb9f3a\"],[0.8888888888888888,\"#fdca26\"],[1.0,\"#f0f921\"]],\"type\":\"heatmap\"}],\"heatmapgl\":[{\"colorbar\":{\"outlinewidth\":0,\"ticks\":\"\"},\"colorscale\":[[0.0,\"#0d0887\"],[0.1111111111111111,\"#46039f\"],[0.2222222222222222,\"#7201a8\"],[0.3333333333333333,\"#9c179e\"],[0.4444444444444444,\"#bd3786\"],[0.5555555555555556,\"#d8576b\"],[0.6666666666666666,\"#ed7953\"],[0.7777777777777778,\"#fb9f3a\"],[0.8888888888888888,\"#fdca26\"],[1.0,\"#f0f921\"]],\"type\":\"heatmapgl\"}],\"histogram\":[{\"marker\":{\"pattern\":{\"fillmode\":\"overlay\",\"size\":10,\"solidity\":0.2}},\"type\":\"histogram\"}],\"histogram2d\":[{\"colorbar\":{\"outlinewidth\":0,\"ticks\":\"\"},\"colorscale\":[[0.0,\"#0d0887\"],[0.1111111111111111,\"#46039f\"],[0.2222222222222222,\"#7201a8\"],[0.3333333333333333,\"#9c179e\"],[0.4444444444444444,\"#bd3786\"],[0.5555555555555556,\"#d8576b\"],[0.6666666666666666,\"#ed7953\"],[0.7777777777777778,\"#fb9f3a\"],[0.8888888888888888,\"#fdca26\"],[1.0,\"#f0f921\"]],\"type\":\"histogram2d\"}],\"histogram2dcontour\":[{\"colorbar\":{\"outlinewidth\":0,\"ticks\":\"\"},\"colorscale\":[[0.0,\"#0d0887\"],[0.1111111111111111,\"#46039f\"],[0.2222222222222222,\"#7201a8\"],[0.3333333333333333,\"#9c179e\"],[0.4444444444444444,\"#bd3786\"],[0.5555555555555556,\"#d8576b\"],[0.6666666666666666,\"#ed7953\"],[0.7777777777777778,\"#fb9f3a\"],[0.8888888888888888,\"#fdca26\"],[1.0,\"#f0f921\"]],\"type\":\"histogram2dcontour\"}],\"mesh3d\":[{\"colorbar\":{\"outlinewidth\":0,\"ticks\":\"\"},\"type\":\"mesh3d\"}],\"parcoords\":[{\"line\":{\"colorbar\":{\"outlinewidth\":0,\"ticks\":\"\"}},\"type\":\"parcoords\"}],\"pie\":[{\"automargin\":true,\"type\":\"pie\"}],\"scatter\":[{\"marker\":{\"colorbar\":{\"outlinewidth\":0,\"ticks\":\"\"}},\"type\":\"scatter\"}],\"scatter3d\":[{\"line\":{\"colorbar\":{\"outlinewidth\":0,\"ticks\":\"\"}},\"marker\":{\"colorbar\":{\"outlinewidth\":0,\"ticks\":\"\"}},\"type\":\"scatter3d\"}],\"scattercarpet\":[{\"marker\":{\"colorbar\":{\"outlinewidth\":0,\"ticks\":\"\"}},\"type\":\"scattercarpet\"}],\"scattergeo\":[{\"marker\":{\"colorbar\":{\"outlinewidth\":0,\"ticks\":\"\"}},\"type\":\"scattergeo\"}],\"scattergl\":[{\"marker\":{\"colorbar\":{\"outlinewidth\":0,\"ticks\":\"\"}},\"type\":\"scattergl\"}],\"scattermapbox\":[{\"marker\":{\"colorbar\":{\"outlinewidth\":0,\"ticks\":\"\"}},\"type\":\"scattermapbox\"}],\"scatterpolar\":[{\"marker\":{\"colorbar\":{\"outlinewidth\":0,\"ticks\":\"\"}},\"type\":\"scatterpolar\"}],\"scatterpolargl\":[{\"marker\":{\"colorbar\":{\"outlinewidth\":0,\"ticks\":\"\"}},\"type\":\"scatterpolargl\"}],\"scatterternary\":[{\"marker\":{\"colorbar\":{\"outlinewidth\":0,\"ticks\":\"\"}},\"type\":\"scatterternary\"}],\"surface\":[{\"colorbar\":{\"outlinewidth\":0,\"ticks\":\"\"},\"colorscale\":[[0.0,\"#0d0887\"],[0.1111111111111111,\"#46039f\"],[0.2222222222222222,\"#7201a8\"],[0.3333333333333333,\"#9c179e\"],[0.4444444444444444,\"#bd3786\"],[0.5555555555555556,\"#d8576b\"],[0.6666666666666666,\"#ed7953\"],[0.7777777777777778,\"#fb9f3a\"],[0.8888888888888888,\"#fdca26\"],[1.0,\"#f0f921\"]],\"type\":\"surface\"}],\"table\":[{\"cells\":{\"fill\":{\"color\":\"#EBF0F8\"},\"line\":{\"color\":\"white\"}},\"header\":{\"fill\":{\"color\":\"#C8D4E3\"},\"line\":{\"color\":\"white\"}},\"type\":\"table\"}]},\"layout\":{\"annotationdefaults\":{\"arrowcolor\":\"#2a3f5f\",\"arrowhead\":0,\"arrowwidth\":1},\"autotypenumbers\":\"strict\",\"coloraxis\":{\"colorbar\":{\"outlinewidth\":0,\"ticks\":\"\"}},\"colorscale\":{\"diverging\":[[0,\"#8e0152\"],[0.1,\"#c51b7d\"],[0.2,\"#de77ae\"],[0.3,\"#f1b6da\"],[0.4,\"#fde0ef\"],[0.5,\"#f7f7f7\"],[0.6,\"#e6f5d0\"],[0.7,\"#b8e186\"],[0.8,\"#7fbc41\"],[0.9,\"#4d9221\"],[1,\"#276419\"]],\"sequential\":[[0.0,\"#0d0887\"],[0.1111111111111111,\"#46039f\"],[0.2222222222222222,\"#7201a8\"],[0.3333333333333333,\"#9c179e\"],[0.4444444444444444,\"#bd3786\"],[0.5555555555555556,\"#d8576b\"],[0.6666666666666666,\"#ed7953\"],[0.7777777777777778,\"#fb9f3a\"],[0.8888888888888888,\"#fdca26\"],[1.0,\"#f0f921\"]],\"sequentialminus\":[[0.0,\"#0d0887\"],[0.1111111111111111,\"#46039f\"],[0.2222222222222222,\"#7201a8\"],[0.3333333333333333,\"#9c179e\"],[0.4444444444444444,\"#bd3786\"],[0.5555555555555556,\"#d8576b\"],[0.6666666666666666,\"#ed7953\"],[0.7777777777777778,\"#fb9f3a\"],[0.8888888888888888,\"#fdca26\"],[1.0,\"#f0f921\"]]},\"colorway\":[\"#636efa\",\"#EF553B\",\"#00cc96\",\"#ab63fa\",\"#FFA15A\",\"#19d3f3\",\"#FF6692\",\"#B6E880\",\"#FF97FF\",\"#FECB52\"],\"font\":{\"color\":\"#2a3f5f\"},\"geo\":{\"bgcolor\":\"white\",\"lakecolor\":\"white\",\"landcolor\":\"#E5ECF6\",\"showlakes\":true,\"showland\":true,\"subunitcolor\":\"white\"},\"hoverlabel\":{\"align\":\"left\"},\"hovermode\":\"closest\",\"mapbox\":{\"style\":\"light\"},\"paper_bgcolor\":\"white\",\"plot_bgcolor\":\"#E5ECF6\",\"polar\":{\"angularaxis\":{\"gridcolor\":\"white\",\"linecolor\":\"white\",\"ticks\":\"\"},\"bgcolor\":\"#E5ECF6\",\"radialaxis\":{\"gridcolor\":\"white\",\"linecolor\":\"white\",\"ticks\":\"\"}},\"scene\":{\"xaxis\":{\"backgroundcolor\":\"#E5ECF6\",\"gridcolor\":\"white\",\"gridwidth\":2,\"linecolor\":\"white\",\"showbackground\":true,\"ticks\":\"\",\"zerolinecolor\":\"white\"},\"yaxis\":{\"backgroundcolor\":\"#E5ECF6\",\"gridcolor\":\"white\",\"gridwidth\":2,\"linecolor\":\"white\",\"showbackground\":true,\"ticks\":\"\",\"zerolinecolor\":\"white\"},\"zaxis\":{\"backgroundcolor\":\"#E5ECF6\",\"gridcolor\":\"white\",\"gridwidth\":2,\"linecolor\":\"white\",\"showbackground\":true,\"ticks\":\"\",\"zerolinecolor\":\"white\"}},\"shapedefaults\":{\"line\":{\"color\":\"#2a3f5f\"}},\"ternary\":{\"aaxis\":{\"gridcolor\":\"white\",\"linecolor\":\"white\",\"ticks\":\"\"},\"baxis\":{\"gridcolor\":\"white\",\"linecolor\":\"white\",\"ticks\":\"\"},\"bgcolor\":\"#E5ECF6\",\"caxis\":{\"gridcolor\":\"white\",\"linecolor\":\"white\",\"ticks\":\"\"}},\"title\":{\"x\":0.05},\"xaxis\":{\"automargin\":true,\"gridcolor\":\"white\",\"linecolor\":\"white\",\"ticks\":\"\",\"title\":{\"standoff\":15},\"zerolinecolor\":\"white\",\"zerolinewidth\":2},\"yaxis\":{\"automargin\":true,\"gridcolor\":\"white\",\"linecolor\":\"white\",\"ticks\":\"\",\"title\":{\"standoff\":15},\"zerolinecolor\":\"white\",\"zerolinewidth\":2}}},\"title\":{\"text\":\"Adj Close % off of High\"},\"xaxis\":{\"title\":{\"text\":\"Ticker\"}},\"yaxis\":{\"tickformat\":\".2%\",\"title\":{\"text\":\"% Below Adj Close High\"}}},                        {\"responsive\": true}                    ).then(function(){\n",
       "                            \n",
       "var gd = document.getElementById('7dac8004-fa1c-4e0f-9e09-1340034d98ae');\n",
       "var x = new MutationObserver(function (mutations, observer) {{\n",
       "        var display = window.getComputedStyle(gd).display;\n",
       "        if (!display || display === 'none') {{\n",
       "            console.log([gd, 'removed!']);\n",
       "            Plotly.purge(gd);\n",
       "            observer.disconnect();\n",
       "        }}\n",
       "}});\n",
       "\n",
       "// Listen for the removal of the full notebook cells\n",
       "var notebookContainer = gd.closest('#notebook-container');\n",
       "if (notebookContainer) {{\n",
       "    x.observe(notebookContainer, {childList: true});\n",
       "}}\n",
       "\n",
       "// Listen for the clearing of the current output cell\n",
       "var outputEl = gd.closest('.output');\n",
       "if (outputEl) {{\n",
       "    x.observe(outputEl, {childList: true});\n",
       "}}\n",
       "\n",
       "                        })                };                });            </script>        </div>"
      ]
     },
     "metadata": {},
     "output_type": "display_data"
    }
   ],
   "source": [
    "# Current Share Price versus Closing High Since Purchased\n",
    "\n",
    "trace1 = go.Bar(\n",
    "    x = merged_portfolio_sp_latest_YTD_sp_closing_high1['Ticker'][0:10],\n",
    "    y = merged_portfolio_sp_latest_YTD_sp_closing_high1['Pct off High'][0:10],\n",
    "    name = 'Pct off High')\n",
    "    \n",
    "data = [trace1]\n",
    "\n",
    "layout = go.Layout(title = 'Adj Close % off of High'\n",
    "    , barmode = 'group'\n",
    "    , yaxis=dict(title='% Below Adj Close High', tickformat=\".2%\")\n",
    "    , xaxis=dict(title='Ticker')\n",
    "    , legend=dict(x=.8,y=1)\n",
    "    )\n",
    "\n",
    "fig = go.Figure(data=data, layout=layout)\n",
    "iplot(fig)"
   ]
  },
  {
   "cell_type": "markdown",
   "metadata": {},
   "source": [
    "## Total Return Comparison Charts"
   ]
  },
  {
   "cell_type": "code",
   "execution_count": 387,
   "metadata": {},
   "outputs": [
    {
     "data": {
      "application/vnd.plotly.v1+json": {
       "config": {
        "linkText": "Export to plot.ly",
        "plotlyServerURL": "https://plot.ly",
        "showLink": false
       },
       "data": [
        {
         "name": "Ticker Total Return",
         "type": "bar",
         "x": [
          "AAPL",
          "GS",
          "LUV",
          "MSFT",
          "UNH"
         ],
         "y": [
          7.694253437259654,
          0.567053340478942,
          1.4443856740401966,
          3.098903095000317,
          4.394836138331534
         ]
        },
        {
         "name": "SP500 Total Return",
         "type": "scatter",
         "x": [
          "AAPL",
          "GS",
          "LUV",
          "MSFT",
          "UNH"
         ],
         "y": [
          1.284593428819318,
          1.009955271585686,
          1.0993624539920832,
          0.8432990825980522,
          1.284593428819318
         ]
        }
       ],
       "layout": {
        "barmode": "group",
        "legend": {
         "x": 0.8,
         "y": 1
        },
        "template": {
         "data": {
          "bar": [
           {
            "error_x": {
             "color": "#2a3f5f"
            },
            "error_y": {
             "color": "#2a3f5f"
            },
            "marker": {
             "line": {
              "color": "#E5ECF6",
              "width": 0.5
             },
             "pattern": {
              "fillmode": "overlay",
              "size": 10,
              "solidity": 0.2
             }
            },
            "type": "bar"
           }
          ],
          "barpolar": [
           {
            "marker": {
             "line": {
              "color": "#E5ECF6",
              "width": 0.5
             },
             "pattern": {
              "fillmode": "overlay",
              "size": 10,
              "solidity": 0.2
             }
            },
            "type": "barpolar"
           }
          ],
          "carpet": [
           {
            "aaxis": {
             "endlinecolor": "#2a3f5f",
             "gridcolor": "white",
             "linecolor": "white",
             "minorgridcolor": "white",
             "startlinecolor": "#2a3f5f"
            },
            "baxis": {
             "endlinecolor": "#2a3f5f",
             "gridcolor": "white",
             "linecolor": "white",
             "minorgridcolor": "white",
             "startlinecolor": "#2a3f5f"
            },
            "type": "carpet"
           }
          ],
          "choropleth": [
           {
            "colorbar": {
             "outlinewidth": 0,
             "ticks": ""
            },
            "type": "choropleth"
           }
          ],
          "contour": [
           {
            "colorbar": {
             "outlinewidth": 0,
             "ticks": ""
            },
            "colorscale": [
             [
              0,
              "#0d0887"
             ],
             [
              0.1111111111111111,
              "#46039f"
             ],
             [
              0.2222222222222222,
              "#7201a8"
             ],
             [
              0.3333333333333333,
              "#9c179e"
             ],
             [
              0.4444444444444444,
              "#bd3786"
             ],
             [
              0.5555555555555556,
              "#d8576b"
             ],
             [
              0.6666666666666666,
              "#ed7953"
             ],
             [
              0.7777777777777778,
              "#fb9f3a"
             ],
             [
              0.8888888888888888,
              "#fdca26"
             ],
             [
              1,
              "#f0f921"
             ]
            ],
            "type": "contour"
           }
          ],
          "contourcarpet": [
           {
            "colorbar": {
             "outlinewidth": 0,
             "ticks": ""
            },
            "type": "contourcarpet"
           }
          ],
          "heatmap": [
           {
            "colorbar": {
             "outlinewidth": 0,
             "ticks": ""
            },
            "colorscale": [
             [
              0,
              "#0d0887"
             ],
             [
              0.1111111111111111,
              "#46039f"
             ],
             [
              0.2222222222222222,
              "#7201a8"
             ],
             [
              0.3333333333333333,
              "#9c179e"
             ],
             [
              0.4444444444444444,
              "#bd3786"
             ],
             [
              0.5555555555555556,
              "#d8576b"
             ],
             [
              0.6666666666666666,
              "#ed7953"
             ],
             [
              0.7777777777777778,
              "#fb9f3a"
             ],
             [
              0.8888888888888888,
              "#fdca26"
             ],
             [
              1,
              "#f0f921"
             ]
            ],
            "type": "heatmap"
           }
          ],
          "heatmapgl": [
           {
            "colorbar": {
             "outlinewidth": 0,
             "ticks": ""
            },
            "colorscale": [
             [
              0,
              "#0d0887"
             ],
             [
              0.1111111111111111,
              "#46039f"
             ],
             [
              0.2222222222222222,
              "#7201a8"
             ],
             [
              0.3333333333333333,
              "#9c179e"
             ],
             [
              0.4444444444444444,
              "#bd3786"
             ],
             [
              0.5555555555555556,
              "#d8576b"
             ],
             [
              0.6666666666666666,
              "#ed7953"
             ],
             [
              0.7777777777777778,
              "#fb9f3a"
             ],
             [
              0.8888888888888888,
              "#fdca26"
             ],
             [
              1,
              "#f0f921"
             ]
            ],
            "type": "heatmapgl"
           }
          ],
          "histogram": [
           {
            "marker": {
             "pattern": {
              "fillmode": "overlay",
              "size": 10,
              "solidity": 0.2
             }
            },
            "type": "histogram"
           }
          ],
          "histogram2d": [
           {
            "colorbar": {
             "outlinewidth": 0,
             "ticks": ""
            },
            "colorscale": [
             [
              0,
              "#0d0887"
             ],
             [
              0.1111111111111111,
              "#46039f"
             ],
             [
              0.2222222222222222,
              "#7201a8"
             ],
             [
              0.3333333333333333,
              "#9c179e"
             ],
             [
              0.4444444444444444,
              "#bd3786"
             ],
             [
              0.5555555555555556,
              "#d8576b"
             ],
             [
              0.6666666666666666,
              "#ed7953"
             ],
             [
              0.7777777777777778,
              "#fb9f3a"
             ],
             [
              0.8888888888888888,
              "#fdca26"
             ],
             [
              1,
              "#f0f921"
             ]
            ],
            "type": "histogram2d"
           }
          ],
          "histogram2dcontour": [
           {
            "colorbar": {
             "outlinewidth": 0,
             "ticks": ""
            },
            "colorscale": [
             [
              0,
              "#0d0887"
             ],
             [
              0.1111111111111111,
              "#46039f"
             ],
             [
              0.2222222222222222,
              "#7201a8"
             ],
             [
              0.3333333333333333,
              "#9c179e"
             ],
             [
              0.4444444444444444,
              "#bd3786"
             ],
             [
              0.5555555555555556,
              "#d8576b"
             ],
             [
              0.6666666666666666,
              "#ed7953"
             ],
             [
              0.7777777777777778,
              "#fb9f3a"
             ],
             [
              0.8888888888888888,
              "#fdca26"
             ],
             [
              1,
              "#f0f921"
             ]
            ],
            "type": "histogram2dcontour"
           }
          ],
          "mesh3d": [
           {
            "colorbar": {
             "outlinewidth": 0,
             "ticks": ""
            },
            "type": "mesh3d"
           }
          ],
          "parcoords": [
           {
            "line": {
             "colorbar": {
              "outlinewidth": 0,
              "ticks": ""
             }
            },
            "type": "parcoords"
           }
          ],
          "pie": [
           {
            "automargin": true,
            "type": "pie"
           }
          ],
          "scatter": [
           {
            "marker": {
             "colorbar": {
              "outlinewidth": 0,
              "ticks": ""
             }
            },
            "type": "scatter"
           }
          ],
          "scatter3d": [
           {
            "line": {
             "colorbar": {
              "outlinewidth": 0,
              "ticks": ""
             }
            },
            "marker": {
             "colorbar": {
              "outlinewidth": 0,
              "ticks": ""
             }
            },
            "type": "scatter3d"
           }
          ],
          "scattercarpet": [
           {
            "marker": {
             "colorbar": {
              "outlinewidth": 0,
              "ticks": ""
             }
            },
            "type": "scattercarpet"
           }
          ],
          "scattergeo": [
           {
            "marker": {
             "colorbar": {
              "outlinewidth": 0,
              "ticks": ""
             }
            },
            "type": "scattergeo"
           }
          ],
          "scattergl": [
           {
            "marker": {
             "colorbar": {
              "outlinewidth": 0,
              "ticks": ""
             }
            },
            "type": "scattergl"
           }
          ],
          "scattermapbox": [
           {
            "marker": {
             "colorbar": {
              "outlinewidth": 0,
              "ticks": ""
             }
            },
            "type": "scattermapbox"
           }
          ],
          "scatterpolar": [
           {
            "marker": {
             "colorbar": {
              "outlinewidth": 0,
              "ticks": ""
             }
            },
            "type": "scatterpolar"
           }
          ],
          "scatterpolargl": [
           {
            "marker": {
             "colorbar": {
              "outlinewidth": 0,
              "ticks": ""
             }
            },
            "type": "scatterpolargl"
           }
          ],
          "scatterternary": [
           {
            "marker": {
             "colorbar": {
              "outlinewidth": 0,
              "ticks": ""
             }
            },
            "type": "scatterternary"
           }
          ],
          "surface": [
           {
            "colorbar": {
             "outlinewidth": 0,
             "ticks": ""
            },
            "colorscale": [
             [
              0,
              "#0d0887"
             ],
             [
              0.1111111111111111,
              "#46039f"
             ],
             [
              0.2222222222222222,
              "#7201a8"
             ],
             [
              0.3333333333333333,
              "#9c179e"
             ],
             [
              0.4444444444444444,
              "#bd3786"
             ],
             [
              0.5555555555555556,
              "#d8576b"
             ],
             [
              0.6666666666666666,
              "#ed7953"
             ],
             [
              0.7777777777777778,
              "#fb9f3a"
             ],
             [
              0.8888888888888888,
              "#fdca26"
             ],
             [
              1,
              "#f0f921"
             ]
            ],
            "type": "surface"
           }
          ],
          "table": [
           {
            "cells": {
             "fill": {
              "color": "#EBF0F8"
             },
             "line": {
              "color": "white"
             }
            },
            "header": {
             "fill": {
              "color": "#C8D4E3"
             },
             "line": {
              "color": "white"
             }
            },
            "type": "table"
           }
          ]
         },
         "layout": {
          "annotationdefaults": {
           "arrowcolor": "#2a3f5f",
           "arrowhead": 0,
           "arrowwidth": 1
          },
          "autotypenumbers": "strict",
          "coloraxis": {
           "colorbar": {
            "outlinewidth": 0,
            "ticks": ""
           }
          },
          "colorscale": {
           "diverging": [
            [
             0,
             "#8e0152"
            ],
            [
             0.1,
             "#c51b7d"
            ],
            [
             0.2,
             "#de77ae"
            ],
            [
             0.3,
             "#f1b6da"
            ],
            [
             0.4,
             "#fde0ef"
            ],
            [
             0.5,
             "#f7f7f7"
            ],
            [
             0.6,
             "#e6f5d0"
            ],
            [
             0.7,
             "#b8e186"
            ],
            [
             0.8,
             "#7fbc41"
            ],
            [
             0.9,
             "#4d9221"
            ],
            [
             1,
             "#276419"
            ]
           ],
           "sequential": [
            [
             0,
             "#0d0887"
            ],
            [
             0.1111111111111111,
             "#46039f"
            ],
            [
             0.2222222222222222,
             "#7201a8"
            ],
            [
             0.3333333333333333,
             "#9c179e"
            ],
            [
             0.4444444444444444,
             "#bd3786"
            ],
            [
             0.5555555555555556,
             "#d8576b"
            ],
            [
             0.6666666666666666,
             "#ed7953"
            ],
            [
             0.7777777777777778,
             "#fb9f3a"
            ],
            [
             0.8888888888888888,
             "#fdca26"
            ],
            [
             1,
             "#f0f921"
            ]
           ],
           "sequentialminus": [
            [
             0,
             "#0d0887"
            ],
            [
             0.1111111111111111,
             "#46039f"
            ],
            [
             0.2222222222222222,
             "#7201a8"
            ],
            [
             0.3333333333333333,
             "#9c179e"
            ],
            [
             0.4444444444444444,
             "#bd3786"
            ],
            [
             0.5555555555555556,
             "#d8576b"
            ],
            [
             0.6666666666666666,
             "#ed7953"
            ],
            [
             0.7777777777777778,
             "#fb9f3a"
            ],
            [
             0.8888888888888888,
             "#fdca26"
            ],
            [
             1,
             "#f0f921"
            ]
           ]
          },
          "colorway": [
           "#636efa",
           "#EF553B",
           "#00cc96",
           "#ab63fa",
           "#FFA15A",
           "#19d3f3",
           "#FF6692",
           "#B6E880",
           "#FF97FF",
           "#FECB52"
          ],
          "font": {
           "color": "#2a3f5f"
          },
          "geo": {
           "bgcolor": "white",
           "lakecolor": "white",
           "landcolor": "#E5ECF6",
           "showlakes": true,
           "showland": true,
           "subunitcolor": "white"
          },
          "hoverlabel": {
           "align": "left"
          },
          "hovermode": "closest",
          "mapbox": {
           "style": "light"
          },
          "paper_bgcolor": "white",
          "plot_bgcolor": "#E5ECF6",
          "polar": {
           "angularaxis": {
            "gridcolor": "white",
            "linecolor": "white",
            "ticks": ""
           },
           "bgcolor": "#E5ECF6",
           "radialaxis": {
            "gridcolor": "white",
            "linecolor": "white",
            "ticks": ""
           }
          },
          "scene": {
           "xaxis": {
            "backgroundcolor": "#E5ECF6",
            "gridcolor": "white",
            "gridwidth": 2,
            "linecolor": "white",
            "showbackground": true,
            "ticks": "",
            "zerolinecolor": "white"
           },
           "yaxis": {
            "backgroundcolor": "#E5ECF6",
            "gridcolor": "white",
            "gridwidth": 2,
            "linecolor": "white",
            "showbackground": true,
            "ticks": "",
            "zerolinecolor": "white"
           },
           "zaxis": {
            "backgroundcolor": "#E5ECF6",
            "gridcolor": "white",
            "gridwidth": 2,
            "linecolor": "white",
            "showbackground": true,
            "ticks": "",
            "zerolinecolor": "white"
           }
          },
          "shapedefaults": {
           "line": {
            "color": "#2a3f5f"
           }
          },
          "ternary": {
           "aaxis": {
            "gridcolor": "white",
            "linecolor": "white",
            "ticks": ""
           },
           "baxis": {
            "gridcolor": "white",
            "linecolor": "white",
            "ticks": ""
           },
           "bgcolor": "#E5ECF6",
           "caxis": {
            "gridcolor": "white",
            "linecolor": "white",
            "ticks": ""
           }
          },
          "title": {
           "x": 0.05
          },
          "xaxis": {
           "automargin": true,
           "gridcolor": "white",
           "linecolor": "white",
           "ticks": "",
           "title": {
            "standoff": 15
           },
           "zerolinecolor": "white",
           "zerolinewidth": 2
          },
          "yaxis": {
           "automargin": true,
           "gridcolor": "white",
           "linecolor": "white",
           "ticks": "",
           "title": {
            "standoff": 15
           },
           "zerolinecolor": "white",
           "zerolinewidth": 2
          }
         }
        },
        "title": {
         "text": "patrick :Total Return vs S&P 500"
        },
        "xaxis": {
         "tickformat": ".2%",
         "title": {
          "text": "Ticker"
         }
        },
        "yaxis": {
         "tickformat": ".2%",
         "title": {
          "text": "Returns"
         }
        }
       }
      },
      "text/html": [
       "<div>                            <div id=\"9c4cc074-df29-435d-bbe8-ddfe09ef079d\" class=\"plotly-graph-div\" style=\"height:525px; width:100%;\"></div>            <script type=\"text/javascript\">                require([\"plotly\"], function(Plotly) {                    window.PLOTLYENV=window.PLOTLYENV || {};                                    if (document.getElementById(\"9c4cc074-df29-435d-bbe8-ddfe09ef079d\")) {                    Plotly.newPlot(                        \"9c4cc074-df29-435d-bbe8-ddfe09ef079d\",                        [{\"name\":\"Ticker Total Return\",\"type\":\"bar\",\"x\":[\"AAPL\",\"GS\",\"LUV\",\"MSFT\",\"UNH\"],\"y\":[7.694253437259654,0.567053340478942,1.4443856740401966,3.098903095000317,4.394836138331534]},{\"name\":\"SP500 Total Return\",\"type\":\"scatter\",\"x\":[\"AAPL\",\"GS\",\"LUV\",\"MSFT\",\"UNH\"],\"y\":[1.284593428819318,1.009955271585686,1.0993624539920832,0.8432990825980522,1.284593428819318]}],                        {\"barmode\":\"group\",\"legend\":{\"x\":0.8,\"y\":1},\"template\":{\"data\":{\"bar\":[{\"error_x\":{\"color\":\"#2a3f5f\"},\"error_y\":{\"color\":\"#2a3f5f\"},\"marker\":{\"line\":{\"color\":\"#E5ECF6\",\"width\":0.5},\"pattern\":{\"fillmode\":\"overlay\",\"size\":10,\"solidity\":0.2}},\"type\":\"bar\"}],\"barpolar\":[{\"marker\":{\"line\":{\"color\":\"#E5ECF6\",\"width\":0.5},\"pattern\":{\"fillmode\":\"overlay\",\"size\":10,\"solidity\":0.2}},\"type\":\"barpolar\"}],\"carpet\":[{\"aaxis\":{\"endlinecolor\":\"#2a3f5f\",\"gridcolor\":\"white\",\"linecolor\":\"white\",\"minorgridcolor\":\"white\",\"startlinecolor\":\"#2a3f5f\"},\"baxis\":{\"endlinecolor\":\"#2a3f5f\",\"gridcolor\":\"white\",\"linecolor\":\"white\",\"minorgridcolor\":\"white\",\"startlinecolor\":\"#2a3f5f\"},\"type\":\"carpet\"}],\"choropleth\":[{\"colorbar\":{\"outlinewidth\":0,\"ticks\":\"\"},\"type\":\"choropleth\"}],\"contour\":[{\"colorbar\":{\"outlinewidth\":0,\"ticks\":\"\"},\"colorscale\":[[0.0,\"#0d0887\"],[0.1111111111111111,\"#46039f\"],[0.2222222222222222,\"#7201a8\"],[0.3333333333333333,\"#9c179e\"],[0.4444444444444444,\"#bd3786\"],[0.5555555555555556,\"#d8576b\"],[0.6666666666666666,\"#ed7953\"],[0.7777777777777778,\"#fb9f3a\"],[0.8888888888888888,\"#fdca26\"],[1.0,\"#f0f921\"]],\"type\":\"contour\"}],\"contourcarpet\":[{\"colorbar\":{\"outlinewidth\":0,\"ticks\":\"\"},\"type\":\"contourcarpet\"}],\"heatmap\":[{\"colorbar\":{\"outlinewidth\":0,\"ticks\":\"\"},\"colorscale\":[[0.0,\"#0d0887\"],[0.1111111111111111,\"#46039f\"],[0.2222222222222222,\"#7201a8\"],[0.3333333333333333,\"#9c179e\"],[0.4444444444444444,\"#bd3786\"],[0.5555555555555556,\"#d8576b\"],[0.6666666666666666,\"#ed7953\"],[0.7777777777777778,\"#fb9f3a\"],[0.8888888888888888,\"#fdca26\"],[1.0,\"#f0f921\"]],\"type\":\"heatmap\"}],\"heatmapgl\":[{\"colorbar\":{\"outlinewidth\":0,\"ticks\":\"\"},\"colorscale\":[[0.0,\"#0d0887\"],[0.1111111111111111,\"#46039f\"],[0.2222222222222222,\"#7201a8\"],[0.3333333333333333,\"#9c179e\"],[0.4444444444444444,\"#bd3786\"],[0.5555555555555556,\"#d8576b\"],[0.6666666666666666,\"#ed7953\"],[0.7777777777777778,\"#fb9f3a\"],[0.8888888888888888,\"#fdca26\"],[1.0,\"#f0f921\"]],\"type\":\"heatmapgl\"}],\"histogram\":[{\"marker\":{\"pattern\":{\"fillmode\":\"overlay\",\"size\":10,\"solidity\":0.2}},\"type\":\"histogram\"}],\"histogram2d\":[{\"colorbar\":{\"outlinewidth\":0,\"ticks\":\"\"},\"colorscale\":[[0.0,\"#0d0887\"],[0.1111111111111111,\"#46039f\"],[0.2222222222222222,\"#7201a8\"],[0.3333333333333333,\"#9c179e\"],[0.4444444444444444,\"#bd3786\"],[0.5555555555555556,\"#d8576b\"],[0.6666666666666666,\"#ed7953\"],[0.7777777777777778,\"#fb9f3a\"],[0.8888888888888888,\"#fdca26\"],[1.0,\"#f0f921\"]],\"type\":\"histogram2d\"}],\"histogram2dcontour\":[{\"colorbar\":{\"outlinewidth\":0,\"ticks\":\"\"},\"colorscale\":[[0.0,\"#0d0887\"],[0.1111111111111111,\"#46039f\"],[0.2222222222222222,\"#7201a8\"],[0.3333333333333333,\"#9c179e\"],[0.4444444444444444,\"#bd3786\"],[0.5555555555555556,\"#d8576b\"],[0.6666666666666666,\"#ed7953\"],[0.7777777777777778,\"#fb9f3a\"],[0.8888888888888888,\"#fdca26\"],[1.0,\"#f0f921\"]],\"type\":\"histogram2dcontour\"}],\"mesh3d\":[{\"colorbar\":{\"outlinewidth\":0,\"ticks\":\"\"},\"type\":\"mesh3d\"}],\"parcoords\":[{\"line\":{\"colorbar\":{\"outlinewidth\":0,\"ticks\":\"\"}},\"type\":\"parcoords\"}],\"pie\":[{\"automargin\":true,\"type\":\"pie\"}],\"scatter\":[{\"marker\":{\"colorbar\":{\"outlinewidth\":0,\"ticks\":\"\"}},\"type\":\"scatter\"}],\"scatter3d\":[{\"line\":{\"colorbar\":{\"outlinewidth\":0,\"ticks\":\"\"}},\"marker\":{\"colorbar\":{\"outlinewidth\":0,\"ticks\":\"\"}},\"type\":\"scatter3d\"}],\"scattercarpet\":[{\"marker\":{\"colorbar\":{\"outlinewidth\":0,\"ticks\":\"\"}},\"type\":\"scattercarpet\"}],\"scattergeo\":[{\"marker\":{\"colorbar\":{\"outlinewidth\":0,\"ticks\":\"\"}},\"type\":\"scattergeo\"}],\"scattergl\":[{\"marker\":{\"colorbar\":{\"outlinewidth\":0,\"ticks\":\"\"}},\"type\":\"scattergl\"}],\"scattermapbox\":[{\"marker\":{\"colorbar\":{\"outlinewidth\":0,\"ticks\":\"\"}},\"type\":\"scattermapbox\"}],\"scatterpolar\":[{\"marker\":{\"colorbar\":{\"outlinewidth\":0,\"ticks\":\"\"}},\"type\":\"scatterpolar\"}],\"scatterpolargl\":[{\"marker\":{\"colorbar\":{\"outlinewidth\":0,\"ticks\":\"\"}},\"type\":\"scatterpolargl\"}],\"scatterternary\":[{\"marker\":{\"colorbar\":{\"outlinewidth\":0,\"ticks\":\"\"}},\"type\":\"scatterternary\"}],\"surface\":[{\"colorbar\":{\"outlinewidth\":0,\"ticks\":\"\"},\"colorscale\":[[0.0,\"#0d0887\"],[0.1111111111111111,\"#46039f\"],[0.2222222222222222,\"#7201a8\"],[0.3333333333333333,\"#9c179e\"],[0.4444444444444444,\"#bd3786\"],[0.5555555555555556,\"#d8576b\"],[0.6666666666666666,\"#ed7953\"],[0.7777777777777778,\"#fb9f3a\"],[0.8888888888888888,\"#fdca26\"],[1.0,\"#f0f921\"]],\"type\":\"surface\"}],\"table\":[{\"cells\":{\"fill\":{\"color\":\"#EBF0F8\"},\"line\":{\"color\":\"white\"}},\"header\":{\"fill\":{\"color\":\"#C8D4E3\"},\"line\":{\"color\":\"white\"}},\"type\":\"table\"}]},\"layout\":{\"annotationdefaults\":{\"arrowcolor\":\"#2a3f5f\",\"arrowhead\":0,\"arrowwidth\":1},\"autotypenumbers\":\"strict\",\"coloraxis\":{\"colorbar\":{\"outlinewidth\":0,\"ticks\":\"\"}},\"colorscale\":{\"diverging\":[[0,\"#8e0152\"],[0.1,\"#c51b7d\"],[0.2,\"#de77ae\"],[0.3,\"#f1b6da\"],[0.4,\"#fde0ef\"],[0.5,\"#f7f7f7\"],[0.6,\"#e6f5d0\"],[0.7,\"#b8e186\"],[0.8,\"#7fbc41\"],[0.9,\"#4d9221\"],[1,\"#276419\"]],\"sequential\":[[0.0,\"#0d0887\"],[0.1111111111111111,\"#46039f\"],[0.2222222222222222,\"#7201a8\"],[0.3333333333333333,\"#9c179e\"],[0.4444444444444444,\"#bd3786\"],[0.5555555555555556,\"#d8576b\"],[0.6666666666666666,\"#ed7953\"],[0.7777777777777778,\"#fb9f3a\"],[0.8888888888888888,\"#fdca26\"],[1.0,\"#f0f921\"]],\"sequentialminus\":[[0.0,\"#0d0887\"],[0.1111111111111111,\"#46039f\"],[0.2222222222222222,\"#7201a8\"],[0.3333333333333333,\"#9c179e\"],[0.4444444444444444,\"#bd3786\"],[0.5555555555555556,\"#d8576b\"],[0.6666666666666666,\"#ed7953\"],[0.7777777777777778,\"#fb9f3a\"],[0.8888888888888888,\"#fdca26\"],[1.0,\"#f0f921\"]]},\"colorway\":[\"#636efa\",\"#EF553B\",\"#00cc96\",\"#ab63fa\",\"#FFA15A\",\"#19d3f3\",\"#FF6692\",\"#B6E880\",\"#FF97FF\",\"#FECB52\"],\"font\":{\"color\":\"#2a3f5f\"},\"geo\":{\"bgcolor\":\"white\",\"lakecolor\":\"white\",\"landcolor\":\"#E5ECF6\",\"showlakes\":true,\"showland\":true,\"subunitcolor\":\"white\"},\"hoverlabel\":{\"align\":\"left\"},\"hovermode\":\"closest\",\"mapbox\":{\"style\":\"light\"},\"paper_bgcolor\":\"white\",\"plot_bgcolor\":\"#E5ECF6\",\"polar\":{\"angularaxis\":{\"gridcolor\":\"white\",\"linecolor\":\"white\",\"ticks\":\"\"},\"bgcolor\":\"#E5ECF6\",\"radialaxis\":{\"gridcolor\":\"white\",\"linecolor\":\"white\",\"ticks\":\"\"}},\"scene\":{\"xaxis\":{\"backgroundcolor\":\"#E5ECF6\",\"gridcolor\":\"white\",\"gridwidth\":2,\"linecolor\":\"white\",\"showbackground\":true,\"ticks\":\"\",\"zerolinecolor\":\"white\"},\"yaxis\":{\"backgroundcolor\":\"#E5ECF6\",\"gridcolor\":\"white\",\"gridwidth\":2,\"linecolor\":\"white\",\"showbackground\":true,\"ticks\":\"\",\"zerolinecolor\":\"white\"},\"zaxis\":{\"backgroundcolor\":\"#E5ECF6\",\"gridcolor\":\"white\",\"gridwidth\":2,\"linecolor\":\"white\",\"showbackground\":true,\"ticks\":\"\",\"zerolinecolor\":\"white\"}},\"shapedefaults\":{\"line\":{\"color\":\"#2a3f5f\"}},\"ternary\":{\"aaxis\":{\"gridcolor\":\"white\",\"linecolor\":\"white\",\"ticks\":\"\"},\"baxis\":{\"gridcolor\":\"white\",\"linecolor\":\"white\",\"ticks\":\"\"},\"bgcolor\":\"#E5ECF6\",\"caxis\":{\"gridcolor\":\"white\",\"linecolor\":\"white\",\"ticks\":\"\"}},\"title\":{\"x\":0.05},\"xaxis\":{\"automargin\":true,\"gridcolor\":\"white\",\"linecolor\":\"white\",\"ticks\":\"\",\"title\":{\"standoff\":15},\"zerolinecolor\":\"white\",\"zerolinewidth\":2},\"yaxis\":{\"automargin\":true,\"gridcolor\":\"white\",\"linecolor\":\"white\",\"ticks\":\"\",\"title\":{\"standoff\":15},\"zerolinecolor\":\"white\",\"zerolinewidth\":2}}},\"title\":{\"text\":\"patrick :Total Return vs S&P 500\"},\"xaxis\":{\"tickformat\":\".2%\",\"title\":{\"text\":\"Ticker\"}},\"yaxis\":{\"tickformat\":\".2%\",\"title\":{\"text\":\"Returns\"}}},                        {\"responsive\": true}                    ).then(function(){\n",
       "                            \n",
       "var gd = document.getElementById('9c4cc074-df29-435d-bbe8-ddfe09ef079d');\n",
       "var x = new MutationObserver(function (mutations, observer) {{\n",
       "        var display = window.getComputedStyle(gd).display;\n",
       "        if (!display || display === 'none') {{\n",
       "            console.log([gd, 'removed!']);\n",
       "            Plotly.purge(gd);\n",
       "            observer.disconnect();\n",
       "        }}\n",
       "}});\n",
       "\n",
       "// Listen for the removal of the full notebook cells\n",
       "var notebookContainer = gd.closest('#notebook-container');\n",
       "if (notebookContainer) {{\n",
       "    x.observe(notebookContainer, {childList: true});\n",
       "}}\n",
       "\n",
       "// Listen for the clearing of the current output cell\n",
       "var outputEl = gd.closest('.output');\n",
       "if (outputEl) {{\n",
       "    x.observe(outputEl, {childList: true});\n",
       "}}\n",
       "\n",
       "                        })                };                });            </script>        </div>"
      ]
     },
     "metadata": {},
     "output_type": "display_data"
    }
   ],
   "source": [
    "trace1 = go.Bar(\n",
    "    x = merged_portfolio_sp_latest_YTD_sp_closing_high['Ticker'][0:10],\n",
    "    y = merged_portfolio_sp_latest_YTD_sp_closing_high['ticker return'][0:10],\n",
    "    name = 'Ticker Total Return')\n",
    "\n",
    "trace2 = go.Scatter(\n",
    "    x = merged_portfolio_sp_latest_YTD_sp_closing_high['Ticker'][0:10],\n",
    "    y = merged_portfolio_sp_latest_YTD_sp_closing_high['SP Return'][0:10],\n",
    "    name = 'SP500 Total Return')\n",
    "    \n",
    "data = [trace1, trace2]\n",
    "\n",
    "layout = go.Layout(title = 'patrick :Total Return vs S&P 500'\n",
    "    , barmode = 'group'\n",
    "    , yaxis=dict(title='Returns', tickformat=\".2%\")\n",
    "    , xaxis=dict(title='Ticker', tickformat=\".2%\")\n",
    "    , legend=dict(x=.8,y=1)\n",
    "    )\n",
    "\n",
    "fig = go.Figure(data=data, layout=layout)\n",
    "iplot(fig)"
   ]
  },
  {
   "cell_type": "code",
   "execution_count": 388,
   "metadata": {},
   "outputs": [
    {
     "data": {
      "application/vnd.plotly.v1+json": {
       "config": {
        "linkText": "Export to plot.ly",
        "plotlyServerURL": "https://plot.ly",
        "showLink": false
       },
       "data": [
        {
         "name": "Ticker Total Return",
         "type": "bar",
         "x": [
          "AAPL",
          "AMZN",
          "GOOG",
          "MSFT",
          "UNH"
         ],
         "y": [
          7.694253437259654,
          8.29959128828173,
          2.284257648371849,
          3.098902814146478,
          4.394836138331534
         ]
        },
        {
         "name": "SP500 Total Return",
         "type": "scatter",
         "x": [
          "AAPL",
          "AMZN",
          "GOOG",
          "MSFT",
          "UNH"
         ],
         "y": [
          1.284593428819318,
          1.009955271585686,
          1.0993624539920832,
          0.8432990825980522,
          1.284593428819318
         ]
        }
       ],
       "layout": {
        "barmode": "group",
        "legend": {
         "x": 0.8,
         "y": 1
        },
        "template": {
         "data": {
          "bar": [
           {
            "error_x": {
             "color": "#2a3f5f"
            },
            "error_y": {
             "color": "#2a3f5f"
            },
            "marker": {
             "line": {
              "color": "#E5ECF6",
              "width": 0.5
             },
             "pattern": {
              "fillmode": "overlay",
              "size": 10,
              "solidity": 0.2
             }
            },
            "type": "bar"
           }
          ],
          "barpolar": [
           {
            "marker": {
             "line": {
              "color": "#E5ECF6",
              "width": 0.5
             },
             "pattern": {
              "fillmode": "overlay",
              "size": 10,
              "solidity": 0.2
             }
            },
            "type": "barpolar"
           }
          ],
          "carpet": [
           {
            "aaxis": {
             "endlinecolor": "#2a3f5f",
             "gridcolor": "white",
             "linecolor": "white",
             "minorgridcolor": "white",
             "startlinecolor": "#2a3f5f"
            },
            "baxis": {
             "endlinecolor": "#2a3f5f",
             "gridcolor": "white",
             "linecolor": "white",
             "minorgridcolor": "white",
             "startlinecolor": "#2a3f5f"
            },
            "type": "carpet"
           }
          ],
          "choropleth": [
           {
            "colorbar": {
             "outlinewidth": 0,
             "ticks": ""
            },
            "type": "choropleth"
           }
          ],
          "contour": [
           {
            "colorbar": {
             "outlinewidth": 0,
             "ticks": ""
            },
            "colorscale": [
             [
              0,
              "#0d0887"
             ],
             [
              0.1111111111111111,
              "#46039f"
             ],
             [
              0.2222222222222222,
              "#7201a8"
             ],
             [
              0.3333333333333333,
              "#9c179e"
             ],
             [
              0.4444444444444444,
              "#bd3786"
             ],
             [
              0.5555555555555556,
              "#d8576b"
             ],
             [
              0.6666666666666666,
              "#ed7953"
             ],
             [
              0.7777777777777778,
              "#fb9f3a"
             ],
             [
              0.8888888888888888,
              "#fdca26"
             ],
             [
              1,
              "#f0f921"
             ]
            ],
            "type": "contour"
           }
          ],
          "contourcarpet": [
           {
            "colorbar": {
             "outlinewidth": 0,
             "ticks": ""
            },
            "type": "contourcarpet"
           }
          ],
          "heatmap": [
           {
            "colorbar": {
             "outlinewidth": 0,
             "ticks": ""
            },
            "colorscale": [
             [
              0,
              "#0d0887"
             ],
             [
              0.1111111111111111,
              "#46039f"
             ],
             [
              0.2222222222222222,
              "#7201a8"
             ],
             [
              0.3333333333333333,
              "#9c179e"
             ],
             [
              0.4444444444444444,
              "#bd3786"
             ],
             [
              0.5555555555555556,
              "#d8576b"
             ],
             [
              0.6666666666666666,
              "#ed7953"
             ],
             [
              0.7777777777777778,
              "#fb9f3a"
             ],
             [
              0.8888888888888888,
              "#fdca26"
             ],
             [
              1,
              "#f0f921"
             ]
            ],
            "type": "heatmap"
           }
          ],
          "heatmapgl": [
           {
            "colorbar": {
             "outlinewidth": 0,
             "ticks": ""
            },
            "colorscale": [
             [
              0,
              "#0d0887"
             ],
             [
              0.1111111111111111,
              "#46039f"
             ],
             [
              0.2222222222222222,
              "#7201a8"
             ],
             [
              0.3333333333333333,
              "#9c179e"
             ],
             [
              0.4444444444444444,
              "#bd3786"
             ],
             [
              0.5555555555555556,
              "#d8576b"
             ],
             [
              0.6666666666666666,
              "#ed7953"
             ],
             [
              0.7777777777777778,
              "#fb9f3a"
             ],
             [
              0.8888888888888888,
              "#fdca26"
             ],
             [
              1,
              "#f0f921"
             ]
            ],
            "type": "heatmapgl"
           }
          ],
          "histogram": [
           {
            "marker": {
             "pattern": {
              "fillmode": "overlay",
              "size": 10,
              "solidity": 0.2
             }
            },
            "type": "histogram"
           }
          ],
          "histogram2d": [
           {
            "colorbar": {
             "outlinewidth": 0,
             "ticks": ""
            },
            "colorscale": [
             [
              0,
              "#0d0887"
             ],
             [
              0.1111111111111111,
              "#46039f"
             ],
             [
              0.2222222222222222,
              "#7201a8"
             ],
             [
              0.3333333333333333,
              "#9c179e"
             ],
             [
              0.4444444444444444,
              "#bd3786"
             ],
             [
              0.5555555555555556,
              "#d8576b"
             ],
             [
              0.6666666666666666,
              "#ed7953"
             ],
             [
              0.7777777777777778,
              "#fb9f3a"
             ],
             [
              0.8888888888888888,
              "#fdca26"
             ],
             [
              1,
              "#f0f921"
             ]
            ],
            "type": "histogram2d"
           }
          ],
          "histogram2dcontour": [
           {
            "colorbar": {
             "outlinewidth": 0,
             "ticks": ""
            },
            "colorscale": [
             [
              0,
              "#0d0887"
             ],
             [
              0.1111111111111111,
              "#46039f"
             ],
             [
              0.2222222222222222,
              "#7201a8"
             ],
             [
              0.3333333333333333,
              "#9c179e"
             ],
             [
              0.4444444444444444,
              "#bd3786"
             ],
             [
              0.5555555555555556,
              "#d8576b"
             ],
             [
              0.6666666666666666,
              "#ed7953"
             ],
             [
              0.7777777777777778,
              "#fb9f3a"
             ],
             [
              0.8888888888888888,
              "#fdca26"
             ],
             [
              1,
              "#f0f921"
             ]
            ],
            "type": "histogram2dcontour"
           }
          ],
          "mesh3d": [
           {
            "colorbar": {
             "outlinewidth": 0,
             "ticks": ""
            },
            "type": "mesh3d"
           }
          ],
          "parcoords": [
           {
            "line": {
             "colorbar": {
              "outlinewidth": 0,
              "ticks": ""
             }
            },
            "type": "parcoords"
           }
          ],
          "pie": [
           {
            "automargin": true,
            "type": "pie"
           }
          ],
          "scatter": [
           {
            "marker": {
             "colorbar": {
              "outlinewidth": 0,
              "ticks": ""
             }
            },
            "type": "scatter"
           }
          ],
          "scatter3d": [
           {
            "line": {
             "colorbar": {
              "outlinewidth": 0,
              "ticks": ""
             }
            },
            "marker": {
             "colorbar": {
              "outlinewidth": 0,
              "ticks": ""
             }
            },
            "type": "scatter3d"
           }
          ],
          "scattercarpet": [
           {
            "marker": {
             "colorbar": {
              "outlinewidth": 0,
              "ticks": ""
             }
            },
            "type": "scattercarpet"
           }
          ],
          "scattergeo": [
           {
            "marker": {
             "colorbar": {
              "outlinewidth": 0,
              "ticks": ""
             }
            },
            "type": "scattergeo"
           }
          ],
          "scattergl": [
           {
            "marker": {
             "colorbar": {
              "outlinewidth": 0,
              "ticks": ""
             }
            },
            "type": "scattergl"
           }
          ],
          "scattermapbox": [
           {
            "marker": {
             "colorbar": {
              "outlinewidth": 0,
              "ticks": ""
             }
            },
            "type": "scattermapbox"
           }
          ],
          "scatterpolar": [
           {
            "marker": {
             "colorbar": {
              "outlinewidth": 0,
              "ticks": ""
             }
            },
            "type": "scatterpolar"
           }
          ],
          "scatterpolargl": [
           {
            "marker": {
             "colorbar": {
              "outlinewidth": 0,
              "ticks": ""
             }
            },
            "type": "scatterpolargl"
           }
          ],
          "scatterternary": [
           {
            "marker": {
             "colorbar": {
              "outlinewidth": 0,
              "ticks": ""
             }
            },
            "type": "scatterternary"
           }
          ],
          "surface": [
           {
            "colorbar": {
             "outlinewidth": 0,
             "ticks": ""
            },
            "colorscale": [
             [
              0,
              "#0d0887"
             ],
             [
              0.1111111111111111,
              "#46039f"
             ],
             [
              0.2222222222222222,
              "#7201a8"
             ],
             [
              0.3333333333333333,
              "#9c179e"
             ],
             [
              0.4444444444444444,
              "#bd3786"
             ],
             [
              0.5555555555555556,
              "#d8576b"
             ],
             [
              0.6666666666666666,
              "#ed7953"
             ],
             [
              0.7777777777777778,
              "#fb9f3a"
             ],
             [
              0.8888888888888888,
              "#fdca26"
             ],
             [
              1,
              "#f0f921"
             ]
            ],
            "type": "surface"
           }
          ],
          "table": [
           {
            "cells": {
             "fill": {
              "color": "#EBF0F8"
             },
             "line": {
              "color": "white"
             }
            },
            "header": {
             "fill": {
              "color": "#C8D4E3"
             },
             "line": {
              "color": "white"
             }
            },
            "type": "table"
           }
          ]
         },
         "layout": {
          "annotationdefaults": {
           "arrowcolor": "#2a3f5f",
           "arrowhead": 0,
           "arrowwidth": 1
          },
          "autotypenumbers": "strict",
          "coloraxis": {
           "colorbar": {
            "outlinewidth": 0,
            "ticks": ""
           }
          },
          "colorscale": {
           "diverging": [
            [
             0,
             "#8e0152"
            ],
            [
             0.1,
             "#c51b7d"
            ],
            [
             0.2,
             "#de77ae"
            ],
            [
             0.3,
             "#f1b6da"
            ],
            [
             0.4,
             "#fde0ef"
            ],
            [
             0.5,
             "#f7f7f7"
            ],
            [
             0.6,
             "#e6f5d0"
            ],
            [
             0.7,
             "#b8e186"
            ],
            [
             0.8,
             "#7fbc41"
            ],
            [
             0.9,
             "#4d9221"
            ],
            [
             1,
             "#276419"
            ]
           ],
           "sequential": [
            [
             0,
             "#0d0887"
            ],
            [
             0.1111111111111111,
             "#46039f"
            ],
            [
             0.2222222222222222,
             "#7201a8"
            ],
            [
             0.3333333333333333,
             "#9c179e"
            ],
            [
             0.4444444444444444,
             "#bd3786"
            ],
            [
             0.5555555555555556,
             "#d8576b"
            ],
            [
             0.6666666666666666,
             "#ed7953"
            ],
            [
             0.7777777777777778,
             "#fb9f3a"
            ],
            [
             0.8888888888888888,
             "#fdca26"
            ],
            [
             1,
             "#f0f921"
            ]
           ],
           "sequentialminus": [
            [
             0,
             "#0d0887"
            ],
            [
             0.1111111111111111,
             "#46039f"
            ],
            [
             0.2222222222222222,
             "#7201a8"
            ],
            [
             0.3333333333333333,
             "#9c179e"
            ],
            [
             0.4444444444444444,
             "#bd3786"
            ],
            [
             0.5555555555555556,
             "#d8576b"
            ],
            [
             0.6666666666666666,
             "#ed7953"
            ],
            [
             0.7777777777777778,
             "#fb9f3a"
            ],
            [
             0.8888888888888888,
             "#fdca26"
            ],
            [
             1,
             "#f0f921"
            ]
           ]
          },
          "colorway": [
           "#636efa",
           "#EF553B",
           "#00cc96",
           "#ab63fa",
           "#FFA15A",
           "#19d3f3",
           "#FF6692",
           "#B6E880",
           "#FF97FF",
           "#FECB52"
          ],
          "font": {
           "color": "#2a3f5f"
          },
          "geo": {
           "bgcolor": "white",
           "lakecolor": "white",
           "landcolor": "#E5ECF6",
           "showlakes": true,
           "showland": true,
           "subunitcolor": "white"
          },
          "hoverlabel": {
           "align": "left"
          },
          "hovermode": "closest",
          "mapbox": {
           "style": "light"
          },
          "paper_bgcolor": "white",
          "plot_bgcolor": "#E5ECF6",
          "polar": {
           "angularaxis": {
            "gridcolor": "white",
            "linecolor": "white",
            "ticks": ""
           },
           "bgcolor": "#E5ECF6",
           "radialaxis": {
            "gridcolor": "white",
            "linecolor": "white",
            "ticks": ""
           }
          },
          "scene": {
           "xaxis": {
            "backgroundcolor": "#E5ECF6",
            "gridcolor": "white",
            "gridwidth": 2,
            "linecolor": "white",
            "showbackground": true,
            "ticks": "",
            "zerolinecolor": "white"
           },
           "yaxis": {
            "backgroundcolor": "#E5ECF6",
            "gridcolor": "white",
            "gridwidth": 2,
            "linecolor": "white",
            "showbackground": true,
            "ticks": "",
            "zerolinecolor": "white"
           },
           "zaxis": {
            "backgroundcolor": "#E5ECF6",
            "gridcolor": "white",
            "gridwidth": 2,
            "linecolor": "white",
            "showbackground": true,
            "ticks": "",
            "zerolinecolor": "white"
           }
          },
          "shapedefaults": {
           "line": {
            "color": "#2a3f5f"
           }
          },
          "ternary": {
           "aaxis": {
            "gridcolor": "white",
            "linecolor": "white",
            "ticks": ""
           },
           "baxis": {
            "gridcolor": "white",
            "linecolor": "white",
            "ticks": ""
           },
           "bgcolor": "#E5ECF6",
           "caxis": {
            "gridcolor": "white",
            "linecolor": "white",
            "ticks": ""
           }
          },
          "title": {
           "x": 0.05
          },
          "xaxis": {
           "automargin": true,
           "gridcolor": "white",
           "linecolor": "white",
           "ticks": "",
           "title": {
            "standoff": 15
           },
           "zerolinecolor": "white",
           "zerolinewidth": 2
          },
          "yaxis": {
           "automargin": true,
           "gridcolor": "white",
           "linecolor": "white",
           "ticks": "",
           "title": {
            "standoff": 15
           },
           "zerolinecolor": "white",
           "zerolinewidth": 2
          }
         }
        },
        "title": {
         "text": "peter :Total Return vs S&P 500"
        },
        "xaxis": {
         "tickformat": ".2%",
         "title": {
          "text": "Ticker"
         }
        },
        "yaxis": {
         "tickformat": ".2%",
         "title": {
          "text": "Returns"
         }
        }
       }
      },
      "text/html": [
       "<div>                            <div id=\"0293565e-720b-483c-886e-f1317d69f2c8\" class=\"plotly-graph-div\" style=\"height:525px; width:100%;\"></div>            <script type=\"text/javascript\">                require([\"plotly\"], function(Plotly) {                    window.PLOTLYENV=window.PLOTLYENV || {};                                    if (document.getElementById(\"0293565e-720b-483c-886e-f1317d69f2c8\")) {                    Plotly.newPlot(                        \"0293565e-720b-483c-886e-f1317d69f2c8\",                        [{\"name\":\"Ticker Total Return\",\"type\":\"bar\",\"x\":[\"AAPL\",\"AMZN\",\"GOOG\",\"MSFT\",\"UNH\"],\"y\":[7.694253437259654,8.29959128828173,2.284257648371849,3.098902814146478,4.394836138331534]},{\"name\":\"SP500 Total Return\",\"type\":\"scatter\",\"x\":[\"AAPL\",\"AMZN\",\"GOOG\",\"MSFT\",\"UNH\"],\"y\":[1.284593428819318,1.009955271585686,1.0993624539920832,0.8432990825980522,1.284593428819318]}],                        {\"barmode\":\"group\",\"legend\":{\"x\":0.8,\"y\":1},\"template\":{\"data\":{\"bar\":[{\"error_x\":{\"color\":\"#2a3f5f\"},\"error_y\":{\"color\":\"#2a3f5f\"},\"marker\":{\"line\":{\"color\":\"#E5ECF6\",\"width\":0.5},\"pattern\":{\"fillmode\":\"overlay\",\"size\":10,\"solidity\":0.2}},\"type\":\"bar\"}],\"barpolar\":[{\"marker\":{\"line\":{\"color\":\"#E5ECF6\",\"width\":0.5},\"pattern\":{\"fillmode\":\"overlay\",\"size\":10,\"solidity\":0.2}},\"type\":\"barpolar\"}],\"carpet\":[{\"aaxis\":{\"endlinecolor\":\"#2a3f5f\",\"gridcolor\":\"white\",\"linecolor\":\"white\",\"minorgridcolor\":\"white\",\"startlinecolor\":\"#2a3f5f\"},\"baxis\":{\"endlinecolor\":\"#2a3f5f\",\"gridcolor\":\"white\",\"linecolor\":\"white\",\"minorgridcolor\":\"white\",\"startlinecolor\":\"#2a3f5f\"},\"type\":\"carpet\"}],\"choropleth\":[{\"colorbar\":{\"outlinewidth\":0,\"ticks\":\"\"},\"type\":\"choropleth\"}],\"contour\":[{\"colorbar\":{\"outlinewidth\":0,\"ticks\":\"\"},\"colorscale\":[[0.0,\"#0d0887\"],[0.1111111111111111,\"#46039f\"],[0.2222222222222222,\"#7201a8\"],[0.3333333333333333,\"#9c179e\"],[0.4444444444444444,\"#bd3786\"],[0.5555555555555556,\"#d8576b\"],[0.6666666666666666,\"#ed7953\"],[0.7777777777777778,\"#fb9f3a\"],[0.8888888888888888,\"#fdca26\"],[1.0,\"#f0f921\"]],\"type\":\"contour\"}],\"contourcarpet\":[{\"colorbar\":{\"outlinewidth\":0,\"ticks\":\"\"},\"type\":\"contourcarpet\"}],\"heatmap\":[{\"colorbar\":{\"outlinewidth\":0,\"ticks\":\"\"},\"colorscale\":[[0.0,\"#0d0887\"],[0.1111111111111111,\"#46039f\"],[0.2222222222222222,\"#7201a8\"],[0.3333333333333333,\"#9c179e\"],[0.4444444444444444,\"#bd3786\"],[0.5555555555555556,\"#d8576b\"],[0.6666666666666666,\"#ed7953\"],[0.7777777777777778,\"#fb9f3a\"],[0.8888888888888888,\"#fdca26\"],[1.0,\"#f0f921\"]],\"type\":\"heatmap\"}],\"heatmapgl\":[{\"colorbar\":{\"outlinewidth\":0,\"ticks\":\"\"},\"colorscale\":[[0.0,\"#0d0887\"],[0.1111111111111111,\"#46039f\"],[0.2222222222222222,\"#7201a8\"],[0.3333333333333333,\"#9c179e\"],[0.4444444444444444,\"#bd3786\"],[0.5555555555555556,\"#d8576b\"],[0.6666666666666666,\"#ed7953\"],[0.7777777777777778,\"#fb9f3a\"],[0.8888888888888888,\"#fdca26\"],[1.0,\"#f0f921\"]],\"type\":\"heatmapgl\"}],\"histogram\":[{\"marker\":{\"pattern\":{\"fillmode\":\"overlay\",\"size\":10,\"solidity\":0.2}},\"type\":\"histogram\"}],\"histogram2d\":[{\"colorbar\":{\"outlinewidth\":0,\"ticks\":\"\"},\"colorscale\":[[0.0,\"#0d0887\"],[0.1111111111111111,\"#46039f\"],[0.2222222222222222,\"#7201a8\"],[0.3333333333333333,\"#9c179e\"],[0.4444444444444444,\"#bd3786\"],[0.5555555555555556,\"#d8576b\"],[0.6666666666666666,\"#ed7953\"],[0.7777777777777778,\"#fb9f3a\"],[0.8888888888888888,\"#fdca26\"],[1.0,\"#f0f921\"]],\"type\":\"histogram2d\"}],\"histogram2dcontour\":[{\"colorbar\":{\"outlinewidth\":0,\"ticks\":\"\"},\"colorscale\":[[0.0,\"#0d0887\"],[0.1111111111111111,\"#46039f\"],[0.2222222222222222,\"#7201a8\"],[0.3333333333333333,\"#9c179e\"],[0.4444444444444444,\"#bd3786\"],[0.5555555555555556,\"#d8576b\"],[0.6666666666666666,\"#ed7953\"],[0.7777777777777778,\"#fb9f3a\"],[0.8888888888888888,\"#fdca26\"],[1.0,\"#f0f921\"]],\"type\":\"histogram2dcontour\"}],\"mesh3d\":[{\"colorbar\":{\"outlinewidth\":0,\"ticks\":\"\"},\"type\":\"mesh3d\"}],\"parcoords\":[{\"line\":{\"colorbar\":{\"outlinewidth\":0,\"ticks\":\"\"}},\"type\":\"parcoords\"}],\"pie\":[{\"automargin\":true,\"type\":\"pie\"}],\"scatter\":[{\"marker\":{\"colorbar\":{\"outlinewidth\":0,\"ticks\":\"\"}},\"type\":\"scatter\"}],\"scatter3d\":[{\"line\":{\"colorbar\":{\"outlinewidth\":0,\"ticks\":\"\"}},\"marker\":{\"colorbar\":{\"outlinewidth\":0,\"ticks\":\"\"}},\"type\":\"scatter3d\"}],\"scattercarpet\":[{\"marker\":{\"colorbar\":{\"outlinewidth\":0,\"ticks\":\"\"}},\"type\":\"scattercarpet\"}],\"scattergeo\":[{\"marker\":{\"colorbar\":{\"outlinewidth\":0,\"ticks\":\"\"}},\"type\":\"scattergeo\"}],\"scattergl\":[{\"marker\":{\"colorbar\":{\"outlinewidth\":0,\"ticks\":\"\"}},\"type\":\"scattergl\"}],\"scattermapbox\":[{\"marker\":{\"colorbar\":{\"outlinewidth\":0,\"ticks\":\"\"}},\"type\":\"scattermapbox\"}],\"scatterpolar\":[{\"marker\":{\"colorbar\":{\"outlinewidth\":0,\"ticks\":\"\"}},\"type\":\"scatterpolar\"}],\"scatterpolargl\":[{\"marker\":{\"colorbar\":{\"outlinewidth\":0,\"ticks\":\"\"}},\"type\":\"scatterpolargl\"}],\"scatterternary\":[{\"marker\":{\"colorbar\":{\"outlinewidth\":0,\"ticks\":\"\"}},\"type\":\"scatterternary\"}],\"surface\":[{\"colorbar\":{\"outlinewidth\":0,\"ticks\":\"\"},\"colorscale\":[[0.0,\"#0d0887\"],[0.1111111111111111,\"#46039f\"],[0.2222222222222222,\"#7201a8\"],[0.3333333333333333,\"#9c179e\"],[0.4444444444444444,\"#bd3786\"],[0.5555555555555556,\"#d8576b\"],[0.6666666666666666,\"#ed7953\"],[0.7777777777777778,\"#fb9f3a\"],[0.8888888888888888,\"#fdca26\"],[1.0,\"#f0f921\"]],\"type\":\"surface\"}],\"table\":[{\"cells\":{\"fill\":{\"color\":\"#EBF0F8\"},\"line\":{\"color\":\"white\"}},\"header\":{\"fill\":{\"color\":\"#C8D4E3\"},\"line\":{\"color\":\"white\"}},\"type\":\"table\"}]},\"layout\":{\"annotationdefaults\":{\"arrowcolor\":\"#2a3f5f\",\"arrowhead\":0,\"arrowwidth\":1},\"autotypenumbers\":\"strict\",\"coloraxis\":{\"colorbar\":{\"outlinewidth\":0,\"ticks\":\"\"}},\"colorscale\":{\"diverging\":[[0,\"#8e0152\"],[0.1,\"#c51b7d\"],[0.2,\"#de77ae\"],[0.3,\"#f1b6da\"],[0.4,\"#fde0ef\"],[0.5,\"#f7f7f7\"],[0.6,\"#e6f5d0\"],[0.7,\"#b8e186\"],[0.8,\"#7fbc41\"],[0.9,\"#4d9221\"],[1,\"#276419\"]],\"sequential\":[[0.0,\"#0d0887\"],[0.1111111111111111,\"#46039f\"],[0.2222222222222222,\"#7201a8\"],[0.3333333333333333,\"#9c179e\"],[0.4444444444444444,\"#bd3786\"],[0.5555555555555556,\"#d8576b\"],[0.6666666666666666,\"#ed7953\"],[0.7777777777777778,\"#fb9f3a\"],[0.8888888888888888,\"#fdca26\"],[1.0,\"#f0f921\"]],\"sequentialminus\":[[0.0,\"#0d0887\"],[0.1111111111111111,\"#46039f\"],[0.2222222222222222,\"#7201a8\"],[0.3333333333333333,\"#9c179e\"],[0.4444444444444444,\"#bd3786\"],[0.5555555555555556,\"#d8576b\"],[0.6666666666666666,\"#ed7953\"],[0.7777777777777778,\"#fb9f3a\"],[0.8888888888888888,\"#fdca26\"],[1.0,\"#f0f921\"]]},\"colorway\":[\"#636efa\",\"#EF553B\",\"#00cc96\",\"#ab63fa\",\"#FFA15A\",\"#19d3f3\",\"#FF6692\",\"#B6E880\",\"#FF97FF\",\"#FECB52\"],\"font\":{\"color\":\"#2a3f5f\"},\"geo\":{\"bgcolor\":\"white\",\"lakecolor\":\"white\",\"landcolor\":\"#E5ECF6\",\"showlakes\":true,\"showland\":true,\"subunitcolor\":\"white\"},\"hoverlabel\":{\"align\":\"left\"},\"hovermode\":\"closest\",\"mapbox\":{\"style\":\"light\"},\"paper_bgcolor\":\"white\",\"plot_bgcolor\":\"#E5ECF6\",\"polar\":{\"angularaxis\":{\"gridcolor\":\"white\",\"linecolor\":\"white\",\"ticks\":\"\"},\"bgcolor\":\"#E5ECF6\",\"radialaxis\":{\"gridcolor\":\"white\",\"linecolor\":\"white\",\"ticks\":\"\"}},\"scene\":{\"xaxis\":{\"backgroundcolor\":\"#E5ECF6\",\"gridcolor\":\"white\",\"gridwidth\":2,\"linecolor\":\"white\",\"showbackground\":true,\"ticks\":\"\",\"zerolinecolor\":\"white\"},\"yaxis\":{\"backgroundcolor\":\"#E5ECF6\",\"gridcolor\":\"white\",\"gridwidth\":2,\"linecolor\":\"white\",\"showbackground\":true,\"ticks\":\"\",\"zerolinecolor\":\"white\"},\"zaxis\":{\"backgroundcolor\":\"#E5ECF6\",\"gridcolor\":\"white\",\"gridwidth\":2,\"linecolor\":\"white\",\"showbackground\":true,\"ticks\":\"\",\"zerolinecolor\":\"white\"}},\"shapedefaults\":{\"line\":{\"color\":\"#2a3f5f\"}},\"ternary\":{\"aaxis\":{\"gridcolor\":\"white\",\"linecolor\":\"white\",\"ticks\":\"\"},\"baxis\":{\"gridcolor\":\"white\",\"linecolor\":\"white\",\"ticks\":\"\"},\"bgcolor\":\"#E5ECF6\",\"caxis\":{\"gridcolor\":\"white\",\"linecolor\":\"white\",\"ticks\":\"\"}},\"title\":{\"x\":0.05},\"xaxis\":{\"automargin\":true,\"gridcolor\":\"white\",\"linecolor\":\"white\",\"ticks\":\"\",\"title\":{\"standoff\":15},\"zerolinecolor\":\"white\",\"zerolinewidth\":2},\"yaxis\":{\"automargin\":true,\"gridcolor\":\"white\",\"linecolor\":\"white\",\"ticks\":\"\",\"title\":{\"standoff\":15},\"zerolinecolor\":\"white\",\"zerolinewidth\":2}}},\"title\":{\"text\":\"peter :Total Return vs S&P 500\"},\"xaxis\":{\"tickformat\":\".2%\",\"title\":{\"text\":\"Ticker\"}},\"yaxis\":{\"tickformat\":\".2%\",\"title\":{\"text\":\"Returns\"}}},                        {\"responsive\": true}                    ).then(function(){\n",
       "                            \n",
       "var gd = document.getElementById('0293565e-720b-483c-886e-f1317d69f2c8');\n",
       "var x = new MutationObserver(function (mutations, observer) {{\n",
       "        var display = window.getComputedStyle(gd).display;\n",
       "        if (!display || display === 'none') {{\n",
       "            console.log([gd, 'removed!']);\n",
       "            Plotly.purge(gd);\n",
       "            observer.disconnect();\n",
       "        }}\n",
       "}});\n",
       "\n",
       "// Listen for the removal of the full notebook cells\n",
       "var notebookContainer = gd.closest('#notebook-container');\n",
       "if (notebookContainer) {{\n",
       "    x.observe(notebookContainer, {childList: true});\n",
       "}}\n",
       "\n",
       "// Listen for the clearing of the current output cell\n",
       "var outputEl = gd.closest('.output');\n",
       "if (outputEl) {{\n",
       "    x.observe(outputEl, {childList: true});\n",
       "}}\n",
       "\n",
       "                        })                };                });            </script>        </div>"
      ]
     },
     "metadata": {},
     "output_type": "display_data"
    }
   ],
   "source": [
    "trace1 = go.Bar(\n",
    "    x = merged_portfolio_sp_latest_YTD_sp_closing_high1['Ticker'][0:10],\n",
    "    y = merged_portfolio_sp_latest_YTD_sp_closing_high1['ticker return'][0:10],\n",
    "    name = 'Ticker Total Return')\n",
    "\n",
    "trace2 = go.Scatter(\n",
    "    x = merged_portfolio_sp_latest_YTD_sp_closing_high1['Ticker'][0:10],\n",
    "    y = merged_portfolio_sp_latest_YTD_sp_closing_high1['SP Return'][0:10],\n",
    "    name = 'SP500 Total Return')\n",
    "    \n",
    "data = [trace1, trace2]\n",
    "\n",
    "layout = go.Layout(title = 'peter :Total Return vs S&P 500'\n",
    "    , barmode = 'group'\n",
    "    , yaxis=dict(title='Returns', tickformat=\".2%\")\n",
    "    , xaxis=dict(title='Ticker', tickformat=\".2%\")\n",
    "    , legend=dict(x=.8,y=1)\n",
    "    )\n",
    "\n",
    "fig = go.Figure(data=data, layout=layout)\n",
    "iplot(fig)"
   ]
  },
  {
   "cell_type": "markdown",
   "metadata": {
    "collapsed": true
   },
   "source": [
    "## Cumulative Returns Over Time"
   ]
  },
  {
   "cell_type": "code",
   "execution_count": 392,
   "metadata": {},
   "outputs": [
    {
     "data": {
      "application/vnd.plotly.v1+json": {
       "config": {
        "linkText": "Export to plot.ly",
        "plotlyServerURL": "https://plot.ly",
        "showLink": false
       },
       "data": [
        {
         "name": "Ticker Total Return ($)",
         "type": "bar",
         "x": [
          "AAPL",
          "GS",
          "LUV",
          "MSFT",
          "UNH"
         ],
         "y": [
          61181.62563171387,
          4611.844818115234,
          12816.900717163086,
          25254.510772705078,
          36393.63806152344
         ]
        },
        {
         "name": "SP 500 Total Return ($)",
         "type": "bar",
         "x": [
          "AAPL",
          "GS",
          "LUV",
          "MSFT",
          "UNH"
         ],
         "y": [
          10214.573108599689,
          8213.966223806387,
          9755.302671744152,
          6872.465873632827,
          10637.71818405277
         ]
        },
        {
         "name": "Ticker Total Return %",
         "type": "scatter",
         "x": [
          "AAPL",
          "GS",
          "LUV",
          "MSFT",
          "UNH"
         ],
         "y": [
          7.694253437259654,
          0.567053340478942,
          1.4443856740401966,
          3.098903095000317,
          4.394836138331534
         ],
         "yaxis": "y2"
        }
       ],
       "layout": {
        "barmode": "group",
        "legend": {
         "x": 0.75,
         "y": 1
        },
        "template": {
         "data": {
          "bar": [
           {
            "error_x": {
             "color": "#2a3f5f"
            },
            "error_y": {
             "color": "#2a3f5f"
            },
            "marker": {
             "line": {
              "color": "#E5ECF6",
              "width": 0.5
             },
             "pattern": {
              "fillmode": "overlay",
              "size": 10,
              "solidity": 0.2
             }
            },
            "type": "bar"
           }
          ],
          "barpolar": [
           {
            "marker": {
             "line": {
              "color": "#E5ECF6",
              "width": 0.5
             },
             "pattern": {
              "fillmode": "overlay",
              "size": 10,
              "solidity": 0.2
             }
            },
            "type": "barpolar"
           }
          ],
          "carpet": [
           {
            "aaxis": {
             "endlinecolor": "#2a3f5f",
             "gridcolor": "white",
             "linecolor": "white",
             "minorgridcolor": "white",
             "startlinecolor": "#2a3f5f"
            },
            "baxis": {
             "endlinecolor": "#2a3f5f",
             "gridcolor": "white",
             "linecolor": "white",
             "minorgridcolor": "white",
             "startlinecolor": "#2a3f5f"
            },
            "type": "carpet"
           }
          ],
          "choropleth": [
           {
            "colorbar": {
             "outlinewidth": 0,
             "ticks": ""
            },
            "type": "choropleth"
           }
          ],
          "contour": [
           {
            "colorbar": {
             "outlinewidth": 0,
             "ticks": ""
            },
            "colorscale": [
             [
              0,
              "#0d0887"
             ],
             [
              0.1111111111111111,
              "#46039f"
             ],
             [
              0.2222222222222222,
              "#7201a8"
             ],
             [
              0.3333333333333333,
              "#9c179e"
             ],
             [
              0.4444444444444444,
              "#bd3786"
             ],
             [
              0.5555555555555556,
              "#d8576b"
             ],
             [
              0.6666666666666666,
              "#ed7953"
             ],
             [
              0.7777777777777778,
              "#fb9f3a"
             ],
             [
              0.8888888888888888,
              "#fdca26"
             ],
             [
              1,
              "#f0f921"
             ]
            ],
            "type": "contour"
           }
          ],
          "contourcarpet": [
           {
            "colorbar": {
             "outlinewidth": 0,
             "ticks": ""
            },
            "type": "contourcarpet"
           }
          ],
          "heatmap": [
           {
            "colorbar": {
             "outlinewidth": 0,
             "ticks": ""
            },
            "colorscale": [
             [
              0,
              "#0d0887"
             ],
             [
              0.1111111111111111,
              "#46039f"
             ],
             [
              0.2222222222222222,
              "#7201a8"
             ],
             [
              0.3333333333333333,
              "#9c179e"
             ],
             [
              0.4444444444444444,
              "#bd3786"
             ],
             [
              0.5555555555555556,
              "#d8576b"
             ],
             [
              0.6666666666666666,
              "#ed7953"
             ],
             [
              0.7777777777777778,
              "#fb9f3a"
             ],
             [
              0.8888888888888888,
              "#fdca26"
             ],
             [
              1,
              "#f0f921"
             ]
            ],
            "type": "heatmap"
           }
          ],
          "heatmapgl": [
           {
            "colorbar": {
             "outlinewidth": 0,
             "ticks": ""
            },
            "colorscale": [
             [
              0,
              "#0d0887"
             ],
             [
              0.1111111111111111,
              "#46039f"
             ],
             [
              0.2222222222222222,
              "#7201a8"
             ],
             [
              0.3333333333333333,
              "#9c179e"
             ],
             [
              0.4444444444444444,
              "#bd3786"
             ],
             [
              0.5555555555555556,
              "#d8576b"
             ],
             [
              0.6666666666666666,
              "#ed7953"
             ],
             [
              0.7777777777777778,
              "#fb9f3a"
             ],
             [
              0.8888888888888888,
              "#fdca26"
             ],
             [
              1,
              "#f0f921"
             ]
            ],
            "type": "heatmapgl"
           }
          ],
          "histogram": [
           {
            "marker": {
             "pattern": {
              "fillmode": "overlay",
              "size": 10,
              "solidity": 0.2
             }
            },
            "type": "histogram"
           }
          ],
          "histogram2d": [
           {
            "colorbar": {
             "outlinewidth": 0,
             "ticks": ""
            },
            "colorscale": [
             [
              0,
              "#0d0887"
             ],
             [
              0.1111111111111111,
              "#46039f"
             ],
             [
              0.2222222222222222,
              "#7201a8"
             ],
             [
              0.3333333333333333,
              "#9c179e"
             ],
             [
              0.4444444444444444,
              "#bd3786"
             ],
             [
              0.5555555555555556,
              "#d8576b"
             ],
             [
              0.6666666666666666,
              "#ed7953"
             ],
             [
              0.7777777777777778,
              "#fb9f3a"
             ],
             [
              0.8888888888888888,
              "#fdca26"
             ],
             [
              1,
              "#f0f921"
             ]
            ],
            "type": "histogram2d"
           }
          ],
          "histogram2dcontour": [
           {
            "colorbar": {
             "outlinewidth": 0,
             "ticks": ""
            },
            "colorscale": [
             [
              0,
              "#0d0887"
             ],
             [
              0.1111111111111111,
              "#46039f"
             ],
             [
              0.2222222222222222,
              "#7201a8"
             ],
             [
              0.3333333333333333,
              "#9c179e"
             ],
             [
              0.4444444444444444,
              "#bd3786"
             ],
             [
              0.5555555555555556,
              "#d8576b"
             ],
             [
              0.6666666666666666,
              "#ed7953"
             ],
             [
              0.7777777777777778,
              "#fb9f3a"
             ],
             [
              0.8888888888888888,
              "#fdca26"
             ],
             [
              1,
              "#f0f921"
             ]
            ],
            "type": "histogram2dcontour"
           }
          ],
          "mesh3d": [
           {
            "colorbar": {
             "outlinewidth": 0,
             "ticks": ""
            },
            "type": "mesh3d"
           }
          ],
          "parcoords": [
           {
            "line": {
             "colorbar": {
              "outlinewidth": 0,
              "ticks": ""
             }
            },
            "type": "parcoords"
           }
          ],
          "pie": [
           {
            "automargin": true,
            "type": "pie"
           }
          ],
          "scatter": [
           {
            "marker": {
             "colorbar": {
              "outlinewidth": 0,
              "ticks": ""
             }
            },
            "type": "scatter"
           }
          ],
          "scatter3d": [
           {
            "line": {
             "colorbar": {
              "outlinewidth": 0,
              "ticks": ""
             }
            },
            "marker": {
             "colorbar": {
              "outlinewidth": 0,
              "ticks": ""
             }
            },
            "type": "scatter3d"
           }
          ],
          "scattercarpet": [
           {
            "marker": {
             "colorbar": {
              "outlinewidth": 0,
              "ticks": ""
             }
            },
            "type": "scattercarpet"
           }
          ],
          "scattergeo": [
           {
            "marker": {
             "colorbar": {
              "outlinewidth": 0,
              "ticks": ""
             }
            },
            "type": "scattergeo"
           }
          ],
          "scattergl": [
           {
            "marker": {
             "colorbar": {
              "outlinewidth": 0,
              "ticks": ""
             }
            },
            "type": "scattergl"
           }
          ],
          "scattermapbox": [
           {
            "marker": {
             "colorbar": {
              "outlinewidth": 0,
              "ticks": ""
             }
            },
            "type": "scattermapbox"
           }
          ],
          "scatterpolar": [
           {
            "marker": {
             "colorbar": {
              "outlinewidth": 0,
              "ticks": ""
             }
            },
            "type": "scatterpolar"
           }
          ],
          "scatterpolargl": [
           {
            "marker": {
             "colorbar": {
              "outlinewidth": 0,
              "ticks": ""
             }
            },
            "type": "scatterpolargl"
           }
          ],
          "scatterternary": [
           {
            "marker": {
             "colorbar": {
              "outlinewidth": 0,
              "ticks": ""
             }
            },
            "type": "scatterternary"
           }
          ],
          "surface": [
           {
            "colorbar": {
             "outlinewidth": 0,
             "ticks": ""
            },
            "colorscale": [
             [
              0,
              "#0d0887"
             ],
             [
              0.1111111111111111,
              "#46039f"
             ],
             [
              0.2222222222222222,
              "#7201a8"
             ],
             [
              0.3333333333333333,
              "#9c179e"
             ],
             [
              0.4444444444444444,
              "#bd3786"
             ],
             [
              0.5555555555555556,
              "#d8576b"
             ],
             [
              0.6666666666666666,
              "#ed7953"
             ],
             [
              0.7777777777777778,
              "#fb9f3a"
             ],
             [
              0.8888888888888888,
              "#fdca26"
             ],
             [
              1,
              "#f0f921"
             ]
            ],
            "type": "surface"
           }
          ],
          "table": [
           {
            "cells": {
             "fill": {
              "color": "#EBF0F8"
             },
             "line": {
              "color": "white"
             }
            },
            "header": {
             "fill": {
              "color": "#C8D4E3"
             },
             "line": {
              "color": "white"
             }
            },
            "type": "table"
           }
          ]
         },
         "layout": {
          "annotationdefaults": {
           "arrowcolor": "#2a3f5f",
           "arrowhead": 0,
           "arrowwidth": 1
          },
          "autotypenumbers": "strict",
          "coloraxis": {
           "colorbar": {
            "outlinewidth": 0,
            "ticks": ""
           }
          },
          "colorscale": {
           "diverging": [
            [
             0,
             "#8e0152"
            ],
            [
             0.1,
             "#c51b7d"
            ],
            [
             0.2,
             "#de77ae"
            ],
            [
             0.3,
             "#f1b6da"
            ],
            [
             0.4,
             "#fde0ef"
            ],
            [
             0.5,
             "#f7f7f7"
            ],
            [
             0.6,
             "#e6f5d0"
            ],
            [
             0.7,
             "#b8e186"
            ],
            [
             0.8,
             "#7fbc41"
            ],
            [
             0.9,
             "#4d9221"
            ],
            [
             1,
             "#276419"
            ]
           ],
           "sequential": [
            [
             0,
             "#0d0887"
            ],
            [
             0.1111111111111111,
             "#46039f"
            ],
            [
             0.2222222222222222,
             "#7201a8"
            ],
            [
             0.3333333333333333,
             "#9c179e"
            ],
            [
             0.4444444444444444,
             "#bd3786"
            ],
            [
             0.5555555555555556,
             "#d8576b"
            ],
            [
             0.6666666666666666,
             "#ed7953"
            ],
            [
             0.7777777777777778,
             "#fb9f3a"
            ],
            [
             0.8888888888888888,
             "#fdca26"
            ],
            [
             1,
             "#f0f921"
            ]
           ],
           "sequentialminus": [
            [
             0,
             "#0d0887"
            ],
            [
             0.1111111111111111,
             "#46039f"
            ],
            [
             0.2222222222222222,
             "#7201a8"
            ],
            [
             0.3333333333333333,
             "#9c179e"
            ],
            [
             0.4444444444444444,
             "#bd3786"
            ],
            [
             0.5555555555555556,
             "#d8576b"
            ],
            [
             0.6666666666666666,
             "#ed7953"
            ],
            [
             0.7777777777777778,
             "#fb9f3a"
            ],
            [
             0.8888888888888888,
             "#fdca26"
            ],
            [
             1,
             "#f0f921"
            ]
           ]
          },
          "colorway": [
           "#636efa",
           "#EF553B",
           "#00cc96",
           "#ab63fa",
           "#FFA15A",
           "#19d3f3",
           "#FF6692",
           "#B6E880",
           "#FF97FF",
           "#FECB52"
          ],
          "font": {
           "color": "#2a3f5f"
          },
          "geo": {
           "bgcolor": "white",
           "lakecolor": "white",
           "landcolor": "#E5ECF6",
           "showlakes": true,
           "showland": true,
           "subunitcolor": "white"
          },
          "hoverlabel": {
           "align": "left"
          },
          "hovermode": "closest",
          "mapbox": {
           "style": "light"
          },
          "paper_bgcolor": "white",
          "plot_bgcolor": "#E5ECF6",
          "polar": {
           "angularaxis": {
            "gridcolor": "white",
            "linecolor": "white",
            "ticks": ""
           },
           "bgcolor": "#E5ECF6",
           "radialaxis": {
            "gridcolor": "white",
            "linecolor": "white",
            "ticks": ""
           }
          },
          "scene": {
           "xaxis": {
            "backgroundcolor": "#E5ECF6",
            "gridcolor": "white",
            "gridwidth": 2,
            "linecolor": "white",
            "showbackground": true,
            "ticks": "",
            "zerolinecolor": "white"
           },
           "yaxis": {
            "backgroundcolor": "#E5ECF6",
            "gridcolor": "white",
            "gridwidth": 2,
            "linecolor": "white",
            "showbackground": true,
            "ticks": "",
            "zerolinecolor": "white"
           },
           "zaxis": {
            "backgroundcolor": "#E5ECF6",
            "gridcolor": "white",
            "gridwidth": 2,
            "linecolor": "white",
            "showbackground": true,
            "ticks": "",
            "zerolinecolor": "white"
           }
          },
          "shapedefaults": {
           "line": {
            "color": "#2a3f5f"
           }
          },
          "ternary": {
           "aaxis": {
            "gridcolor": "white",
            "linecolor": "white",
            "ticks": ""
           },
           "baxis": {
            "gridcolor": "white",
            "linecolor": "white",
            "ticks": ""
           },
           "bgcolor": "#E5ECF6",
           "caxis": {
            "gridcolor": "white",
            "linecolor": "white",
            "ticks": ""
           }
          },
          "title": {
           "x": 0.05
          },
          "xaxis": {
           "automargin": true,
           "gridcolor": "white",
           "linecolor": "white",
           "ticks": "",
           "title": {
            "standoff": 15
           },
           "zerolinecolor": "white",
           "zerolinewidth": 2
          },
          "yaxis": {
           "automargin": true,
           "gridcolor": "white",
           "linecolor": "white",
           "ticks": "",
           "title": {
            "standoff": 15
           },
           "zerolinecolor": "white",
           "zerolinewidth": 2
          }
         }
        },
        "title": {
         "text": "patrick :Gain / (Loss) Total Return vs S&P 500"
        },
        "xaxis": {
         "title": {
          "text": "Ticker"
         }
        },
        "yaxis": {
         "title": {
          "text": "Gain / (Loss) ($)"
         }
        },
        "yaxis2": {
         "overlaying": "y",
         "side": "right",
         "tickformat": ".2%",
         "title": {
          "text": "Ticker Return"
         }
        }
       }
      },
      "text/html": [
       "<div>                            <div id=\"9d4ef5e6-b6ed-46ba-ab31-b99a8c7ddd4d\" class=\"plotly-graph-div\" style=\"height:525px; width:100%;\"></div>            <script type=\"text/javascript\">                require([\"plotly\"], function(Plotly) {                    window.PLOTLYENV=window.PLOTLYENV || {};                                    if (document.getElementById(\"9d4ef5e6-b6ed-46ba-ab31-b99a8c7ddd4d\")) {                    Plotly.newPlot(                        \"9d4ef5e6-b6ed-46ba-ab31-b99a8c7ddd4d\",                        [{\"name\":\"Ticker Total Return ($)\",\"type\":\"bar\",\"x\":[\"AAPL\",\"GS\",\"LUV\",\"MSFT\",\"UNH\"],\"y\":[61181.62563171387,4611.844818115234,12816.900717163086,25254.510772705078,36393.63806152344]},{\"name\":\"SP 500 Total Return ($)\",\"type\":\"bar\",\"x\":[\"AAPL\",\"GS\",\"LUV\",\"MSFT\",\"UNH\"],\"y\":[10214.573108599689,8213.966223806387,9755.302671744152,6872.465873632827,10637.71818405277]},{\"name\":\"Ticker Total Return %\",\"type\":\"scatter\",\"x\":[\"AAPL\",\"GS\",\"LUV\",\"MSFT\",\"UNH\"],\"y\":[7.694253437259654,0.567053340478942,1.4443856740401966,3.098903095000317,4.394836138331534],\"yaxis\":\"y2\"}],                        {\"barmode\":\"group\",\"legend\":{\"x\":0.75,\"y\":1},\"template\":{\"data\":{\"bar\":[{\"error_x\":{\"color\":\"#2a3f5f\"},\"error_y\":{\"color\":\"#2a3f5f\"},\"marker\":{\"line\":{\"color\":\"#E5ECF6\",\"width\":0.5},\"pattern\":{\"fillmode\":\"overlay\",\"size\":10,\"solidity\":0.2}},\"type\":\"bar\"}],\"barpolar\":[{\"marker\":{\"line\":{\"color\":\"#E5ECF6\",\"width\":0.5},\"pattern\":{\"fillmode\":\"overlay\",\"size\":10,\"solidity\":0.2}},\"type\":\"barpolar\"}],\"carpet\":[{\"aaxis\":{\"endlinecolor\":\"#2a3f5f\",\"gridcolor\":\"white\",\"linecolor\":\"white\",\"minorgridcolor\":\"white\",\"startlinecolor\":\"#2a3f5f\"},\"baxis\":{\"endlinecolor\":\"#2a3f5f\",\"gridcolor\":\"white\",\"linecolor\":\"white\",\"minorgridcolor\":\"white\",\"startlinecolor\":\"#2a3f5f\"},\"type\":\"carpet\"}],\"choropleth\":[{\"colorbar\":{\"outlinewidth\":0,\"ticks\":\"\"},\"type\":\"choropleth\"}],\"contour\":[{\"colorbar\":{\"outlinewidth\":0,\"ticks\":\"\"},\"colorscale\":[[0.0,\"#0d0887\"],[0.1111111111111111,\"#46039f\"],[0.2222222222222222,\"#7201a8\"],[0.3333333333333333,\"#9c179e\"],[0.4444444444444444,\"#bd3786\"],[0.5555555555555556,\"#d8576b\"],[0.6666666666666666,\"#ed7953\"],[0.7777777777777778,\"#fb9f3a\"],[0.8888888888888888,\"#fdca26\"],[1.0,\"#f0f921\"]],\"type\":\"contour\"}],\"contourcarpet\":[{\"colorbar\":{\"outlinewidth\":0,\"ticks\":\"\"},\"type\":\"contourcarpet\"}],\"heatmap\":[{\"colorbar\":{\"outlinewidth\":0,\"ticks\":\"\"},\"colorscale\":[[0.0,\"#0d0887\"],[0.1111111111111111,\"#46039f\"],[0.2222222222222222,\"#7201a8\"],[0.3333333333333333,\"#9c179e\"],[0.4444444444444444,\"#bd3786\"],[0.5555555555555556,\"#d8576b\"],[0.6666666666666666,\"#ed7953\"],[0.7777777777777778,\"#fb9f3a\"],[0.8888888888888888,\"#fdca26\"],[1.0,\"#f0f921\"]],\"type\":\"heatmap\"}],\"heatmapgl\":[{\"colorbar\":{\"outlinewidth\":0,\"ticks\":\"\"},\"colorscale\":[[0.0,\"#0d0887\"],[0.1111111111111111,\"#46039f\"],[0.2222222222222222,\"#7201a8\"],[0.3333333333333333,\"#9c179e\"],[0.4444444444444444,\"#bd3786\"],[0.5555555555555556,\"#d8576b\"],[0.6666666666666666,\"#ed7953\"],[0.7777777777777778,\"#fb9f3a\"],[0.8888888888888888,\"#fdca26\"],[1.0,\"#f0f921\"]],\"type\":\"heatmapgl\"}],\"histogram\":[{\"marker\":{\"pattern\":{\"fillmode\":\"overlay\",\"size\":10,\"solidity\":0.2}},\"type\":\"histogram\"}],\"histogram2d\":[{\"colorbar\":{\"outlinewidth\":0,\"ticks\":\"\"},\"colorscale\":[[0.0,\"#0d0887\"],[0.1111111111111111,\"#46039f\"],[0.2222222222222222,\"#7201a8\"],[0.3333333333333333,\"#9c179e\"],[0.4444444444444444,\"#bd3786\"],[0.5555555555555556,\"#d8576b\"],[0.6666666666666666,\"#ed7953\"],[0.7777777777777778,\"#fb9f3a\"],[0.8888888888888888,\"#fdca26\"],[1.0,\"#f0f921\"]],\"type\":\"histogram2d\"}],\"histogram2dcontour\":[{\"colorbar\":{\"outlinewidth\":0,\"ticks\":\"\"},\"colorscale\":[[0.0,\"#0d0887\"],[0.1111111111111111,\"#46039f\"],[0.2222222222222222,\"#7201a8\"],[0.3333333333333333,\"#9c179e\"],[0.4444444444444444,\"#bd3786\"],[0.5555555555555556,\"#d8576b\"],[0.6666666666666666,\"#ed7953\"],[0.7777777777777778,\"#fb9f3a\"],[0.8888888888888888,\"#fdca26\"],[1.0,\"#f0f921\"]],\"type\":\"histogram2dcontour\"}],\"mesh3d\":[{\"colorbar\":{\"outlinewidth\":0,\"ticks\":\"\"},\"type\":\"mesh3d\"}],\"parcoords\":[{\"line\":{\"colorbar\":{\"outlinewidth\":0,\"ticks\":\"\"}},\"type\":\"parcoords\"}],\"pie\":[{\"automargin\":true,\"type\":\"pie\"}],\"scatter\":[{\"marker\":{\"colorbar\":{\"outlinewidth\":0,\"ticks\":\"\"}},\"type\":\"scatter\"}],\"scatter3d\":[{\"line\":{\"colorbar\":{\"outlinewidth\":0,\"ticks\":\"\"}},\"marker\":{\"colorbar\":{\"outlinewidth\":0,\"ticks\":\"\"}},\"type\":\"scatter3d\"}],\"scattercarpet\":[{\"marker\":{\"colorbar\":{\"outlinewidth\":0,\"ticks\":\"\"}},\"type\":\"scattercarpet\"}],\"scattergeo\":[{\"marker\":{\"colorbar\":{\"outlinewidth\":0,\"ticks\":\"\"}},\"type\":\"scattergeo\"}],\"scattergl\":[{\"marker\":{\"colorbar\":{\"outlinewidth\":0,\"ticks\":\"\"}},\"type\":\"scattergl\"}],\"scattermapbox\":[{\"marker\":{\"colorbar\":{\"outlinewidth\":0,\"ticks\":\"\"}},\"type\":\"scattermapbox\"}],\"scatterpolar\":[{\"marker\":{\"colorbar\":{\"outlinewidth\":0,\"ticks\":\"\"}},\"type\":\"scatterpolar\"}],\"scatterpolargl\":[{\"marker\":{\"colorbar\":{\"outlinewidth\":0,\"ticks\":\"\"}},\"type\":\"scatterpolargl\"}],\"scatterternary\":[{\"marker\":{\"colorbar\":{\"outlinewidth\":0,\"ticks\":\"\"}},\"type\":\"scatterternary\"}],\"surface\":[{\"colorbar\":{\"outlinewidth\":0,\"ticks\":\"\"},\"colorscale\":[[0.0,\"#0d0887\"],[0.1111111111111111,\"#46039f\"],[0.2222222222222222,\"#7201a8\"],[0.3333333333333333,\"#9c179e\"],[0.4444444444444444,\"#bd3786\"],[0.5555555555555556,\"#d8576b\"],[0.6666666666666666,\"#ed7953\"],[0.7777777777777778,\"#fb9f3a\"],[0.8888888888888888,\"#fdca26\"],[1.0,\"#f0f921\"]],\"type\":\"surface\"}],\"table\":[{\"cells\":{\"fill\":{\"color\":\"#EBF0F8\"},\"line\":{\"color\":\"white\"}},\"header\":{\"fill\":{\"color\":\"#C8D4E3\"},\"line\":{\"color\":\"white\"}},\"type\":\"table\"}]},\"layout\":{\"annotationdefaults\":{\"arrowcolor\":\"#2a3f5f\",\"arrowhead\":0,\"arrowwidth\":1},\"autotypenumbers\":\"strict\",\"coloraxis\":{\"colorbar\":{\"outlinewidth\":0,\"ticks\":\"\"}},\"colorscale\":{\"diverging\":[[0,\"#8e0152\"],[0.1,\"#c51b7d\"],[0.2,\"#de77ae\"],[0.3,\"#f1b6da\"],[0.4,\"#fde0ef\"],[0.5,\"#f7f7f7\"],[0.6,\"#e6f5d0\"],[0.7,\"#b8e186\"],[0.8,\"#7fbc41\"],[0.9,\"#4d9221\"],[1,\"#276419\"]],\"sequential\":[[0.0,\"#0d0887\"],[0.1111111111111111,\"#46039f\"],[0.2222222222222222,\"#7201a8\"],[0.3333333333333333,\"#9c179e\"],[0.4444444444444444,\"#bd3786\"],[0.5555555555555556,\"#d8576b\"],[0.6666666666666666,\"#ed7953\"],[0.7777777777777778,\"#fb9f3a\"],[0.8888888888888888,\"#fdca26\"],[1.0,\"#f0f921\"]],\"sequentialminus\":[[0.0,\"#0d0887\"],[0.1111111111111111,\"#46039f\"],[0.2222222222222222,\"#7201a8\"],[0.3333333333333333,\"#9c179e\"],[0.4444444444444444,\"#bd3786\"],[0.5555555555555556,\"#d8576b\"],[0.6666666666666666,\"#ed7953\"],[0.7777777777777778,\"#fb9f3a\"],[0.8888888888888888,\"#fdca26\"],[1.0,\"#f0f921\"]]},\"colorway\":[\"#636efa\",\"#EF553B\",\"#00cc96\",\"#ab63fa\",\"#FFA15A\",\"#19d3f3\",\"#FF6692\",\"#B6E880\",\"#FF97FF\",\"#FECB52\"],\"font\":{\"color\":\"#2a3f5f\"},\"geo\":{\"bgcolor\":\"white\",\"lakecolor\":\"white\",\"landcolor\":\"#E5ECF6\",\"showlakes\":true,\"showland\":true,\"subunitcolor\":\"white\"},\"hoverlabel\":{\"align\":\"left\"},\"hovermode\":\"closest\",\"mapbox\":{\"style\":\"light\"},\"paper_bgcolor\":\"white\",\"plot_bgcolor\":\"#E5ECF6\",\"polar\":{\"angularaxis\":{\"gridcolor\":\"white\",\"linecolor\":\"white\",\"ticks\":\"\"},\"bgcolor\":\"#E5ECF6\",\"radialaxis\":{\"gridcolor\":\"white\",\"linecolor\":\"white\",\"ticks\":\"\"}},\"scene\":{\"xaxis\":{\"backgroundcolor\":\"#E5ECF6\",\"gridcolor\":\"white\",\"gridwidth\":2,\"linecolor\":\"white\",\"showbackground\":true,\"ticks\":\"\",\"zerolinecolor\":\"white\"},\"yaxis\":{\"backgroundcolor\":\"#E5ECF6\",\"gridcolor\":\"white\",\"gridwidth\":2,\"linecolor\":\"white\",\"showbackground\":true,\"ticks\":\"\",\"zerolinecolor\":\"white\"},\"zaxis\":{\"backgroundcolor\":\"#E5ECF6\",\"gridcolor\":\"white\",\"gridwidth\":2,\"linecolor\":\"white\",\"showbackground\":true,\"ticks\":\"\",\"zerolinecolor\":\"white\"}},\"shapedefaults\":{\"line\":{\"color\":\"#2a3f5f\"}},\"ternary\":{\"aaxis\":{\"gridcolor\":\"white\",\"linecolor\":\"white\",\"ticks\":\"\"},\"baxis\":{\"gridcolor\":\"white\",\"linecolor\":\"white\",\"ticks\":\"\"},\"bgcolor\":\"#E5ECF6\",\"caxis\":{\"gridcolor\":\"white\",\"linecolor\":\"white\",\"ticks\":\"\"}},\"title\":{\"x\":0.05},\"xaxis\":{\"automargin\":true,\"gridcolor\":\"white\",\"linecolor\":\"white\",\"ticks\":\"\",\"title\":{\"standoff\":15},\"zerolinecolor\":\"white\",\"zerolinewidth\":2},\"yaxis\":{\"automargin\":true,\"gridcolor\":\"white\",\"linecolor\":\"white\",\"ticks\":\"\",\"title\":{\"standoff\":15},\"zerolinecolor\":\"white\",\"zerolinewidth\":2}}},\"title\":{\"text\":\"patrick :Gain / (Loss) Total Return vs S&P 500\"},\"xaxis\":{\"title\":{\"text\":\"Ticker\"}},\"yaxis\":{\"title\":{\"text\":\"Gain / (Loss) ($)\"}},\"yaxis2\":{\"overlaying\":\"y\",\"side\":\"right\",\"tickformat\":\".2%\",\"title\":{\"text\":\"Ticker Return\"}}},                        {\"responsive\": true}                    ).then(function(){\n",
       "                            \n",
       "var gd = document.getElementById('9d4ef5e6-b6ed-46ba-ab31-b99a8c7ddd4d');\n",
       "var x = new MutationObserver(function (mutations, observer) {{\n",
       "        var display = window.getComputedStyle(gd).display;\n",
       "        if (!display || display === 'none') {{\n",
       "            console.log([gd, 'removed!']);\n",
       "            Plotly.purge(gd);\n",
       "            observer.disconnect();\n",
       "        }}\n",
       "}});\n",
       "\n",
       "// Listen for the removal of the full notebook cells\n",
       "var notebookContainer = gd.closest('#notebook-container');\n",
       "if (notebookContainer) {{\n",
       "    x.observe(notebookContainer, {childList: true});\n",
       "}}\n",
       "\n",
       "// Listen for the clearing of the current output cell\n",
       "var outputEl = gd.closest('.output');\n",
       "if (outputEl) {{\n",
       "    x.observe(outputEl, {childList: true});\n",
       "}}\n",
       "\n",
       "                        })                };                });            </script>        </div>"
      ]
     },
     "metadata": {},
     "output_type": "display_data"
    }
   ],
   "source": [
    "trace1 = go.Bar(\n",
    "    x = merged_portfolio_sp_latest_YTD_sp_closing_high['Ticker'][0:10],\n",
    "    y = merged_portfolio_sp_latest_YTD_sp_closing_high['Stock Gain / (Loss)'][0:10],\n",
    "    name = 'Ticker Total Return ($)')\n",
    "\n",
    "trace2 = go.Bar(\n",
    "    x = merged_portfolio_sp_latest_YTD_sp_closing_high['Ticker'][0:10],\n",
    "    y = merged_portfolio_sp_latest_YTD_sp_closing_high['SP 500 Gain / (Loss)'][0:10],\n",
    "    name = 'SP 500 Total Return ($)')\n",
    "\n",
    "trace3 = go.Scatter(\n",
    "    x = merged_portfolio_sp_latest_YTD_sp_closing_high['Ticker'][0:10],\n",
    "    y = merged_portfolio_sp_latest_YTD_sp_closing_high['ticker return'][0:10],\n",
    "    name = 'Ticker Total Return %',\n",
    "    yaxis='y2')\n",
    "\n",
    "data = [trace1, trace2, trace3]\n",
    "\n",
    "layout = go.Layout(title = 'patrick :Gain / (Loss) Total Return vs S&P 500'\n",
    "    , barmode = 'group'\n",
    "    , yaxis=dict(title='Gain / (Loss) ($)')\n",
    "    , yaxis2=dict(title='Ticker Return', overlaying='y', side='right', tickformat=\".2%\")\n",
    "    , xaxis=dict(title='Ticker')\n",
    "    , legend=dict(x=.75,y=1)\n",
    "    )\n",
    "\n",
    "fig = go.Figure(data=data, layout=layout)\n",
    "iplot(fig)"
   ]
  },
  {
   "cell_type": "code",
   "execution_count": 393,
   "metadata": {},
   "outputs": [
    {
     "data": {
      "application/vnd.plotly.v1+json": {
       "config": {
        "linkText": "Export to plot.ly",
        "plotlyServerURL": "https://plot.ly",
        "showLink": false
       },
       "data": [
        {
         "name": "Ticker Total Return ($)",
         "type": "bar",
         "x": [
          "AAPL",
          "AMZN",
          "GOOG",
          "MSFT",
          "UNH"
         ],
         "y": [
          61181.62563171387,
          74119.5,
          18348.299560546875,
          25254.50848388672,
          36393.63806152344
         ]
        },
        {
         "name": "SP 500 Total Return ($)",
         "type": "bar",
         "x": [
          "AAPL",
          "AMZN",
          "GOOG",
          "MSFT",
          "UNH"
         ],
         "y": [
          10214.573108599689,
          9019.405552895969,
          8830.628911691409,
          6872.465873632827,
          10637.71818405277
         ]
        },
        {
         "name": "Ticker Total Return %",
         "type": "scatter",
         "x": [
          "AAPL",
          "AMZN",
          "GOOG",
          "MSFT",
          "UNH"
         ],
         "y": [
          7.694253437259654,
          8.29959128828173,
          2.284257648371849,
          3.098902814146478,
          4.394836138331534
         ],
         "yaxis": "y2"
        }
       ],
       "layout": {
        "barmode": "group",
        "legend": {
         "x": 0.75,
         "y": 1
        },
        "template": {
         "data": {
          "bar": [
           {
            "error_x": {
             "color": "#2a3f5f"
            },
            "error_y": {
             "color": "#2a3f5f"
            },
            "marker": {
             "line": {
              "color": "#E5ECF6",
              "width": 0.5
             },
             "pattern": {
              "fillmode": "overlay",
              "size": 10,
              "solidity": 0.2
             }
            },
            "type": "bar"
           }
          ],
          "barpolar": [
           {
            "marker": {
             "line": {
              "color": "#E5ECF6",
              "width": 0.5
             },
             "pattern": {
              "fillmode": "overlay",
              "size": 10,
              "solidity": 0.2
             }
            },
            "type": "barpolar"
           }
          ],
          "carpet": [
           {
            "aaxis": {
             "endlinecolor": "#2a3f5f",
             "gridcolor": "white",
             "linecolor": "white",
             "minorgridcolor": "white",
             "startlinecolor": "#2a3f5f"
            },
            "baxis": {
             "endlinecolor": "#2a3f5f",
             "gridcolor": "white",
             "linecolor": "white",
             "minorgridcolor": "white",
             "startlinecolor": "#2a3f5f"
            },
            "type": "carpet"
           }
          ],
          "choropleth": [
           {
            "colorbar": {
             "outlinewidth": 0,
             "ticks": ""
            },
            "type": "choropleth"
           }
          ],
          "contour": [
           {
            "colorbar": {
             "outlinewidth": 0,
             "ticks": ""
            },
            "colorscale": [
             [
              0,
              "#0d0887"
             ],
             [
              0.1111111111111111,
              "#46039f"
             ],
             [
              0.2222222222222222,
              "#7201a8"
             ],
             [
              0.3333333333333333,
              "#9c179e"
             ],
             [
              0.4444444444444444,
              "#bd3786"
             ],
             [
              0.5555555555555556,
              "#d8576b"
             ],
             [
              0.6666666666666666,
              "#ed7953"
             ],
             [
              0.7777777777777778,
              "#fb9f3a"
             ],
             [
              0.8888888888888888,
              "#fdca26"
             ],
             [
              1,
              "#f0f921"
             ]
            ],
            "type": "contour"
           }
          ],
          "contourcarpet": [
           {
            "colorbar": {
             "outlinewidth": 0,
             "ticks": ""
            },
            "type": "contourcarpet"
           }
          ],
          "heatmap": [
           {
            "colorbar": {
             "outlinewidth": 0,
             "ticks": ""
            },
            "colorscale": [
             [
              0,
              "#0d0887"
             ],
             [
              0.1111111111111111,
              "#46039f"
             ],
             [
              0.2222222222222222,
              "#7201a8"
             ],
             [
              0.3333333333333333,
              "#9c179e"
             ],
             [
              0.4444444444444444,
              "#bd3786"
             ],
             [
              0.5555555555555556,
              "#d8576b"
             ],
             [
              0.6666666666666666,
              "#ed7953"
             ],
             [
              0.7777777777777778,
              "#fb9f3a"
             ],
             [
              0.8888888888888888,
              "#fdca26"
             ],
             [
              1,
              "#f0f921"
             ]
            ],
            "type": "heatmap"
           }
          ],
          "heatmapgl": [
           {
            "colorbar": {
             "outlinewidth": 0,
             "ticks": ""
            },
            "colorscale": [
             [
              0,
              "#0d0887"
             ],
             [
              0.1111111111111111,
              "#46039f"
             ],
             [
              0.2222222222222222,
              "#7201a8"
             ],
             [
              0.3333333333333333,
              "#9c179e"
             ],
             [
              0.4444444444444444,
              "#bd3786"
             ],
             [
              0.5555555555555556,
              "#d8576b"
             ],
             [
              0.6666666666666666,
              "#ed7953"
             ],
             [
              0.7777777777777778,
              "#fb9f3a"
             ],
             [
              0.8888888888888888,
              "#fdca26"
             ],
             [
              1,
              "#f0f921"
             ]
            ],
            "type": "heatmapgl"
           }
          ],
          "histogram": [
           {
            "marker": {
             "pattern": {
              "fillmode": "overlay",
              "size": 10,
              "solidity": 0.2
             }
            },
            "type": "histogram"
           }
          ],
          "histogram2d": [
           {
            "colorbar": {
             "outlinewidth": 0,
             "ticks": ""
            },
            "colorscale": [
             [
              0,
              "#0d0887"
             ],
             [
              0.1111111111111111,
              "#46039f"
             ],
             [
              0.2222222222222222,
              "#7201a8"
             ],
             [
              0.3333333333333333,
              "#9c179e"
             ],
             [
              0.4444444444444444,
              "#bd3786"
             ],
             [
              0.5555555555555556,
              "#d8576b"
             ],
             [
              0.6666666666666666,
              "#ed7953"
             ],
             [
              0.7777777777777778,
              "#fb9f3a"
             ],
             [
              0.8888888888888888,
              "#fdca26"
             ],
             [
              1,
              "#f0f921"
             ]
            ],
            "type": "histogram2d"
           }
          ],
          "histogram2dcontour": [
           {
            "colorbar": {
             "outlinewidth": 0,
             "ticks": ""
            },
            "colorscale": [
             [
              0,
              "#0d0887"
             ],
             [
              0.1111111111111111,
              "#46039f"
             ],
             [
              0.2222222222222222,
              "#7201a8"
             ],
             [
              0.3333333333333333,
              "#9c179e"
             ],
             [
              0.4444444444444444,
              "#bd3786"
             ],
             [
              0.5555555555555556,
              "#d8576b"
             ],
             [
              0.6666666666666666,
              "#ed7953"
             ],
             [
              0.7777777777777778,
              "#fb9f3a"
             ],
             [
              0.8888888888888888,
              "#fdca26"
             ],
             [
              1,
              "#f0f921"
             ]
            ],
            "type": "histogram2dcontour"
           }
          ],
          "mesh3d": [
           {
            "colorbar": {
             "outlinewidth": 0,
             "ticks": ""
            },
            "type": "mesh3d"
           }
          ],
          "parcoords": [
           {
            "line": {
             "colorbar": {
              "outlinewidth": 0,
              "ticks": ""
             }
            },
            "type": "parcoords"
           }
          ],
          "pie": [
           {
            "automargin": true,
            "type": "pie"
           }
          ],
          "scatter": [
           {
            "marker": {
             "colorbar": {
              "outlinewidth": 0,
              "ticks": ""
             }
            },
            "type": "scatter"
           }
          ],
          "scatter3d": [
           {
            "line": {
             "colorbar": {
              "outlinewidth": 0,
              "ticks": ""
             }
            },
            "marker": {
             "colorbar": {
              "outlinewidth": 0,
              "ticks": ""
             }
            },
            "type": "scatter3d"
           }
          ],
          "scattercarpet": [
           {
            "marker": {
             "colorbar": {
              "outlinewidth": 0,
              "ticks": ""
             }
            },
            "type": "scattercarpet"
           }
          ],
          "scattergeo": [
           {
            "marker": {
             "colorbar": {
              "outlinewidth": 0,
              "ticks": ""
             }
            },
            "type": "scattergeo"
           }
          ],
          "scattergl": [
           {
            "marker": {
             "colorbar": {
              "outlinewidth": 0,
              "ticks": ""
             }
            },
            "type": "scattergl"
           }
          ],
          "scattermapbox": [
           {
            "marker": {
             "colorbar": {
              "outlinewidth": 0,
              "ticks": ""
             }
            },
            "type": "scattermapbox"
           }
          ],
          "scatterpolar": [
           {
            "marker": {
             "colorbar": {
              "outlinewidth": 0,
              "ticks": ""
             }
            },
            "type": "scatterpolar"
           }
          ],
          "scatterpolargl": [
           {
            "marker": {
             "colorbar": {
              "outlinewidth": 0,
              "ticks": ""
             }
            },
            "type": "scatterpolargl"
           }
          ],
          "scatterternary": [
           {
            "marker": {
             "colorbar": {
              "outlinewidth": 0,
              "ticks": ""
             }
            },
            "type": "scatterternary"
           }
          ],
          "surface": [
           {
            "colorbar": {
             "outlinewidth": 0,
             "ticks": ""
            },
            "colorscale": [
             [
              0,
              "#0d0887"
             ],
             [
              0.1111111111111111,
              "#46039f"
             ],
             [
              0.2222222222222222,
              "#7201a8"
             ],
             [
              0.3333333333333333,
              "#9c179e"
             ],
             [
              0.4444444444444444,
              "#bd3786"
             ],
             [
              0.5555555555555556,
              "#d8576b"
             ],
             [
              0.6666666666666666,
              "#ed7953"
             ],
             [
              0.7777777777777778,
              "#fb9f3a"
             ],
             [
              0.8888888888888888,
              "#fdca26"
             ],
             [
              1,
              "#f0f921"
             ]
            ],
            "type": "surface"
           }
          ],
          "table": [
           {
            "cells": {
             "fill": {
              "color": "#EBF0F8"
             },
             "line": {
              "color": "white"
             }
            },
            "header": {
             "fill": {
              "color": "#C8D4E3"
             },
             "line": {
              "color": "white"
             }
            },
            "type": "table"
           }
          ]
         },
         "layout": {
          "annotationdefaults": {
           "arrowcolor": "#2a3f5f",
           "arrowhead": 0,
           "arrowwidth": 1
          },
          "autotypenumbers": "strict",
          "coloraxis": {
           "colorbar": {
            "outlinewidth": 0,
            "ticks": ""
           }
          },
          "colorscale": {
           "diverging": [
            [
             0,
             "#8e0152"
            ],
            [
             0.1,
             "#c51b7d"
            ],
            [
             0.2,
             "#de77ae"
            ],
            [
             0.3,
             "#f1b6da"
            ],
            [
             0.4,
             "#fde0ef"
            ],
            [
             0.5,
             "#f7f7f7"
            ],
            [
             0.6,
             "#e6f5d0"
            ],
            [
             0.7,
             "#b8e186"
            ],
            [
             0.8,
             "#7fbc41"
            ],
            [
             0.9,
             "#4d9221"
            ],
            [
             1,
             "#276419"
            ]
           ],
           "sequential": [
            [
             0,
             "#0d0887"
            ],
            [
             0.1111111111111111,
             "#46039f"
            ],
            [
             0.2222222222222222,
             "#7201a8"
            ],
            [
             0.3333333333333333,
             "#9c179e"
            ],
            [
             0.4444444444444444,
             "#bd3786"
            ],
            [
             0.5555555555555556,
             "#d8576b"
            ],
            [
             0.6666666666666666,
             "#ed7953"
            ],
            [
             0.7777777777777778,
             "#fb9f3a"
            ],
            [
             0.8888888888888888,
             "#fdca26"
            ],
            [
             1,
             "#f0f921"
            ]
           ],
           "sequentialminus": [
            [
             0,
             "#0d0887"
            ],
            [
             0.1111111111111111,
             "#46039f"
            ],
            [
             0.2222222222222222,
             "#7201a8"
            ],
            [
             0.3333333333333333,
             "#9c179e"
            ],
            [
             0.4444444444444444,
             "#bd3786"
            ],
            [
             0.5555555555555556,
             "#d8576b"
            ],
            [
             0.6666666666666666,
             "#ed7953"
            ],
            [
             0.7777777777777778,
             "#fb9f3a"
            ],
            [
             0.8888888888888888,
             "#fdca26"
            ],
            [
             1,
             "#f0f921"
            ]
           ]
          },
          "colorway": [
           "#636efa",
           "#EF553B",
           "#00cc96",
           "#ab63fa",
           "#FFA15A",
           "#19d3f3",
           "#FF6692",
           "#B6E880",
           "#FF97FF",
           "#FECB52"
          ],
          "font": {
           "color": "#2a3f5f"
          },
          "geo": {
           "bgcolor": "white",
           "lakecolor": "white",
           "landcolor": "#E5ECF6",
           "showlakes": true,
           "showland": true,
           "subunitcolor": "white"
          },
          "hoverlabel": {
           "align": "left"
          },
          "hovermode": "closest",
          "mapbox": {
           "style": "light"
          },
          "paper_bgcolor": "white",
          "plot_bgcolor": "#E5ECF6",
          "polar": {
           "angularaxis": {
            "gridcolor": "white",
            "linecolor": "white",
            "ticks": ""
           },
           "bgcolor": "#E5ECF6",
           "radialaxis": {
            "gridcolor": "white",
            "linecolor": "white",
            "ticks": ""
           }
          },
          "scene": {
           "xaxis": {
            "backgroundcolor": "#E5ECF6",
            "gridcolor": "white",
            "gridwidth": 2,
            "linecolor": "white",
            "showbackground": true,
            "ticks": "",
            "zerolinecolor": "white"
           },
           "yaxis": {
            "backgroundcolor": "#E5ECF6",
            "gridcolor": "white",
            "gridwidth": 2,
            "linecolor": "white",
            "showbackground": true,
            "ticks": "",
            "zerolinecolor": "white"
           },
           "zaxis": {
            "backgroundcolor": "#E5ECF6",
            "gridcolor": "white",
            "gridwidth": 2,
            "linecolor": "white",
            "showbackground": true,
            "ticks": "",
            "zerolinecolor": "white"
           }
          },
          "shapedefaults": {
           "line": {
            "color": "#2a3f5f"
           }
          },
          "ternary": {
           "aaxis": {
            "gridcolor": "white",
            "linecolor": "white",
            "ticks": ""
           },
           "baxis": {
            "gridcolor": "white",
            "linecolor": "white",
            "ticks": ""
           },
           "bgcolor": "#E5ECF6",
           "caxis": {
            "gridcolor": "white",
            "linecolor": "white",
            "ticks": ""
           }
          },
          "title": {
           "x": 0.05
          },
          "xaxis": {
           "automargin": true,
           "gridcolor": "white",
           "linecolor": "white",
           "ticks": "",
           "title": {
            "standoff": 15
           },
           "zerolinecolor": "white",
           "zerolinewidth": 2
          },
          "yaxis": {
           "automargin": true,
           "gridcolor": "white",
           "linecolor": "white",
           "ticks": "",
           "title": {
            "standoff": 15
           },
           "zerolinecolor": "white",
           "zerolinewidth": 2
          }
         }
        },
        "title": {
         "text": "peter :Gain / (Loss) Total Return vs S&P 500"
        },
        "xaxis": {
         "title": {
          "text": "Ticker"
         }
        },
        "yaxis": {
         "title": {
          "text": "Gain / (Loss) ($)"
         }
        },
        "yaxis2": {
         "overlaying": "y",
         "side": "right",
         "tickformat": ".2%",
         "title": {
          "text": "Ticker Return"
         }
        }
       }
      },
      "text/html": [
       "<div>                            <div id=\"60ea4093-e70b-4338-89fd-afd7a2d16b29\" class=\"plotly-graph-div\" style=\"height:525px; width:100%;\"></div>            <script type=\"text/javascript\">                require([\"plotly\"], function(Plotly) {                    window.PLOTLYENV=window.PLOTLYENV || {};                                    if (document.getElementById(\"60ea4093-e70b-4338-89fd-afd7a2d16b29\")) {                    Plotly.newPlot(                        \"60ea4093-e70b-4338-89fd-afd7a2d16b29\",                        [{\"name\":\"Ticker Total Return ($)\",\"type\":\"bar\",\"x\":[\"AAPL\",\"AMZN\",\"GOOG\",\"MSFT\",\"UNH\"],\"y\":[61181.62563171387,74119.5,18348.299560546875,25254.50848388672,36393.63806152344]},{\"name\":\"SP 500 Total Return ($)\",\"type\":\"bar\",\"x\":[\"AAPL\",\"AMZN\",\"GOOG\",\"MSFT\",\"UNH\"],\"y\":[10214.573108599689,9019.405552895969,8830.628911691409,6872.465873632827,10637.71818405277]},{\"name\":\"Ticker Total Return %\",\"type\":\"scatter\",\"x\":[\"AAPL\",\"AMZN\",\"GOOG\",\"MSFT\",\"UNH\"],\"y\":[7.694253437259654,8.29959128828173,2.284257648371849,3.098902814146478,4.394836138331534],\"yaxis\":\"y2\"}],                        {\"barmode\":\"group\",\"legend\":{\"x\":0.75,\"y\":1},\"template\":{\"data\":{\"bar\":[{\"error_x\":{\"color\":\"#2a3f5f\"},\"error_y\":{\"color\":\"#2a3f5f\"},\"marker\":{\"line\":{\"color\":\"#E5ECF6\",\"width\":0.5},\"pattern\":{\"fillmode\":\"overlay\",\"size\":10,\"solidity\":0.2}},\"type\":\"bar\"}],\"barpolar\":[{\"marker\":{\"line\":{\"color\":\"#E5ECF6\",\"width\":0.5},\"pattern\":{\"fillmode\":\"overlay\",\"size\":10,\"solidity\":0.2}},\"type\":\"barpolar\"}],\"carpet\":[{\"aaxis\":{\"endlinecolor\":\"#2a3f5f\",\"gridcolor\":\"white\",\"linecolor\":\"white\",\"minorgridcolor\":\"white\",\"startlinecolor\":\"#2a3f5f\"},\"baxis\":{\"endlinecolor\":\"#2a3f5f\",\"gridcolor\":\"white\",\"linecolor\":\"white\",\"minorgridcolor\":\"white\",\"startlinecolor\":\"#2a3f5f\"},\"type\":\"carpet\"}],\"choropleth\":[{\"colorbar\":{\"outlinewidth\":0,\"ticks\":\"\"},\"type\":\"choropleth\"}],\"contour\":[{\"colorbar\":{\"outlinewidth\":0,\"ticks\":\"\"},\"colorscale\":[[0.0,\"#0d0887\"],[0.1111111111111111,\"#46039f\"],[0.2222222222222222,\"#7201a8\"],[0.3333333333333333,\"#9c179e\"],[0.4444444444444444,\"#bd3786\"],[0.5555555555555556,\"#d8576b\"],[0.6666666666666666,\"#ed7953\"],[0.7777777777777778,\"#fb9f3a\"],[0.8888888888888888,\"#fdca26\"],[1.0,\"#f0f921\"]],\"type\":\"contour\"}],\"contourcarpet\":[{\"colorbar\":{\"outlinewidth\":0,\"ticks\":\"\"},\"type\":\"contourcarpet\"}],\"heatmap\":[{\"colorbar\":{\"outlinewidth\":0,\"ticks\":\"\"},\"colorscale\":[[0.0,\"#0d0887\"],[0.1111111111111111,\"#46039f\"],[0.2222222222222222,\"#7201a8\"],[0.3333333333333333,\"#9c179e\"],[0.4444444444444444,\"#bd3786\"],[0.5555555555555556,\"#d8576b\"],[0.6666666666666666,\"#ed7953\"],[0.7777777777777778,\"#fb9f3a\"],[0.8888888888888888,\"#fdca26\"],[1.0,\"#f0f921\"]],\"type\":\"heatmap\"}],\"heatmapgl\":[{\"colorbar\":{\"outlinewidth\":0,\"ticks\":\"\"},\"colorscale\":[[0.0,\"#0d0887\"],[0.1111111111111111,\"#46039f\"],[0.2222222222222222,\"#7201a8\"],[0.3333333333333333,\"#9c179e\"],[0.4444444444444444,\"#bd3786\"],[0.5555555555555556,\"#d8576b\"],[0.6666666666666666,\"#ed7953\"],[0.7777777777777778,\"#fb9f3a\"],[0.8888888888888888,\"#fdca26\"],[1.0,\"#f0f921\"]],\"type\":\"heatmapgl\"}],\"histogram\":[{\"marker\":{\"pattern\":{\"fillmode\":\"overlay\",\"size\":10,\"solidity\":0.2}},\"type\":\"histogram\"}],\"histogram2d\":[{\"colorbar\":{\"outlinewidth\":0,\"ticks\":\"\"},\"colorscale\":[[0.0,\"#0d0887\"],[0.1111111111111111,\"#46039f\"],[0.2222222222222222,\"#7201a8\"],[0.3333333333333333,\"#9c179e\"],[0.4444444444444444,\"#bd3786\"],[0.5555555555555556,\"#d8576b\"],[0.6666666666666666,\"#ed7953\"],[0.7777777777777778,\"#fb9f3a\"],[0.8888888888888888,\"#fdca26\"],[1.0,\"#f0f921\"]],\"type\":\"histogram2d\"}],\"histogram2dcontour\":[{\"colorbar\":{\"outlinewidth\":0,\"ticks\":\"\"},\"colorscale\":[[0.0,\"#0d0887\"],[0.1111111111111111,\"#46039f\"],[0.2222222222222222,\"#7201a8\"],[0.3333333333333333,\"#9c179e\"],[0.4444444444444444,\"#bd3786\"],[0.5555555555555556,\"#d8576b\"],[0.6666666666666666,\"#ed7953\"],[0.7777777777777778,\"#fb9f3a\"],[0.8888888888888888,\"#fdca26\"],[1.0,\"#f0f921\"]],\"type\":\"histogram2dcontour\"}],\"mesh3d\":[{\"colorbar\":{\"outlinewidth\":0,\"ticks\":\"\"},\"type\":\"mesh3d\"}],\"parcoords\":[{\"line\":{\"colorbar\":{\"outlinewidth\":0,\"ticks\":\"\"}},\"type\":\"parcoords\"}],\"pie\":[{\"automargin\":true,\"type\":\"pie\"}],\"scatter\":[{\"marker\":{\"colorbar\":{\"outlinewidth\":0,\"ticks\":\"\"}},\"type\":\"scatter\"}],\"scatter3d\":[{\"line\":{\"colorbar\":{\"outlinewidth\":0,\"ticks\":\"\"}},\"marker\":{\"colorbar\":{\"outlinewidth\":0,\"ticks\":\"\"}},\"type\":\"scatter3d\"}],\"scattercarpet\":[{\"marker\":{\"colorbar\":{\"outlinewidth\":0,\"ticks\":\"\"}},\"type\":\"scattercarpet\"}],\"scattergeo\":[{\"marker\":{\"colorbar\":{\"outlinewidth\":0,\"ticks\":\"\"}},\"type\":\"scattergeo\"}],\"scattergl\":[{\"marker\":{\"colorbar\":{\"outlinewidth\":0,\"ticks\":\"\"}},\"type\":\"scattergl\"}],\"scattermapbox\":[{\"marker\":{\"colorbar\":{\"outlinewidth\":0,\"ticks\":\"\"}},\"type\":\"scattermapbox\"}],\"scatterpolar\":[{\"marker\":{\"colorbar\":{\"outlinewidth\":0,\"ticks\":\"\"}},\"type\":\"scatterpolar\"}],\"scatterpolargl\":[{\"marker\":{\"colorbar\":{\"outlinewidth\":0,\"ticks\":\"\"}},\"type\":\"scatterpolargl\"}],\"scatterternary\":[{\"marker\":{\"colorbar\":{\"outlinewidth\":0,\"ticks\":\"\"}},\"type\":\"scatterternary\"}],\"surface\":[{\"colorbar\":{\"outlinewidth\":0,\"ticks\":\"\"},\"colorscale\":[[0.0,\"#0d0887\"],[0.1111111111111111,\"#46039f\"],[0.2222222222222222,\"#7201a8\"],[0.3333333333333333,\"#9c179e\"],[0.4444444444444444,\"#bd3786\"],[0.5555555555555556,\"#d8576b\"],[0.6666666666666666,\"#ed7953\"],[0.7777777777777778,\"#fb9f3a\"],[0.8888888888888888,\"#fdca26\"],[1.0,\"#f0f921\"]],\"type\":\"surface\"}],\"table\":[{\"cells\":{\"fill\":{\"color\":\"#EBF0F8\"},\"line\":{\"color\":\"white\"}},\"header\":{\"fill\":{\"color\":\"#C8D4E3\"},\"line\":{\"color\":\"white\"}},\"type\":\"table\"}]},\"layout\":{\"annotationdefaults\":{\"arrowcolor\":\"#2a3f5f\",\"arrowhead\":0,\"arrowwidth\":1},\"autotypenumbers\":\"strict\",\"coloraxis\":{\"colorbar\":{\"outlinewidth\":0,\"ticks\":\"\"}},\"colorscale\":{\"diverging\":[[0,\"#8e0152\"],[0.1,\"#c51b7d\"],[0.2,\"#de77ae\"],[0.3,\"#f1b6da\"],[0.4,\"#fde0ef\"],[0.5,\"#f7f7f7\"],[0.6,\"#e6f5d0\"],[0.7,\"#b8e186\"],[0.8,\"#7fbc41\"],[0.9,\"#4d9221\"],[1,\"#276419\"]],\"sequential\":[[0.0,\"#0d0887\"],[0.1111111111111111,\"#46039f\"],[0.2222222222222222,\"#7201a8\"],[0.3333333333333333,\"#9c179e\"],[0.4444444444444444,\"#bd3786\"],[0.5555555555555556,\"#d8576b\"],[0.6666666666666666,\"#ed7953\"],[0.7777777777777778,\"#fb9f3a\"],[0.8888888888888888,\"#fdca26\"],[1.0,\"#f0f921\"]],\"sequentialminus\":[[0.0,\"#0d0887\"],[0.1111111111111111,\"#46039f\"],[0.2222222222222222,\"#7201a8\"],[0.3333333333333333,\"#9c179e\"],[0.4444444444444444,\"#bd3786\"],[0.5555555555555556,\"#d8576b\"],[0.6666666666666666,\"#ed7953\"],[0.7777777777777778,\"#fb9f3a\"],[0.8888888888888888,\"#fdca26\"],[1.0,\"#f0f921\"]]},\"colorway\":[\"#636efa\",\"#EF553B\",\"#00cc96\",\"#ab63fa\",\"#FFA15A\",\"#19d3f3\",\"#FF6692\",\"#B6E880\",\"#FF97FF\",\"#FECB52\"],\"font\":{\"color\":\"#2a3f5f\"},\"geo\":{\"bgcolor\":\"white\",\"lakecolor\":\"white\",\"landcolor\":\"#E5ECF6\",\"showlakes\":true,\"showland\":true,\"subunitcolor\":\"white\"},\"hoverlabel\":{\"align\":\"left\"},\"hovermode\":\"closest\",\"mapbox\":{\"style\":\"light\"},\"paper_bgcolor\":\"white\",\"plot_bgcolor\":\"#E5ECF6\",\"polar\":{\"angularaxis\":{\"gridcolor\":\"white\",\"linecolor\":\"white\",\"ticks\":\"\"},\"bgcolor\":\"#E5ECF6\",\"radialaxis\":{\"gridcolor\":\"white\",\"linecolor\":\"white\",\"ticks\":\"\"}},\"scene\":{\"xaxis\":{\"backgroundcolor\":\"#E5ECF6\",\"gridcolor\":\"white\",\"gridwidth\":2,\"linecolor\":\"white\",\"showbackground\":true,\"ticks\":\"\",\"zerolinecolor\":\"white\"},\"yaxis\":{\"backgroundcolor\":\"#E5ECF6\",\"gridcolor\":\"white\",\"gridwidth\":2,\"linecolor\":\"white\",\"showbackground\":true,\"ticks\":\"\",\"zerolinecolor\":\"white\"},\"zaxis\":{\"backgroundcolor\":\"#E5ECF6\",\"gridcolor\":\"white\",\"gridwidth\":2,\"linecolor\":\"white\",\"showbackground\":true,\"ticks\":\"\",\"zerolinecolor\":\"white\"}},\"shapedefaults\":{\"line\":{\"color\":\"#2a3f5f\"}},\"ternary\":{\"aaxis\":{\"gridcolor\":\"white\",\"linecolor\":\"white\",\"ticks\":\"\"},\"baxis\":{\"gridcolor\":\"white\",\"linecolor\":\"white\",\"ticks\":\"\"},\"bgcolor\":\"#E5ECF6\",\"caxis\":{\"gridcolor\":\"white\",\"linecolor\":\"white\",\"ticks\":\"\"}},\"title\":{\"x\":0.05},\"xaxis\":{\"automargin\":true,\"gridcolor\":\"white\",\"linecolor\":\"white\",\"ticks\":\"\",\"title\":{\"standoff\":15},\"zerolinecolor\":\"white\",\"zerolinewidth\":2},\"yaxis\":{\"automargin\":true,\"gridcolor\":\"white\",\"linecolor\":\"white\",\"ticks\":\"\",\"title\":{\"standoff\":15},\"zerolinecolor\":\"white\",\"zerolinewidth\":2}}},\"title\":{\"text\":\"peter :Gain / (Loss) Total Return vs S&P 500\"},\"xaxis\":{\"title\":{\"text\":\"Ticker\"}},\"yaxis\":{\"title\":{\"text\":\"Gain / (Loss) ($)\"}},\"yaxis2\":{\"overlaying\":\"y\",\"side\":\"right\",\"tickformat\":\".2%\",\"title\":{\"text\":\"Ticker Return\"}}},                        {\"responsive\": true}                    ).then(function(){\n",
       "                            \n",
       "var gd = document.getElementById('60ea4093-e70b-4338-89fd-afd7a2d16b29');\n",
       "var x = new MutationObserver(function (mutations, observer) {{\n",
       "        var display = window.getComputedStyle(gd).display;\n",
       "        if (!display || display === 'none') {{\n",
       "            console.log([gd, 'removed!']);\n",
       "            Plotly.purge(gd);\n",
       "            observer.disconnect();\n",
       "        }}\n",
       "}});\n",
       "\n",
       "// Listen for the removal of the full notebook cells\n",
       "var notebookContainer = gd.closest('#notebook-container');\n",
       "if (notebookContainer) {{\n",
       "    x.observe(notebookContainer, {childList: true});\n",
       "}}\n",
       "\n",
       "// Listen for the clearing of the current output cell\n",
       "var outputEl = gd.closest('.output');\n",
       "if (outputEl) {{\n",
       "    x.observe(outputEl, {childList: true});\n",
       "}}\n",
       "\n",
       "                        })                };                });            </script>        </div>"
      ]
     },
     "metadata": {},
     "output_type": "display_data"
    }
   ],
   "source": [
    "trace1 = go.Bar(\n",
    "    x = merged_portfolio_sp_latest_YTD_sp_closing_high1['Ticker'][0:10],\n",
    "    y = merged_portfolio_sp_latest_YTD_sp_closing_high1['Stock Gain / (Loss)'][0:10],\n",
    "    name = 'Ticker Total Return ($)')\n",
    "\n",
    "trace2 = go.Bar(\n",
    "    x = merged_portfolio_sp_latest_YTD_sp_closing_high1['Ticker'][0:10],\n",
    "    y = merged_portfolio_sp_latest_YTD_sp_closing_high1['SP 500 Gain / (Loss)'][0:10],\n",
    "    name = 'SP 500 Total Return ($)')\n",
    "\n",
    "trace3 = go.Scatter(\n",
    "    x = merged_portfolio_sp_latest_YTD_sp_closing_high1['Ticker'][0:10],\n",
    "    y = merged_portfolio_sp_latest_YTD_sp_closing_high1['ticker return'][0:10],\n",
    "    name = 'Ticker Total Return %',\n",
    "    yaxis='y2')\n",
    "\n",
    "data = [trace1, trace2, trace3]\n",
    "\n",
    "layout = go.Layout(title = 'peter :Gain / (Loss) Total Return vs S&P 500'\n",
    "    , barmode = 'group'\n",
    "    , yaxis=dict(title='Gain / (Loss) ($)')\n",
    "    , yaxis2=dict(title='Ticker Return', overlaying='y', side='right', tickformat=\".2%\")\n",
    "    , xaxis=dict(title='Ticker')\n",
    "    , legend=dict(x=.75,y=1)\n",
    "    )\n",
    "\n",
    "fig = go.Figure(data=data, layout=layout)\n",
    "iplot(fig)"
   ]
  },
  {
   "cell_type": "code",
   "execution_count": 394,
   "metadata": {},
   "outputs": [
    {
     "data": {
      "application/vnd.plotly.v1+json": {
       "config": {
        "linkText": "Export to plot.ly",
        "plotlyServerURL": "https://plot.ly",
        "showLink": false
       },
       "data": [
        {
         "name": "Cum Invst",
         "type": "bar",
         "x": [
          "AAPL",
          "GS",
          "LUV",
          "MSFT",
          "UNH"
         ],
         "y": [
          7951.599999999999,
          16084.599999999999,
          24958.199999999997,
          33107.7,
          41388.7
         ]
        },
        {
         "name": "Cum SP500 Returns",
         "type": "bar",
         "x": [
          "AAPL",
          "GS",
          "LUV",
          "MSFT",
          "UNH"
         ],
         "y": [
          18166.173108599687,
          34513.13933240608,
          53142.04200415023,
          68164.00787778306,
          87082.72606183583
         ]
        },
        {
         "name": "Cum Ticker Returns",
         "type": "bar",
         "x": [
          "AAPL",
          "GS",
          "LUV",
          "MSFT",
          "UNH"
         ],
         "y": [
          69133.22563171387,
          81878.0704498291,
          103568.57116699219,
          136972.58193969727,
          181647.2200012207
         ]
        },
        {
         "name": "Cum ROI Mult",
         "type": "scatter",
         "x": [
          "AAPL",
          "GS",
          "LUV",
          "MSFT",
          "UNH"
         ],
         "y": [
          8.694253437259654,
          5.09046357695119,
          4.149681113501463,
          4.137182043442984,
          4.388811922124172
         ],
         "yaxis": "y2"
        }
       ],
       "layout": {
        "barmode": "group",
        "legend": {
         "x": 0.4,
         "y": 1
        },
        "template": {
         "data": {
          "bar": [
           {
            "error_x": {
             "color": "#2a3f5f"
            },
            "error_y": {
             "color": "#2a3f5f"
            },
            "marker": {
             "line": {
              "color": "#E5ECF6",
              "width": 0.5
             },
             "pattern": {
              "fillmode": "overlay",
              "size": 10,
              "solidity": 0.2
             }
            },
            "type": "bar"
           }
          ],
          "barpolar": [
           {
            "marker": {
             "line": {
              "color": "#E5ECF6",
              "width": 0.5
             },
             "pattern": {
              "fillmode": "overlay",
              "size": 10,
              "solidity": 0.2
             }
            },
            "type": "barpolar"
           }
          ],
          "carpet": [
           {
            "aaxis": {
             "endlinecolor": "#2a3f5f",
             "gridcolor": "white",
             "linecolor": "white",
             "minorgridcolor": "white",
             "startlinecolor": "#2a3f5f"
            },
            "baxis": {
             "endlinecolor": "#2a3f5f",
             "gridcolor": "white",
             "linecolor": "white",
             "minorgridcolor": "white",
             "startlinecolor": "#2a3f5f"
            },
            "type": "carpet"
           }
          ],
          "choropleth": [
           {
            "colorbar": {
             "outlinewidth": 0,
             "ticks": ""
            },
            "type": "choropleth"
           }
          ],
          "contour": [
           {
            "colorbar": {
             "outlinewidth": 0,
             "ticks": ""
            },
            "colorscale": [
             [
              0,
              "#0d0887"
             ],
             [
              0.1111111111111111,
              "#46039f"
             ],
             [
              0.2222222222222222,
              "#7201a8"
             ],
             [
              0.3333333333333333,
              "#9c179e"
             ],
             [
              0.4444444444444444,
              "#bd3786"
             ],
             [
              0.5555555555555556,
              "#d8576b"
             ],
             [
              0.6666666666666666,
              "#ed7953"
             ],
             [
              0.7777777777777778,
              "#fb9f3a"
             ],
             [
              0.8888888888888888,
              "#fdca26"
             ],
             [
              1,
              "#f0f921"
             ]
            ],
            "type": "contour"
           }
          ],
          "contourcarpet": [
           {
            "colorbar": {
             "outlinewidth": 0,
             "ticks": ""
            },
            "type": "contourcarpet"
           }
          ],
          "heatmap": [
           {
            "colorbar": {
             "outlinewidth": 0,
             "ticks": ""
            },
            "colorscale": [
             [
              0,
              "#0d0887"
             ],
             [
              0.1111111111111111,
              "#46039f"
             ],
             [
              0.2222222222222222,
              "#7201a8"
             ],
             [
              0.3333333333333333,
              "#9c179e"
             ],
             [
              0.4444444444444444,
              "#bd3786"
             ],
             [
              0.5555555555555556,
              "#d8576b"
             ],
             [
              0.6666666666666666,
              "#ed7953"
             ],
             [
              0.7777777777777778,
              "#fb9f3a"
             ],
             [
              0.8888888888888888,
              "#fdca26"
             ],
             [
              1,
              "#f0f921"
             ]
            ],
            "type": "heatmap"
           }
          ],
          "heatmapgl": [
           {
            "colorbar": {
             "outlinewidth": 0,
             "ticks": ""
            },
            "colorscale": [
             [
              0,
              "#0d0887"
             ],
             [
              0.1111111111111111,
              "#46039f"
             ],
             [
              0.2222222222222222,
              "#7201a8"
             ],
             [
              0.3333333333333333,
              "#9c179e"
             ],
             [
              0.4444444444444444,
              "#bd3786"
             ],
             [
              0.5555555555555556,
              "#d8576b"
             ],
             [
              0.6666666666666666,
              "#ed7953"
             ],
             [
              0.7777777777777778,
              "#fb9f3a"
             ],
             [
              0.8888888888888888,
              "#fdca26"
             ],
             [
              1,
              "#f0f921"
             ]
            ],
            "type": "heatmapgl"
           }
          ],
          "histogram": [
           {
            "marker": {
             "pattern": {
              "fillmode": "overlay",
              "size": 10,
              "solidity": 0.2
             }
            },
            "type": "histogram"
           }
          ],
          "histogram2d": [
           {
            "colorbar": {
             "outlinewidth": 0,
             "ticks": ""
            },
            "colorscale": [
             [
              0,
              "#0d0887"
             ],
             [
              0.1111111111111111,
              "#46039f"
             ],
             [
              0.2222222222222222,
              "#7201a8"
             ],
             [
              0.3333333333333333,
              "#9c179e"
             ],
             [
              0.4444444444444444,
              "#bd3786"
             ],
             [
              0.5555555555555556,
              "#d8576b"
             ],
             [
              0.6666666666666666,
              "#ed7953"
             ],
             [
              0.7777777777777778,
              "#fb9f3a"
             ],
             [
              0.8888888888888888,
              "#fdca26"
             ],
             [
              1,
              "#f0f921"
             ]
            ],
            "type": "histogram2d"
           }
          ],
          "histogram2dcontour": [
           {
            "colorbar": {
             "outlinewidth": 0,
             "ticks": ""
            },
            "colorscale": [
             [
              0,
              "#0d0887"
             ],
             [
              0.1111111111111111,
              "#46039f"
             ],
             [
              0.2222222222222222,
              "#7201a8"
             ],
             [
              0.3333333333333333,
              "#9c179e"
             ],
             [
              0.4444444444444444,
              "#bd3786"
             ],
             [
              0.5555555555555556,
              "#d8576b"
             ],
             [
              0.6666666666666666,
              "#ed7953"
             ],
             [
              0.7777777777777778,
              "#fb9f3a"
             ],
             [
              0.8888888888888888,
              "#fdca26"
             ],
             [
              1,
              "#f0f921"
             ]
            ],
            "type": "histogram2dcontour"
           }
          ],
          "mesh3d": [
           {
            "colorbar": {
             "outlinewidth": 0,
             "ticks": ""
            },
            "type": "mesh3d"
           }
          ],
          "parcoords": [
           {
            "line": {
             "colorbar": {
              "outlinewidth": 0,
              "ticks": ""
             }
            },
            "type": "parcoords"
           }
          ],
          "pie": [
           {
            "automargin": true,
            "type": "pie"
           }
          ],
          "scatter": [
           {
            "marker": {
             "colorbar": {
              "outlinewidth": 0,
              "ticks": ""
             }
            },
            "type": "scatter"
           }
          ],
          "scatter3d": [
           {
            "line": {
             "colorbar": {
              "outlinewidth": 0,
              "ticks": ""
             }
            },
            "marker": {
             "colorbar": {
              "outlinewidth": 0,
              "ticks": ""
             }
            },
            "type": "scatter3d"
           }
          ],
          "scattercarpet": [
           {
            "marker": {
             "colorbar": {
              "outlinewidth": 0,
              "ticks": ""
             }
            },
            "type": "scattercarpet"
           }
          ],
          "scattergeo": [
           {
            "marker": {
             "colorbar": {
              "outlinewidth": 0,
              "ticks": ""
             }
            },
            "type": "scattergeo"
           }
          ],
          "scattergl": [
           {
            "marker": {
             "colorbar": {
              "outlinewidth": 0,
              "ticks": ""
             }
            },
            "type": "scattergl"
           }
          ],
          "scattermapbox": [
           {
            "marker": {
             "colorbar": {
              "outlinewidth": 0,
              "ticks": ""
             }
            },
            "type": "scattermapbox"
           }
          ],
          "scatterpolar": [
           {
            "marker": {
             "colorbar": {
              "outlinewidth": 0,
              "ticks": ""
             }
            },
            "type": "scatterpolar"
           }
          ],
          "scatterpolargl": [
           {
            "marker": {
             "colorbar": {
              "outlinewidth": 0,
              "ticks": ""
             }
            },
            "type": "scatterpolargl"
           }
          ],
          "scatterternary": [
           {
            "marker": {
             "colorbar": {
              "outlinewidth": 0,
              "ticks": ""
             }
            },
            "type": "scatterternary"
           }
          ],
          "surface": [
           {
            "colorbar": {
             "outlinewidth": 0,
             "ticks": ""
            },
            "colorscale": [
             [
              0,
              "#0d0887"
             ],
             [
              0.1111111111111111,
              "#46039f"
             ],
             [
              0.2222222222222222,
              "#7201a8"
             ],
             [
              0.3333333333333333,
              "#9c179e"
             ],
             [
              0.4444444444444444,
              "#bd3786"
             ],
             [
              0.5555555555555556,
              "#d8576b"
             ],
             [
              0.6666666666666666,
              "#ed7953"
             ],
             [
              0.7777777777777778,
              "#fb9f3a"
             ],
             [
              0.8888888888888888,
              "#fdca26"
             ],
             [
              1,
              "#f0f921"
             ]
            ],
            "type": "surface"
           }
          ],
          "table": [
           {
            "cells": {
             "fill": {
              "color": "#EBF0F8"
             },
             "line": {
              "color": "white"
             }
            },
            "header": {
             "fill": {
              "color": "#C8D4E3"
             },
             "line": {
              "color": "white"
             }
            },
            "type": "table"
           }
          ]
         },
         "layout": {
          "annotationdefaults": {
           "arrowcolor": "#2a3f5f",
           "arrowhead": 0,
           "arrowwidth": 1
          },
          "autotypenumbers": "strict",
          "coloraxis": {
           "colorbar": {
            "outlinewidth": 0,
            "ticks": ""
           }
          },
          "colorscale": {
           "diverging": [
            [
             0,
             "#8e0152"
            ],
            [
             0.1,
             "#c51b7d"
            ],
            [
             0.2,
             "#de77ae"
            ],
            [
             0.3,
             "#f1b6da"
            ],
            [
             0.4,
             "#fde0ef"
            ],
            [
             0.5,
             "#f7f7f7"
            ],
            [
             0.6,
             "#e6f5d0"
            ],
            [
             0.7,
             "#b8e186"
            ],
            [
             0.8,
             "#7fbc41"
            ],
            [
             0.9,
             "#4d9221"
            ],
            [
             1,
             "#276419"
            ]
           ],
           "sequential": [
            [
             0,
             "#0d0887"
            ],
            [
             0.1111111111111111,
             "#46039f"
            ],
            [
             0.2222222222222222,
             "#7201a8"
            ],
            [
             0.3333333333333333,
             "#9c179e"
            ],
            [
             0.4444444444444444,
             "#bd3786"
            ],
            [
             0.5555555555555556,
             "#d8576b"
            ],
            [
             0.6666666666666666,
             "#ed7953"
            ],
            [
             0.7777777777777778,
             "#fb9f3a"
            ],
            [
             0.8888888888888888,
             "#fdca26"
            ],
            [
             1,
             "#f0f921"
            ]
           ],
           "sequentialminus": [
            [
             0,
             "#0d0887"
            ],
            [
             0.1111111111111111,
             "#46039f"
            ],
            [
             0.2222222222222222,
             "#7201a8"
            ],
            [
             0.3333333333333333,
             "#9c179e"
            ],
            [
             0.4444444444444444,
             "#bd3786"
            ],
            [
             0.5555555555555556,
             "#d8576b"
            ],
            [
             0.6666666666666666,
             "#ed7953"
            ],
            [
             0.7777777777777778,
             "#fb9f3a"
            ],
            [
             0.8888888888888888,
             "#fdca26"
            ],
            [
             1,
             "#f0f921"
            ]
           ]
          },
          "colorway": [
           "#636efa",
           "#EF553B",
           "#00cc96",
           "#ab63fa",
           "#FFA15A",
           "#19d3f3",
           "#FF6692",
           "#B6E880",
           "#FF97FF",
           "#FECB52"
          ],
          "font": {
           "color": "#2a3f5f"
          },
          "geo": {
           "bgcolor": "white",
           "lakecolor": "white",
           "landcolor": "#E5ECF6",
           "showlakes": true,
           "showland": true,
           "subunitcolor": "white"
          },
          "hoverlabel": {
           "align": "left"
          },
          "hovermode": "closest",
          "mapbox": {
           "style": "light"
          },
          "paper_bgcolor": "white",
          "plot_bgcolor": "#E5ECF6",
          "polar": {
           "angularaxis": {
            "gridcolor": "white",
            "linecolor": "white",
            "ticks": ""
           },
           "bgcolor": "#E5ECF6",
           "radialaxis": {
            "gridcolor": "white",
            "linecolor": "white",
            "ticks": ""
           }
          },
          "scene": {
           "xaxis": {
            "backgroundcolor": "#E5ECF6",
            "gridcolor": "white",
            "gridwidth": 2,
            "linecolor": "white",
            "showbackground": true,
            "ticks": "",
            "zerolinecolor": "white"
           },
           "yaxis": {
            "backgroundcolor": "#E5ECF6",
            "gridcolor": "white",
            "gridwidth": 2,
            "linecolor": "white",
            "showbackground": true,
            "ticks": "",
            "zerolinecolor": "white"
           },
           "zaxis": {
            "backgroundcolor": "#E5ECF6",
            "gridcolor": "white",
            "gridwidth": 2,
            "linecolor": "white",
            "showbackground": true,
            "ticks": "",
            "zerolinecolor": "white"
           }
          },
          "shapedefaults": {
           "line": {
            "color": "#2a3f5f"
           }
          },
          "ternary": {
           "aaxis": {
            "gridcolor": "white",
            "linecolor": "white",
            "ticks": ""
           },
           "baxis": {
            "gridcolor": "white",
            "linecolor": "white",
            "ticks": ""
           },
           "bgcolor": "#E5ECF6",
           "caxis": {
            "gridcolor": "white",
            "linecolor": "white",
            "ticks": ""
           }
          },
          "title": {
           "x": 0.05
          },
          "xaxis": {
           "automargin": true,
           "gridcolor": "white",
           "linecolor": "white",
           "ticks": "",
           "title": {
            "standoff": 15
           },
           "zerolinecolor": "white",
           "zerolinewidth": 2
          },
          "yaxis": {
           "automargin": true,
           "gridcolor": "white",
           "linecolor": "white",
           "ticks": "",
           "title": {
            "standoff": 15
           },
           "zerolinecolor": "white",
           "zerolinewidth": 2
          }
         }
        },
        "title": {
         "text": "patrick :Total Cumulative Investments Over Time"
        },
        "xaxis": {
         "title": {
          "text": "Ticker"
         }
        },
        "yaxis": {
         "title": {
          "text": "Returns"
         }
        },
        "yaxis2": {
         "overlaying": "y",
         "side": "right",
         "title": {
          "text": "Cum ROI Mult"
         }
        }
       }
      },
      "text/html": [
       "<div>                            <div id=\"9c753bb1-5366-4b3d-acb3-fe15305eb635\" class=\"plotly-graph-div\" style=\"height:525px; width:100%;\"></div>            <script type=\"text/javascript\">                require([\"plotly\"], function(Plotly) {                    window.PLOTLYENV=window.PLOTLYENV || {};                                    if (document.getElementById(\"9c753bb1-5366-4b3d-acb3-fe15305eb635\")) {                    Plotly.newPlot(                        \"9c753bb1-5366-4b3d-acb3-fe15305eb635\",                        [{\"name\":\"Cum Invst\",\"type\":\"bar\",\"x\":[\"AAPL\",\"GS\",\"LUV\",\"MSFT\",\"UNH\"],\"y\":[7951.599999999999,16084.599999999999,24958.199999999997,33107.7,41388.7]},{\"name\":\"Cum SP500 Returns\",\"type\":\"bar\",\"x\":[\"AAPL\",\"GS\",\"LUV\",\"MSFT\",\"UNH\"],\"y\":[18166.173108599687,34513.13933240608,53142.04200415023,68164.00787778306,87082.72606183583]},{\"name\":\"Cum Ticker Returns\",\"type\":\"bar\",\"x\":[\"AAPL\",\"GS\",\"LUV\",\"MSFT\",\"UNH\"],\"y\":[69133.22563171387,81878.0704498291,103568.57116699219,136972.58193969727,181647.2200012207]},{\"name\":\"Cum ROI Mult\",\"type\":\"scatter\",\"x\":[\"AAPL\",\"GS\",\"LUV\",\"MSFT\",\"UNH\"],\"y\":[8.694253437259654,5.09046357695119,4.149681113501463,4.137182043442984,4.388811922124172],\"yaxis\":\"y2\"}],                        {\"barmode\":\"group\",\"legend\":{\"x\":0.4,\"y\":1},\"template\":{\"data\":{\"bar\":[{\"error_x\":{\"color\":\"#2a3f5f\"},\"error_y\":{\"color\":\"#2a3f5f\"},\"marker\":{\"line\":{\"color\":\"#E5ECF6\",\"width\":0.5},\"pattern\":{\"fillmode\":\"overlay\",\"size\":10,\"solidity\":0.2}},\"type\":\"bar\"}],\"barpolar\":[{\"marker\":{\"line\":{\"color\":\"#E5ECF6\",\"width\":0.5},\"pattern\":{\"fillmode\":\"overlay\",\"size\":10,\"solidity\":0.2}},\"type\":\"barpolar\"}],\"carpet\":[{\"aaxis\":{\"endlinecolor\":\"#2a3f5f\",\"gridcolor\":\"white\",\"linecolor\":\"white\",\"minorgridcolor\":\"white\",\"startlinecolor\":\"#2a3f5f\"},\"baxis\":{\"endlinecolor\":\"#2a3f5f\",\"gridcolor\":\"white\",\"linecolor\":\"white\",\"minorgridcolor\":\"white\",\"startlinecolor\":\"#2a3f5f\"},\"type\":\"carpet\"}],\"choropleth\":[{\"colorbar\":{\"outlinewidth\":0,\"ticks\":\"\"},\"type\":\"choropleth\"}],\"contour\":[{\"colorbar\":{\"outlinewidth\":0,\"ticks\":\"\"},\"colorscale\":[[0.0,\"#0d0887\"],[0.1111111111111111,\"#46039f\"],[0.2222222222222222,\"#7201a8\"],[0.3333333333333333,\"#9c179e\"],[0.4444444444444444,\"#bd3786\"],[0.5555555555555556,\"#d8576b\"],[0.6666666666666666,\"#ed7953\"],[0.7777777777777778,\"#fb9f3a\"],[0.8888888888888888,\"#fdca26\"],[1.0,\"#f0f921\"]],\"type\":\"contour\"}],\"contourcarpet\":[{\"colorbar\":{\"outlinewidth\":0,\"ticks\":\"\"},\"type\":\"contourcarpet\"}],\"heatmap\":[{\"colorbar\":{\"outlinewidth\":0,\"ticks\":\"\"},\"colorscale\":[[0.0,\"#0d0887\"],[0.1111111111111111,\"#46039f\"],[0.2222222222222222,\"#7201a8\"],[0.3333333333333333,\"#9c179e\"],[0.4444444444444444,\"#bd3786\"],[0.5555555555555556,\"#d8576b\"],[0.6666666666666666,\"#ed7953\"],[0.7777777777777778,\"#fb9f3a\"],[0.8888888888888888,\"#fdca26\"],[1.0,\"#f0f921\"]],\"type\":\"heatmap\"}],\"heatmapgl\":[{\"colorbar\":{\"outlinewidth\":0,\"ticks\":\"\"},\"colorscale\":[[0.0,\"#0d0887\"],[0.1111111111111111,\"#46039f\"],[0.2222222222222222,\"#7201a8\"],[0.3333333333333333,\"#9c179e\"],[0.4444444444444444,\"#bd3786\"],[0.5555555555555556,\"#d8576b\"],[0.6666666666666666,\"#ed7953\"],[0.7777777777777778,\"#fb9f3a\"],[0.8888888888888888,\"#fdca26\"],[1.0,\"#f0f921\"]],\"type\":\"heatmapgl\"}],\"histogram\":[{\"marker\":{\"pattern\":{\"fillmode\":\"overlay\",\"size\":10,\"solidity\":0.2}},\"type\":\"histogram\"}],\"histogram2d\":[{\"colorbar\":{\"outlinewidth\":0,\"ticks\":\"\"},\"colorscale\":[[0.0,\"#0d0887\"],[0.1111111111111111,\"#46039f\"],[0.2222222222222222,\"#7201a8\"],[0.3333333333333333,\"#9c179e\"],[0.4444444444444444,\"#bd3786\"],[0.5555555555555556,\"#d8576b\"],[0.6666666666666666,\"#ed7953\"],[0.7777777777777778,\"#fb9f3a\"],[0.8888888888888888,\"#fdca26\"],[1.0,\"#f0f921\"]],\"type\":\"histogram2d\"}],\"histogram2dcontour\":[{\"colorbar\":{\"outlinewidth\":0,\"ticks\":\"\"},\"colorscale\":[[0.0,\"#0d0887\"],[0.1111111111111111,\"#46039f\"],[0.2222222222222222,\"#7201a8\"],[0.3333333333333333,\"#9c179e\"],[0.4444444444444444,\"#bd3786\"],[0.5555555555555556,\"#d8576b\"],[0.6666666666666666,\"#ed7953\"],[0.7777777777777778,\"#fb9f3a\"],[0.8888888888888888,\"#fdca26\"],[1.0,\"#f0f921\"]],\"type\":\"histogram2dcontour\"}],\"mesh3d\":[{\"colorbar\":{\"outlinewidth\":0,\"ticks\":\"\"},\"type\":\"mesh3d\"}],\"parcoords\":[{\"line\":{\"colorbar\":{\"outlinewidth\":0,\"ticks\":\"\"}},\"type\":\"parcoords\"}],\"pie\":[{\"automargin\":true,\"type\":\"pie\"}],\"scatter\":[{\"marker\":{\"colorbar\":{\"outlinewidth\":0,\"ticks\":\"\"}},\"type\":\"scatter\"}],\"scatter3d\":[{\"line\":{\"colorbar\":{\"outlinewidth\":0,\"ticks\":\"\"}},\"marker\":{\"colorbar\":{\"outlinewidth\":0,\"ticks\":\"\"}},\"type\":\"scatter3d\"}],\"scattercarpet\":[{\"marker\":{\"colorbar\":{\"outlinewidth\":0,\"ticks\":\"\"}},\"type\":\"scattercarpet\"}],\"scattergeo\":[{\"marker\":{\"colorbar\":{\"outlinewidth\":0,\"ticks\":\"\"}},\"type\":\"scattergeo\"}],\"scattergl\":[{\"marker\":{\"colorbar\":{\"outlinewidth\":0,\"ticks\":\"\"}},\"type\":\"scattergl\"}],\"scattermapbox\":[{\"marker\":{\"colorbar\":{\"outlinewidth\":0,\"ticks\":\"\"}},\"type\":\"scattermapbox\"}],\"scatterpolar\":[{\"marker\":{\"colorbar\":{\"outlinewidth\":0,\"ticks\":\"\"}},\"type\":\"scatterpolar\"}],\"scatterpolargl\":[{\"marker\":{\"colorbar\":{\"outlinewidth\":0,\"ticks\":\"\"}},\"type\":\"scatterpolargl\"}],\"scatterternary\":[{\"marker\":{\"colorbar\":{\"outlinewidth\":0,\"ticks\":\"\"}},\"type\":\"scatterternary\"}],\"surface\":[{\"colorbar\":{\"outlinewidth\":0,\"ticks\":\"\"},\"colorscale\":[[0.0,\"#0d0887\"],[0.1111111111111111,\"#46039f\"],[0.2222222222222222,\"#7201a8\"],[0.3333333333333333,\"#9c179e\"],[0.4444444444444444,\"#bd3786\"],[0.5555555555555556,\"#d8576b\"],[0.6666666666666666,\"#ed7953\"],[0.7777777777777778,\"#fb9f3a\"],[0.8888888888888888,\"#fdca26\"],[1.0,\"#f0f921\"]],\"type\":\"surface\"}],\"table\":[{\"cells\":{\"fill\":{\"color\":\"#EBF0F8\"},\"line\":{\"color\":\"white\"}},\"header\":{\"fill\":{\"color\":\"#C8D4E3\"},\"line\":{\"color\":\"white\"}},\"type\":\"table\"}]},\"layout\":{\"annotationdefaults\":{\"arrowcolor\":\"#2a3f5f\",\"arrowhead\":0,\"arrowwidth\":1},\"autotypenumbers\":\"strict\",\"coloraxis\":{\"colorbar\":{\"outlinewidth\":0,\"ticks\":\"\"}},\"colorscale\":{\"diverging\":[[0,\"#8e0152\"],[0.1,\"#c51b7d\"],[0.2,\"#de77ae\"],[0.3,\"#f1b6da\"],[0.4,\"#fde0ef\"],[0.5,\"#f7f7f7\"],[0.6,\"#e6f5d0\"],[0.7,\"#b8e186\"],[0.8,\"#7fbc41\"],[0.9,\"#4d9221\"],[1,\"#276419\"]],\"sequential\":[[0.0,\"#0d0887\"],[0.1111111111111111,\"#46039f\"],[0.2222222222222222,\"#7201a8\"],[0.3333333333333333,\"#9c179e\"],[0.4444444444444444,\"#bd3786\"],[0.5555555555555556,\"#d8576b\"],[0.6666666666666666,\"#ed7953\"],[0.7777777777777778,\"#fb9f3a\"],[0.8888888888888888,\"#fdca26\"],[1.0,\"#f0f921\"]],\"sequentialminus\":[[0.0,\"#0d0887\"],[0.1111111111111111,\"#46039f\"],[0.2222222222222222,\"#7201a8\"],[0.3333333333333333,\"#9c179e\"],[0.4444444444444444,\"#bd3786\"],[0.5555555555555556,\"#d8576b\"],[0.6666666666666666,\"#ed7953\"],[0.7777777777777778,\"#fb9f3a\"],[0.8888888888888888,\"#fdca26\"],[1.0,\"#f0f921\"]]},\"colorway\":[\"#636efa\",\"#EF553B\",\"#00cc96\",\"#ab63fa\",\"#FFA15A\",\"#19d3f3\",\"#FF6692\",\"#B6E880\",\"#FF97FF\",\"#FECB52\"],\"font\":{\"color\":\"#2a3f5f\"},\"geo\":{\"bgcolor\":\"white\",\"lakecolor\":\"white\",\"landcolor\":\"#E5ECF6\",\"showlakes\":true,\"showland\":true,\"subunitcolor\":\"white\"},\"hoverlabel\":{\"align\":\"left\"},\"hovermode\":\"closest\",\"mapbox\":{\"style\":\"light\"},\"paper_bgcolor\":\"white\",\"plot_bgcolor\":\"#E5ECF6\",\"polar\":{\"angularaxis\":{\"gridcolor\":\"white\",\"linecolor\":\"white\",\"ticks\":\"\"},\"bgcolor\":\"#E5ECF6\",\"radialaxis\":{\"gridcolor\":\"white\",\"linecolor\":\"white\",\"ticks\":\"\"}},\"scene\":{\"xaxis\":{\"backgroundcolor\":\"#E5ECF6\",\"gridcolor\":\"white\",\"gridwidth\":2,\"linecolor\":\"white\",\"showbackground\":true,\"ticks\":\"\",\"zerolinecolor\":\"white\"},\"yaxis\":{\"backgroundcolor\":\"#E5ECF6\",\"gridcolor\":\"white\",\"gridwidth\":2,\"linecolor\":\"white\",\"showbackground\":true,\"ticks\":\"\",\"zerolinecolor\":\"white\"},\"zaxis\":{\"backgroundcolor\":\"#E5ECF6\",\"gridcolor\":\"white\",\"gridwidth\":2,\"linecolor\":\"white\",\"showbackground\":true,\"ticks\":\"\",\"zerolinecolor\":\"white\"}},\"shapedefaults\":{\"line\":{\"color\":\"#2a3f5f\"}},\"ternary\":{\"aaxis\":{\"gridcolor\":\"white\",\"linecolor\":\"white\",\"ticks\":\"\"},\"baxis\":{\"gridcolor\":\"white\",\"linecolor\":\"white\",\"ticks\":\"\"},\"bgcolor\":\"#E5ECF6\",\"caxis\":{\"gridcolor\":\"white\",\"linecolor\":\"white\",\"ticks\":\"\"}},\"title\":{\"x\":0.05},\"xaxis\":{\"automargin\":true,\"gridcolor\":\"white\",\"linecolor\":\"white\",\"ticks\":\"\",\"title\":{\"standoff\":15},\"zerolinecolor\":\"white\",\"zerolinewidth\":2},\"yaxis\":{\"automargin\":true,\"gridcolor\":\"white\",\"linecolor\":\"white\",\"ticks\":\"\",\"title\":{\"standoff\":15},\"zerolinecolor\":\"white\",\"zerolinewidth\":2}}},\"title\":{\"text\":\"patrick :Total Cumulative Investments Over Time\"},\"xaxis\":{\"title\":{\"text\":\"Ticker\"}},\"yaxis\":{\"title\":{\"text\":\"Returns\"}},\"yaxis2\":{\"overlaying\":\"y\",\"side\":\"right\",\"title\":{\"text\":\"Cum ROI Mult\"}}},                        {\"responsive\": true}                    ).then(function(){\n",
       "                            \n",
       "var gd = document.getElementById('9c753bb1-5366-4b3d-acb3-fe15305eb635');\n",
       "var x = new MutationObserver(function (mutations, observer) {{\n",
       "        var display = window.getComputedStyle(gd).display;\n",
       "        if (!display || display === 'none') {{\n",
       "            console.log([gd, 'removed!']);\n",
       "            Plotly.purge(gd);\n",
       "            observer.disconnect();\n",
       "        }}\n",
       "}});\n",
       "\n",
       "// Listen for the removal of the full notebook cells\n",
       "var notebookContainer = gd.closest('#notebook-container');\n",
       "if (notebookContainer) {{\n",
       "    x.observe(notebookContainer, {childList: true});\n",
       "}}\n",
       "\n",
       "// Listen for the clearing of the current output cell\n",
       "var outputEl = gd.closest('.output');\n",
       "if (outputEl) {{\n",
       "    x.observe(outputEl, {childList: true});\n",
       "}}\n",
       "\n",
       "                        })                };                });            </script>        </div>"
      ]
     },
     "metadata": {},
     "output_type": "display_data"
    }
   ],
   "source": [
    "trace1 = go.Bar(\n",
    "    x = merged_portfolio_sp_latest_YTD_sp_closing_high['Ticker'],\n",
    "    y = merged_portfolio_sp_latest_YTD_sp_closing_high['Cum Invst'],\n",
    "    # mode = 'lines+markers',\n",
    "    name = 'Cum Invst')\n",
    "\n",
    "trace2 = go.Bar(\n",
    "    x = merged_portfolio_sp_latest_YTD_sp_closing_high['Ticker'],\n",
    "    y = merged_portfolio_sp_latest_YTD_sp_closing_high['Cum SP Returns'],\n",
    "    # mode = 'lines+markers',\n",
    "    name = 'Cum SP500 Returns')\n",
    "\n",
    "trace3 = go.Bar(\n",
    "    x = merged_portfolio_sp_latest_YTD_sp_closing_high['Ticker'],\n",
    "    y = merged_portfolio_sp_latest_YTD_sp_closing_high['Cum Ticker Returns'],\n",
    "    # mode = 'lines+markers',\n",
    "    name = 'Cum Ticker Returns')\n",
    "\n",
    "trace4 = go.Scatter(\n",
    "    x = merged_portfolio_sp_latest_YTD_sp_closing_high['Ticker'],\n",
    "    y = merged_portfolio_sp_latest_YTD_sp_closing_high['Cum Ticker ROI Mult'],\n",
    "    # mode = 'lines+markers',\n",
    "    name = 'Cum ROI Mult'\n",
    "    , yaxis='y2')\n",
    "\n",
    "\n",
    "data = [trace1, trace2, trace3, trace4]\n",
    "\n",
    "layout = go.Layout(title = 'patrick :Total Cumulative Investments Over Time'\n",
    "    , barmode = 'group'\n",
    "    , yaxis=dict(title='Returns')\n",
    "    , xaxis=dict(title='Ticker')\n",
    "    , legend=dict(x=.4,y=1)\n",
    "    , yaxis2=dict(title='Cum ROI Mult', overlaying='y', side='right')               \n",
    "    )\n",
    "\n",
    "fig = go.Figure(data=data, layout=layout)\n",
    "iplot(fig)"
   ]
  },
  {
   "cell_type": "code",
   "execution_count": 395,
   "metadata": {
    "collapsed": true
   },
   "outputs": [
    {
     "data": {
      "application/vnd.plotly.v1+json": {
       "config": {
        "linkText": "Export to plot.ly",
        "plotlyServerURL": "https://plot.ly",
        "showLink": false
       },
       "data": [
        {
         "name": "Cum Invst",
         "type": "bar",
         "x": [
          "AAPL",
          "AMZN",
          "GOOG",
          "MSFT",
          "UNH"
         ],
         "y": [
          7951.599999999999,
          16882.1,
          24914.6,
          33064.1,
          41345.1
         ]
        },
        {
         "name": "Cum SP500 Returns",
         "type": "bar",
         "x": [
          "AAPL",
          "AMZN",
          "GOOG",
          "MSFT",
          "UNH"
         ],
         "y": [
          18166.173108599687,
          36116.07866149566,
          52979.20757318707,
          68001.1734468199,
          86919.89163087268
         ]
        },
        {
         "name": "Cum Ticker Returns",
         "type": "bar",
         "x": [
          "AAPL",
          "AMZN",
          "GOOG",
          "MSFT",
          "UNH"
         ],
         "y": [
          69133.22563171387,
          152183.22563171387,
          178564.02519226074,
          211968.03367614746,
          256642.6717376709
         ]
        },
        {
         "name": "Cum ROI Mult",
         "type": "scatter",
         "x": [
          "AAPL",
          "AMZN",
          "GOOG",
          "MSFT",
          "UNH"
         ],
         "y": [
          8.694253437259654,
          9.014472466797015,
          7.167043628726159,
          6.410821213223631,
          6.2073298102476695
         ],
         "yaxis": "y2"
        }
       ],
       "layout": {
        "barmode": "group",
        "legend": {
         "x": 0.4,
         "y": 1
        },
        "template": {
         "data": {
          "bar": [
           {
            "error_x": {
             "color": "#2a3f5f"
            },
            "error_y": {
             "color": "#2a3f5f"
            },
            "marker": {
             "line": {
              "color": "#E5ECF6",
              "width": 0.5
             },
             "pattern": {
              "fillmode": "overlay",
              "size": 10,
              "solidity": 0.2
             }
            },
            "type": "bar"
           }
          ],
          "barpolar": [
           {
            "marker": {
             "line": {
              "color": "#E5ECF6",
              "width": 0.5
             },
             "pattern": {
              "fillmode": "overlay",
              "size": 10,
              "solidity": 0.2
             }
            },
            "type": "barpolar"
           }
          ],
          "carpet": [
           {
            "aaxis": {
             "endlinecolor": "#2a3f5f",
             "gridcolor": "white",
             "linecolor": "white",
             "minorgridcolor": "white",
             "startlinecolor": "#2a3f5f"
            },
            "baxis": {
             "endlinecolor": "#2a3f5f",
             "gridcolor": "white",
             "linecolor": "white",
             "minorgridcolor": "white",
             "startlinecolor": "#2a3f5f"
            },
            "type": "carpet"
           }
          ],
          "choropleth": [
           {
            "colorbar": {
             "outlinewidth": 0,
             "ticks": ""
            },
            "type": "choropleth"
           }
          ],
          "contour": [
           {
            "colorbar": {
             "outlinewidth": 0,
             "ticks": ""
            },
            "colorscale": [
             [
              0,
              "#0d0887"
             ],
             [
              0.1111111111111111,
              "#46039f"
             ],
             [
              0.2222222222222222,
              "#7201a8"
             ],
             [
              0.3333333333333333,
              "#9c179e"
             ],
             [
              0.4444444444444444,
              "#bd3786"
             ],
             [
              0.5555555555555556,
              "#d8576b"
             ],
             [
              0.6666666666666666,
              "#ed7953"
             ],
             [
              0.7777777777777778,
              "#fb9f3a"
             ],
             [
              0.8888888888888888,
              "#fdca26"
             ],
             [
              1,
              "#f0f921"
             ]
            ],
            "type": "contour"
           }
          ],
          "contourcarpet": [
           {
            "colorbar": {
             "outlinewidth": 0,
             "ticks": ""
            },
            "type": "contourcarpet"
           }
          ],
          "heatmap": [
           {
            "colorbar": {
             "outlinewidth": 0,
             "ticks": ""
            },
            "colorscale": [
             [
              0,
              "#0d0887"
             ],
             [
              0.1111111111111111,
              "#46039f"
             ],
             [
              0.2222222222222222,
              "#7201a8"
             ],
             [
              0.3333333333333333,
              "#9c179e"
             ],
             [
              0.4444444444444444,
              "#bd3786"
             ],
             [
              0.5555555555555556,
              "#d8576b"
             ],
             [
              0.6666666666666666,
              "#ed7953"
             ],
             [
              0.7777777777777778,
              "#fb9f3a"
             ],
             [
              0.8888888888888888,
              "#fdca26"
             ],
             [
              1,
              "#f0f921"
             ]
            ],
            "type": "heatmap"
           }
          ],
          "heatmapgl": [
           {
            "colorbar": {
             "outlinewidth": 0,
             "ticks": ""
            },
            "colorscale": [
             [
              0,
              "#0d0887"
             ],
             [
              0.1111111111111111,
              "#46039f"
             ],
             [
              0.2222222222222222,
              "#7201a8"
             ],
             [
              0.3333333333333333,
              "#9c179e"
             ],
             [
              0.4444444444444444,
              "#bd3786"
             ],
             [
              0.5555555555555556,
              "#d8576b"
             ],
             [
              0.6666666666666666,
              "#ed7953"
             ],
             [
              0.7777777777777778,
              "#fb9f3a"
             ],
             [
              0.8888888888888888,
              "#fdca26"
             ],
             [
              1,
              "#f0f921"
             ]
            ],
            "type": "heatmapgl"
           }
          ],
          "histogram": [
           {
            "marker": {
             "pattern": {
              "fillmode": "overlay",
              "size": 10,
              "solidity": 0.2
             }
            },
            "type": "histogram"
           }
          ],
          "histogram2d": [
           {
            "colorbar": {
             "outlinewidth": 0,
             "ticks": ""
            },
            "colorscale": [
             [
              0,
              "#0d0887"
             ],
             [
              0.1111111111111111,
              "#46039f"
             ],
             [
              0.2222222222222222,
              "#7201a8"
             ],
             [
              0.3333333333333333,
              "#9c179e"
             ],
             [
              0.4444444444444444,
              "#bd3786"
             ],
             [
              0.5555555555555556,
              "#d8576b"
             ],
             [
              0.6666666666666666,
              "#ed7953"
             ],
             [
              0.7777777777777778,
              "#fb9f3a"
             ],
             [
              0.8888888888888888,
              "#fdca26"
             ],
             [
              1,
              "#f0f921"
             ]
            ],
            "type": "histogram2d"
           }
          ],
          "histogram2dcontour": [
           {
            "colorbar": {
             "outlinewidth": 0,
             "ticks": ""
            },
            "colorscale": [
             [
              0,
              "#0d0887"
             ],
             [
              0.1111111111111111,
              "#46039f"
             ],
             [
              0.2222222222222222,
              "#7201a8"
             ],
             [
              0.3333333333333333,
              "#9c179e"
             ],
             [
              0.4444444444444444,
              "#bd3786"
             ],
             [
              0.5555555555555556,
              "#d8576b"
             ],
             [
              0.6666666666666666,
              "#ed7953"
             ],
             [
              0.7777777777777778,
              "#fb9f3a"
             ],
             [
              0.8888888888888888,
              "#fdca26"
             ],
             [
              1,
              "#f0f921"
             ]
            ],
            "type": "histogram2dcontour"
           }
          ],
          "mesh3d": [
           {
            "colorbar": {
             "outlinewidth": 0,
             "ticks": ""
            },
            "type": "mesh3d"
           }
          ],
          "parcoords": [
           {
            "line": {
             "colorbar": {
              "outlinewidth": 0,
              "ticks": ""
             }
            },
            "type": "parcoords"
           }
          ],
          "pie": [
           {
            "automargin": true,
            "type": "pie"
           }
          ],
          "scatter": [
           {
            "marker": {
             "colorbar": {
              "outlinewidth": 0,
              "ticks": ""
             }
            },
            "type": "scatter"
           }
          ],
          "scatter3d": [
           {
            "line": {
             "colorbar": {
              "outlinewidth": 0,
              "ticks": ""
             }
            },
            "marker": {
             "colorbar": {
              "outlinewidth": 0,
              "ticks": ""
             }
            },
            "type": "scatter3d"
           }
          ],
          "scattercarpet": [
           {
            "marker": {
             "colorbar": {
              "outlinewidth": 0,
              "ticks": ""
             }
            },
            "type": "scattercarpet"
           }
          ],
          "scattergeo": [
           {
            "marker": {
             "colorbar": {
              "outlinewidth": 0,
              "ticks": ""
             }
            },
            "type": "scattergeo"
           }
          ],
          "scattergl": [
           {
            "marker": {
             "colorbar": {
              "outlinewidth": 0,
              "ticks": ""
             }
            },
            "type": "scattergl"
           }
          ],
          "scattermapbox": [
           {
            "marker": {
             "colorbar": {
              "outlinewidth": 0,
              "ticks": ""
             }
            },
            "type": "scattermapbox"
           }
          ],
          "scatterpolar": [
           {
            "marker": {
             "colorbar": {
              "outlinewidth": 0,
              "ticks": ""
             }
            },
            "type": "scatterpolar"
           }
          ],
          "scatterpolargl": [
           {
            "marker": {
             "colorbar": {
              "outlinewidth": 0,
              "ticks": ""
             }
            },
            "type": "scatterpolargl"
           }
          ],
          "scatterternary": [
           {
            "marker": {
             "colorbar": {
              "outlinewidth": 0,
              "ticks": ""
             }
            },
            "type": "scatterternary"
           }
          ],
          "surface": [
           {
            "colorbar": {
             "outlinewidth": 0,
             "ticks": ""
            },
            "colorscale": [
             [
              0,
              "#0d0887"
             ],
             [
              0.1111111111111111,
              "#46039f"
             ],
             [
              0.2222222222222222,
              "#7201a8"
             ],
             [
              0.3333333333333333,
              "#9c179e"
             ],
             [
              0.4444444444444444,
              "#bd3786"
             ],
             [
              0.5555555555555556,
              "#d8576b"
             ],
             [
              0.6666666666666666,
              "#ed7953"
             ],
             [
              0.7777777777777778,
              "#fb9f3a"
             ],
             [
              0.8888888888888888,
              "#fdca26"
             ],
             [
              1,
              "#f0f921"
             ]
            ],
            "type": "surface"
           }
          ],
          "table": [
           {
            "cells": {
             "fill": {
              "color": "#EBF0F8"
             },
             "line": {
              "color": "white"
             }
            },
            "header": {
             "fill": {
              "color": "#C8D4E3"
             },
             "line": {
              "color": "white"
             }
            },
            "type": "table"
           }
          ]
         },
         "layout": {
          "annotationdefaults": {
           "arrowcolor": "#2a3f5f",
           "arrowhead": 0,
           "arrowwidth": 1
          },
          "autotypenumbers": "strict",
          "coloraxis": {
           "colorbar": {
            "outlinewidth": 0,
            "ticks": ""
           }
          },
          "colorscale": {
           "diverging": [
            [
             0,
             "#8e0152"
            ],
            [
             0.1,
             "#c51b7d"
            ],
            [
             0.2,
             "#de77ae"
            ],
            [
             0.3,
             "#f1b6da"
            ],
            [
             0.4,
             "#fde0ef"
            ],
            [
             0.5,
             "#f7f7f7"
            ],
            [
             0.6,
             "#e6f5d0"
            ],
            [
             0.7,
             "#b8e186"
            ],
            [
             0.8,
             "#7fbc41"
            ],
            [
             0.9,
             "#4d9221"
            ],
            [
             1,
             "#276419"
            ]
           ],
           "sequential": [
            [
             0,
             "#0d0887"
            ],
            [
             0.1111111111111111,
             "#46039f"
            ],
            [
             0.2222222222222222,
             "#7201a8"
            ],
            [
             0.3333333333333333,
             "#9c179e"
            ],
            [
             0.4444444444444444,
             "#bd3786"
            ],
            [
             0.5555555555555556,
             "#d8576b"
            ],
            [
             0.6666666666666666,
             "#ed7953"
            ],
            [
             0.7777777777777778,
             "#fb9f3a"
            ],
            [
             0.8888888888888888,
             "#fdca26"
            ],
            [
             1,
             "#f0f921"
            ]
           ],
           "sequentialminus": [
            [
             0,
             "#0d0887"
            ],
            [
             0.1111111111111111,
             "#46039f"
            ],
            [
             0.2222222222222222,
             "#7201a8"
            ],
            [
             0.3333333333333333,
             "#9c179e"
            ],
            [
             0.4444444444444444,
             "#bd3786"
            ],
            [
             0.5555555555555556,
             "#d8576b"
            ],
            [
             0.6666666666666666,
             "#ed7953"
            ],
            [
             0.7777777777777778,
             "#fb9f3a"
            ],
            [
             0.8888888888888888,
             "#fdca26"
            ],
            [
             1,
             "#f0f921"
            ]
           ]
          },
          "colorway": [
           "#636efa",
           "#EF553B",
           "#00cc96",
           "#ab63fa",
           "#FFA15A",
           "#19d3f3",
           "#FF6692",
           "#B6E880",
           "#FF97FF",
           "#FECB52"
          ],
          "font": {
           "color": "#2a3f5f"
          },
          "geo": {
           "bgcolor": "white",
           "lakecolor": "white",
           "landcolor": "#E5ECF6",
           "showlakes": true,
           "showland": true,
           "subunitcolor": "white"
          },
          "hoverlabel": {
           "align": "left"
          },
          "hovermode": "closest",
          "mapbox": {
           "style": "light"
          },
          "paper_bgcolor": "white",
          "plot_bgcolor": "#E5ECF6",
          "polar": {
           "angularaxis": {
            "gridcolor": "white",
            "linecolor": "white",
            "ticks": ""
           },
           "bgcolor": "#E5ECF6",
           "radialaxis": {
            "gridcolor": "white",
            "linecolor": "white",
            "ticks": ""
           }
          },
          "scene": {
           "xaxis": {
            "backgroundcolor": "#E5ECF6",
            "gridcolor": "white",
            "gridwidth": 2,
            "linecolor": "white",
            "showbackground": true,
            "ticks": "",
            "zerolinecolor": "white"
           },
           "yaxis": {
            "backgroundcolor": "#E5ECF6",
            "gridcolor": "white",
            "gridwidth": 2,
            "linecolor": "white",
            "showbackground": true,
            "ticks": "",
            "zerolinecolor": "white"
           },
           "zaxis": {
            "backgroundcolor": "#E5ECF6",
            "gridcolor": "white",
            "gridwidth": 2,
            "linecolor": "white",
            "showbackground": true,
            "ticks": "",
            "zerolinecolor": "white"
           }
          },
          "shapedefaults": {
           "line": {
            "color": "#2a3f5f"
           }
          },
          "ternary": {
           "aaxis": {
            "gridcolor": "white",
            "linecolor": "white",
            "ticks": ""
           },
           "baxis": {
            "gridcolor": "white",
            "linecolor": "white",
            "ticks": ""
           },
           "bgcolor": "#E5ECF6",
           "caxis": {
            "gridcolor": "white",
            "linecolor": "white",
            "ticks": ""
           }
          },
          "title": {
           "x": 0.05
          },
          "xaxis": {
           "automargin": true,
           "gridcolor": "white",
           "linecolor": "white",
           "ticks": "",
           "title": {
            "standoff": 15
           },
           "zerolinecolor": "white",
           "zerolinewidth": 2
          },
          "yaxis": {
           "automargin": true,
           "gridcolor": "white",
           "linecolor": "white",
           "ticks": "",
           "title": {
            "standoff": 15
           },
           "zerolinecolor": "white",
           "zerolinewidth": 2
          }
         }
        },
        "title": {
         "text": "peter :Total Cumulative Investments Over Time"
        },
        "xaxis": {
         "title": {
          "text": "Ticker"
         }
        },
        "yaxis": {
         "title": {
          "text": "Returns"
         }
        },
        "yaxis2": {
         "overlaying": "y",
         "side": "right",
         "title": {
          "text": "Cum ROI Mult"
         }
        }
       }
      },
      "text/html": [
       "<div>                            <div id=\"ade982f2-c6c8-4ca4-ad00-94f87e0ba210\" class=\"plotly-graph-div\" style=\"height:525px; width:100%;\"></div>            <script type=\"text/javascript\">                require([\"plotly\"], function(Plotly) {                    window.PLOTLYENV=window.PLOTLYENV || {};                                    if (document.getElementById(\"ade982f2-c6c8-4ca4-ad00-94f87e0ba210\")) {                    Plotly.newPlot(                        \"ade982f2-c6c8-4ca4-ad00-94f87e0ba210\",                        [{\"name\":\"Cum Invst\",\"type\":\"bar\",\"x\":[\"AAPL\",\"AMZN\",\"GOOG\",\"MSFT\",\"UNH\"],\"y\":[7951.599999999999,16882.1,24914.6,33064.1,41345.1]},{\"name\":\"Cum SP500 Returns\",\"type\":\"bar\",\"x\":[\"AAPL\",\"AMZN\",\"GOOG\",\"MSFT\",\"UNH\"],\"y\":[18166.173108599687,36116.07866149566,52979.20757318707,68001.1734468199,86919.89163087268]},{\"name\":\"Cum Ticker Returns\",\"type\":\"bar\",\"x\":[\"AAPL\",\"AMZN\",\"GOOG\",\"MSFT\",\"UNH\"],\"y\":[69133.22563171387,152183.22563171387,178564.02519226074,211968.03367614746,256642.6717376709]},{\"name\":\"Cum ROI Mult\",\"type\":\"scatter\",\"x\":[\"AAPL\",\"AMZN\",\"GOOG\",\"MSFT\",\"UNH\"],\"y\":[8.694253437259654,9.014472466797015,7.167043628726159,6.410821213223631,6.2073298102476695],\"yaxis\":\"y2\"}],                        {\"barmode\":\"group\",\"legend\":{\"x\":0.4,\"y\":1},\"template\":{\"data\":{\"bar\":[{\"error_x\":{\"color\":\"#2a3f5f\"},\"error_y\":{\"color\":\"#2a3f5f\"},\"marker\":{\"line\":{\"color\":\"#E5ECF6\",\"width\":0.5},\"pattern\":{\"fillmode\":\"overlay\",\"size\":10,\"solidity\":0.2}},\"type\":\"bar\"}],\"barpolar\":[{\"marker\":{\"line\":{\"color\":\"#E5ECF6\",\"width\":0.5},\"pattern\":{\"fillmode\":\"overlay\",\"size\":10,\"solidity\":0.2}},\"type\":\"barpolar\"}],\"carpet\":[{\"aaxis\":{\"endlinecolor\":\"#2a3f5f\",\"gridcolor\":\"white\",\"linecolor\":\"white\",\"minorgridcolor\":\"white\",\"startlinecolor\":\"#2a3f5f\"},\"baxis\":{\"endlinecolor\":\"#2a3f5f\",\"gridcolor\":\"white\",\"linecolor\":\"white\",\"minorgridcolor\":\"white\",\"startlinecolor\":\"#2a3f5f\"},\"type\":\"carpet\"}],\"choropleth\":[{\"colorbar\":{\"outlinewidth\":0,\"ticks\":\"\"},\"type\":\"choropleth\"}],\"contour\":[{\"colorbar\":{\"outlinewidth\":0,\"ticks\":\"\"},\"colorscale\":[[0.0,\"#0d0887\"],[0.1111111111111111,\"#46039f\"],[0.2222222222222222,\"#7201a8\"],[0.3333333333333333,\"#9c179e\"],[0.4444444444444444,\"#bd3786\"],[0.5555555555555556,\"#d8576b\"],[0.6666666666666666,\"#ed7953\"],[0.7777777777777778,\"#fb9f3a\"],[0.8888888888888888,\"#fdca26\"],[1.0,\"#f0f921\"]],\"type\":\"contour\"}],\"contourcarpet\":[{\"colorbar\":{\"outlinewidth\":0,\"ticks\":\"\"},\"type\":\"contourcarpet\"}],\"heatmap\":[{\"colorbar\":{\"outlinewidth\":0,\"ticks\":\"\"},\"colorscale\":[[0.0,\"#0d0887\"],[0.1111111111111111,\"#46039f\"],[0.2222222222222222,\"#7201a8\"],[0.3333333333333333,\"#9c179e\"],[0.4444444444444444,\"#bd3786\"],[0.5555555555555556,\"#d8576b\"],[0.6666666666666666,\"#ed7953\"],[0.7777777777777778,\"#fb9f3a\"],[0.8888888888888888,\"#fdca26\"],[1.0,\"#f0f921\"]],\"type\":\"heatmap\"}],\"heatmapgl\":[{\"colorbar\":{\"outlinewidth\":0,\"ticks\":\"\"},\"colorscale\":[[0.0,\"#0d0887\"],[0.1111111111111111,\"#46039f\"],[0.2222222222222222,\"#7201a8\"],[0.3333333333333333,\"#9c179e\"],[0.4444444444444444,\"#bd3786\"],[0.5555555555555556,\"#d8576b\"],[0.6666666666666666,\"#ed7953\"],[0.7777777777777778,\"#fb9f3a\"],[0.8888888888888888,\"#fdca26\"],[1.0,\"#f0f921\"]],\"type\":\"heatmapgl\"}],\"histogram\":[{\"marker\":{\"pattern\":{\"fillmode\":\"overlay\",\"size\":10,\"solidity\":0.2}},\"type\":\"histogram\"}],\"histogram2d\":[{\"colorbar\":{\"outlinewidth\":0,\"ticks\":\"\"},\"colorscale\":[[0.0,\"#0d0887\"],[0.1111111111111111,\"#46039f\"],[0.2222222222222222,\"#7201a8\"],[0.3333333333333333,\"#9c179e\"],[0.4444444444444444,\"#bd3786\"],[0.5555555555555556,\"#d8576b\"],[0.6666666666666666,\"#ed7953\"],[0.7777777777777778,\"#fb9f3a\"],[0.8888888888888888,\"#fdca26\"],[1.0,\"#f0f921\"]],\"type\":\"histogram2d\"}],\"histogram2dcontour\":[{\"colorbar\":{\"outlinewidth\":0,\"ticks\":\"\"},\"colorscale\":[[0.0,\"#0d0887\"],[0.1111111111111111,\"#46039f\"],[0.2222222222222222,\"#7201a8\"],[0.3333333333333333,\"#9c179e\"],[0.4444444444444444,\"#bd3786\"],[0.5555555555555556,\"#d8576b\"],[0.6666666666666666,\"#ed7953\"],[0.7777777777777778,\"#fb9f3a\"],[0.8888888888888888,\"#fdca26\"],[1.0,\"#f0f921\"]],\"type\":\"histogram2dcontour\"}],\"mesh3d\":[{\"colorbar\":{\"outlinewidth\":0,\"ticks\":\"\"},\"type\":\"mesh3d\"}],\"parcoords\":[{\"line\":{\"colorbar\":{\"outlinewidth\":0,\"ticks\":\"\"}},\"type\":\"parcoords\"}],\"pie\":[{\"automargin\":true,\"type\":\"pie\"}],\"scatter\":[{\"marker\":{\"colorbar\":{\"outlinewidth\":0,\"ticks\":\"\"}},\"type\":\"scatter\"}],\"scatter3d\":[{\"line\":{\"colorbar\":{\"outlinewidth\":0,\"ticks\":\"\"}},\"marker\":{\"colorbar\":{\"outlinewidth\":0,\"ticks\":\"\"}},\"type\":\"scatter3d\"}],\"scattercarpet\":[{\"marker\":{\"colorbar\":{\"outlinewidth\":0,\"ticks\":\"\"}},\"type\":\"scattercarpet\"}],\"scattergeo\":[{\"marker\":{\"colorbar\":{\"outlinewidth\":0,\"ticks\":\"\"}},\"type\":\"scattergeo\"}],\"scattergl\":[{\"marker\":{\"colorbar\":{\"outlinewidth\":0,\"ticks\":\"\"}},\"type\":\"scattergl\"}],\"scattermapbox\":[{\"marker\":{\"colorbar\":{\"outlinewidth\":0,\"ticks\":\"\"}},\"type\":\"scattermapbox\"}],\"scatterpolar\":[{\"marker\":{\"colorbar\":{\"outlinewidth\":0,\"ticks\":\"\"}},\"type\":\"scatterpolar\"}],\"scatterpolargl\":[{\"marker\":{\"colorbar\":{\"outlinewidth\":0,\"ticks\":\"\"}},\"type\":\"scatterpolargl\"}],\"scatterternary\":[{\"marker\":{\"colorbar\":{\"outlinewidth\":0,\"ticks\":\"\"}},\"type\":\"scatterternary\"}],\"surface\":[{\"colorbar\":{\"outlinewidth\":0,\"ticks\":\"\"},\"colorscale\":[[0.0,\"#0d0887\"],[0.1111111111111111,\"#46039f\"],[0.2222222222222222,\"#7201a8\"],[0.3333333333333333,\"#9c179e\"],[0.4444444444444444,\"#bd3786\"],[0.5555555555555556,\"#d8576b\"],[0.6666666666666666,\"#ed7953\"],[0.7777777777777778,\"#fb9f3a\"],[0.8888888888888888,\"#fdca26\"],[1.0,\"#f0f921\"]],\"type\":\"surface\"}],\"table\":[{\"cells\":{\"fill\":{\"color\":\"#EBF0F8\"},\"line\":{\"color\":\"white\"}},\"header\":{\"fill\":{\"color\":\"#C8D4E3\"},\"line\":{\"color\":\"white\"}},\"type\":\"table\"}]},\"layout\":{\"annotationdefaults\":{\"arrowcolor\":\"#2a3f5f\",\"arrowhead\":0,\"arrowwidth\":1},\"autotypenumbers\":\"strict\",\"coloraxis\":{\"colorbar\":{\"outlinewidth\":0,\"ticks\":\"\"}},\"colorscale\":{\"diverging\":[[0,\"#8e0152\"],[0.1,\"#c51b7d\"],[0.2,\"#de77ae\"],[0.3,\"#f1b6da\"],[0.4,\"#fde0ef\"],[0.5,\"#f7f7f7\"],[0.6,\"#e6f5d0\"],[0.7,\"#b8e186\"],[0.8,\"#7fbc41\"],[0.9,\"#4d9221\"],[1,\"#276419\"]],\"sequential\":[[0.0,\"#0d0887\"],[0.1111111111111111,\"#46039f\"],[0.2222222222222222,\"#7201a8\"],[0.3333333333333333,\"#9c179e\"],[0.4444444444444444,\"#bd3786\"],[0.5555555555555556,\"#d8576b\"],[0.6666666666666666,\"#ed7953\"],[0.7777777777777778,\"#fb9f3a\"],[0.8888888888888888,\"#fdca26\"],[1.0,\"#f0f921\"]],\"sequentialminus\":[[0.0,\"#0d0887\"],[0.1111111111111111,\"#46039f\"],[0.2222222222222222,\"#7201a8\"],[0.3333333333333333,\"#9c179e\"],[0.4444444444444444,\"#bd3786\"],[0.5555555555555556,\"#d8576b\"],[0.6666666666666666,\"#ed7953\"],[0.7777777777777778,\"#fb9f3a\"],[0.8888888888888888,\"#fdca26\"],[1.0,\"#f0f921\"]]},\"colorway\":[\"#636efa\",\"#EF553B\",\"#00cc96\",\"#ab63fa\",\"#FFA15A\",\"#19d3f3\",\"#FF6692\",\"#B6E880\",\"#FF97FF\",\"#FECB52\"],\"font\":{\"color\":\"#2a3f5f\"},\"geo\":{\"bgcolor\":\"white\",\"lakecolor\":\"white\",\"landcolor\":\"#E5ECF6\",\"showlakes\":true,\"showland\":true,\"subunitcolor\":\"white\"},\"hoverlabel\":{\"align\":\"left\"},\"hovermode\":\"closest\",\"mapbox\":{\"style\":\"light\"},\"paper_bgcolor\":\"white\",\"plot_bgcolor\":\"#E5ECF6\",\"polar\":{\"angularaxis\":{\"gridcolor\":\"white\",\"linecolor\":\"white\",\"ticks\":\"\"},\"bgcolor\":\"#E5ECF6\",\"radialaxis\":{\"gridcolor\":\"white\",\"linecolor\":\"white\",\"ticks\":\"\"}},\"scene\":{\"xaxis\":{\"backgroundcolor\":\"#E5ECF6\",\"gridcolor\":\"white\",\"gridwidth\":2,\"linecolor\":\"white\",\"showbackground\":true,\"ticks\":\"\",\"zerolinecolor\":\"white\"},\"yaxis\":{\"backgroundcolor\":\"#E5ECF6\",\"gridcolor\":\"white\",\"gridwidth\":2,\"linecolor\":\"white\",\"showbackground\":true,\"ticks\":\"\",\"zerolinecolor\":\"white\"},\"zaxis\":{\"backgroundcolor\":\"#E5ECF6\",\"gridcolor\":\"white\",\"gridwidth\":2,\"linecolor\":\"white\",\"showbackground\":true,\"ticks\":\"\",\"zerolinecolor\":\"white\"}},\"shapedefaults\":{\"line\":{\"color\":\"#2a3f5f\"}},\"ternary\":{\"aaxis\":{\"gridcolor\":\"white\",\"linecolor\":\"white\",\"ticks\":\"\"},\"baxis\":{\"gridcolor\":\"white\",\"linecolor\":\"white\",\"ticks\":\"\"},\"bgcolor\":\"#E5ECF6\",\"caxis\":{\"gridcolor\":\"white\",\"linecolor\":\"white\",\"ticks\":\"\"}},\"title\":{\"x\":0.05},\"xaxis\":{\"automargin\":true,\"gridcolor\":\"white\",\"linecolor\":\"white\",\"ticks\":\"\",\"title\":{\"standoff\":15},\"zerolinecolor\":\"white\",\"zerolinewidth\":2},\"yaxis\":{\"automargin\":true,\"gridcolor\":\"white\",\"linecolor\":\"white\",\"ticks\":\"\",\"title\":{\"standoff\":15},\"zerolinecolor\":\"white\",\"zerolinewidth\":2}}},\"title\":{\"text\":\"peter :Total Cumulative Investments Over Time\"},\"xaxis\":{\"title\":{\"text\":\"Ticker\"}},\"yaxis\":{\"title\":{\"text\":\"Returns\"}},\"yaxis2\":{\"overlaying\":\"y\",\"side\":\"right\",\"title\":{\"text\":\"Cum ROI Mult\"}}},                        {\"responsive\": true}                    ).then(function(){\n",
       "                            \n",
       "var gd = document.getElementById('ade982f2-c6c8-4ca4-ad00-94f87e0ba210');\n",
       "var x = new MutationObserver(function (mutations, observer) {{\n",
       "        var display = window.getComputedStyle(gd).display;\n",
       "        if (!display || display === 'none') {{\n",
       "            console.log([gd, 'removed!']);\n",
       "            Plotly.purge(gd);\n",
       "            observer.disconnect();\n",
       "        }}\n",
       "}});\n",
       "\n",
       "// Listen for the removal of the full notebook cells\n",
       "var notebookContainer = gd.closest('#notebook-container');\n",
       "if (notebookContainer) {{\n",
       "    x.observe(notebookContainer, {childList: true});\n",
       "}}\n",
       "\n",
       "// Listen for the clearing of the current output cell\n",
       "var outputEl = gd.closest('.output');\n",
       "if (outputEl) {{\n",
       "    x.observe(outputEl, {childList: true});\n",
       "}}\n",
       "\n",
       "                        })                };                });            </script>        </div>"
      ]
     },
     "metadata": {},
     "output_type": "display_data"
    }
   ],
   "source": [
    "trace1 = go.Bar(\n",
    "    x = merged_portfolio_sp_latest_YTD_sp_closing_high1['Ticker'],\n",
    "    y = merged_portfolio_sp_latest_YTD_sp_closing_high1['Cum Invst'],\n",
    "    # mode = 'lines+markers',\n",
    "    name = 'Cum Invst')\n",
    "\n",
    "trace2 = go.Bar(\n",
    "    x = merged_portfolio_sp_latest_YTD_sp_closing_high1['Ticker'],\n",
    "    y = merged_portfolio_sp_latest_YTD_sp_closing_high1['Cum SP Returns'],\n",
    "    # mode = 'lines+markers',\n",
    "    name = 'Cum SP500 Returns')\n",
    "\n",
    "trace3 = go.Bar(\n",
    "    x = merged_portfolio_sp_latest_YTD_sp_closing_high1['Ticker'],\n",
    "    y = merged_portfolio_sp_latest_YTD_sp_closing_high1['Cum Ticker Returns'],\n",
    "    # mode = 'lines+markers',\n",
    "    name = 'Cum Ticker Returns')\n",
    "\n",
    "trace4 = go.Scatter(\n",
    "    x = merged_portfolio_sp_latest_YTD_sp_closing_high1['Ticker'],\n",
    "    y = merged_portfolio_sp_latest_YTD_sp_closing_high1['Cum Ticker ROI Mult'],\n",
    "    # mode = 'lines+markers',\n",
    "    name = 'Cum ROI Mult'\n",
    "    , yaxis='y2')\n",
    "\n",
    "\n",
    "data = [trace1, trace2, trace3, trace4]\n",
    "\n",
    "layout = go.Layout(title = 'peter :Total Cumulative Investments Over Time'\n",
    "    , barmode = 'group'\n",
    "    , yaxis=dict(title='Returns')\n",
    "    , xaxis=dict(title='Ticker')\n",
    "    , legend=dict(x=.4,y=1)\n",
    "    , yaxis2=dict(title='Cum ROI Mult', overlaying='y', side='right')               \n",
    "    )\n",
    "\n",
    "fig = go.Figure(data=data, layout=layout)\n",
    "iplot(fig)"
   ]
  }
 ],
 "metadata": {
  "interpreter": {
   "hash": "b3ba2566441a7c06988d0923437866b63cedc61552a5af99d1f4fb67d367b25f"
  },
  "kernelspec": {
   "display_name": "Python 3.8.8 64-bit ('base': conda)",
   "name": "python3"
  },
  "language_info": {
   "codemirror_mode": {
    "name": "ipython",
    "version": 3
   },
   "file_extension": ".py",
   "mimetype": "text/x-python",
   "name": "python",
   "nbconvert_exporter": "python",
   "pygments_lexer": "ipython3",
   "version": "3.8.8"
  }
 },
 "nbformat": 4,
 "nbformat_minor": 2
}
